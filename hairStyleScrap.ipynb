{
 "cells": [
  {
   "cell_type": "code",
   "execution_count": 82,
   "metadata": {},
   "outputs": [
    {
     "name": "stdout",
     "output_type": "stream",
     "text": [
      "['https://hips.hearstapps.com/hmg-prod.s3.amazonaws.com/images/gettyimages-1174966936.jpg?crop=0.466xw:0.699xh;0.323xw,0.0357xh&resize=480:*', 'https://hips.hearstapps.com/hmg-prod.s3.amazonaws.com/images/indexx-3-1572371796.jpg?crop=1.00xw:1.00xh;0,0&resize=320:*', 'https://hips.hearstapps.com/hmg-prod.s3.amazonaws.com/images/shutterstock-editorial-9885692z-hugemod-1540225911.jpg?crop=1.00xw:1.00xh;0,0&resize=320:*', 'https://hips.hearstapps.com/hmg-prod.s3.amazonaws.com/images/lead-short-summer-haircut-gettyimages-492416565-1556829330.jpg?crop=0.987xw:0.990xh;0,0&resize=320:*', 'https://hips.hearstapps.com/hmg-prod.s3.amazonaws.com/images/gettyimages-903512158mod-1518564152.jpg?crop=1xw:1xh;center,top&resize=320:*', 'https://hips.hearstapps.com/esq.h-cdn.co/assets/17/26/1600x800/landscape-1498677920-longhair.jpg?resize=480:*', 'https://hips.hearstapps.com/esq.h-cdn.co/assets/17/19/1600x800/landscape-1494529469-es-051117-celebrity-doppelganger-haircut-3.jpg?resize=480:*', 'https://hips.hearstapps.com/esq.h-cdn.co/assets/16/31/768x384/landscape-1470082906-screen-shot-2016-08-01-at-42114-pm.png?resize=480:*', 'https://hips.hearstapps.com/esq.h-cdn.co/assets/16/23/1600x800/landscape-1465423635-hair.jpg?resize=480:*', 'https://hips.hearstapps.com/esq.h-cdn.co/assets/16/11/768x384/landscape-1458079691-landscape-1458056941-tom-hardy.jpg?resize=480:*', 'https://hips.hearstapps.com/esq.h-cdn.co/assets/15/45/1600x800/landscape-1446504790-100-years-hair.jpg?resize=480:*', 'https://hips.hearstapps.com/esq.h-cdn.co/assets/15/43/1600x800/landscape-1445544703-fashionweek.jpg?resize=480:*', 'https://hips.hearstapps.com/esq.h-cdn.co/assets/15/41/3200x1600/landscape-1444410003-jeremy-lin-haircut.jpg?resize=480:*', 'https://hips.hearstapps.com/esq.h-cdn.co/assets/cm/15/06/1024x512/54d4646024713_-_davidbeckhamhair-1200.jpg?resize=480:*', 'https://hips.hearstapps.com/esq.h-cdn.co/assets/cm/15/07/480x240/54daeacc6b22c_-_esq-01-game-of-thrones-032912-mdn.jpg?resize=480:*', 'https://hips.hearstapps.com/esq.h-cdn.co/assets/cm/15/07/640x320/54d94588adf9b_-_656_for_blog19-7nsjg5.jpg?resize=480:*', 'https://hips.hearstapps.com/esq.h-cdn.co/assets/cm/15/06/2560x1280/54d41f116210d_-_esq-gray-for-a-day-062514-xxl.jpg?resize=480:*', 'https://hips.hearstapps.com/esq.h-cdn.co/assets/cm/15/06/480x240/54d41ae4a56e8_-_esq-hair-products-2014-xl.jpg?resize=480:*', 'https://hips.hearstapps.com/esq.h-cdn.co/assets/15/16/3200x1600/landscape-1429077024-173720493.jpg?resize=480:*', 'https://hips.hearstapps.com/esq.h-cdn.co/assets/cm/15/17/480x240/landscape-54cd62ccea3dd-esq-styling-hair-at-barber-012413-l9nq0i-xlg.jpg?resize=480:*']\n"
     ]
    }
   ],
   "source": [
    "\n",
    "import urllib.request,urllib.parse,urllib.error\n",
    "import requests \n",
    "from bs4 import BeautifulSoup as soup\n",
    "search_links =\"https://www.esquire.com/mens-hairstyles/\"\n",
    "images_dic =[]\n",
    "counter = 0\n",
    "\n",
    "#fhand = urllib.request.urlopen(search_links)\n",
    "fhand = requests.get(search_links) \n",
    "x = soup(fhand.content,'html5lib')\n",
    "\n",
    "# data = x.find_all(\"div\",{\"class\":\"full-item\"})\n",
    "data = x.findAll('img',{\"src\":True})\n",
    "#print(data)\n",
    "for image in data:\n",
    "    #print image source\n",
    "    if image['data-src']:\n",
    "        #print(image['src'])\n",
    "        images_dic.append(image['data-src'])\n",
    "print(images_dic)"
   ]
  },
  {
   "cell_type": "code",
   "execution_count": 83,
   "metadata": {},
   "outputs": [
    {
     "name": "stdout",
     "output_type": "stream",
     "text": [
      "https://hips.hearstapps.com/hmg-prod.s3.amazonaws.com/images/gettyimages-1174966936.jpg?crop=0.466xw:0.699xh;0.323xw,0.0357xh&resize=480:*\n",
      "https://hips.hearstapps.com/hmg-prod.s3.amazonaws.com/images/indexx-3-1572371796.jpg?crop=1.00xw:1.00xh;0,0&resize=320:*\n",
      "https://hips.hearstapps.com/hmg-prod.s3.amazonaws.com/images/shutterstock-editorial-9885692z-hugemod-1540225911.jpg?crop=1.00xw:1.00xh;0,0&resize=320:*\n",
      "https://hips.hearstapps.com/hmg-prod.s3.amazonaws.com/images/lead-short-summer-haircut-gettyimages-492416565-1556829330.jpg?crop=0.987xw:0.990xh;0,0&resize=320:*\n",
      "https://hips.hearstapps.com/hmg-prod.s3.amazonaws.com/images/gettyimages-903512158mod-1518564152.jpg?crop=1xw:1xh;center,top&resize=320:*\n",
      "https://hips.hearstapps.com/esq.h-cdn.co/assets/17/26/1600x800/landscape-1498677920-longhair.jpg?resize=480:*\n",
      "https://hips.hearstapps.com/esq.h-cdn.co/assets/17/19/1600x800/landscape-1494529469-es-051117-celebrity-doppelganger-haircut-3.jpg?resize=480:*\n",
      "https://hips.hearstapps.com/esq.h-cdn.co/assets/16/31/768x384/landscape-1470082906-screen-shot-2016-08-01-at-42114-pm.png?resize=480:*\n",
      "https://hips.hearstapps.com/esq.h-cdn.co/assets/16/23/1600x800/landscape-1465423635-hair.jpg?resize=480:*\n",
      "https://hips.hearstapps.com/esq.h-cdn.co/assets/16/11/768x384/landscape-1458079691-landscape-1458056941-tom-hardy.jpg?resize=480:*\n",
      "https://hips.hearstapps.com/esq.h-cdn.co/assets/15/45/1600x800/landscape-1446504790-100-years-hair.jpg?resize=480:*\n",
      "https://hips.hearstapps.com/esq.h-cdn.co/assets/15/43/1600x800/landscape-1445544703-fashionweek.jpg?resize=480:*\n",
      "https://hips.hearstapps.com/esq.h-cdn.co/assets/15/41/3200x1600/landscape-1444410003-jeremy-lin-haircut.jpg?resize=480:*\n",
      "https://hips.hearstapps.com/esq.h-cdn.co/assets/cm/15/06/1024x512/54d4646024713_-_davidbeckhamhair-1200.jpg?resize=480:*\n",
      "https://hips.hearstapps.com/esq.h-cdn.co/assets/cm/15/07/480x240/54daeacc6b22c_-_esq-01-game-of-thrones-032912-mdn.jpg?resize=480:*\n",
      "https://hips.hearstapps.com/esq.h-cdn.co/assets/cm/15/07/640x320/54d94588adf9b_-_656_for_blog19-7nsjg5.jpg?resize=480:*\n",
      "https://hips.hearstapps.com/esq.h-cdn.co/assets/cm/15/06/2560x1280/54d41f116210d_-_esq-gray-for-a-day-062514-xxl.jpg?resize=480:*\n",
      "https://hips.hearstapps.com/esq.h-cdn.co/assets/cm/15/06/480x240/54d41ae4a56e8_-_esq-hair-products-2014-xl.jpg?resize=480:*\n",
      "https://hips.hearstapps.com/esq.h-cdn.co/assets/15/16/3200x1600/landscape-1429077024-173720493.jpg?resize=480:*\n",
      "https://hips.hearstapps.com/esq.h-cdn.co/assets/cm/15/17/480x240/landscape-54cd62ccea3dd-esq-styling-hair-at-barber-012413-l9nq0i-xlg.jpg?resize=480:*\n"
     ]
    }
   ],
   "source": [
    "import os\n",
    "import errno\n",
    "import base64\n",
    "for i,image in enumerate(images_dic):\n",
    "    print(image)\n",
    "    filename = \"hair/\"\n",
    "    if 'data' in image:\n",
    "        # Separate the metadata from the image data\n",
    "        head, data = image.split(',', 1)\n",
    "        # Get the file extension (gif, jpeg, png)\n",
    "        file_ext = head.split(';')[0].split('/')[1]\n",
    "        # Decode the image data\n",
    "        plain_data = base64.b64decode(data)\n",
    "        print(plain_data)\n",
    "        \n",
    "        if not os.path.exists(os.path.dirname(filename)):\n",
    "            try:\n",
    "                os.makedirs(os.path.dirname(filename))\n",
    "            except OSError as exc: # Guard against race condition\n",
    "                if exc.errno != errno.EEXIST:\n",
    "                    raise\n",
    "\n",
    "        # Write the image to a file\n",
    "        with open(filename+'hair'+str(i)+'.jpg', 'wb') as f:\n",
    "            f.write(plain_data)\n",
    "    else:\n",
    "        img_data = requests.get(image).content\n",
    "        with open(filename+'hair'+str(i)+'.png', 'wb') as handler:\n",
    "            handler.write(img_data)"
   ]
  },
  {
   "cell_type": "code",
   "execution_count": null,
   "metadata": {},
   "outputs": [],
   "source": []
  },
  {
   "cell_type": "code",
   "execution_count": null,
   "metadata": {},
   "outputs": [],
   "source": []
  }
 ],
 "metadata": {
  "kernelspec": {
   "display_name": "Python 3",
   "language": "python",
   "name": "python3"
  },
  "language_info": {
   "codemirror_mode": {
    "name": "ipython",
    "version": 3
   },
   "file_extension": ".py",
   "mimetype": "text/x-python",
   "name": "python",
   "nbconvert_exporter": "python",
   "pygments_lexer": "ipython3",
   "version": "3.7.3"
  },
  "varInspector": {
   "cols": {
    "lenName": 16,
    "lenType": 16,
    "lenVar": 40
   },
   "kernels_config": {
    "python": {
     "delete_cmd_postfix": "",
     "delete_cmd_prefix": "del ",
     "library": "var_list.py",
     "varRefreshCmd": "print(var_dic_list())"
    },
    "r": {
     "delete_cmd_postfix": ") ",
     "delete_cmd_prefix": "rm(",
     "library": "var_list.r",
     "varRefreshCmd": "cat(var_dic_list()) "
    }
   },
   "types_to_exclude": [
    "module",
    "function",
    "builtin_function_or_method",
    "instance",
    "_Feature"
   ],
   "window_display": false
  }
 },
 "nbformat": 4,
 "nbformat_minor": 2
}
