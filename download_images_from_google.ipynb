{
 "cells": [
  {
   "cell_type": "code",
   "execution_count": 292,
   "metadata": {},
   "outputs": [],
   "source": [
    "from selenium import webdriver\n",
    "from selenium.webdriver.common.keys import Keys\n",
    "from bs4 import BeautifulSoup\n",
    "from selenium.common.exceptions import TimeoutException\n",
    "from selenium.webdriver.support.ui import WebDriverWait\n",
    "from selenium.webdriver.support import expected_conditions as EC\n",
    "from selenium.webdriver.common.by import By\n",
    "import pandas as pd\n",
    "import time "
   ]
  },
  {
   "cell_type": "code",
   "execution_count": 293,
   "metadata": {},
   "outputs": [],
   "source": [
    "driver = webdriver.Chrome('/Users/utkarsh/PycharmProjects/chromedriver')\n",
    "driver.implicitly_wait(30)"
   ]
  },
  {
   "cell_type": "code",
   "execution_count": 294,
   "metadata": {},
   "outputs": [],
   "source": [
    "driver.set_page_load_timeout(10)"
   ]
  },
  {
   "cell_type": "code",
   "execution_count": 295,
   "metadata": {},
   "outputs": [],
   "source": [
    "driver.get('https://google.com')"
   ]
  },
  {
   "cell_type": "code",
   "execution_count": 296,
   "metadata": {},
   "outputs": [],
   "source": [
    "driver.execute_script(\"document.getElementsByName('q')[0].value='wildfire images'\")"
   ]
  },
  {
   "cell_type": "code",
   "execution_count": 297,
   "metadata": {},
   "outputs": [],
   "source": [
    "driver.execute_script(\"document.getElementsByName('btnK')[1].click()\")"
   ]
  },
  {
   "cell_type": "code",
   "execution_count": 298,
   "metadata": {},
   "outputs": [],
   "source": [
    "import time \n",
    "time.sleep(5)\n",
    "driver.execute_script(\"document.querySelector('.q.qs').click()\")\n",
    "time.sleep(2)\n",
    "images=[]\n",
    "img =driver.find_elements_by_tag_name('img')\n",
    "\n",
    "# url= driver.execute_script(\"var images=[];var imagesall = document.getElementsByTagName('img');\\\n",
    "# for(var i = 0, j = imagesall.length; i < j; i++) {\\\n",
    "# if(imagesall[i].classList.contains('rg_ic')) {\\\n",
    "# images.push(imagesall[i]) }};\\\n",
    "# var url = images[0].src.replace(/^data:image\\/[^;]+/, 'data:application/octet-stream');return images\")\n",
    "\n",
    "soup_level1=BeautifulSoup(driver.page_source, 'lxml')"
   ]
  },
  {
   "cell_type": "code",
   "execution_count": 299,
   "metadata": {},
   "outputs": [
    {
     "data": {
      "text/plain": [
       "'https://www.google.com/images/branding/googlelogo/2x/googlelogo_color_92x30dp.png'"
      ]
     },
     "execution_count": 299,
     "metadata": {},
     "output_type": "execute_result"
    }
   ],
   "source": [
    "img[0].get_attribute('src')"
   ]
  },
  {
   "cell_type": "code",
   "execution_count": 300,
   "metadata": {},
   "outputs": [],
   "source": [
    "import os\n",
    "import errno\n",
    "import base64\n",
    "import requests\n",
    "imageSourc=[]\n",
    "for items in img:\n",
    "    if 'rg_ic' in items.get_attribute('class'):\n",
    "        if items.get_attribute('src') != None:\n",
    "            imageSourc.append(items.get_attribute('src'))\n",
    "for i,image in enumerate(imageSourc):\n",
    "    #print(i)\n",
    "    filename = \"fire/\"\n",
    "    if 'data' in image:\n",
    "        # Separate the metadata from the image data\n",
    "        head, data = image.split(',', 1)\n",
    "        # Get the file extension (gif, jpeg, png)\n",
    "        file_ext = head.split(';')[0].split('/')[1]\n",
    "        # Decode the image data\n",
    "        plain_data = base64.b64decode(data)\n",
    "        \n",
    "        if not os.path.exists(os.path.dirname(filename)):\n",
    "            try:\n",
    "                os.makedirs(os.path.dirname(filename))\n",
    "            except OSError as exc: # Guard against race condition\n",
    "                if exc.errno != errno.EEXIST:\n",
    "                    raise\n",
    "\n",
    "        # Write the image to a file\n",
    "        with open(filename+'fire'+str(i)+'.' + file_ext, 'wb') as f:\n",
    "            f.write(plain_data)\n",
    "    else:\n",
    "        img_data = requests.get(image).content\n",
    "        with open(filename+'fire'+str(i)+'.png', 'wb') as handler:\n",
    "            handler.write(img_data)\n"
   ]
  },
  {
   "cell_type": "code",
   "execution_count": null,
   "metadata": {},
   "outputs": [],
   "source": []
  }
 ],
 "metadata": {
  "kernelspec": {
   "display_name": "Python 3",
   "language": "python",
   "name": "python3"
  },
  "language_info": {
   "codemirror_mode": {
    "name": "ipython",
    "version": 3
   },
   "file_extension": ".py",
   "mimetype": "text/x-python",
   "name": "python",
   "nbconvert_exporter": "python",
   "pygments_lexer": "ipython3",
   "version": "3.7.3"
  },
  "varInspector": {
   "cols": {
    "lenName": 16,
    "lenType": 16,
    "lenVar": 40
   },
   "kernels_config": {
    "python": {
     "delete_cmd_postfix": "",
     "delete_cmd_prefix": "del ",
     "library": "var_list.py",
     "varRefreshCmd": "print(var_dic_list())"
    },
    "r": {
     "delete_cmd_postfix": ") ",
     "delete_cmd_prefix": "rm(",
     "library": "var_list.r",
     "varRefreshCmd": "cat(var_dic_list()) "
    }
   },
   "types_to_exclude": [
    "module",
    "function",
    "builtin_function_or_method",
    "instance",
    "_Feature"
   ],
   "window_display": false
  }
 },
 "nbformat": 4,
 "nbformat_minor": 2
}
