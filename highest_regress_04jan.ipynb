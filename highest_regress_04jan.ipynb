{
 "cells": [
  {
   "cell_type": "code",
   "execution_count": 482,
   "metadata": {},
   "outputs": [],
   "source": [
    "import pandas as pd\n",
    "import numpy as np\n",
    "import matplotlib.pyplot as plt\n",
    "import seaborn as sns\n",
    "from wordcloud import WordCloud\n",
    "from collections import Counter\n",
    "import string\n",
    "from nltk.corpus import stopwords\n",
    "from sklearn.model_selection import train_test_split,GridSearchCV,RandomizedSearchCV\n",
    "from sklearn.feature_extraction.text import TfidfVectorizer\n",
    "from sklearn.metrics import mean_squared_log_error,mean_squared_error,roc_auc_score\n",
    "from sklearn import metrics\n",
    "from sklearn.linear_model import SGDRegressor,LinearRegression,Lasso,Ridge\n",
    "from sklearn.ensemble import RandomForestRegressor,GradientBoostingClassifier\n",
    "from sklearn.preprocessing import StandardScaler,MinMaxScaler\n",
    "import time\n",
    "import warnings\n",
    "warnings.simplefilter(action='ignore', category=FutureWarning)\n",
    "from sklearn.pipeline import Pipeline\n",
    "from math import sqrt\n",
    "from scipy.sparse import csr_matrix, hstack\n",
    "from sklearn.svm import SVR\n",
    "from sklearn import preprocessing\n",
    "import xgboost as xgb\n",
    "from sklearn.decomposition import PCA\n",
    "import datetime as dt\n",
    "from datetime import timedelta"
   ]
  },
  {
   "cell_type": "code",
   "execution_count": 483,
   "metadata": {},
   "outputs": [],
   "source": [
    "data = pd.read_csv('./data/Data_Train.csv')"
   ]
  },
  {
   "cell_type": "code",
   "execution_count": 484,
   "metadata": {},
   "outputs": [
    {
     "data": {
      "text/html": [
       "<div>\n",
       "<style scoped>\n",
       "    .dataframe tbody tr th:only-of-type {\n",
       "        vertical-align: middle;\n",
       "    }\n",
       "\n",
       "    .dataframe tbody tr th {\n",
       "        vertical-align: top;\n",
       "    }\n",
       "\n",
       "    .dataframe thead th {\n",
       "        text-align: right;\n",
       "    }\n",
       "</style>\n",
       "<table border=\"1\" class=\"dataframe\">\n",
       "  <thead>\n",
       "    <tr style=\"text-align: right;\">\n",
       "      <th></th>\n",
       "      <th>Unique_ID</th>\n",
       "      <th>Name</th>\n",
       "      <th>Genre</th>\n",
       "      <th>Country</th>\n",
       "      <th>Song_Name</th>\n",
       "      <th>Timestamp</th>\n",
       "      <th>Views</th>\n",
       "      <th>Comments</th>\n",
       "      <th>Likes</th>\n",
       "      <th>Popularity</th>\n",
       "      <th>Followers</th>\n",
       "    </tr>\n",
       "  </thead>\n",
       "  <tbody>\n",
       "    <tr>\n",
       "      <td>0</td>\n",
       "      <td>413890</td>\n",
       "      <td>Hardstyle</td>\n",
       "      <td>danceedm</td>\n",
       "      <td>AU</td>\n",
       "      <td>N-Vitral presents BOMBSQUAD - Poison Spitter (...</td>\n",
       "      <td>2018-03-30 15:24:45.000000</td>\n",
       "      <td>14017</td>\n",
       "      <td>4</td>\n",
       "      <td>499</td>\n",
       "      <td>97</td>\n",
       "      <td>119563</td>\n",
       "    </tr>\n",
       "    <tr>\n",
       "      <td>1</td>\n",
       "      <td>249453</td>\n",
       "      <td>Dj Aladdin</td>\n",
       "      <td>danceedm</td>\n",
       "      <td>AU</td>\n",
       "      <td>Dj Aladdin - Old School Hip Hop Quick Mix</td>\n",
       "      <td>2016-06-20 05:58:52.000000</td>\n",
       "      <td>1918</td>\n",
       "      <td>17</td>\n",
       "      <td>49</td>\n",
       "      <td>17</td>\n",
       "      <td>2141</td>\n",
       "    </tr>\n",
       "    <tr>\n",
       "      <td>2</td>\n",
       "      <td>681116</td>\n",
       "      <td>Maxximize On Air</td>\n",
       "      <td>danceedm</td>\n",
       "      <td>AU</td>\n",
       "      <td>Maxximize On Air - Mixed by Blasterjaxx - Epis...</td>\n",
       "      <td>2015-05-08 17:45:59.000000</td>\n",
       "      <td>9668</td>\n",
       "      <td>11</td>\n",
       "      <td>312</td>\n",
       "      <td>91</td>\n",
       "      <td>22248</td>\n",
       "    </tr>\n",
       "    <tr>\n",
       "      <td>3</td>\n",
       "      <td>387253</td>\n",
       "      <td>GR6 EXPLODE</td>\n",
       "      <td>rbsoul</td>\n",
       "      <td>AU</td>\n",
       "      <td>MC Yago - Tenho Compromisso (DJ R7)</td>\n",
       "      <td>2017-06-08 23:50:03.000000</td>\n",
       "      <td>113036</td>\n",
       "      <td>2</td>\n",
       "      <td>2,400</td>\n",
       "      <td>76</td>\n",
       "      <td>393655</td>\n",
       "    </tr>\n",
       "    <tr>\n",
       "      <td>4</td>\n",
       "      <td>1428029</td>\n",
       "      <td>Tritonal</td>\n",
       "      <td>danceedm</td>\n",
       "      <td>AU</td>\n",
       "      <td>Escape (feat. Steph Jones)</td>\n",
       "      <td>2016-09-17 20:50:19.000000</td>\n",
       "      <td>110024</td>\n",
       "      <td>81</td>\n",
       "      <td>3,031</td>\n",
       "      <td>699</td>\n",
       "      <td>201030</td>\n",
       "    </tr>\n",
       "  </tbody>\n",
       "</table>\n",
       "</div>"
      ],
      "text/plain": [
       "   Unique_ID              Name     Genre Country  \\\n",
       "0     413890         Hardstyle  danceedm      AU   \n",
       "1     249453        Dj Aladdin  danceedm      AU   \n",
       "2     681116  Maxximize On Air  danceedm      AU   \n",
       "3     387253       GR6 EXPLODE    rbsoul      AU   \n",
       "4    1428029          Tritonal  danceedm      AU   \n",
       "\n",
       "                                           Song_Name  \\\n",
       "0  N-Vitral presents BOMBSQUAD - Poison Spitter (...   \n",
       "1          Dj Aladdin - Old School Hip Hop Quick Mix   \n",
       "2  Maxximize On Air - Mixed by Blasterjaxx - Epis...   \n",
       "3                MC Yago - Tenho Compromisso (DJ R7)   \n",
       "4                         Escape (feat. Steph Jones)   \n",
       "\n",
       "                    Timestamp   Views  Comments  Likes Popularity  Followers  \n",
       "0  2018-03-30 15:24:45.000000   14017         4    499         97     119563  \n",
       "1  2016-06-20 05:58:52.000000    1918        17     49         17       2141  \n",
       "2  2015-05-08 17:45:59.000000    9668        11    312         91      22248  \n",
       "3  2017-06-08 23:50:03.000000  113036         2  2,400         76     393655  \n",
       "4  2016-09-17 20:50:19.000000  110024        81  3,031        699     201030  "
      ]
     },
     "execution_count": 484,
     "metadata": {},
     "output_type": "execute_result"
    }
   ],
   "source": [
    "data.head()"
   ]
  },
  {
   "cell_type": "code",
   "execution_count": 485,
   "metadata": {},
   "outputs": [],
   "source": [
    "data.drop(columns=['Unique_ID','Country','Name'],axis=1,inplace=True)"
   ]
  },
  {
   "cell_type": "code",
   "execution_count": 486,
   "metadata": {},
   "outputs": [
    {
     "data": {
      "text/html": [
       "<div>\n",
       "<style scoped>\n",
       "    .dataframe tbody tr th:only-of-type {\n",
       "        vertical-align: middle;\n",
       "    }\n",
       "\n",
       "    .dataframe tbody tr th {\n",
       "        vertical-align: top;\n",
       "    }\n",
       "\n",
       "    .dataframe thead th {\n",
       "        text-align: right;\n",
       "    }\n",
       "</style>\n",
       "<table border=\"1\" class=\"dataframe\">\n",
       "  <thead>\n",
       "    <tr style=\"text-align: right;\">\n",
       "      <th></th>\n",
       "      <th>Genre</th>\n",
       "      <th>Song_Name</th>\n",
       "      <th>Timestamp</th>\n",
       "      <th>Views</th>\n",
       "      <th>Comments</th>\n",
       "      <th>Likes</th>\n",
       "      <th>Popularity</th>\n",
       "      <th>Followers</th>\n",
       "    </tr>\n",
       "  </thead>\n",
       "  <tbody>\n",
       "  </tbody>\n",
       "</table>\n",
       "</div>"
      ],
      "text/plain": [
       "Empty DataFrame\n",
       "Columns: [Genre, Song_Name, Timestamp, Views, Comments, Likes, Popularity, Followers]\n",
       "Index: []"
      ]
     },
     "execution_count": 486,
     "metadata": {},
     "output_type": "execute_result"
    }
   ],
   "source": [
    "#data = pd.get_dummies(data,columns=['Genre'],drop_first=True)\n",
    "data[data['Song_Name'].duplicated()]"
   ]
  },
  {
   "cell_type": "code",
   "execution_count": 487,
   "metadata": {},
   "outputs": [
    {
     "data": {
      "text/plain": [
       "dayofweek\n",
       "0    464738.026194\n",
       "1    490431.424895\n",
       "2    492227.829528\n",
       "3    527652.001258\n",
       "4    712625.466029\n",
       "5    447178.314718\n",
       "6    603471.317145\n",
       "Name: Views, dtype: float64"
      ]
     },
     "metadata": {},
     "output_type": "display_data"
    },
    {
     "data": {
      "text/plain": [
       "weekend\n",
       "0    551470.332289\n",
       "1    517781.487123\n",
       "Name: Views, dtype: float64"
      ]
     },
     "metadata": {},
     "output_type": "display_data"
    }
   ],
   "source": [
    "data['Timestamp'] =pd.to_datetime(data['Timestamp'])\n",
    "data['dayofweek'] = data['Timestamp'].dt.dayofweek #but mostly people on weekend\n",
    "data['weekend'] = data['dayofweek'].apply(lambda x: 1 if (x>4)  else 0)\n",
    "display(data.groupby(['dayofweek'])['Views'].mean())\n",
    "display(data.groupby(['weekend'])['Views'].mean())"
   ]
  },
  {
   "cell_type": "code",
   "execution_count": 488,
   "metadata": {},
   "outputs": [
    {
     "data": {
      "text/html": [
       "<div>\n",
       "<style scoped>\n",
       "    .dataframe tbody tr th:only-of-type {\n",
       "        vertical-align: middle;\n",
       "    }\n",
       "\n",
       "    .dataframe tbody tr th {\n",
       "        vertical-align: top;\n",
       "    }\n",
       "\n",
       "    .dataframe thead th {\n",
       "        text-align: right;\n",
       "    }\n",
       "</style>\n",
       "<table border=\"1\" class=\"dataframe\">\n",
       "  <thead>\n",
       "    <tr style=\"text-align: right;\">\n",
       "      <th></th>\n",
       "      <th>Genre</th>\n",
       "      <th>Song_Name</th>\n",
       "      <th>Timestamp</th>\n",
       "      <th>Views</th>\n",
       "      <th>Comments</th>\n",
       "      <th>Likes</th>\n",
       "      <th>Popularity</th>\n",
       "      <th>Followers</th>\n",
       "      <th>dayofweek</th>\n",
       "      <th>weekend</th>\n",
       "    </tr>\n",
       "  </thead>\n",
       "  <tbody>\n",
       "    <tr>\n",
       "      <td>8583</td>\n",
       "      <td>rock</td>\n",
       "      <td>My Fairy King</td>\n",
       "      <td>1973-01-01</td>\n",
       "      <td>141</td>\n",
       "      <td>1</td>\n",
       "      <td>5</td>\n",
       "      <td>0</td>\n",
       "      <td>70299</td>\n",
       "      <td>0</td>\n",
       "      <td>0</td>\n",
       "    </tr>\n",
       "    <tr>\n",
       "      <td>14326</td>\n",
       "      <td>rock</td>\n",
       "      <td>Liar (At The BBC)</td>\n",
       "      <td>1973-01-01</td>\n",
       "      <td>87</td>\n",
       "      <td>0</td>\n",
       "      <td>0</td>\n",
       "      <td>0</td>\n",
       "      <td>70299</td>\n",
       "      <td>0</td>\n",
       "      <td>0</td>\n",
       "    </tr>\n",
       "    <tr>\n",
       "      <td>14653</td>\n",
       "      <td>rock</td>\n",
       "      <td>Keep Yourself Alive</td>\n",
       "      <td>1973-01-01</td>\n",
       "      <td>1086</td>\n",
       "      <td>0</td>\n",
       "      <td>14</td>\n",
       "      <td>0</td>\n",
       "      <td>70299</td>\n",
       "      <td>0</td>\n",
       "      <td>0</td>\n",
       "    </tr>\n",
       "    <tr>\n",
       "      <td>49988</td>\n",
       "      <td>rock</td>\n",
       "      <td>Doing All Right</td>\n",
       "      <td>1973-01-01</td>\n",
       "      <td>618</td>\n",
       "      <td>0</td>\n",
       "      <td>14</td>\n",
       "      <td>0</td>\n",
       "      <td>70299</td>\n",
       "      <td>0</td>\n",
       "      <td>0</td>\n",
       "    </tr>\n",
       "    <tr>\n",
       "      <td>61074</td>\n",
       "      <td>rock</td>\n",
       "      <td>Great King Rat</td>\n",
       "      <td>1973-01-01</td>\n",
       "      <td>104</td>\n",
       "      <td>0</td>\n",
       "      <td>0</td>\n",
       "      <td>0</td>\n",
       "      <td>70299</td>\n",
       "      <td>0</td>\n",
       "      <td>0</td>\n",
       "    </tr>\n",
       "  </tbody>\n",
       "</table>\n",
       "</div>"
      ],
      "text/plain": [
       "      Genre            Song_Name  Timestamp  Views  Comments Likes Popularity  \\\n",
       "8583   rock        My Fairy King 1973-01-01    141         1     5          0   \n",
       "14326  rock    Liar (At The BBC) 1973-01-01     87         0     0          0   \n",
       "14653  rock  Keep Yourself Alive 1973-01-01   1086         0    14          0   \n",
       "49988  rock      Doing All Right 1973-01-01    618         0    14          0   \n",
       "61074  rock       Great King Rat 1973-01-01    104         0     0          0   \n",
       "\n",
       "       Followers  dayofweek  weekend  \n",
       "8583       70299          0        0  \n",
       "14326      70299          0        0  \n",
       "14653      70299          0        0  \n",
       "49988      70299          0        0  \n",
       "61074      70299          0        0  "
      ]
     },
     "metadata": {},
     "output_type": "display_data"
    },
    {
     "data": {
      "text/html": [
       "<div>\n",
       "<style scoped>\n",
       "    .dataframe tbody tr th:only-of-type {\n",
       "        vertical-align: middle;\n",
       "    }\n",
       "\n",
       "    .dataframe tbody tr th {\n",
       "        vertical-align: top;\n",
       "    }\n",
       "\n",
       "    .dataframe thead th {\n",
       "        text-align: right;\n",
       "    }\n",
       "</style>\n",
       "<table border=\"1\" class=\"dataframe\">\n",
       "  <thead>\n",
       "    <tr style=\"text-align: right;\">\n",
       "      <th></th>\n",
       "      <th>Genre</th>\n",
       "      <th>Song_Name</th>\n",
       "      <th>Timestamp</th>\n",
       "      <th>Views</th>\n",
       "      <th>Comments</th>\n",
       "      <th>Likes</th>\n",
       "      <th>Popularity</th>\n",
       "      <th>Followers</th>\n",
       "      <th>dayofweek</th>\n",
       "      <th>weekend</th>\n",
       "    </tr>\n",
       "  </thead>\n",
       "  <tbody>\n",
       "    <tr>\n",
       "      <td>72376</td>\n",
       "      <td>danceedm</td>\n",
       "      <td>Sam Feldt - Heartfeldt Radio #164</td>\n",
       "      <td>2019-02-25 08:00:06</td>\n",
       "      <td>35</td>\n",
       "      <td>0</td>\n",
       "      <td>7</td>\n",
       "      <td>3</td>\n",
       "      <td>23043</td>\n",
       "      <td>0</td>\n",
       "      <td>0</td>\n",
       "    </tr>\n",
       "  </tbody>\n",
       "</table>\n",
       "</div>"
      ],
      "text/plain": [
       "          Genre                          Song_Name           Timestamp  Views  \\\n",
       "72376  danceedm  Sam Feldt - Heartfeldt Radio #164 2019-02-25 08:00:06     35   \n",
       "\n",
       "       Comments Likes Popularity  Followers  dayofweek  weekend  \n",
       "72376         0     7          3      23043          0        0  "
      ]
     },
     "metadata": {},
     "output_type": "display_data"
    }
   ],
   "source": [
    "#trying for time as feature\n",
    "display(data[data['Timestamp']==data['Timestamp'].min()])\n",
    "display(data[data['Timestamp']==data['Timestamp'].max()])\n",
    "data.sort_values(by=['Timestamp']).groupby(['Timestamp'])['Views'].value_counts()\n",
    "data['dayofweek'] = data['Timestamp'].dt.dayofweek #but mostly people on weekend\n",
    "data['weekend'] = data['dayofweek'].apply(lambda x: 1 if (x>4)  else 0)"
   ]
  },
  {
   "cell_type": "code",
   "execution_count": 489,
   "metadata": {},
   "outputs": [
    {
     "name": "stdout",
     "output_type": "stream",
     "text": [
      "<class 'pandas.core.frame.DataFrame'>\n",
      "RangeIndex: 78458 entries, 0 to 78457\n",
      "Data columns (total 10 columns):\n",
      "Genre         78458 non-null object\n",
      "Song_Name     78457 non-null object\n",
      "Timestamp     78458 non-null datetime64[ns]\n",
      "Views         78458 non-null int64\n",
      "Comments      78458 non-null int64\n",
      "Likes         78458 non-null object\n",
      "Popularity    78458 non-null object\n",
      "Followers     78458 non-null int64\n",
      "dayofweek     78458 non-null int64\n",
      "weekend       78458 non-null int64\n",
      "dtypes: datetime64[ns](1), int64(5), object(4)\n",
      "memory usage: 6.0+ MB\n"
     ]
    }
   ],
   "source": [
    "data.info()"
   ]
  },
  {
   "cell_type": "code",
   "execution_count": 490,
   "metadata": {},
   "outputs": [],
   "source": [
    "def popularityConverting(x):\n",
    "    if x[-1]=='K':\n",
    "        x= ''.join(x[:-1].split(','))\n",
    "        x=float(x)*1000\n",
    "    elif x[-1]=='M':\n",
    "        x= ''.join(x[:-1].split(','))\n",
    "        x=float(x)*1000000\n",
    "    else:\n",
    "        x= ''.join(x.split(','))\n",
    "    return x"
   ]
  },
  {
   "cell_type": "code",
   "execution_count": 491,
   "metadata": {},
   "outputs": [],
   "source": [
    "data['Popularity'] = data.Popularity.apply(popularityConverting)\n",
    "data['Popularity'] = data.Popularity.astype('float')\n",
    "data['Likes'] = data.Likes.apply(popularityConverting)\n",
    "data['Likes'] = data.Likes.astype('float')"
   ]
  },
  {
   "cell_type": "code",
   "execution_count": 493,
   "metadata": {},
   "outputs": [
    {
     "data": {
      "text/html": [
       "<div>\n",
       "<style scoped>\n",
       "    .dataframe tbody tr th:only-of-type {\n",
       "        vertical-align: middle;\n",
       "    }\n",
       "\n",
       "    .dataframe tbody tr th {\n",
       "        vertical-align: top;\n",
       "    }\n",
       "\n",
       "    .dataframe thead th {\n",
       "        text-align: right;\n",
       "    }\n",
       "</style>\n",
       "<table border=\"1\" class=\"dataframe\">\n",
       "  <thead>\n",
       "    <tr style=\"text-align: right;\">\n",
       "      <th></th>\n",
       "      <th>Genre</th>\n",
       "      <th>Song_Name</th>\n",
       "      <th>Timestamp</th>\n",
       "      <th>Views</th>\n",
       "      <th>Comments</th>\n",
       "      <th>Likes</th>\n",
       "      <th>Popularity</th>\n",
       "      <th>Followers</th>\n",
       "      <th>dayofweek</th>\n",
       "      <th>weekend</th>\n",
       "      <th>date_old</th>\n",
       "      <th>like_per_date</th>\n",
       "      <th>followers_per_date</th>\n",
       "      <th>Popularity_per_date</th>\n",
       "    </tr>\n",
       "  </thead>\n",
       "  <tbody>\n",
       "    <tr>\n",
       "      <td>0</td>\n",
       "      <td>danceedm</td>\n",
       "      <td>N-Vitral presents BOMBSQUAD - Poison Spitter (...</td>\n",
       "      <td>2018-03-30 15:24:45</td>\n",
       "      <td>14017</td>\n",
       "      <td>4</td>\n",
       "      <td>499.0</td>\n",
       "      <td>97.0</td>\n",
       "      <td>119563</td>\n",
       "      <td>4</td>\n",
       "      <td>0</td>\n",
       "      <td>333</td>\n",
       "      <td>1.498498</td>\n",
       "      <td>359.048048</td>\n",
       "      <td>0.291291</td>\n",
       "    </tr>\n",
       "    <tr>\n",
       "      <td>1</td>\n",
       "      <td>danceedm</td>\n",
       "      <td>Dj Aladdin - Old School Hip Hop Quick Mix</td>\n",
       "      <td>2016-06-20 05:58:52</td>\n",
       "      <td>1918</td>\n",
       "      <td>17</td>\n",
       "      <td>49.0</td>\n",
       "      <td>17.0</td>\n",
       "      <td>2141</td>\n",
       "      <td>0</td>\n",
       "      <td>0</td>\n",
       "      <td>981</td>\n",
       "      <td>0.049949</td>\n",
       "      <td>2.182467</td>\n",
       "      <td>0.017329</td>\n",
       "    </tr>\n",
       "    <tr>\n",
       "      <td>2</td>\n",
       "      <td>danceedm</td>\n",
       "      <td>Maxximize On Air - Mixed by Blasterjaxx - Epis...</td>\n",
       "      <td>2015-05-08 17:45:59</td>\n",
       "      <td>9668</td>\n",
       "      <td>11</td>\n",
       "      <td>312.0</td>\n",
       "      <td>91.0</td>\n",
       "      <td>22248</td>\n",
       "      <td>4</td>\n",
       "      <td>0</td>\n",
       "      <td>1390</td>\n",
       "      <td>0.224460</td>\n",
       "      <td>16.005755</td>\n",
       "      <td>0.065468</td>\n",
       "    </tr>\n",
       "    <tr>\n",
       "      <td>3</td>\n",
       "      <td>rbsoul</td>\n",
       "      <td>MC Yago - Tenho Compromisso (DJ R7)</td>\n",
       "      <td>2017-06-08 23:50:03</td>\n",
       "      <td>113036</td>\n",
       "      <td>2</td>\n",
       "      <td>2400.0</td>\n",
       "      <td>76.0</td>\n",
       "      <td>393655</td>\n",
       "      <td>3</td>\n",
       "      <td>0</td>\n",
       "      <td>628</td>\n",
       "      <td>3.821656</td>\n",
       "      <td>626.839172</td>\n",
       "      <td>0.121019</td>\n",
       "    </tr>\n",
       "    <tr>\n",
       "      <td>4</td>\n",
       "      <td>danceedm</td>\n",
       "      <td>Escape (feat. Steph Jones)</td>\n",
       "      <td>2016-09-17 20:50:19</td>\n",
       "      <td>110024</td>\n",
       "      <td>81</td>\n",
       "      <td>3031.0</td>\n",
       "      <td>699.0</td>\n",
       "      <td>201030</td>\n",
       "      <td>5</td>\n",
       "      <td>1</td>\n",
       "      <td>892</td>\n",
       "      <td>3.397982</td>\n",
       "      <td>225.369955</td>\n",
       "      <td>0.783632</td>\n",
       "    </tr>\n",
       "  </tbody>\n",
       "</table>\n",
       "</div>"
      ],
      "text/plain": [
       "      Genre                                          Song_Name  \\\n",
       "0  danceedm  N-Vitral presents BOMBSQUAD - Poison Spitter (...   \n",
       "1  danceedm          Dj Aladdin - Old School Hip Hop Quick Mix   \n",
       "2  danceedm  Maxximize On Air - Mixed by Blasterjaxx - Epis...   \n",
       "3    rbsoul                MC Yago - Tenho Compromisso (DJ R7)   \n",
       "4  danceedm                         Escape (feat. Steph Jones)   \n",
       "\n",
       "            Timestamp   Views  Comments   Likes  Popularity  Followers  \\\n",
       "0 2018-03-30 15:24:45   14017         4   499.0        97.0     119563   \n",
       "1 2016-06-20 05:58:52    1918        17    49.0        17.0       2141   \n",
       "2 2015-05-08 17:45:59    9668        11   312.0        91.0      22248   \n",
       "3 2017-06-08 23:50:03  113036         2  2400.0        76.0     393655   \n",
       "4 2016-09-17 20:50:19  110024        81  3031.0       699.0     201030   \n",
       "\n",
       "   dayofweek  weekend  date_old  like_per_date  followers_per_date  \\\n",
       "0          4        0       333       1.498498          359.048048   \n",
       "1          0        0       981       0.049949            2.182467   \n",
       "2          4        0      1390       0.224460           16.005755   \n",
       "3          3        0       628       3.821656          626.839172   \n",
       "4          5        1       892       3.397982          225.369955   \n",
       "\n",
       "   Popularity_per_date  \n",
       "0             0.291291  \n",
       "1             0.017329  \n",
       "2             0.065468  \n",
       "3             0.121019  \n",
       "4             0.783632  "
      ]
     },
     "execution_count": 493,
     "metadata": {},
     "output_type": "execute_result"
    }
   ],
   "source": [
    "NOW = dt.datetime(2019, 2, 27)\n",
    "data['date_old']=(NOW-data['Timestamp']).dt.days\n",
    "data['like_per_date']=data['Likes']/data['date_old']\n",
    "data['followers_per_date']=data['Followers']/data['date_old']\n",
    "data['Popularity_per_date']=data['Popularity']/data['date_old']\n",
    "data.head()\n",
    "#data['date_old'].min()"
   ]
  },
  {
   "cell_type": "code",
   "execution_count": 428,
   "metadata": {},
   "outputs": [],
   "source": [
    "#pd.plotting.scatter_matrix(data, alpha=0.3, figsize=(14,8), diagonal='kde');"
   ]
  },
  {
   "cell_type": "code",
   "execution_count": 430,
   "metadata": {},
   "outputs": [
    {
     "data": {
      "text/html": [
       "<div>\n",
       "<style scoped>\n",
       "    .dataframe tbody tr th:only-of-type {\n",
       "        vertical-align: middle;\n",
       "    }\n",
       "\n",
       "    .dataframe tbody tr th {\n",
       "        vertical-align: top;\n",
       "    }\n",
       "\n",
       "    .dataframe thead th {\n",
       "        text-align: right;\n",
       "    }\n",
       "</style>\n",
       "<table border=\"1\" class=\"dataframe\">\n",
       "  <thead>\n",
       "    <tr style=\"text-align: right;\">\n",
       "      <th></th>\n",
       "      <th>Name</th>\n",
       "      <th>Genre</th>\n",
       "      <th>Song_Name</th>\n",
       "      <th>Timestamp</th>\n",
       "      <th>Views</th>\n",
       "      <th>Comments</th>\n",
       "      <th>Likes</th>\n",
       "      <th>Popularity</th>\n",
       "      <th>Followers</th>\n",
       "      <th>dayofweek</th>\n",
       "      <th>weekend</th>\n",
       "    </tr>\n",
       "  </thead>\n",
       "  <tbody>\n",
       "    <tr>\n",
       "      <td>0</td>\n",
       "      <td>Hardstyle</td>\n",
       "      <td>danceedm</td>\n",
       "      <td>N-Vitral presents BOMBSQUAD - Poison Spitter (...</td>\n",
       "      <td>2018-03-30 15:24:45</td>\n",
       "      <td>14017</td>\n",
       "      <td>4</td>\n",
       "      <td>499.0</td>\n",
       "      <td>97.0</td>\n",
       "      <td>119563</td>\n",
       "      <td>4</td>\n",
       "      <td>0</td>\n",
       "    </tr>\n",
       "    <tr>\n",
       "      <td>1</td>\n",
       "      <td>Dj Aladdin</td>\n",
       "      <td>danceedm</td>\n",
       "      <td>Dj Aladdin - Old School Hip Hop Quick Mix</td>\n",
       "      <td>2016-06-20 05:58:52</td>\n",
       "      <td>1918</td>\n",
       "      <td>17</td>\n",
       "      <td>49.0</td>\n",
       "      <td>17.0</td>\n",
       "      <td>2141</td>\n",
       "      <td>0</td>\n",
       "      <td>0</td>\n",
       "    </tr>\n",
       "    <tr>\n",
       "      <td>2</td>\n",
       "      <td>Maxximize On Air</td>\n",
       "      <td>danceedm</td>\n",
       "      <td>Maxximize On Air - Mixed by Blasterjaxx - Epis...</td>\n",
       "      <td>2015-05-08 17:45:59</td>\n",
       "      <td>9668</td>\n",
       "      <td>11</td>\n",
       "      <td>312.0</td>\n",
       "      <td>91.0</td>\n",
       "      <td>22248</td>\n",
       "      <td>4</td>\n",
       "      <td>0</td>\n",
       "    </tr>\n",
       "    <tr>\n",
       "      <td>3</td>\n",
       "      <td>GR6 EXPLODE</td>\n",
       "      <td>rbsoul</td>\n",
       "      <td>MC Yago - Tenho Compromisso (DJ R7)</td>\n",
       "      <td>2017-06-08 23:50:03</td>\n",
       "      <td>113036</td>\n",
       "      <td>2</td>\n",
       "      <td>2400.0</td>\n",
       "      <td>76.0</td>\n",
       "      <td>393655</td>\n",
       "      <td>3</td>\n",
       "      <td>0</td>\n",
       "    </tr>\n",
       "    <tr>\n",
       "      <td>4</td>\n",
       "      <td>Tritonal</td>\n",
       "      <td>danceedm</td>\n",
       "      <td>Escape (feat. Steph Jones)</td>\n",
       "      <td>2016-09-17 20:50:19</td>\n",
       "      <td>110024</td>\n",
       "      <td>81</td>\n",
       "      <td>3031.0</td>\n",
       "      <td>699.0</td>\n",
       "      <td>201030</td>\n",
       "      <td>5</td>\n",
       "      <td>1</td>\n",
       "    </tr>\n",
       "  </tbody>\n",
       "</table>\n",
       "</div>"
      ],
      "text/plain": [
       "               Name     Genre  \\\n",
       "0         Hardstyle  danceedm   \n",
       "1        Dj Aladdin  danceedm   \n",
       "2  Maxximize On Air  danceedm   \n",
       "3       GR6 EXPLODE    rbsoul   \n",
       "4          Tritonal  danceedm   \n",
       "\n",
       "                                           Song_Name           Timestamp  \\\n",
       "0  N-Vitral presents BOMBSQUAD - Poison Spitter (... 2018-03-30 15:24:45   \n",
       "1          Dj Aladdin - Old School Hip Hop Quick Mix 2016-06-20 05:58:52   \n",
       "2  Maxximize On Air - Mixed by Blasterjaxx - Epis... 2015-05-08 17:45:59   \n",
       "3                MC Yago - Tenho Compromisso (DJ R7) 2017-06-08 23:50:03   \n",
       "4                         Escape (feat. Steph Jones) 2016-09-17 20:50:19   \n",
       "\n",
       "    Views  Comments   Likes  Popularity  Followers  dayofweek  weekend  \n",
       "0   14017         4   499.0        97.0     119563          4        0  \n",
       "1    1918        17    49.0        17.0       2141          0        0  \n",
       "2    9668        11   312.0        91.0      22248          4        0  \n",
       "3  113036         2  2400.0        76.0     393655          3        0  \n",
       "4  110024        81  3031.0       699.0     201030          5        1  "
      ]
     },
     "execution_count": 430,
     "metadata": {},
     "output_type": "execute_result"
    }
   ],
   "source": [
    "\n",
    "data.head()"
   ]
  },
  {
   "cell_type": "code",
   "execution_count": 498,
   "metadata": {},
   "outputs": [
    {
     "data": {
      "text/plain": [
       "<matplotlib.axes._subplots.AxesSubplot at 0x1a72a782e8>"
      ]
     },
     "execution_count": 498,
     "metadata": {},
     "output_type": "execute_result"
    },
    {
     "data": {
      "image/png": "[encoded data removed]",
      "text/plain": [
       "<Figure size 576x576 with 4 Axes>"
      ]
     },
     "metadata": {
      "needs_background": "light"
     },
     "output_type": "display_data"
    }
   ],
   "source": [
    "plt.figure(figsize=(8,8))\n",
    "plt.subplot(2,2,1)\n",
    "sns.regplot(x=\"Likes\", y=\"Views\", data=data)\n",
    "plt.subplot(2,2,2)\n",
    "sns.regplot(x=\"Comments\", y=\"Views\", data=data)\n",
    "plt.subplot(2,2,3)\n",
    "sns.regplot(x=\"Popularity\", y=\"Views\", data=data)\n",
    "plt.subplot(2,2,4)\n",
    "sns.regplot(x=\"Followers\", y=\"Views\", data=data)"
   ]
  },
  {
   "cell_type": "code",
   "execution_count": 504,
   "metadata": {},
   "outputs": [
    {
     "data": {
      "text/plain": [
       "<matplotlib.axes._subplots.AxesSubplot at 0x1a28203a90>"
      ]
     },
     "execution_count": 504,
     "metadata": {},
     "output_type": "execute_result"
    },
    {
     "data": {
      "image/png": "[encoded data removed]",
      "text/plain": [
       "<Figure size 576x576 with 2 Axes>"
      ]
     },
     "metadata": {
      "needs_background": "light"
     },
     "output_type": "display_data"
    }
   ],
   "source": [
    "plt.figure(figsize=(8,8))\n",
    "plt.subplot(2,2,1)\n",
    "sns.regplot(x=\"like_per_date\", y=\"Views\", data=data)\n",
    "plt.subplot(2,2,2)\n",
    "sns.regplot(x=\"Popularity_per_date\", y=\"Views\", data=data)"
   ]
  },
  {
   "cell_type": "code",
   "execution_count": 432,
   "metadata": {},
   "outputs": [],
   "source": [
    "def text_process(text):\n",
    "    \n",
    "    text = text.translate(str.maketrans('', '', string.punctuation))\n",
    "    text = [word for word in text.split() if word.lower() not in stopwords.words('english')]\n",
    "    \n",
    "    return \" \".join(text)\n",
    "#data['Song_Name']=data['Song_Name'].astype('str')\n",
    "#data['Song_Name'] = data['Song_Name'].apply(text_process)"
   ]
  },
  {
   "cell_type": "code",
   "execution_count": 433,
   "metadata": {},
   "outputs": [
    {
     "data": {
      "text/plain": [
       "0    N-Vitral presents BOMBSQUAD - Poison Spitter (...\n",
       "1            Dj Aladdin - Old School Hip Hop Quick Mix\n",
       "2    Maxximize On Air - Mixed by Blasterjaxx - Epis...\n",
       "3                  MC Yago - Tenho Compromisso (DJ R7)\n",
       "4                           Escape (feat. Steph Jones)\n",
       "Name: Song_Name, dtype: object"
      ]
     },
     "execution_count": 433,
     "metadata": {},
     "output_type": "execute_result"
    }
   ],
   "source": [
    "data['Song_Name'].head()"
   ]
  },
  {
   "cell_type": "code",
   "execution_count": 437,
   "metadata": {},
   "outputs": [
    {
     "data": {
      "text/html": [
       "<div>\n",
       "<style scoped>\n",
       "    .dataframe tbody tr th:only-of-type {\n",
       "        vertical-align: middle;\n",
       "    }\n",
       "\n",
       "    .dataframe tbody tr th {\n",
       "        vertical-align: top;\n",
       "    }\n",
       "\n",
       "    .dataframe thead th {\n",
       "        text-align: right;\n",
       "    }\n",
       "</style>\n",
       "<table border=\"1\" class=\"dataframe\">\n",
       "  <thead>\n",
       "    <tr style=\"text-align: right;\">\n",
       "      <th></th>\n",
       "      <th>Views</th>\n",
       "      <th>Comments</th>\n",
       "      <th>Likes</th>\n",
       "      <th>Popularity</th>\n",
       "      <th>Followers</th>\n",
       "      <th>dayofweek</th>\n",
       "      <th>weekend</th>\n",
       "      <th>date_old</th>\n",
       "      <th>like_per_date</th>\n",
       "      <th>followers_per_date</th>\n",
       "      <th>Popularity_per_date</th>\n",
       "    </tr>\n",
       "  </thead>\n",
       "  <tbody>\n",
       "    <tr>\n",
       "      <td>Views</td>\n",
       "      <td>1.000000</td>\n",
       "      <td>0.679104</td>\n",
       "      <td>0.980132</td>\n",
       "      <td>0.834635</td>\n",
       "      <td>0.103603</td>\n",
       "      <td>0.014646</td>\n",
       "      <td>-0.002952</td>\n",
       "      <td>0.008631</td>\n",
       "      <td>0.459671</td>\n",
       "      <td>0.004738</td>\n",
       "      <td>0.437701</td>\n",
       "    </tr>\n",
       "    <tr>\n",
       "      <td>Comments</td>\n",
       "      <td>0.679104</td>\n",
       "      <td>1.000000</td>\n",
       "      <td>0.656645</td>\n",
       "      <td>0.641815</td>\n",
       "      <td>0.085034</td>\n",
       "      <td>-0.001844</td>\n",
       "      <td>-0.002394</td>\n",
       "      <td>0.006911</td>\n",
       "      <td>0.540793</td>\n",
       "      <td>0.012754</td>\n",
       "      <td>0.674043</td>\n",
       "    </tr>\n",
       "    <tr>\n",
       "      <td>Likes</td>\n",
       "      <td>0.980132</td>\n",
       "      <td>0.656645</td>\n",
       "      <td>1.000000</td>\n",
       "      <td>0.869048</td>\n",
       "      <td>0.110321</td>\n",
       "      <td>0.014117</td>\n",
       "      <td>-0.006747</td>\n",
       "      <td>0.003697</td>\n",
       "      <td>0.478396</td>\n",
       "      <td>0.005665</td>\n",
       "      <td>0.418447</td>\n",
       "    </tr>\n",
       "    <tr>\n",
       "      <td>Popularity</td>\n",
       "      <td>0.834635</td>\n",
       "      <td>0.641815</td>\n",
       "      <td>0.869048</td>\n",
       "      <td>1.000000</td>\n",
       "      <td>0.138454</td>\n",
       "      <td>-0.006822</td>\n",
       "      <td>-0.013047</td>\n",
       "      <td>0.041307</td>\n",
       "      <td>0.293431</td>\n",
       "      <td>0.000447</td>\n",
       "      <td>0.374553</td>\n",
       "    </tr>\n",
       "    <tr>\n",
       "      <td>Followers</td>\n",
       "      <td>0.103603</td>\n",
       "      <td>0.085034</td>\n",
       "      <td>0.110321</td>\n",
       "      <td>0.138454</td>\n",
       "      <td>1.000000</td>\n",
       "      <td>-0.031933</td>\n",
       "      <td>-0.076020</td>\n",
       "      <td>0.179521</td>\n",
       "      <td>0.039548</td>\n",
       "      <td>0.177716</td>\n",
       "      <td>0.047431</td>\n",
       "    </tr>\n",
       "    <tr>\n",
       "      <td>dayofweek</td>\n",
       "      <td>0.014646</td>\n",
       "      <td>-0.001844</td>\n",
       "      <td>0.014117</td>\n",
       "      <td>-0.006822</td>\n",
       "      <td>-0.031933</td>\n",
       "      <td>1.000000</td>\n",
       "      <td>0.631842</td>\n",
       "      <td>-0.097366</td>\n",
       "      <td>0.021863</td>\n",
       "      <td>0.021561</td>\n",
       "      <td>0.012200</td>\n",
       "    </tr>\n",
       "    <tr>\n",
       "      <td>weekend</td>\n",
       "      <td>-0.002952</td>\n",
       "      <td>-0.002394</td>\n",
       "      <td>-0.006747</td>\n",
       "      <td>-0.013047</td>\n",
       "      <td>-0.076020</td>\n",
       "      <td>0.631842</td>\n",
       "      <td>1.000000</td>\n",
       "      <td>-0.025410</td>\n",
       "      <td>-0.013657</td>\n",
       "      <td>-0.015942</td>\n",
       "      <td>-0.013168</td>\n",
       "    </tr>\n",
       "    <tr>\n",
       "      <td>date_old</td>\n",
       "      <td>0.008631</td>\n",
       "      <td>0.006911</td>\n",
       "      <td>0.003697</td>\n",
       "      <td>0.041307</td>\n",
       "      <td>0.179521</td>\n",
       "      <td>-0.097366</td>\n",
       "      <td>-0.025410</td>\n",
       "      <td>1.000000</td>\n",
       "      <td>-0.068361</td>\n",
       "      <td>-0.061376</td>\n",
       "      <td>-0.062461</td>\n",
       "    </tr>\n",
       "    <tr>\n",
       "      <td>like_per_date</td>\n",
       "      <td>0.459671</td>\n",
       "      <td>0.540793</td>\n",
       "      <td>0.478396</td>\n",
       "      <td>0.293431</td>\n",
       "      <td>0.039548</td>\n",
       "      <td>0.021863</td>\n",
       "      <td>-0.013657</td>\n",
       "      <td>-0.068361</td>\n",
       "      <td>1.000000</td>\n",
       "      <td>0.090037</td>\n",
       "      <td>0.807086</td>\n",
       "    </tr>\n",
       "    <tr>\n",
       "      <td>followers_per_date</td>\n",
       "      <td>0.004738</td>\n",
       "      <td>0.012754</td>\n",
       "      <td>0.005665</td>\n",
       "      <td>0.000447</td>\n",
       "      <td>0.177716</td>\n",
       "      <td>0.021561</td>\n",
       "      <td>-0.015942</td>\n",
       "      <td>-0.061376</td>\n",
       "      <td>0.090037</td>\n",
       "      <td>1.000000</td>\n",
       "      <td>0.095805</td>\n",
       "    </tr>\n",
       "    <tr>\n",
       "      <td>Popularity_per_date</td>\n",
       "      <td>0.437701</td>\n",
       "      <td>0.674043</td>\n",
       "      <td>0.418447</td>\n",
       "      <td>0.374553</td>\n",
       "      <td>0.047431</td>\n",
       "      <td>0.012200</td>\n",
       "      <td>-0.013168</td>\n",
       "      <td>-0.062461</td>\n",
       "      <td>0.807086</td>\n",
       "      <td>0.095805</td>\n",
       "      <td>1.000000</td>\n",
       "    </tr>\n",
       "  </tbody>\n",
       "</table>\n",
       "</div>"
      ],
      "text/plain": [
       "                        Views  Comments     Likes  Popularity  Followers  \\\n",
       "Views                1.000000  0.679104  0.980132    0.834635   0.103603   \n",
       "Comments             0.679104  1.000000  0.656645    0.641815   0.085034   \n",
       "Likes                0.980132  0.656645  1.000000    0.869048   0.110321   \n",
       "Popularity           0.834635  0.641815  0.869048    1.000000   0.138454   \n",
       "Followers            0.103603  0.085034  0.110321    0.138454   1.000000   \n",
       "dayofweek            0.014646 -0.001844  0.014117   -0.006822  -0.031933   \n",
       "weekend             -0.002952 -0.002394 -0.006747   -0.013047  -0.076020   \n",
       "date_old             0.008631  0.006911  0.003697    0.041307   0.179521   \n",
       "like_per_date        0.459671  0.540793  0.478396    0.293431   0.039548   \n",
       "followers_per_date   0.004738  0.012754  0.005665    0.000447   0.177716   \n",
       "Popularity_per_date  0.437701  0.674043  0.418447    0.374553   0.047431   \n",
       "\n",
       "                     dayofweek   weekend  date_old  like_per_date  \\\n",
       "Views                 0.014646 -0.002952  0.008631       0.459671   \n",
       "Comments             -0.001844 -0.002394  0.006911       0.540793   \n",
       "Likes                 0.014117 -0.006747  0.003697       0.478396   \n",
       "Popularity           -0.006822 -0.013047  0.041307       0.293431   \n",
       "Followers            -0.031933 -0.076020  0.179521       0.039548   \n",
       "dayofweek             1.000000  0.631842 -0.097366       0.021863   \n",
       "weekend               0.631842  1.000000 -0.025410      -0.013657   \n",
       "date_old             -0.097366 -0.025410  1.000000      -0.068361   \n",
       "like_per_date         0.021863 -0.013657 -0.068361       1.000000   \n",
       "followers_per_date    0.021561 -0.015942 -0.061376       0.090037   \n",
       "Popularity_per_date   0.012200 -0.013168 -0.062461       0.807086   \n",
       "\n",
       "                     followers_per_date  Popularity_per_date  \n",
       "Views                          0.004738             0.437701  \n",
       "Comments                       0.012754             0.674043  \n",
       "Likes                          0.005665             0.418447  \n",
       "Popularity                     0.000447             0.374553  \n",
       "Followers                      0.177716             0.047431  \n",
       "dayofweek                      0.021561             0.012200  \n",
       "weekend                       -0.015942            -0.013168  \n",
       "date_old                      -0.061376            -0.062461  \n",
       "like_per_date                  0.090037             0.807086  \n",
       "followers_per_date             1.000000             0.095805  \n",
       "Popularity_per_date            0.095805             1.000000  "
      ]
     },
     "execution_count": 437,
     "metadata": {},
     "output_type": "execute_result"
    }
   ],
   "source": [
    "data.corr()"
   ]
  },
  {
   "cell_type": "code",
   "execution_count": 479,
   "metadata": {},
   "outputs": [
    {
     "data": {
      "text/html": [
       "<div>\n",
       "<style scoped>\n",
       "    .dataframe tbody tr th:only-of-type {\n",
       "        vertical-align: middle;\n",
       "    }\n",
       "\n",
       "    .dataframe tbody tr th {\n",
       "        vertical-align: top;\n",
       "    }\n",
       "\n",
       "    .dataframe thead th {\n",
       "        text-align: right;\n",
       "    }\n",
       "</style>\n",
       "<table border=\"1\" class=\"dataframe\">\n",
       "  <thead>\n",
       "    <tr style=\"text-align: right;\">\n",
       "      <th></th>\n",
       "      <th>Views</th>\n",
       "      <th>Comments</th>\n",
       "      <th>Likes</th>\n",
       "      <th>Popularity</th>\n",
       "      <th>Followers</th>\n",
       "      <th>dayofweek</th>\n",
       "      <th>weekend</th>\n",
       "    </tr>\n",
       "  </thead>\n",
       "  <tbody>\n",
       "    <tr>\n",
       "      <td>count</td>\n",
       "      <td>7.845800e+04</td>\n",
       "      <td>78458.000000</td>\n",
       "      <td>7.845800e+04</td>\n",
       "      <td>78458.000000</td>\n",
       "      <td>7.845800e+04</td>\n",
       "      <td>78458.000000</td>\n",
       "      <td>78458.000000</td>\n",
       "    </tr>\n",
       "    <tr>\n",
       "      <td>mean</td>\n",
       "      <td>5.469686e+05</td>\n",
       "      <td>115.270973</td>\n",
       "      <td>8.821458e+03</td>\n",
       "      <td>920.825524</td>\n",
       "      <td>4.787663e+05</td>\n",
       "      <td>2.579609</td>\n",
       "      <td>0.133626</td>\n",
       "    </tr>\n",
       "    <tr>\n",
       "      <td>std</td>\n",
       "      <td>3.883085e+06</td>\n",
       "      <td>724.614868</td>\n",
       "      <td>5.277438e+04</td>\n",
       "      <td>4810.374304</td>\n",
       "      <td>1.168120e+06</td>\n",
       "      <td>1.785213</td>\n",
       "      <td>0.340252</td>\n",
       "    </tr>\n",
       "    <tr>\n",
       "      <td>min</td>\n",
       "      <td>0.000000e+00</td>\n",
       "      <td>0.000000</td>\n",
       "      <td>0.000000e+00</td>\n",
       "      <td>0.000000</td>\n",
       "      <td>1.000000e+00</td>\n",
       "      <td>0.000000</td>\n",
       "      <td>0.000000</td>\n",
       "    </tr>\n",
       "    <tr>\n",
       "      <td>25%</td>\n",
       "      <td>6.216500e+03</td>\n",
       "      <td>1.000000</td>\n",
       "      <td>1.290000e+02</td>\n",
       "      <td>13.000000</td>\n",
       "      <td>1.770000e+04</td>\n",
       "      <td>1.000000</td>\n",
       "      <td>0.000000</td>\n",
       "    </tr>\n",
       "    <tr>\n",
       "      <td>50%</td>\n",
       "      <td>2.538650e+04</td>\n",
       "      <td>12.000000</td>\n",
       "      <td>6.660000e+02</td>\n",
       "      <td>87.000000</td>\n",
       "      <td>8.768200e+04</td>\n",
       "      <td>3.000000</td>\n",
       "      <td>0.000000</td>\n",
       "    </tr>\n",
       "    <tr>\n",
       "      <td>75%</td>\n",
       "      <td>1.201342e+05</td>\n",
       "      <td>61.000000</td>\n",
       "      <td>2.856750e+03</td>\n",
       "      <td>405.000000</td>\n",
       "      <td>3.936550e+05</td>\n",
       "      <td>4.000000</td>\n",
       "      <td>0.000000</td>\n",
       "    </tr>\n",
       "    <tr>\n",
       "      <td>max</td>\n",
       "      <td>1.994050e+08</td>\n",
       "      <td>104082.000000</td>\n",
       "      <td>2.770000e+06</td>\n",
       "      <td>324000.000000</td>\n",
       "      <td>9.789123e+06</td>\n",
       "      <td>6.000000</td>\n",
       "      <td>1.000000</td>\n",
       "    </tr>\n",
       "  </tbody>\n",
       "</table>\n",
       "</div>"
      ],
      "text/plain": [
       "              Views       Comments         Likes     Popularity     Followers  \\\n",
       "count  7.845800e+04   78458.000000  7.845800e+04   78458.000000  7.845800e+04   \n",
       "mean   5.469686e+05     115.270973  8.821458e+03     920.825524  4.787663e+05   \n",
       "std    3.883085e+06     724.614868  5.277438e+04    4810.374304  1.168120e+06   \n",
       "min    0.000000e+00       0.000000  0.000000e+00       0.000000  1.000000e+00   \n",
       "25%    6.216500e+03       1.000000  1.290000e+02      13.000000  1.770000e+04   \n",
       "50%    2.538650e+04      12.000000  6.660000e+02      87.000000  8.768200e+04   \n",
       "75%    1.201342e+05      61.000000  2.856750e+03     405.000000  3.936550e+05   \n",
       "max    1.994050e+08  104082.000000  2.770000e+06  324000.000000  9.789123e+06   \n",
       "\n",
       "          dayofweek       weekend  \n",
       "count  78458.000000  78458.000000  \n",
       "mean       2.579609      0.133626  \n",
       "std        1.785213      0.340252  \n",
       "min        0.000000      0.000000  \n",
       "25%        1.000000      0.000000  \n",
       "50%        3.000000      0.000000  \n",
       "75%        4.000000      0.000000  \n",
       "max        6.000000      1.000000  "
      ]
     },
     "execution_count": 479,
     "metadata": {},
     "output_type": "execute_result"
    }
   ],
   "source": [
    "data.describe()\n",
    "#if mean and median not equal outliers ??"
   ]
  },
  {
   "cell_type": "code",
   "execution_count": 480,
   "metadata": {},
   "outputs": [
    {
     "data": {
      "text/html": [
       "<div>\n",
       "<style scoped>\n",
       "    .dataframe tbody tr th:only-of-type {\n",
       "        vertical-align: middle;\n",
       "    }\n",
       "\n",
       "    .dataframe tbody tr th {\n",
       "        vertical-align: top;\n",
       "    }\n",
       "\n",
       "    .dataframe thead th {\n",
       "        text-align: right;\n",
       "    }\n",
       "</style>\n",
       "<table border=\"1\" class=\"dataframe\">\n",
       "  <thead>\n",
       "    <tr style=\"text-align: right;\">\n",
       "      <th></th>\n",
       "      <th>Genre</th>\n",
       "      <th>Song_Name</th>\n",
       "      <th>Timestamp</th>\n",
       "      <th>Views</th>\n",
       "      <th>Comments</th>\n",
       "      <th>Likes</th>\n",
       "      <th>Popularity</th>\n",
       "      <th>Followers</th>\n",
       "      <th>dayofweek</th>\n",
       "      <th>weekend</th>\n",
       "    </tr>\n",
       "  </thead>\n",
       "  <tbody>\n",
       "    <tr>\n",
       "      <td>0</td>\n",
       "      <td>danceedm</td>\n",
       "      <td>N-Vitral presents BOMBSQUAD - Poison Spitter (...</td>\n",
       "      <td>2018-03-30 15:24:45</td>\n",
       "      <td>14017</td>\n",
       "      <td>4</td>\n",
       "      <td>499.0</td>\n",
       "      <td>97.0</td>\n",
       "      <td>119563</td>\n",
       "      <td>4</td>\n",
       "      <td>0</td>\n",
       "    </tr>\n",
       "    <tr>\n",
       "      <td>1</td>\n",
       "      <td>danceedm</td>\n",
       "      <td>Dj Aladdin - Old School Hip Hop Quick Mix</td>\n",
       "      <td>2016-06-20 05:58:52</td>\n",
       "      <td>1918</td>\n",
       "      <td>17</td>\n",
       "      <td>49.0</td>\n",
       "      <td>17.0</td>\n",
       "      <td>2141</td>\n",
       "      <td>0</td>\n",
       "      <td>0</td>\n",
       "    </tr>\n",
       "    <tr>\n",
       "      <td>2</td>\n",
       "      <td>danceedm</td>\n",
       "      <td>Maxximize On Air - Mixed by Blasterjaxx - Epis...</td>\n",
       "      <td>2015-05-08 17:45:59</td>\n",
       "      <td>9668</td>\n",
       "      <td>11</td>\n",
       "      <td>312.0</td>\n",
       "      <td>91.0</td>\n",
       "      <td>22248</td>\n",
       "      <td>4</td>\n",
       "      <td>0</td>\n",
       "    </tr>\n",
       "    <tr>\n",
       "      <td>3</td>\n",
       "      <td>rbsoul</td>\n",
       "      <td>MC Yago - Tenho Compromisso (DJ R7)</td>\n",
       "      <td>2017-06-08 23:50:03</td>\n",
       "      <td>113036</td>\n",
       "      <td>2</td>\n",
       "      <td>2400.0</td>\n",
       "      <td>76.0</td>\n",
       "      <td>393655</td>\n",
       "      <td>3</td>\n",
       "      <td>0</td>\n",
       "    </tr>\n",
       "    <tr>\n",
       "      <td>4</td>\n",
       "      <td>danceedm</td>\n",
       "      <td>Escape (feat. Steph Jones)</td>\n",
       "      <td>2016-09-17 20:50:19</td>\n",
       "      <td>110024</td>\n",
       "      <td>81</td>\n",
       "      <td>3031.0</td>\n",
       "      <td>699.0</td>\n",
       "      <td>201030</td>\n",
       "      <td>5</td>\n",
       "      <td>1</td>\n",
       "    </tr>\n",
       "  </tbody>\n",
       "</table>\n",
       "</div>"
      ],
      "text/plain": [
       "      Genre                                          Song_Name  \\\n",
       "0  danceedm  N-Vitral presents BOMBSQUAD - Poison Spitter (...   \n",
       "1  danceedm          Dj Aladdin - Old School Hip Hop Quick Mix   \n",
       "2  danceedm  Maxximize On Air - Mixed by Blasterjaxx - Epis...   \n",
       "3    rbsoul                MC Yago - Tenho Compromisso (DJ R7)   \n",
       "4  danceedm                         Escape (feat. Steph Jones)   \n",
       "\n",
       "            Timestamp   Views  Comments   Likes  Popularity  Followers  \\\n",
       "0 2018-03-30 15:24:45   14017         4   499.0        97.0     119563   \n",
       "1 2016-06-20 05:58:52    1918        17    49.0        17.0       2141   \n",
       "2 2015-05-08 17:45:59    9668        11   312.0        91.0      22248   \n",
       "3 2017-06-08 23:50:03  113036         2  2400.0        76.0     393655   \n",
       "4 2016-09-17 20:50:19  110024        81  3031.0       699.0     201030   \n",
       "\n",
       "   dayofweek  weekend  \n",
       "0          4        0  \n",
       "1          0        0  \n",
       "2          4        0  \n",
       "3          3        0  \n",
       "4          5        1  "
      ]
     },
     "execution_count": 480,
     "metadata": {},
     "output_type": "execute_result"
    }
   ],
   "source": [
    "data.head()"
   ]
  },
  {
   "cell_type": "code",
   "execution_count": 439,
   "metadata": {},
   "outputs": [],
   "source": [
    "features_data =data.loc[:,['Comments', 'Likes', 'Popularity','like_per_date','Popularity_per_date']]\n",
    "X = data.loc[:,['Comments', 'Likes', 'Popularity','like_per_date','Popularity_per_date']]\n",
    "y = data['Views']"
   ]
  },
  {
   "cell_type": "code",
   "execution_count": 440,
   "metadata": {},
   "outputs": [],
   "source": [
    "#pd.plotting.scatter_matrix(data.loc[:,['Views','Comments', 'Likes', 'Popularity', 'Followers','weekend']], alpha=0.3, figsize=(14,8), diagonal='kde');"
   ]
  },
  {
   "cell_type": "code",
   "execution_count": 441,
   "metadata": {},
   "outputs": [],
   "source": [
    "X_train, X_test, y_train, y_test = train_test_split(X, y, test_size=0.3, random_state=42)\n",
    "sc = StandardScaler()\n",
    "X_train = sc.fit_transform(X_train)\n",
    "X_test = sc.transform(X_test)"
   ]
  },
  {
   "cell_type": "code",
   "execution_count": 199,
   "metadata": {},
   "outputs": [
    {
     "name": "stdout",
     "output_type": "stream",
     "text": [
      "[0.46273858 0.17829599 0.15453293 0.13167426 0.05641148 0.01634676]\n",
      "[0.46273858 0.64103457 0.7955675  0.92724176 0.98365324 1.        ]\n"
     ]
    },
    {
     "data": {
      "image/png": "[encoded data removed]",
      "text/plain": [
       "<Figure size 720x432 with 1 Axes>"
      ]
     },
     "metadata": {
      "needs_background": "light"
     },
     "output_type": "display_data"
    }
   ],
   "source": [
    "# Build PCA using standarized trained data\n",
    "pca = PCA(n_components=None, svd_solver=\"full\")\n",
    "pca.fit(StandardScaler().fit_transform(X_train))\n",
    "print(pca.explained_variance_ratio_)\n",
    "cum_var_exp = np.cumsum(pca.explained_variance_ratio_)\n",
    "plt.figure(figsize=(10, 6))\n",
    "plt.bar(range(1, 7), pca.explained_variance_ratio_, align=\"center\",\n",
    "        color='red', label=\"Individual explained variance\")\n",
    "plt.step(range(1, 7), cum_var_exp, where=\"mid\", label=\"Cumulative explained variance\")\n",
    "plt.xticks(range(1, 7))\n",
    "plt.legend(loc=\"best\")\n",
    "plt.xlabel(\"Principal component index\", {\"fontsize\": 14})\n",
    "plt.ylabel(\"Explained variance ratio\", {\"fontsize\": 14})\n",
    "plt.title(\"PCA on training data\", {\"fontsize\": 16});\n",
    "print(cum_var_exp)"
   ]
  },
  {
   "cell_type": "code",
   "execution_count": 442,
   "metadata": {},
   "outputs": [
    {
     "data": {
      "image/png": "[encoded data removed]",
      "text/plain": [
       "<Figure size 432x288 with 1 Axes>"
      ]
     },
     "metadata": {
      "needs_background": "light"
     },
     "output_type": "display_data"
    },
    {
     "name": "stdout",
     "output_type": "stream",
     "text": [
      "RMSE: 694020.395487\n"
     ]
    }
   ],
   "source": [
    "lr_regressor =LinearRegression()\n",
    "lr_regressor.fit(X_train, y_train)\n",
    "preds = lr_regressor.predict(X_test)\n",
    "plt.scatter(y_test,preds)\n",
    "plt.grid()\n",
    "plt.xlabel('Actual y')\n",
    "plt.ylabel('Predicted y')\n",
    "plt.title('scatter plot between actual y and predicted y')\n",
    "plt.show()\n",
    "rmse = np.sqrt(mean_squared_error(y_test, preds))\n",
    "print(\"RMSE: %f\" % (rmse))\n"
   ]
  },
  {
   "cell_type": "code",
   "execution_count": 160,
   "metadata": {},
   "outputs": [
    {
     "name": "stdout",
     "output_type": "stream",
     "text": [
      "tuned hpyerparameters :(best parameters)  {'alpha': 0.06}\n",
      "accuracy : 0.9626726963848358\n"
     ]
    }
   ],
   "source": [
    "lasso_params = {'alpha':[0.005,0.001, 0.02, 0.03, 0.05, 0.06]}\n",
    "laso_regressor=Lasso()\n",
    "laso_regressor_cv=GridSearchCV(laso_regressor,lasso_params,cv=5)\n",
    "laso_regressor_cv.fit(X,y)\n",
    "print(\"tuned hpyerparameters :(best parameters) \",laso_regressor_cv.best_params_)\n",
    "print(\"accuracy :\",laso_regressor_cv.best_score_)"
   ]
  },
  {
   "cell_type": "code",
   "execution_count": null,
   "metadata": {},
   "outputs": [],
   "source": [
    "laso_regressor =Lasso(alpha= 0.001)\n",
    "laso_regressor.fit(X_train, y_train)\n",
    "preds = laso_regressor.predict(X_test)\n",
    "plt.scatter(y_test,preds)\n",
    "plt.grid()\n",
    "plt.xlabel('Actual y')\n",
    "plt.ylabel('Predicted y')\n",
    "plt.title('scatter plot between actual y and predicted y')\n",
    "plt.show()\n",
    "rmse = np.sqrt(mean_squared_error(y_test, preds))\n",
    "print(\"RMSE: %f\" % (rmse))"
   ]
  },
  {
   "cell_type": "code",
   "execution_count": 268,
   "metadata": {},
   "outputs": [
    {
     "ename": "AttributeError",
     "evalue": "'GridSearchCV' object has no attribute 'best_params_'",
     "output_type": "error",
     "traceback": [
      "\u001b[0;31m---------------------------------------------------------------------------\u001b[0m",
      "\u001b[0;31mAttributeError\u001b[0m                            Traceback (most recent call last)",
      "\u001b[0;32m<ipython-input-268-e34555eb7936>\u001b[0m in \u001b[0;36m<module>\u001b[0;34m\u001b[0m\n\u001b[1;32m      4\u001b[0m \u001b[0mrf_regressor_cv\u001b[0m \u001b[0;34m=\u001b[0m \u001b[0mGridSearchCV\u001b[0m\u001b[0;34m(\u001b[0m\u001b[0mrf_regressor\u001b[0m\u001b[0;34m,\u001b[0m\u001b[0mhyperparam_grid\u001b[0m\u001b[0;34m,\u001b[0m\u001b[0mcv\u001b[0m\u001b[0;34m=\u001b[0m\u001b[0;36m2\u001b[0m\u001b[0;34m)\u001b[0m\u001b[0;34m\u001b[0m\u001b[0;34m\u001b[0m\u001b[0m\n\u001b[1;32m      5\u001b[0m \u001b[0;31m#rf_regressor_cv.fit(X,y)\u001b[0m\u001b[0;34m\u001b[0m\u001b[0;34m\u001b[0m\u001b[0;34m\u001b[0m\u001b[0m\n\u001b[0;32m----> 6\u001b[0;31m \u001b[0mprint\u001b[0m\u001b[0;34m(\u001b[0m\u001b[0;34m\"tuned hpyerparameters :(best parameters) \"\u001b[0m\u001b[0;34m,\u001b[0m\u001b[0mrf_regressor_cv\u001b[0m\u001b[0;34m.\u001b[0m\u001b[0mbest_params_\u001b[0m\u001b[0;34m)\u001b[0m\u001b[0;34m\u001b[0m\u001b[0;34m\u001b[0m\u001b[0m\n\u001b[0m\u001b[1;32m      7\u001b[0m \u001b[0mprint\u001b[0m\u001b[0;34m(\u001b[0m\u001b[0;34m\"accuracy :\"\u001b[0m\u001b[0;34m,\u001b[0m\u001b[0mrf_regressor_cv\u001b[0m\u001b[0;34m.\u001b[0m\u001b[0mbest_score_\u001b[0m\u001b[0;34m)\u001b[0m\u001b[0;34m\u001b[0m\u001b[0;34m\u001b[0m\u001b[0m\n",
      "\u001b[0;31mAttributeError\u001b[0m: 'GridSearchCV' object has no attribute 'best_params_'"
     ]
    }
   ],
   "source": [
    "rf_regressor= RandomForestRegressor()\n",
    "hyperparam_grid={\"n_estimators\": [10, 50, 100],\"max_features\": [\"sqrt\", \"log2\", 0.4, 0.5],\\\n",
    "                 \"min_samples_leaf\": [1, 3, 5],'max_depth':[5,10,15,30]}\n",
    "rf_regressor_cv = GridSearchCV(rf_regressor,hyperparam_grid,cv=2)\n",
    "rf_regressor_cv.fit(X,y)\n",
    "print(\"tuned hpyerparameters :(best parameters) \",rf_regressor_cv.best_params_)\n",
    "print(\"accuracy :\",rf_regressor_cv.best_score_)"
   ]
  },
  {
   "cell_type": "code",
   "execution_count": 443,
   "metadata": {},
   "outputs": [
    {
     "data": {
      "image/png": "[encoded data removed]",
      "text/plain": [
       "<Figure size 432x288 with 1 Axes>"
      ]
     },
     "metadata": {
      "needs_background": "light"
     },
     "output_type": "display_data"
    },
    {
     "name": "stdout",
     "output_type": "stream",
     "text": [
      "RMSE: 582916.655923\n"
     ]
    }
   ],
   "source": [
    "rf_regressor=RandomForestRegressor(max_features= 0.4, min_samples_leaf= 1, n_estimators=100)\n",
    "rf_regressor.fit(X_train,y_train)\n",
    "\n",
    "preds = rf_regressor.predict(X_test)\n",
    "rmse = np.sqrt(mean_squared_error(y_test, preds))\n",
    "plt.scatter(y_test,preds)\n",
    "plt.grid()\n",
    "plt.xlabel('Actual y')\n",
    "plt.ylabel('Predicted y')\n",
    "plt.title('scatter plot between actual y and predicted y')\n",
    "plt.show()\n",
    "print(\"RMSE: %f\" % (rmse))"
   ]
  },
  {
   "cell_type": "code",
   "execution_count": 445,
   "metadata": {},
   "outputs": [
    {
     "name": "stdout",
     "output_type": "stream",
     "text": [
      "[3 4 0 2 1]\n",
      "[1 2 0 4 3]\n"
     ]
    },
    {
     "data": {
      "image/png": "[encoded data removed]",
      "text/plain": [
       "<Figure size 576x360 with 1 Axes>"
      ]
     },
     "metadata": {
      "needs_background": "light"
     },
     "output_type": "display_data"
    }
   ],
   "source": [
    "feature_importance = rf_regressor.feature_importances_\n",
    "print(np.argsort(rf_regressor.feature_importances_))\n",
    "indices = np.argsort(rf_regressor.feature_importances_)[::-1]\n",
    "print(indices)\n",
    "plt.figure(figsize=(8, 5))\n",
    "plt.xticks(range(1,6), features_data.columns[indices], rotation=90)\n",
    "plt.bar(range(1, 6), feature_importance[indices], align=\"center\")\n",
    "plt.title(\"Feature Importance\", {\"fontsize\": 16});"
   ]
  },
  {
   "cell_type": "code",
   "execution_count": 153,
   "metadata": {},
   "outputs": [
    {
     "name": "stdout",
     "output_type": "stream",
     "text": [
      "[22:10:19] WARNING: src/objective/regression_obj.cu:152: reg:linear is now deprecated in favor of reg:squarederror.\n",
      "[22:10:34] WARNING: src/objective/regression_obj.cu:152: reg:linear is now deprecated in favor of reg:squarederror.\n",
      "[22:10:49] WARNING: src/objective/regression_obj.cu:152: reg:linear is now deprecated in favor of reg:squarederror.\n",
      "[22:10:51] WARNING: src/objective/regression_obj.cu:152: reg:linear is now deprecated in favor of reg:squarederror.\n",
      "[22:10:54] WARNING: src/objective/regression_obj.cu:152: reg:linear is now deprecated in favor of reg:squarederror.\n",
      "[22:11:01] WARNING: src/objective/regression_obj.cu:152: reg:linear is now deprecated in favor of reg:squarederror.\n",
      "[22:11:10] WARNING: src/objective/regression_obj.cu:152: reg:linear is now deprecated in favor of reg:squarederror.\n",
      "[22:11:14] WARNING: src/objective/regression_obj.cu:152: reg:linear is now deprecated in favor of reg:squarederror.\n",
      "[22:11:19] WARNING: src/objective/regression_obj.cu:152: reg:linear is now deprecated in favor of reg:squarederror.\n",
      "[22:11:20] WARNING: src/objective/regression_obj.cu:152: reg:linear is now deprecated in favor of reg:squarederror.\n",
      "[22:11:21] WARNING: src/objective/regression_obj.cu:152: reg:linear is now deprecated in favor of reg:squarederror.\n",
      "[22:11:34] WARNING: src/objective/regression_obj.cu:152: reg:linear is now deprecated in favor of reg:squarederror.\n",
      "[22:11:46] WARNING: src/objective/regression_obj.cu:152: reg:linear is now deprecated in favor of reg:squarederror.\n",
      "[22:11:53] WARNING: src/objective/regression_obj.cu:152: reg:linear is now deprecated in favor of reg:squarederror.\n",
      "[22:12:01] WARNING: src/objective/regression_obj.cu:152: reg:linear is now deprecated in favor of reg:squarederror.\n",
      "[22:12:06] WARNING: src/objective/regression_obj.cu:152: reg:linear is now deprecated in favor of reg:squarederror.\n",
      "[22:12:11] WARNING: src/objective/regression_obj.cu:152: reg:linear is now deprecated in favor of reg:squarederror.\n",
      "[22:12:12] WARNING: src/objective/regression_obj.cu:152: reg:linear is now deprecated in favor of reg:squarederror.\n",
      "[22:12:14] WARNING: src/objective/regression_obj.cu:152: reg:linear is now deprecated in favor of reg:squarederror.\n",
      "[22:12:15] WARNING: src/objective/regression_obj.cu:152: reg:linear is now deprecated in favor of reg:squarederror.\n",
      "[22:12:17] WARNING: src/objective/regression_obj.cu:152: reg:linear is now deprecated in favor of reg:squarederror.\n"
     ]
    },
    {
     "data": {
      "text/plain": [
       "XGBRegressor(base_score=0.5, booster='gbtree', colsample_bylevel=1,\n",
       "             colsample_bynode=1, colsample_bytree=1, gamma=0,\n",
       "             importance_type='gain', learning_rate=0.15, max_delta_step=0,\n",
       "             max_depth=10, min_child_weight=1, missing=None, n_estimators=500,\n",
       "             n_jobs=1, nthread=None, objective='reg:linear', random_state=0,\n",
       "             reg_alpha=0, reg_lambda=1, scale_pos_weight=1, seed=None,\n",
       "             silent=None, subsample=1, verbosity=1)"
      ]
     },
     "execution_count": 153,
     "metadata": {},
     "output_type": "execute_result"
    }
   ],
   "source": [
    "xgb_regressor=xgb.XGBRegressor()\n",
    "\n",
    "n_estimators = [100, 500]\n",
    "max_depth = [2, 3, 5, 10, 15]\n",
    "learning_rate=[0.05,0.1,0.15,0.20]\n",
    "min_child_weight=[1,2,3,4]\n",
    "\n",
    "# Define the grid of hyperparameters to search\n",
    "hyperparameter_grid = {\n",
    "    'n_estimators': n_estimators,\n",
    "    'max_depth':max_depth,\n",
    "    'learning_rate':learning_rate,\n",
    "    'min_child_weight':min_child_weight,\n",
    "    }\n",
    "\n",
    "# Set up the random search with 4-fold cross validation\n",
    "xgb_regressor_cv = RandomizedSearchCV(estimator=xgb_regressor,\n",
    "            param_distributions=hyperparameter_grid,\n",
    "            cv=2,\n",
    "            scoring = 'neg_mean_absolute_error',\n",
    "            return_train_score = True,\n",
    "            random_state=42)\n",
    "xgb_regressor_cv.fit(X_train,y_train)\n",
    "xgb_regressor_cv.best_estimator_"
   ]
  },
  {
   "cell_type": "code",
   "execution_count": 446,
   "metadata": {},
   "outputs": [
    {
     "name": "stdout",
     "output_type": "stream",
     "text": [
      "[00:14:09] WARNING: src/objective/regression_obj.cu:152: reg:linear is now deprecated in favor of reg:squarederror.\n"
     ]
    },
    {
     "data": {
      "image/png": "[encoded data removed]",
      "text/plain": [
       "<Figure size 432x288 with 1 Axes>"
      ]
     },
     "metadata": {
      "needs_background": "light"
     },
     "output_type": "display_data"
    },
    {
     "name": "stdout",
     "output_type": "stream",
     "text": [
      "RMSE: 585361.514921\n"
     ]
    }
   ],
   "source": [
    "#regressor=xgb.XGBRegressor(objective ='reg:squarederror',n_estimators=100, min_child_weight=3, max_depth=10, learning_rate=0.1, booster='gbtree', base_score=0.25)\n",
    "xgb_regressor= xgb.XGBRegressor(base_score=0.5, booster='gbtree', colsample_bylevel=1,\n",
    "             colsample_bynode=1, colsample_bytree=1, gamma=0,\n",
    "             importance_type='gain', learning_rate=0.15, max_delta_step=0,\n",
    "             max_depth=10, min_child_weight=1, missing=None, n_estimators=500,\n",
    "             n_jobs=1, nthread=None, objective='reg:linear', random_state=0,\n",
    "             reg_alpha=0, reg_lambda=1, scale_pos_weight=1, seed=None,\n",
    "             silent=None, subsample=1, verbosity=1)\n",
    "xgb_regressor.fit(X_train,y_train)\n",
    "\n",
    "preds = xgb_regressor.predict(X_test)\n",
    "rmse = np.sqrt(mean_squared_error(y_test, preds))\n",
    "plt.scatter(y_test,preds)\n",
    "plt.grid()\n",
    "plt.xlabel('Actual y')\n",
    "plt.ylabel('Predicted y')\n",
    "plt.title('scatter plot between actual y and predicted y')\n",
    "plt.show()\n",
    "print(\"RMSE: %f\" % (rmse))"
   ]
  },
  {
   "cell_type": "code",
   "execution_count": 412,
   "metadata": {},
   "outputs": [
    {
     "data": {
      "text/plain": [
       "array([0.01043582, 0.9735815 , 0.00806122, 0.00290002, 0.00502148,\n",
       "       0.        ], dtype=float32)"
      ]
     },
     "execution_count": 412,
     "metadata": {},
     "output_type": "execute_result"
    }
   ],
   "source": [
    "#outliers\n",
    "xgb_regressor.feature_importances_"
   ]
  },
  {
   "cell_type": "code",
   "execution_count": 413,
   "metadata": {},
   "outputs": [
    {
     "name": "stdout",
     "output_type": "stream",
     "text": [
      "[5 3 4 2 0 1]\n",
      "[1 0 2 4 3 5]\n"
     ]
    },
    {
     "ename": "ValueError",
     "evalue": "shape mismatch: objects cannot be broadcast to a single shape",
     "output_type": "error",
     "traceback": [
      "\u001b[0;31m---------------------------------------------------------------------------\u001b[0m",
      "\u001b[0;31mValueError\u001b[0m                                Traceback (most recent call last)",
      "\u001b[0;32m<ipython-input-413-56d5d5f227bc>\u001b[0m in \u001b[0;36m<module>\u001b[0;34m\u001b[0m\n\u001b[1;32m      5\u001b[0m \u001b[0mplt\u001b[0m\u001b[0;34m.\u001b[0m\u001b[0mfigure\u001b[0m\u001b[0;34m(\u001b[0m\u001b[0mfigsize\u001b[0m\u001b[0;34m=\u001b[0m\u001b[0;34m(\u001b[0m\u001b[0;36m8\u001b[0m\u001b[0;34m,\u001b[0m \u001b[0;36m5\u001b[0m\u001b[0;34m)\u001b[0m\u001b[0;34m)\u001b[0m\u001b[0;34m\u001b[0m\u001b[0;34m\u001b[0m\u001b[0m\n\u001b[1;32m      6\u001b[0m \u001b[0mplt\u001b[0m\u001b[0;34m.\u001b[0m\u001b[0mxticks\u001b[0m\u001b[0;34m(\u001b[0m\u001b[0mrange\u001b[0m\u001b[0;34m(\u001b[0m\u001b[0;36m1\u001b[0m\u001b[0;34m,\u001b[0m \u001b[0;36m9\u001b[0m\u001b[0;34m)\u001b[0m\u001b[0;34m,\u001b[0m \u001b[0mfeatures_data\u001b[0m\u001b[0;34m.\u001b[0m\u001b[0mcolumns\u001b[0m\u001b[0;34m[\u001b[0m\u001b[0mindices\u001b[0m\u001b[0;34m]\u001b[0m\u001b[0;34m,\u001b[0m \u001b[0mrotation\u001b[0m\u001b[0;34m=\u001b[0m\u001b[0;36m90\u001b[0m\u001b[0;34m)\u001b[0m\u001b[0;34m\u001b[0m\u001b[0;34m\u001b[0m\u001b[0m\n\u001b[0;32m----> 7\u001b[0;31m \u001b[0mplt\u001b[0m\u001b[0;34m.\u001b[0m\u001b[0mbar\u001b[0m\u001b[0;34m(\u001b[0m\u001b[0mrange\u001b[0m\u001b[0;34m(\u001b[0m\u001b[0;36m1\u001b[0m\u001b[0;34m,\u001b[0m \u001b[0;36m9\u001b[0m\u001b[0;34m)\u001b[0m\u001b[0;34m,\u001b[0m \u001b[0mfeature_importance\u001b[0m\u001b[0;34m[\u001b[0m\u001b[0mindices\u001b[0m\u001b[0;34m]\u001b[0m\u001b[0;34m,\u001b[0m \u001b[0malign\u001b[0m\u001b[0;34m=\u001b[0m\u001b[0;34m\"center\"\u001b[0m\u001b[0;34m)\u001b[0m\u001b[0;34m\u001b[0m\u001b[0;34m\u001b[0m\u001b[0m\n\u001b[0m\u001b[1;32m      8\u001b[0m \u001b[0mplt\u001b[0m\u001b[0;34m.\u001b[0m\u001b[0mtitle\u001b[0m\u001b[0;34m(\u001b[0m\u001b[0;34m\"Feature Importance\"\u001b[0m\u001b[0;34m,\u001b[0m \u001b[0;34m{\u001b[0m\u001b[0;34m\"fontsize\"\u001b[0m\u001b[0;34m:\u001b[0m \u001b[0;36m16\u001b[0m\u001b[0;34m}\u001b[0m\u001b[0;34m)\u001b[0m\u001b[0;34m;\u001b[0m\u001b[0;34m\u001b[0m\u001b[0;34m\u001b[0m\u001b[0m\n",
      "\u001b[0;32m~/anaconda3/lib/python3.7/site-packages/matplotlib/pyplot.py\u001b[0m in \u001b[0;36mbar\u001b[0;34m(x, height, width, bottom, align, data, **kwargs)\u001b[0m\n\u001b[1;32m   2438\u001b[0m     return gca().bar(\n\u001b[1;32m   2439\u001b[0m         \u001b[0mx\u001b[0m\u001b[0;34m,\u001b[0m \u001b[0mheight\u001b[0m\u001b[0;34m,\u001b[0m \u001b[0mwidth\u001b[0m\u001b[0;34m=\u001b[0m\u001b[0mwidth\u001b[0m\u001b[0;34m,\u001b[0m \u001b[0mbottom\u001b[0m\u001b[0;34m=\u001b[0m\u001b[0mbottom\u001b[0m\u001b[0;34m,\u001b[0m \u001b[0malign\u001b[0m\u001b[0;34m=\u001b[0m\u001b[0malign\u001b[0m\u001b[0;34m,\u001b[0m\u001b[0;34m\u001b[0m\u001b[0;34m\u001b[0m\u001b[0m\n\u001b[0;32m-> 2440\u001b[0;31m         **({\"data\": data} if data is not None else {}), **kwargs)\n\u001b[0m\u001b[1;32m   2441\u001b[0m \u001b[0;34m\u001b[0m\u001b[0m\n\u001b[1;32m   2442\u001b[0m \u001b[0;34m\u001b[0m\u001b[0m\n",
      "\u001b[0;32m~/anaconda3/lib/python3.7/site-packages/matplotlib/__init__.py\u001b[0m in \u001b[0;36minner\u001b[0;34m(ax, data, *args, **kwargs)\u001b[0m\n\u001b[1;32m   1599\u001b[0m     \u001b[0;32mdef\u001b[0m \u001b[0minner\u001b[0m\u001b[0;34m(\u001b[0m\u001b[0max\u001b[0m\u001b[0;34m,\u001b[0m \u001b[0;34m*\u001b[0m\u001b[0margs\u001b[0m\u001b[0;34m,\u001b[0m \u001b[0mdata\u001b[0m\u001b[0;34m=\u001b[0m\u001b[0;32mNone\u001b[0m\u001b[0;34m,\u001b[0m \u001b[0;34m**\u001b[0m\u001b[0mkwargs\u001b[0m\u001b[0;34m)\u001b[0m\u001b[0;34m:\u001b[0m\u001b[0;34m\u001b[0m\u001b[0;34m\u001b[0m\u001b[0m\n\u001b[1;32m   1600\u001b[0m         \u001b[0;32mif\u001b[0m \u001b[0mdata\u001b[0m \u001b[0;32mis\u001b[0m \u001b[0;32mNone\u001b[0m\u001b[0;34m:\u001b[0m\u001b[0;34m\u001b[0m\u001b[0;34m\u001b[0m\u001b[0m\n\u001b[0;32m-> 1601\u001b[0;31m             \u001b[0;32mreturn\u001b[0m \u001b[0mfunc\u001b[0m\u001b[0;34m(\u001b[0m\u001b[0max\u001b[0m\u001b[0;34m,\u001b[0m \u001b[0;34m*\u001b[0m\u001b[0mmap\u001b[0m\u001b[0;34m(\u001b[0m\u001b[0msanitize_sequence\u001b[0m\u001b[0;34m,\u001b[0m \u001b[0margs\u001b[0m\u001b[0;34m)\u001b[0m\u001b[0;34m,\u001b[0m \u001b[0;34m**\u001b[0m\u001b[0mkwargs\u001b[0m\u001b[0;34m)\u001b[0m\u001b[0;34m\u001b[0m\u001b[0;34m\u001b[0m\u001b[0m\n\u001b[0m\u001b[1;32m   1602\u001b[0m \u001b[0;34m\u001b[0m\u001b[0m\n\u001b[1;32m   1603\u001b[0m         \u001b[0mbound\u001b[0m \u001b[0;34m=\u001b[0m \u001b[0mnew_sig\u001b[0m\u001b[0;34m.\u001b[0m\u001b[0mbind\u001b[0m\u001b[0;34m(\u001b[0m\u001b[0max\u001b[0m\u001b[0;34m,\u001b[0m \u001b[0;34m*\u001b[0m\u001b[0margs\u001b[0m\u001b[0;34m,\u001b[0m \u001b[0;34m**\u001b[0m\u001b[0mkwargs\u001b[0m\u001b[0;34m)\u001b[0m\u001b[0;34m\u001b[0m\u001b[0;34m\u001b[0m\u001b[0m\n",
      "\u001b[0;32m~/anaconda3/lib/python3.7/site-packages/matplotlib/axes/_axes.py\u001b[0m in \u001b[0;36mbar\u001b[0;34m(self, x, height, width, bottom, align, **kwargs)\u001b[0m\n\u001b[1;32m   2373\u001b[0m         x, height, width, y, linewidth = np.broadcast_arrays(\n\u001b[1;32m   2374\u001b[0m             \u001b[0;31m# Make args iterable too.\u001b[0m\u001b[0;34m\u001b[0m\u001b[0;34m\u001b[0m\u001b[0;34m\u001b[0m\u001b[0m\n\u001b[0;32m-> 2375\u001b[0;31m             np.atleast_1d(x), height, width, y, linewidth)\n\u001b[0m\u001b[1;32m   2376\u001b[0m \u001b[0;34m\u001b[0m\u001b[0m\n\u001b[1;32m   2377\u001b[0m         \u001b[0;31m# Now that units have been converted, set the tick locations.\u001b[0m\u001b[0;34m\u001b[0m\u001b[0;34m\u001b[0m\u001b[0;34m\u001b[0m\u001b[0m\n",
      "\u001b[0;32m~/anaconda3/lib/python3.7/site-packages/numpy/lib/stride_tricks.py\u001b[0m in \u001b[0;36mbroadcast_arrays\u001b[0;34m(*args, **kwargs)\u001b[0m\n\u001b[1;32m    257\u001b[0m     \u001b[0margs\u001b[0m \u001b[0;34m=\u001b[0m \u001b[0;34m[\u001b[0m\u001b[0mnp\u001b[0m\u001b[0;34m.\u001b[0m\u001b[0marray\u001b[0m\u001b[0;34m(\u001b[0m\u001b[0m_m\u001b[0m\u001b[0;34m,\u001b[0m \u001b[0mcopy\u001b[0m\u001b[0;34m=\u001b[0m\u001b[0;32mFalse\u001b[0m\u001b[0;34m,\u001b[0m \u001b[0msubok\u001b[0m\u001b[0;34m=\u001b[0m\u001b[0msubok\u001b[0m\u001b[0;34m)\u001b[0m \u001b[0;32mfor\u001b[0m \u001b[0m_m\u001b[0m \u001b[0;32min\u001b[0m \u001b[0margs\u001b[0m\u001b[0;34m]\u001b[0m\u001b[0;34m\u001b[0m\u001b[0;34m\u001b[0m\u001b[0m\n\u001b[1;32m    258\u001b[0m \u001b[0;34m\u001b[0m\u001b[0m\n\u001b[0;32m--> 259\u001b[0;31m     \u001b[0mshape\u001b[0m \u001b[0;34m=\u001b[0m \u001b[0m_broadcast_shape\u001b[0m\u001b[0;34m(\u001b[0m\u001b[0;34m*\u001b[0m\u001b[0margs\u001b[0m\u001b[0;34m)\u001b[0m\u001b[0;34m\u001b[0m\u001b[0;34m\u001b[0m\u001b[0m\n\u001b[0m\u001b[1;32m    260\u001b[0m \u001b[0;34m\u001b[0m\u001b[0m\n\u001b[1;32m    261\u001b[0m     \u001b[0;32mif\u001b[0m \u001b[0mall\u001b[0m\u001b[0;34m(\u001b[0m\u001b[0marray\u001b[0m\u001b[0;34m.\u001b[0m\u001b[0mshape\u001b[0m \u001b[0;34m==\u001b[0m \u001b[0mshape\u001b[0m \u001b[0;32mfor\u001b[0m \u001b[0marray\u001b[0m \u001b[0;32min\u001b[0m \u001b[0margs\u001b[0m\u001b[0;34m)\u001b[0m\u001b[0;34m:\u001b[0m\u001b[0;34m\u001b[0m\u001b[0;34m\u001b[0m\u001b[0m\n",
      "\u001b[0;32m~/anaconda3/lib/python3.7/site-packages/numpy/lib/stride_tricks.py\u001b[0m in \u001b[0;36m_broadcast_shape\u001b[0;34m(*args)\u001b[0m\n\u001b[1;32m    191\u001b[0m     \u001b[0;31m# use the old-iterator because np.nditer does not handle size 0 arrays\u001b[0m\u001b[0;34m\u001b[0m\u001b[0;34m\u001b[0m\u001b[0;34m\u001b[0m\u001b[0m\n\u001b[1;32m    192\u001b[0m     \u001b[0;31m# consistently\u001b[0m\u001b[0;34m\u001b[0m\u001b[0;34m\u001b[0m\u001b[0;34m\u001b[0m\u001b[0m\n\u001b[0;32m--> 193\u001b[0;31m     \u001b[0mb\u001b[0m \u001b[0;34m=\u001b[0m \u001b[0mnp\u001b[0m\u001b[0;34m.\u001b[0m\u001b[0mbroadcast\u001b[0m\u001b[0;34m(\u001b[0m\u001b[0;34m*\u001b[0m\u001b[0margs\u001b[0m\u001b[0;34m[\u001b[0m\u001b[0;34m:\u001b[0m\u001b[0;36m32\u001b[0m\u001b[0;34m]\u001b[0m\u001b[0;34m)\u001b[0m\u001b[0;34m\u001b[0m\u001b[0;34m\u001b[0m\u001b[0m\n\u001b[0m\u001b[1;32m    194\u001b[0m     \u001b[0;31m# unfortunately, it cannot handle 32 or more arguments directly\u001b[0m\u001b[0;34m\u001b[0m\u001b[0;34m\u001b[0m\u001b[0;34m\u001b[0m\u001b[0m\n\u001b[1;32m    195\u001b[0m     \u001b[0;32mfor\u001b[0m \u001b[0mpos\u001b[0m \u001b[0;32min\u001b[0m \u001b[0mrange\u001b[0m\u001b[0;34m(\u001b[0m\u001b[0;36m32\u001b[0m\u001b[0;34m,\u001b[0m \u001b[0mlen\u001b[0m\u001b[0;34m(\u001b[0m\u001b[0margs\u001b[0m\u001b[0;34m)\u001b[0m\u001b[0;34m,\u001b[0m \u001b[0;36m31\u001b[0m\u001b[0;34m)\u001b[0m\u001b[0;34m:\u001b[0m\u001b[0;34m\u001b[0m\u001b[0;34m\u001b[0m\u001b[0m\n",
      "\u001b[0;31mValueError\u001b[0m: shape mismatch: objects cannot be broadcast to a single shape"
     ]
    },
    {
     "data": {
      "image/png": "[encoded data removed]",
      "text/plain": [
       "<Figure size 576x360 with 1 Axes>"
      ]
     },
     "metadata": {
      "needs_background": "light"
     },
     "output_type": "display_data"
    }
   ],
   "source": [
    "feature_importance = xgb_regressor.feature_importances_\n",
    "print(np.argsort(xgb_regressor.feature_importances_))\n",
    "indices = np.argsort(xgb_regressor.feature_importances_)[::-1]\n",
    "print(indices)\n",
    "plt.figure(figsize=(8, 5))\n",
    "plt.xticks(range(1, 9), features_data.columns[indices], rotation=90)\n",
    "plt.bar(range(1, 9), feature_importance[indices], align=\"center\")\n",
    "plt.title(\"Feature Importance\", {\"fontsize\": 16});"
   ]
  },
  {
   "cell_type": "code",
   "execution_count": null,
   "metadata": {},
   "outputs": [],
   "source": [
    "estimators = {\"Linear Regressor\": lr_regressor,\n",
    "              \"Lasso Regressor\": laso_regressor,\n",
    "              \"Random Forest Regressor\": rf_regressor,\n",
    "              \"XGB Regressor\": xgb_regressor}\n",
    "for estimator in estimators.keys():\n",
    "    print('RMSE {}:{:.2f}'.format(estimator,np.sqrt(mean_squared_error(y_test, estimators[estimator].predict(X_test)))))"
   ]
  },
  {
   "cell_type": "code",
   "execution_count": 414,
   "metadata": {},
   "outputs": [
    {
     "data": {
      "text/html": [
       "<div>\n",
       "<style scoped>\n",
       "    .dataframe tbody tr th:only-of-type {\n",
       "        vertical-align: middle;\n",
       "    }\n",
       "\n",
       "    .dataframe tbody tr th {\n",
       "        vertical-align: top;\n",
       "    }\n",
       "\n",
       "    .dataframe thead th {\n",
       "        text-align: right;\n",
       "    }\n",
       "</style>\n",
       "<table border=\"1\" class=\"dataframe\">\n",
       "  <thead>\n",
       "    <tr style=\"text-align: right;\">\n",
       "      <th></th>\n",
       "      <th>Comments</th>\n",
       "      <th>Likes</th>\n",
       "      <th>Popularity</th>\n",
       "      <th>like_per_date</th>\n",
       "      <th>Popularity_per_date</th>\n",
       "      <th>Comments_per_date</th>\n",
       "    </tr>\n",
       "  </thead>\n",
       "  <tbody>\n",
       "    <tr>\n",
       "      <td>0</td>\n",
       "      <td>26</td>\n",
       "      <td>5428.0</td>\n",
       "      <td>118.0</td>\n",
       "      <td>98.690909</td>\n",
       "      <td>2.145455</td>\n",
       "      <td>0.472727</td>\n",
       "    </tr>\n",
       "    <tr>\n",
       "      <td>1</td>\n",
       "      <td>18</td>\n",
       "      <td>738.0</td>\n",
       "      <td>195.0</td>\n",
       "      <td>0.508966</td>\n",
       "      <td>0.134483</td>\n",
       "      <td>0.012414</td>\n",
       "    </tr>\n",
       "    <tr>\n",
       "      <td>2</td>\n",
       "      <td>18</td>\n",
       "      <td>386.0</td>\n",
       "      <td>96.0</td>\n",
       "      <td>0.194263</td>\n",
       "      <td>0.048314</td>\n",
       "      <td>0.009059</td>\n",
       "    </tr>\n",
       "    <tr>\n",
       "      <td>3</td>\n",
       "      <td>1</td>\n",
       "      <td>388.0</td>\n",
       "      <td>19.0</td>\n",
       "      <td>0.092052</td>\n",
       "      <td>0.004508</td>\n",
       "      <td>0.000237</td>\n",
       "    </tr>\n",
       "    <tr>\n",
       "      <td>4</td>\n",
       "      <td>0</td>\n",
       "      <td>79.0</td>\n",
       "      <td>1.0</td>\n",
       "      <td>0.395000</td>\n",
       "      <td>0.005000</td>\n",
       "      <td>0.000000</td>\n",
       "    </tr>\n",
       "  </tbody>\n",
       "</table>\n",
       "</div>"
      ],
      "text/plain": [
       "   Comments   Likes  Popularity  like_per_date  Popularity_per_date  \\\n",
       "0        26  5428.0       118.0      98.690909             2.145455   \n",
       "1        18   738.0       195.0       0.508966             0.134483   \n",
       "2        18   386.0        96.0       0.194263             0.048314   \n",
       "3         1   388.0        19.0       0.092052             0.004508   \n",
       "4         0    79.0         1.0       0.395000             0.005000   \n",
       "\n",
       "   Comments_per_date  \n",
       "0           0.472727  \n",
       "1           0.012414  \n",
       "2           0.009059  \n",
       "3           0.000237  \n",
       "4           0.000000  "
      ]
     },
     "execution_count": 414,
     "metadata": {},
     "output_type": "execute_result"
    }
   ],
   "source": [
    "data_test = pd.read_csv('./data/Data_Test.csv')\n",
    "#display(data_test.head())\n",
    "label= data_test['Unique_ID']\n",
    "data_test.drop(columns=['Unique_ID','Country','Name','Song_Name'],axis=1,inplace=True)\n",
    "data_test['Likes'] = data_test.Likes.apply(popularityConverting)\n",
    "data_test['Likes'] = data_test.Likes.astype('float')\n",
    "data_test['Timestamp'] =pd.to_datetime(data_test['Timestamp'])\n",
    "data_test['dayofweek'] = data_test['Timestamp'].dt.dayofweek #but mostly people on weekend\n",
    "data_test['weekend'] = data_test['dayofweek'].apply(lambda x: 1 if (x>4)  else 0)\n",
    "data_test['date_old']=(NOW-data_test['Timestamp']).dt.days\n",
    "data_test['like_per_date']=data_test['Likes']/data_test['date_old']\n",
    "data_test['followers_per_date']=data_test['Followers']/data_test['date_old']\n",
    "#display(data_test.head())\n",
    "data_test['Popularity'] = data_test.Popularity.apply(popularityConverting)\n",
    "data_test['Popularity'] = data_test.Popularity.astype('float')\n",
    "data_test['Popularity_per_date']=data_test['Popularity']/data_test['date_old']\n",
    "# data['LikePerFollower'] = data.Likes/data.Followers\n",
    "# data['PopularityPerFollower'] = data.Popularity/data.Followers\n",
    "# data['CommentsPerFollower'] = data.Comments/data.Followers\n",
    "X_testf = data_test.loc[:,['Comments', 'Likes', 'Popularity','like_per_date','Popularity_per_date']]\n",
    "#y_testf = data['Views']\n",
    "X_testf.head()"
   ]
  },
  {
   "cell_type": "code",
   "execution_count": 415,
   "metadata": {},
   "outputs": [
    {
     "data": {
      "text/plain": [
       "(19615, 6)"
      ]
     },
     "execution_count": 415,
     "metadata": {},
     "output_type": "execute_result"
    }
   ],
   "source": [
    "X_testf.shape"
   ]
  },
  {
   "cell_type": "code",
   "execution_count": 416,
   "metadata": {},
   "outputs": [
    {
     "data": {
      "text/plain": [
       "19615"
      ]
     },
     "metadata": {},
     "output_type": "display_data"
    },
    {
     "data": {
      "text/plain": [
       "19615"
      ]
     },
     "metadata": {},
     "output_type": "display_data"
    }
   ],
   "source": [
    "X_testf= sc.transform(X_testf)\n",
    "display(len(X_testf))\n",
    "Y_pred = rf_regressor.predict(X_testf)\n",
    "display(len(Y_pred))"
   ]
  },
  {
   "cell_type": "code",
   "execution_count": 417,
   "metadata": {},
   "outputs": [
    {
     "name": "stdout",
     "output_type": "stream",
     "text": [
      "[328480.53 114704.27  59405.63 ...   5456.85 263205.89  77450.23]\n"
     ]
    },
    {
     "data": {
      "text/plain": [
       "19615"
      ]
     },
     "metadata": {},
     "output_type": "display_data"
    }
   ],
   "source": [
    "print(Y_pred)\n",
    "display(len(label))"
   ]
  },
  {
   "cell_type": "code",
   "execution_count": 418,
   "metadata": {},
   "outputs": [],
   "source": [
    "sub_df = pd.read_excel('./data/Sample_Submission.xlsx') \n",
    "submission = pd.DataFrame({\n",
    "        \"Unique_ID\": label,\n",
    "        \"Views\": Y_pred\n",
    "    })\n",
    "submission.to_excel('./data/Sample_Submission_Final.xlsx',index=False)"
   ]
  },
  {
   "cell_type": "code",
   "execution_count": null,
   "metadata": {},
   "outputs": [],
   "source": [
    "X_train"
   ]
  },
  {
   "cell_type": "code",
   "execution_count": null,
   "metadata": {},
   "outputs": [],
   "source": [
    "from keras import backend as K\n",
    "def root_mean_squared_error(y_true, y_pred):\n",
    "        return K.sqrt(K.mean(K.square(y_pred - y_true)))"
   ]
  },
  {
   "cell_type": "code",
   "execution_count": null,
   "metadata": {},
   "outputs": [],
   "source": [
    "# Importing the Keras libraries and packages\n",
    "import keras\n",
    "from keras.wrappers.scikit_learn import KerasClassifier,KerasRegressor\n",
    "from sklearn.model_selection import GridSearchCV\n",
    "from keras.models import Sequential\n",
    "from keras.layers import Dense\n",
    "from keras.layers import LeakyReLU,PReLU,ELU\n",
    "from keras.layers import Dropout\n",
    "\n",
    "\n",
    "# Function to create model, required for KerasClassifier\n",
    "def create_model():\n",
    "    # create mode\n",
    "    model = Sequential()\n",
    "    model.add(Dense( units=12, input_dim=5, kernel_initializer='he_uniform', activation='relu'))\n",
    "    model.add(Dense( units=8, kernel_initializer='he_uniform', activation='relu'))\n",
    "    model.add(Dense(units = 1, kernel_initializer='he_uniform'))\n",
    "    # Compile model\n",
    "    model.compile(loss=root_mean_squared_error, optimizer='Adamax')\n",
    "    return model\n",
    "# create model\n",
    "model = KerasRegressor(build_fn=create_model)\n",
    "\n",
    "# Fitting the ANN to the Training set\n",
    "model_history=model.fit(X_train, y_train,validation_split=0.30, batch_size = 10, epochs = 100)"
   ]
  },
  {
   "cell_type": "code",
   "execution_count": null,
   "metadata": {},
   "outputs": [],
   "source": [
    "ann_pred=model.predict(X_test)"
   ]
  },
  {
   "cell_type": "code",
   "execution_count": null,
   "metadata": {},
   "outputs": [],
   "source": [
    "rmse = np.sqrt(mean_squared_error(y_test, ann_pred))\n",
    "print(\"RMSE: %f\" % (rmse))"
   ]
  },
  {
   "cell_type": "code",
   "execution_count": null,
   "metadata": {},
   "outputs": [],
   "source": []
  }
 ],
 "metadata": {
  "kernelspec": {
   "display_name": "Python 3",
   "language": "python",
   "name": "python3"
  },
  "language_info": {
   "codemirror_mode": {
    "name": "ipython",
    "version": 3
   },
   "file_extension": ".py",
   "mimetype": "text/x-python",
   "name": "python",
   "nbconvert_exporter": "python",
   "pygments_lexer": "ipython3",
   "version": "3.7.3"
  }
 },
 "nbformat": 4,
 "nbformat_minor": 2
}
