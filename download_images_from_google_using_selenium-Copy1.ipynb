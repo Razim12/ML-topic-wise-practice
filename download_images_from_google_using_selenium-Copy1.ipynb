{
 "cells": [
  {
   "cell_type": "markdown",
   "metadata": {},
   "source": [
    "### Using Selenium we will download data from google and label it\n",
    "\n",
    "#### Importing dependencies"
   ]
  },
  {
   "cell_type": "code",
   "execution_count": 31,
   "metadata": {},
   "outputs": [],
   "source": [
    "from selenium import webdriver\n",
    "from selenium.webdriver.common.keys import Keys\n",
    "from bs4 import BeautifulSoup\n",
    "from selenium.common.exceptions import TimeoutException\n",
    "from selenium.webdriver.support.ui import WebDriverWait\n",
    "from selenium.webdriver.support import expected_conditions as EC\n",
    "from selenium.webdriver.common.by import By\n",
    "import pandas as pd\n",
    "import time "
   ]
  },
  {
   "cell_type": "code",
   "execution_count": 32,
   "metadata": {},
   "outputs": [],
   "source": [
    "driver = webdriver.Chrome('/Users/utkarsh/PycharmProjects/chromedriver')\n",
    "driver.implicitly_wait(30)"
   ]
  },
  {
   "cell_type": "code",
   "execution_count": 33,
   "metadata": {},
   "outputs": [],
   "source": [
    "driver.set_page_load_timeout(10)"
   ]
  },
  {
   "cell_type": "code",
   "execution_count": 34,
   "metadata": {},
   "outputs": [],
   "source": [
    "driver.get('https://google.com')"
   ]
  },
  {
   "cell_type": "code",
   "execution_count": 35,
   "metadata": {},
   "outputs": [],
   "source": [
    "driver.execute_script(\"document.getElementsByName('q')[0].value='men haircut styles'\")"
   ]
  },
  {
   "cell_type": "code",
   "execution_count": 36,
   "metadata": {},
   "outputs": [],
   "source": [
    "driver.execute_script(\"document.getElementsByName('btnK')[1].click()\")"
   ]
  },
  {
   "cell_type": "code",
   "execution_count": 37,
   "metadata": {},
   "outputs": [],
   "source": [
    "import time \n",
    "time.sleep(5)\n",
    "driver.execute_script(\"document.querySelector('.q.qs').click()\")\n",
    "time.sleep(2)\n",
    "images=[]\n",
    "img =driver.find_elements_by_tag_name('img')\n",
    "\n",
    "soup_level1=BeautifulSoup(driver.page_source, 'lxml')"
   ]
  },
  {
   "cell_type": "code",
   "execution_count": 38,
   "metadata": {},
   "outputs": [
    {
     "data": {
      "text/plain": [
       "'data:image/jpeg;base64,/9j/4AAQSkZJRgABAQAAAQABAAD/2wCEAAkGBwgHBgkIBwgKCgkLDRYPDQwMDRsUFRAWIB0iIiAdHx8kKDQsJCYxJx8fLT0tMTU3Ojo6Iys/RD84QzQ5OjcBCgoKDQwNGg8PGjclHyU3Nzc3Nzc3Nzc3Nzc3Nzc3Nzc3Nzc3Nzc3Nzc3Nzc3Nzc3Nzc3Nzc3Nzc3Nzc3Nzc3N//AABEIADIAMgMBIgACEQEDEQH/xAAcAAACAwADAQAAAAAAAAAAAAAABwQFBgECAwj/xAA0EAACAQMCAwQIBQUAAAAAAAABAgMABBEFEgYhMRMiUaEUIzJBYXGB0VKRkrHwFRZCVJP/xAAYAQEBAQEBAAAAAAAAAAAAAAAEAwIBAP/EAB8RAAICAQQDAAAAAAAAAAAAAAABAhEDBBIxQSEzYf/aAAwDAQACEQMRAD8Am6LaSQogkjIIUCp+oaxYaTGrXMmWZtuxeZzXfT49iDGaWPFLTf3BNPcB1V2yMjpgYFZfg1FWX+qcd3ZXbZxJAEYjeTnfy6fv5VVw8f6xbxtHKokbIIZl6fXw+dZsWs07KVy+ORMYOWHgR414XVu8UhSVJFPgwxy+VZv6bapcDi4R4tsuJSbdo/Rr5VyYSchvEqa0MsDDIpCaJNNpus2N3auQ0c6Z5f4k4PkTX0PNEMHvY+lbTJtFZ2D+FcVJ7Nfx+VcVqzhFsyu1SvQjIqFqltBd3W24hWQLgDcufjUfha4aXRbF5QwcwLu3DBzioaapc3erXSaftuLYEgNINuxwM4z71qGZNxL6drf5LH0e3t09VCqY8FxWe4hsYbyNNsK7gxJYCu0s+vS3OJiNnuW3QAfXdnP5irMwlYx2wAYjniiU4uxrqSox1voZ9KtlResyAfqFOiXBJJFYi0jd7qFYlw29CrKeftVuGQkkYIpeGTkmDzw20RO5+DzorsUOfZNFWDmIbXdNhvltL25WFNhJJbFRbDU9GsnuTY3IMDkKil9xz0J+XSlTd3Ul5cNNcvvdutTtEu0sr6OcFlAyGOOWDWJxuNG8cts0xv6ff2t3B2kU8bczgBhn6iqvXNUS37pfvHyFUL61plvZC4eaGS7C5TapOD8M1U6fFeaxdb52dLctkh+TP9hRdnb4HyydIY/Cl3tv7VpW7kq4Geikjl/PjTAdG25GMUqJ547eLc7LHHGvNicACvHh7jGWfiBrRtRmns7hPVpL1jkHgTzwR7j7+lV08+VQfUwqnYzmmAJGaKzpuxk9+uaTuCmf/p9k2c2dufnEv2rg6ZYf6Nt/xX7UUVg8FtpOmo0siafaK4X2hAoP54qosBgjHKiijZ+hel7KXjpm7KzXJ2l2JGeR5Vk7Z2S5jdGKsHBBBwQc0UVbB60S1HsYyTcT5PrpP1miiiqkT//Z'"
      ]
     },
     "execution_count": 38,
     "metadata": {},
     "output_type": "execute_result"
    }
   ],
   "source": [
    "img[0].get_attribute('src')"
   ]
  },
  {
   "cell_type": "code",
   "execution_count": 39,
   "metadata": {},
   "outputs": [],
   "source": [
    "import os\n",
    "import errno\n",
    "import base64\n",
    "import requests\n",
    "imageSourc=[]\n",
    "for items in img:\n",
    "    if 'rg_i Q4LuWd tx8vtf' in items.get_attribute('class'):\n",
    "        if items.get_attribute('src') != None:\n",
    "            imageSourc.append(items.get_attribute('src'))\n",
    "for i,image in enumerate(imageSourc):\n",
    "    filename = \"hair/\"\n",
    "    if 'data' in image:\n",
    "        # Separate the metadata from the image data\n",
    "        head, data = image.split(',', 1)\n",
    "        # Get the file extension (gif, jpeg, png)\n",
    "        file_ext = head.split(';')[0].split('/')[1]\n",
    "        # Decode the image data\n",
    "        plain_data = base64.b64decode(data)\n",
    "        \n",
    "        if not os.path.exists(os.path.dirname(filename)):\n",
    "            try:\n",
    "                os.makedirs(os.path.dirname(filename))\n",
    "            except OSError as exc: # Guard against race condition\n",
    "                if exc.errno != errno.EEXIST:\n",
    "                    raise\n",
    "\n",
    "        # Write the image to a file\n",
    "        with open(filename+'hair'+str(i)+'.' + file_ext, 'wb') as f:\n",
    "            f.write(plain_data)\n",
    "    else:\n",
    "        img_data = requests.get(image).content\n",
    "        with open(filename+'hair'+str(i)+'.png', 'wb') as handler:\n",
    "            handler.write(img_data)\n"
   ]
  },
  {
   "cell_type": "code",
   "execution_count": null,
   "metadata": {},
   "outputs": [],
   "source": []
  },
  {
   "cell_type": "code",
   "execution_count": null,
   "metadata": {},
   "outputs": [],
   "source": []
  }
 ],
 "metadata": {
  "kernelspec": {
   "display_name": "Python 3",
   "language": "python",
   "name": "python3"
  },
  "language_info": {
   "codemirror_mode": {
    "name": "ipython",
    "version": 3
   },
   "file_extension": ".py",
   "mimetype": "text/x-python",
   "name": "python",
   "nbconvert_exporter": "python",
   "pygments_lexer": "ipython3",
   "version": "3.7.3"
  },
  "varInspector": {
   "cols": {
    "lenName": 16,
    "lenType": 16,
    "lenVar": 40
   },
   "kernels_config": {
    "python": {
     "delete_cmd_postfix": "",
     "delete_cmd_prefix": "del ",
     "library": "var_list.py",
     "varRefreshCmd": "print(var_dic_list())"
    },
    "r": {
     "delete_cmd_postfix": ") ",
     "delete_cmd_prefix": "rm(",
     "library": "var_list.r",
     "varRefreshCmd": "cat(var_dic_list()) "
    }
   },
   "types_to_exclude": [
    "module",
    "function",
    "builtin_function_or_method",
    "instance",
    "_Feature"
   ],
   "window_display": false
  }
 },
 "nbformat": 4,
 "nbformat_minor": 2
}
