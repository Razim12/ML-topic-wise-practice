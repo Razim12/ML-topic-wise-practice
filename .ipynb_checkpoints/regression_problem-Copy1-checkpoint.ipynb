{
 "cells": [
  {
   "cell_type": "code",
   "execution_count": 339,
   "metadata": {},
   "outputs": [],
   "source": [
    "import pandas as pd\n",
    "import numpy as np\n",
    "import matplotlib.pyplot as plt\n",
    "import seaborn as sns\n",
    "from wordcloud import WordCloud\n",
    "from collections import Counter\n",
    "import string\n",
    "from nltk.corpus import stopwords\n",
    "from sklearn.model_selection import train_test_split,GridSearchCV,RandomizedSearchCV\n",
    "from sklearn.feature_extraction.text import TfidfVectorizer\n",
    "from sklearn.metrics import mean_squared_log_error,mean_squared_error,roc_auc_score\n",
    "from sklearn import metrics\n",
    "from sklearn.linear_model import SGDRegressor,LinearRegression,Lasso,Ridge\n",
    "from sklearn.ensemble import RandomForestRegressor,GradientBoostingClassifier\n",
    "from sklearn.preprocessing import StandardScaler,MinMaxScaler\n",
    "import time\n",
    "import warnings\n",
    "warnings.simplefilter(action='ignore', category=FutureWarning)\n",
    "from sklearn.pipeline import Pipeline\n",
    "from math import sqrt\n",
    "from scipy.sparse import csr_matrix, hstack\n",
    "from sklearn.svm import SVR\n",
    "from sklearn import preprocessing\n",
    "import xgboost as xgb\n",
    "from scipy.stats import skew\n",
    "from sklearn.decomposition import PCA\n",
    "\n",
    "from sklearn.linear_model import Ridge, Lasso, RidgeCV, LassoCV\n",
    "from sklearn.model_selection import cross_val_score"
   ]
  },
  {
   "cell_type": "code",
   "execution_count": 340,
   "metadata": {},
   "outputs": [],
   "source": [
    "data_train = pd.read_csv('./data/Data_Train.csv')\n",
    "data_test = pd.read_csv('./data/Data_Test.csv')"
   ]
  },
  {
   "cell_type": "code",
   "execution_count": 341,
   "metadata": {},
   "outputs": [
    {
     "data": {
      "text/html": [
       "<div>\n",
       "<style scoped>\n",
       "    .dataframe tbody tr th:only-of-type {\n",
       "        vertical-align: middle;\n",
       "    }\n",
       "\n",
       "    .dataframe tbody tr th {\n",
       "        vertical-align: top;\n",
       "    }\n",
       "\n",
       "    .dataframe thead th {\n",
       "        text-align: right;\n",
       "    }\n",
       "</style>\n",
       "<table border=\"1\" class=\"dataframe\">\n",
       "  <thead>\n",
       "    <tr style=\"text-align: right;\">\n",
       "      <th></th>\n",
       "      <th>Unique_ID</th>\n",
       "      <th>Name</th>\n",
       "      <th>Genre</th>\n",
       "      <th>Country</th>\n",
       "      <th>Song_Name</th>\n",
       "      <th>Timestamp</th>\n",
       "      <th>Views</th>\n",
       "      <th>Comments</th>\n",
       "      <th>Likes</th>\n",
       "      <th>Popularity</th>\n",
       "      <th>Followers</th>\n",
       "    </tr>\n",
       "  </thead>\n",
       "  <tbody>\n",
       "    <tr>\n",
       "      <td>0</td>\n",
       "      <td>413890</td>\n",
       "      <td>Hardstyle</td>\n",
       "      <td>danceedm</td>\n",
       "      <td>AU</td>\n",
       "      <td>N-Vitral presents BOMBSQUAD - Poison Spitter (...</td>\n",
       "      <td>2018-03-30 15:24:45.000000</td>\n",
       "      <td>14017</td>\n",
       "      <td>4</td>\n",
       "      <td>499</td>\n",
       "      <td>97</td>\n",
       "      <td>119563</td>\n",
       "    </tr>\n",
       "    <tr>\n",
       "      <td>1</td>\n",
       "      <td>249453</td>\n",
       "      <td>Dj Aladdin</td>\n",
       "      <td>danceedm</td>\n",
       "      <td>AU</td>\n",
       "      <td>Dj Aladdin - Old School Hip Hop Quick Mix</td>\n",
       "      <td>2016-06-20 05:58:52.000000</td>\n",
       "      <td>1918</td>\n",
       "      <td>17</td>\n",
       "      <td>49</td>\n",
       "      <td>17</td>\n",
       "      <td>2141</td>\n",
       "    </tr>\n",
       "    <tr>\n",
       "      <td>2</td>\n",
       "      <td>681116</td>\n",
       "      <td>Maxximize On Air</td>\n",
       "      <td>danceedm</td>\n",
       "      <td>AU</td>\n",
       "      <td>Maxximize On Air - Mixed by Blasterjaxx - Epis...</td>\n",
       "      <td>2015-05-08 17:45:59.000000</td>\n",
       "      <td>9668</td>\n",
       "      <td>11</td>\n",
       "      <td>312</td>\n",
       "      <td>91</td>\n",
       "      <td>22248</td>\n",
       "    </tr>\n",
       "    <tr>\n",
       "      <td>3</td>\n",
       "      <td>387253</td>\n",
       "      <td>GR6 EXPLODE</td>\n",
       "      <td>rbsoul</td>\n",
       "      <td>AU</td>\n",
       "      <td>MC Yago - Tenho Compromisso (DJ R7)</td>\n",
       "      <td>2017-06-08 23:50:03.000000</td>\n",
       "      <td>113036</td>\n",
       "      <td>2</td>\n",
       "      <td>2,400</td>\n",
       "      <td>76</td>\n",
       "      <td>393655</td>\n",
       "    </tr>\n",
       "    <tr>\n",
       "      <td>4</td>\n",
       "      <td>1428029</td>\n",
       "      <td>Tritonal</td>\n",
       "      <td>danceedm</td>\n",
       "      <td>AU</td>\n",
       "      <td>Escape (feat. Steph Jones)</td>\n",
       "      <td>2016-09-17 20:50:19.000000</td>\n",
       "      <td>110024</td>\n",
       "      <td>81</td>\n",
       "      <td>3,031</td>\n",
       "      <td>699</td>\n",
       "      <td>201030</td>\n",
       "    </tr>\n",
       "  </tbody>\n",
       "</table>\n",
       "</div>"
      ],
      "text/plain": [
       "   Unique_ID              Name     Genre Country  \\\n",
       "0     413890         Hardstyle  danceedm      AU   \n",
       "1     249453        Dj Aladdin  danceedm      AU   \n",
       "2     681116  Maxximize On Air  danceedm      AU   \n",
       "3     387253       GR6 EXPLODE    rbsoul      AU   \n",
       "4    1428029          Tritonal  danceedm      AU   \n",
       "\n",
       "                                           Song_Name  \\\n",
       "0  N-Vitral presents BOMBSQUAD - Poison Spitter (...   \n",
       "1          Dj Aladdin - Old School Hip Hop Quick Mix   \n",
       "2  Maxximize On Air - Mixed by Blasterjaxx - Epis...   \n",
       "3                MC Yago - Tenho Compromisso (DJ R7)   \n",
       "4                         Escape (feat. Steph Jones)   \n",
       "\n",
       "                    Timestamp   Views  Comments  Likes Popularity  Followers  \n",
       "0  2018-03-30 15:24:45.000000   14017         4    499         97     119563  \n",
       "1  2016-06-20 05:58:52.000000    1918        17     49         17       2141  \n",
       "2  2015-05-08 17:45:59.000000    9668        11    312         91      22248  \n",
       "3  2017-06-08 23:50:03.000000  113036         2  2,400         76     393655  \n",
       "4  2016-09-17 20:50:19.000000  110024        81  3,031        699     201030  "
      ]
     },
     "execution_count": 341,
     "metadata": {},
     "output_type": "execute_result"
    }
   ],
   "source": [
    "data_train.head()"
   ]
  },
  {
   "cell_type": "code",
   "execution_count": 342,
   "metadata": {},
   "outputs": [],
   "source": [
    "data_train.drop(columns=['Unique_ID','Country','Name'],axis=1,inplace=True)"
   ]
  },
  {
   "cell_type": "code",
   "execution_count": 343,
   "metadata": {},
   "outputs": [
    {
     "data": {
      "text/html": [
       "<div>\n",
       "<style scoped>\n",
       "    .dataframe tbody tr th:only-of-type {\n",
       "        vertical-align: middle;\n",
       "    }\n",
       "\n",
       "    .dataframe tbody tr th {\n",
       "        vertical-align: top;\n",
       "    }\n",
       "\n",
       "    .dataframe thead th {\n",
       "        text-align: right;\n",
       "    }\n",
       "</style>\n",
       "<table border=\"1\" class=\"dataframe\">\n",
       "  <thead>\n",
       "    <tr style=\"text-align: right;\">\n",
       "      <th></th>\n",
       "      <th>Genre</th>\n",
       "      <th>Song_Name</th>\n",
       "      <th>Timestamp</th>\n",
       "      <th>Views</th>\n",
       "      <th>Comments</th>\n",
       "      <th>Likes</th>\n",
       "      <th>Popularity</th>\n",
       "      <th>Followers</th>\n",
       "    </tr>\n",
       "  </thead>\n",
       "  <tbody>\n",
       "    <tr>\n",
       "      <td>0</td>\n",
       "      <td>danceedm</td>\n",
       "      <td>N-Vitral presents BOMBSQUAD - Poison Spitter (...</td>\n",
       "      <td>2018-03-30 15:24:45.000000</td>\n",
       "      <td>14017</td>\n",
       "      <td>4</td>\n",
       "      <td>499</td>\n",
       "      <td>97</td>\n",
       "      <td>119563</td>\n",
       "    </tr>\n",
       "    <tr>\n",
       "      <td>1</td>\n",
       "      <td>danceedm</td>\n",
       "      <td>Dj Aladdin - Old School Hip Hop Quick Mix</td>\n",
       "      <td>2016-06-20 05:58:52.000000</td>\n",
       "      <td>1918</td>\n",
       "      <td>17</td>\n",
       "      <td>49</td>\n",
       "      <td>17</td>\n",
       "      <td>2141</td>\n",
       "    </tr>\n",
       "    <tr>\n",
       "      <td>2</td>\n",
       "      <td>danceedm</td>\n",
       "      <td>Maxximize On Air - Mixed by Blasterjaxx - Epis...</td>\n",
       "      <td>2015-05-08 17:45:59.000000</td>\n",
       "      <td>9668</td>\n",
       "      <td>11</td>\n",
       "      <td>312</td>\n",
       "      <td>91</td>\n",
       "      <td>22248</td>\n",
       "    </tr>\n",
       "    <tr>\n",
       "      <td>3</td>\n",
       "      <td>rbsoul</td>\n",
       "      <td>MC Yago - Tenho Compromisso (DJ R7)</td>\n",
       "      <td>2017-06-08 23:50:03.000000</td>\n",
       "      <td>113036</td>\n",
       "      <td>2</td>\n",
       "      <td>2,400</td>\n",
       "      <td>76</td>\n",
       "      <td>393655</td>\n",
       "    </tr>\n",
       "    <tr>\n",
       "      <td>4</td>\n",
       "      <td>danceedm</td>\n",
       "      <td>Escape (feat. Steph Jones)</td>\n",
       "      <td>2016-09-17 20:50:19.000000</td>\n",
       "      <td>110024</td>\n",
       "      <td>81</td>\n",
       "      <td>3,031</td>\n",
       "      <td>699</td>\n",
       "      <td>201030</td>\n",
       "    </tr>\n",
       "  </tbody>\n",
       "</table>\n",
       "</div>"
      ],
      "text/plain": [
       "      Genre                                          Song_Name  \\\n",
       "0  danceedm  N-Vitral presents BOMBSQUAD - Poison Spitter (...   \n",
       "1  danceedm          Dj Aladdin - Old School Hip Hop Quick Mix   \n",
       "2  danceedm  Maxximize On Air - Mixed by Blasterjaxx - Epis...   \n",
       "3    rbsoul                MC Yago - Tenho Compromisso (DJ R7)   \n",
       "4  danceedm                         Escape (feat. Steph Jones)   \n",
       "\n",
       "                    Timestamp   Views  Comments  Likes Popularity  Followers  \n",
       "0  2018-03-30 15:24:45.000000   14017         4    499         97     119563  \n",
       "1  2016-06-20 05:58:52.000000    1918        17     49         17       2141  \n",
       "2  2015-05-08 17:45:59.000000    9668        11    312         91      22248  \n",
       "3  2017-06-08 23:50:03.000000  113036         2  2,400         76     393655  \n",
       "4  2016-09-17 20:50:19.000000  110024        81  3,031        699     201030  "
      ]
     },
     "execution_count": 343,
     "metadata": {},
     "output_type": "execute_result"
    }
   ],
   "source": [
    "data_train.head()"
   ]
  },
  {
   "cell_type": "code",
   "execution_count": 344,
   "metadata": {},
   "outputs": [],
   "source": [
    "#data = pd.get_dummies(data,columns=['Genre'],drop_first=True)"
   ]
  },
  {
   "cell_type": "code",
   "execution_count": 345,
   "metadata": {},
   "outputs": [
    {
     "data": {
      "text/plain": [
       "dayofweek\n",
       "0    464738.026194\n",
       "1    490431.424895\n",
       "2    492227.829528\n",
       "3    527652.001258\n",
       "4    712625.466029\n",
       "5    447178.314718\n",
       "6    603471.317145\n",
       "Name: Views, dtype: float64"
      ]
     },
     "metadata": {},
     "output_type": "display_data"
    },
    {
     "data": {
      "text/plain": [
       "weekend\n",
       "0    551470.332289\n",
       "1    517781.487123\n",
       "Name: Views, dtype: float64"
      ]
     },
     "metadata": {},
     "output_type": "display_data"
    }
   ],
   "source": [
    "data_train['Timestamp'] =pd.to_datetime(data_train['Timestamp'])\n",
    "data_train['dayofweek'] = data_train['Timestamp'].dt.dayofweek #but mostly people on weekend\n",
    "data_train['weekend'] = data_train['dayofweek'].apply(lambda x: 1 if (x>4)  else 0)\n",
    "display(data_train.groupby(['dayofweek'])['Views'].mean())\n",
    "display(data_train.groupby(['weekend'])['Views'].mean())"
   ]
  },
  {
   "cell_type": "code",
   "execution_count": 346,
   "metadata": {},
   "outputs": [
    {
     "data": {
      "text/html": [
       "<div>\n",
       "<style scoped>\n",
       "    .dataframe tbody tr th:only-of-type {\n",
       "        vertical-align: middle;\n",
       "    }\n",
       "\n",
       "    .dataframe tbody tr th {\n",
       "        vertical-align: top;\n",
       "    }\n",
       "\n",
       "    .dataframe thead th {\n",
       "        text-align: right;\n",
       "    }\n",
       "</style>\n",
       "<table border=\"1\" class=\"dataframe\">\n",
       "  <thead>\n",
       "    <tr style=\"text-align: right;\">\n",
       "      <th></th>\n",
       "      <th>Views</th>\n",
       "      <th>Comments</th>\n",
       "      <th>Followers</th>\n",
       "      <th>dayofweek</th>\n",
       "      <th>weekend</th>\n",
       "    </tr>\n",
       "  </thead>\n",
       "  <tbody>\n",
       "    <tr>\n",
       "      <td>count</td>\n",
       "      <td>7.845800e+04</td>\n",
       "      <td>78458.000000</td>\n",
       "      <td>7.845800e+04</td>\n",
       "      <td>78458.000000</td>\n",
       "      <td>78458.000000</td>\n",
       "    </tr>\n",
       "    <tr>\n",
       "      <td>mean</td>\n",
       "      <td>5.469686e+05</td>\n",
       "      <td>115.270973</td>\n",
       "      <td>4.787663e+05</td>\n",
       "      <td>2.579609</td>\n",
       "      <td>0.133626</td>\n",
       "    </tr>\n",
       "    <tr>\n",
       "      <td>std</td>\n",
       "      <td>3.883085e+06</td>\n",
       "      <td>724.614868</td>\n",
       "      <td>1.168120e+06</td>\n",
       "      <td>1.785213</td>\n",
       "      <td>0.340252</td>\n",
       "    </tr>\n",
       "    <tr>\n",
       "      <td>min</td>\n",
       "      <td>0.000000e+00</td>\n",
       "      <td>0.000000</td>\n",
       "      <td>1.000000e+00</td>\n",
       "      <td>0.000000</td>\n",
       "      <td>0.000000</td>\n",
       "    </tr>\n",
       "    <tr>\n",
       "      <td>25%</td>\n",
       "      <td>6.216500e+03</td>\n",
       "      <td>1.000000</td>\n",
       "      <td>1.770000e+04</td>\n",
       "      <td>1.000000</td>\n",
       "      <td>0.000000</td>\n",
       "    </tr>\n",
       "    <tr>\n",
       "      <td>50%</td>\n",
       "      <td>2.538650e+04</td>\n",
       "      <td>12.000000</td>\n",
       "      <td>8.768200e+04</td>\n",
       "      <td>3.000000</td>\n",
       "      <td>0.000000</td>\n",
       "    </tr>\n",
       "    <tr>\n",
       "      <td>75%</td>\n",
       "      <td>1.201342e+05</td>\n",
       "      <td>61.000000</td>\n",
       "      <td>3.936550e+05</td>\n",
       "      <td>4.000000</td>\n",
       "      <td>0.000000</td>\n",
       "    </tr>\n",
       "    <tr>\n",
       "      <td>max</td>\n",
       "      <td>1.994050e+08</td>\n",
       "      <td>104082.000000</td>\n",
       "      <td>9.789123e+06</td>\n",
       "      <td>6.000000</td>\n",
       "      <td>1.000000</td>\n",
       "    </tr>\n",
       "  </tbody>\n",
       "</table>\n",
       "</div>"
      ],
      "text/plain": [
       "              Views       Comments     Followers     dayofweek       weekend\n",
       "count  7.845800e+04   78458.000000  7.845800e+04  78458.000000  78458.000000\n",
       "mean   5.469686e+05     115.270973  4.787663e+05      2.579609      0.133626\n",
       "std    3.883085e+06     724.614868  1.168120e+06      1.785213      0.340252\n",
       "min    0.000000e+00       0.000000  1.000000e+00      0.000000      0.000000\n",
       "25%    6.216500e+03       1.000000  1.770000e+04      1.000000      0.000000\n",
       "50%    2.538650e+04      12.000000  8.768200e+04      3.000000      0.000000\n",
       "75%    1.201342e+05      61.000000  3.936550e+05      4.000000      0.000000\n",
       "max    1.994050e+08  104082.000000  9.789123e+06      6.000000      1.000000"
      ]
     },
     "execution_count": 346,
     "metadata": {},
     "output_type": "execute_result"
    }
   ],
   "source": [
    "data_train.describe()\n",
    "#if mean and median not equal outliers ??"
   ]
  },
  {
   "cell_type": "code",
   "execution_count": 347,
   "metadata": {},
   "outputs": [],
   "source": [
    "#pd.plotting.scatter_matrix(data_train, alpha=0.3, figsize=(14,8), diagonal='kde');"
   ]
  },
  {
   "cell_type": "code",
   "execution_count": 348,
   "metadata": {},
   "outputs": [],
   "source": [
    "def popularityConverting(x):\n",
    "    if x[-1]=='K':\n",
    "        x= ''.join(x[:-1].split(','))\n",
    "        x=float(x)*1000\n",
    "    elif x[-1]=='M':\n",
    "        x= ''.join(x[:-1].split(','))\n",
    "        x=float(x)*1000000\n",
    "    else:\n",
    "        x= ''.join(x.split(','))\n",
    "    return x"
   ]
  },
  {
   "cell_type": "code",
   "execution_count": 349,
   "metadata": {},
   "outputs": [
    {
     "data": {
      "text/html": [
       "<div>\n",
       "<style scoped>\n",
       "    .dataframe tbody tr th:only-of-type {\n",
       "        vertical-align: middle;\n",
       "    }\n",
       "\n",
       "    .dataframe tbody tr th {\n",
       "        vertical-align: top;\n",
       "    }\n",
       "\n",
       "    .dataframe thead th {\n",
       "        text-align: right;\n",
       "    }\n",
       "</style>\n",
       "<table border=\"1\" class=\"dataframe\">\n",
       "  <thead>\n",
       "    <tr style=\"text-align: right;\">\n",
       "      <th></th>\n",
       "      <th>Genre</th>\n",
       "      <th>Song_Name</th>\n",
       "      <th>Timestamp</th>\n",
       "      <th>Views</th>\n",
       "      <th>Comments</th>\n",
       "      <th>Likes</th>\n",
       "      <th>Popularity</th>\n",
       "      <th>Followers</th>\n",
       "      <th>dayofweek</th>\n",
       "      <th>weekend</th>\n",
       "    </tr>\n",
       "  </thead>\n",
       "  <tbody>\n",
       "    <tr>\n",
       "      <td>0</td>\n",
       "      <td>danceedm</td>\n",
       "      <td>N-Vitral presents BOMBSQUAD - Poison Spitter (...</td>\n",
       "      <td>2018-03-30 15:24:45</td>\n",
       "      <td>14017</td>\n",
       "      <td>4</td>\n",
       "      <td>499.0</td>\n",
       "      <td>97.0</td>\n",
       "      <td>119563</td>\n",
       "      <td>4</td>\n",
       "      <td>0</td>\n",
       "    </tr>\n",
       "    <tr>\n",
       "      <td>1</td>\n",
       "      <td>danceedm</td>\n",
       "      <td>Dj Aladdin - Old School Hip Hop Quick Mix</td>\n",
       "      <td>2016-06-20 05:58:52</td>\n",
       "      <td>1918</td>\n",
       "      <td>17</td>\n",
       "      <td>49.0</td>\n",
       "      <td>17.0</td>\n",
       "      <td>2141</td>\n",
       "      <td>0</td>\n",
       "      <td>0</td>\n",
       "    </tr>\n",
       "    <tr>\n",
       "      <td>2</td>\n",
       "      <td>danceedm</td>\n",
       "      <td>Maxximize On Air - Mixed by Blasterjaxx - Epis...</td>\n",
       "      <td>2015-05-08 17:45:59</td>\n",
       "      <td>9668</td>\n",
       "      <td>11</td>\n",
       "      <td>312.0</td>\n",
       "      <td>91.0</td>\n",
       "      <td>22248</td>\n",
       "      <td>4</td>\n",
       "      <td>0</td>\n",
       "    </tr>\n",
       "    <tr>\n",
       "      <td>3</td>\n",
       "      <td>rbsoul</td>\n",
       "      <td>MC Yago - Tenho Compromisso (DJ R7)</td>\n",
       "      <td>2017-06-08 23:50:03</td>\n",
       "      <td>113036</td>\n",
       "      <td>2</td>\n",
       "      <td>2400.0</td>\n",
       "      <td>76.0</td>\n",
       "      <td>393655</td>\n",
       "      <td>3</td>\n",
       "      <td>0</td>\n",
       "    </tr>\n",
       "    <tr>\n",
       "      <td>4</td>\n",
       "      <td>danceedm</td>\n",
       "      <td>Escape (feat. Steph Jones)</td>\n",
       "      <td>2016-09-17 20:50:19</td>\n",
       "      <td>110024</td>\n",
       "      <td>81</td>\n",
       "      <td>3031.0</td>\n",
       "      <td>699.0</td>\n",
       "      <td>201030</td>\n",
       "      <td>5</td>\n",
       "      <td>1</td>\n",
       "    </tr>\n",
       "  </tbody>\n",
       "</table>\n",
       "</div>"
      ],
      "text/plain": [
       "      Genre                                          Song_Name  \\\n",
       "0  danceedm  N-Vitral presents BOMBSQUAD - Poison Spitter (...   \n",
       "1  danceedm          Dj Aladdin - Old School Hip Hop Quick Mix   \n",
       "2  danceedm  Maxximize On Air - Mixed by Blasterjaxx - Epis...   \n",
       "3    rbsoul                MC Yago - Tenho Compromisso (DJ R7)   \n",
       "4  danceedm                         Escape (feat. Steph Jones)   \n",
       "\n",
       "            Timestamp   Views  Comments   Likes  Popularity  Followers  \\\n",
       "0 2018-03-30 15:24:45   14017         4   499.0        97.0     119563   \n",
       "1 2016-06-20 05:58:52    1918        17    49.0        17.0       2141   \n",
       "2 2015-05-08 17:45:59    9668        11   312.0        91.0      22248   \n",
       "3 2017-06-08 23:50:03  113036         2  2400.0        76.0     393655   \n",
       "4 2016-09-17 20:50:19  110024        81  3031.0       699.0     201030   \n",
       "\n",
       "   dayofweek  weekend  \n",
       "0          4        0  \n",
       "1          0        0  \n",
       "2          4        0  \n",
       "3          3        0  \n",
       "4          5        1  "
      ]
     },
     "execution_count": 349,
     "metadata": {},
     "output_type": "execute_result"
    }
   ],
   "source": [
    "data_train['Popularity'] = data_train.Popularity.apply(popularityConverting)\n",
    "data_train['Popularity'] = data_train.Popularity.astype('float')\n",
    "data_train['Likes'] = data_train.Likes.apply(popularityConverting)\n",
    "data_train['Likes'] = data_train.Likes.astype('float')\n",
    "data_train.head()"
   ]
  },
  {
   "cell_type": "code",
   "execution_count": 350,
   "metadata": {},
   "outputs": [
    {
     "data": {
      "text/plain": [
       "(78458, 10)"
      ]
     },
     "execution_count": 350,
     "metadata": {},
     "output_type": "execute_result"
    },
    {
     "data": {
      "image/png": "[encoded data removed]",
      "text/plain": [
       "<Figure size 864x432 with 1 Axes>"
      ]
     },
     "metadata": {
      "needs_background": "light"
     },
     "output_type": "display_data"
    }
   ],
   "source": [
    "sns.regplot(x=\"Likes\", y=\"Views\", data=data_train)\n",
    "data_train.shape"
   ]
  },
  {
   "cell_type": "code",
   "execution_count": 351,
   "metadata": {},
   "outputs": [],
   "source": [
    "# Cleaning the dataset so there are no outliers in the dataset\n",
    "#data_train = data_train[(data_train.Views<(1 * (10 ** 8))) & (data_train.Likes<1250000)]\n",
    "\n",
    "#data_train.shape, data_train.shape"
   ]
  },
  {
   "cell_type": "code",
   "execution_count": 352,
   "metadata": {},
   "outputs": [
    {
     "data": {
      "text/plain": [
       "<matplotlib.axes._subplots.AxesSubplot at 0x1af93d48d0>"
      ]
     },
     "execution_count": 352,
     "metadata": {},
     "output_type": "execute_result"
    },
    {
     "data": {
      "image/png": "[encoded data removed]",
      "text/plain": [
       "<Figure size 864x432 with 1 Axes>"
      ]
     },
     "metadata": {
      "needs_background": "light"
     },
     "output_type": "display_data"
    }
   ],
   "source": [
    "sns.regplot(x=\"Comments\", y=\"Views\", data=data_train)"
   ]
  },
  {
   "cell_type": "code",
   "execution_count": 353,
   "metadata": {},
   "outputs": [],
   "source": [
    "# Cleaning the dataset so there are no outliers in the dataset\n",
    "#data_train = data_train[(data_train.Views<(2 * (10 ** 8))) & (data_train.Comments<20000)]\n",
    "\n",
    "#data_train.shape, data_train.shape"
   ]
  },
  {
   "cell_type": "code",
   "execution_count": 354,
   "metadata": {},
   "outputs": [
    {
     "data": {
      "text/plain": [
       "<matplotlib.axes._subplots.AxesSubplot at 0x1af33a4358>"
      ]
     },
     "execution_count": 354,
     "metadata": {},
     "output_type": "execute_result"
    },
    {
     "data": {
      "image/png": "[encoded data removed]",
      "text/plain": [
       "<Figure size 864x432 with 1 Axes>"
      ]
     },
     "metadata": {
      "needs_background": "light"
     },
     "output_type": "display_data"
    }
   ],
   "source": [
    "sns.regplot(x=\"Popularity\", y=\"Views\", data=data_train)\n"
   ]
  },
  {
   "cell_type": "code",
   "execution_count": 355,
   "metadata": {},
   "outputs": [],
   "source": [
    "# Cleaning the dataset so there are no outliers in the dataset\n",
    "#data_train = data_train[(data_train.Views<(1 * (10 ** 8))) & (data_train.Popularity<110000)]\n",
    "\n",
    "#data_train.shape, data_train.shape"
   ]
  },
  {
   "cell_type": "code",
   "execution_count": 356,
   "metadata": {},
   "outputs": [
    {
     "data": {
      "text/plain": [
       "<matplotlib.axes._subplots.AxesSubplot at 0x1af1c83dd8>"
      ]
     },
     "execution_count": 356,
     "metadata": {},
     "output_type": "execute_result"
    },
    {
     "data": {
      "image/png": "[encoded data removed]",
      "text/plain": [
       "<Figure size 864x432 with 1 Axes>"
      ]
     },
     "metadata": {
      "needs_background": "light"
     },
     "output_type": "display_data"
    }
   ],
   "source": [
    "sns.regplot(x=\"Followers\", y=\"Views\", data=data_train)"
   ]
  },
  {
   "cell_type": "code",
   "execution_count": 357,
   "metadata": {},
   "outputs": [
    {
     "data": {
      "text/html": [
       "<div>\n",
       "<style scoped>\n",
       "    .dataframe tbody tr th:only-of-type {\n",
       "        vertical-align: middle;\n",
       "    }\n",
       "\n",
       "    .dataframe tbody tr th {\n",
       "        vertical-align: top;\n",
       "    }\n",
       "\n",
       "    .dataframe thead th {\n",
       "        text-align: right;\n",
       "    }\n",
       "</style>\n",
       "<table border=\"1\" class=\"dataframe\">\n",
       "  <thead>\n",
       "    <tr style=\"text-align: right;\">\n",
       "      <th></th>\n",
       "      <th>Views</th>\n",
       "      <th>Comments</th>\n",
       "      <th>Likes</th>\n",
       "      <th>Popularity</th>\n",
       "      <th>Followers</th>\n",
       "      <th>dayofweek</th>\n",
       "      <th>weekend</th>\n",
       "    </tr>\n",
       "  </thead>\n",
       "  <tbody>\n",
       "    <tr>\n",
       "      <td>Views</td>\n",
       "      <td>1.000000</td>\n",
       "      <td>0.679104</td>\n",
       "      <td>0.980132</td>\n",
       "      <td>0.834635</td>\n",
       "      <td>0.103603</td>\n",
       "      <td>0.014646</td>\n",
       "      <td>-0.002952</td>\n",
       "    </tr>\n",
       "    <tr>\n",
       "      <td>Comments</td>\n",
       "      <td>0.679104</td>\n",
       "      <td>1.000000</td>\n",
       "      <td>0.656645</td>\n",
       "      <td>0.641815</td>\n",
       "      <td>0.085034</td>\n",
       "      <td>-0.001844</td>\n",
       "      <td>-0.002394</td>\n",
       "    </tr>\n",
       "    <tr>\n",
       "      <td>Likes</td>\n",
       "      <td>0.980132</td>\n",
       "      <td>0.656645</td>\n",
       "      <td>1.000000</td>\n",
       "      <td>0.869048</td>\n",
       "      <td>0.110321</td>\n",
       "      <td>0.014117</td>\n",
       "      <td>-0.006747</td>\n",
       "    </tr>\n",
       "    <tr>\n",
       "      <td>Popularity</td>\n",
       "      <td>0.834635</td>\n",
       "      <td>0.641815</td>\n",
       "      <td>0.869048</td>\n",
       "      <td>1.000000</td>\n",
       "      <td>0.138454</td>\n",
       "      <td>-0.006822</td>\n",
       "      <td>-0.013047</td>\n",
       "    </tr>\n",
       "    <tr>\n",
       "      <td>Followers</td>\n",
       "      <td>0.103603</td>\n",
       "      <td>0.085034</td>\n",
       "      <td>0.110321</td>\n",
       "      <td>0.138454</td>\n",
       "      <td>1.000000</td>\n",
       "      <td>-0.031933</td>\n",
       "      <td>-0.076020</td>\n",
       "    </tr>\n",
       "    <tr>\n",
       "      <td>dayofweek</td>\n",
       "      <td>0.014646</td>\n",
       "      <td>-0.001844</td>\n",
       "      <td>0.014117</td>\n",
       "      <td>-0.006822</td>\n",
       "      <td>-0.031933</td>\n",
       "      <td>1.000000</td>\n",
       "      <td>0.631842</td>\n",
       "    </tr>\n",
       "    <tr>\n",
       "      <td>weekend</td>\n",
       "      <td>-0.002952</td>\n",
       "      <td>-0.002394</td>\n",
       "      <td>-0.006747</td>\n",
       "      <td>-0.013047</td>\n",
       "      <td>-0.076020</td>\n",
       "      <td>0.631842</td>\n",
       "      <td>1.000000</td>\n",
       "    </tr>\n",
       "  </tbody>\n",
       "</table>\n",
       "</div>"
      ],
      "text/plain": [
       "               Views  Comments     Likes  Popularity  Followers  dayofweek  \\\n",
       "Views       1.000000  0.679104  0.980132    0.834635   0.103603   0.014646   \n",
       "Comments    0.679104  1.000000  0.656645    0.641815   0.085034  -0.001844   \n",
       "Likes       0.980132  0.656645  1.000000    0.869048   0.110321   0.014117   \n",
       "Popularity  0.834635  0.641815  0.869048    1.000000   0.138454  -0.006822   \n",
       "Followers   0.103603  0.085034  0.110321    0.138454   1.000000  -0.031933   \n",
       "dayofweek   0.014646 -0.001844  0.014117   -0.006822  -0.031933   1.000000   \n",
       "weekend    -0.002952 -0.002394 -0.006747   -0.013047  -0.076020   0.631842   \n",
       "\n",
       "             weekend  \n",
       "Views      -0.002952  \n",
       "Comments   -0.002394  \n",
       "Likes      -0.006747  \n",
       "Popularity -0.013047  \n",
       "Followers  -0.076020  \n",
       "dayofweek   0.631842  \n",
       "weekend     1.000000  "
      ]
     },
     "execution_count": 357,
     "metadata": {},
     "output_type": "execute_result"
    }
   ],
   "source": [
    "data_train.corr()"
   ]
  },
  {
   "cell_type": "code",
   "execution_count": 358,
   "metadata": {},
   "outputs": [],
   "source": [
    "def text_process(text):\n",
    "    \n",
    "    text = text.translate(str.maketrans('', '', string.punctuation))\n",
    "    text = [word for word in text.split() if word.lower() not in stopwords.words('english')]\n",
    "    \n",
    "    return \" \".join(text)\n",
    "#data_train['Song_Name']=data_train['Song_Name'].astype('str')\n",
    "#data_train['Song_Name'] = data_train['Song_Name'].apply(text_process)"
   ]
  },
  {
   "cell_type": "code",
   "execution_count": 359,
   "metadata": {},
   "outputs": [
    {
     "data": {
      "text/plain": [
       "0    N-Vitral presents BOMBSQUAD - Poison Spitter (...\n",
       "1            Dj Aladdin - Old School Hip Hop Quick Mix\n",
       "2    Maxximize On Air - Mixed by Blasterjaxx - Epis...\n",
       "3                  MC Yago - Tenho Compromisso (DJ R7)\n",
       "4                           Escape (feat. Steph Jones)\n",
       "Name: Song_Name, dtype: object"
      ]
     },
     "execution_count": 359,
     "metadata": {},
     "output_type": "execute_result"
    }
   ],
   "source": [
    "data_train['Song_Name'].head()"
   ]
  },
  {
   "cell_type": "code",
   "execution_count": 360,
   "metadata": {},
   "outputs": [
    {
     "data": {
      "text/html": [
       "<div>\n",
       "<style scoped>\n",
       "    .dataframe tbody tr th:only-of-type {\n",
       "        vertical-align: middle;\n",
       "    }\n",
       "\n",
       "    .dataframe tbody tr th {\n",
       "        vertical-align: top;\n",
       "    }\n",
       "\n",
       "    .dataframe thead th {\n",
       "        text-align: right;\n",
       "    }\n",
       "</style>\n",
       "<table border=\"1\" class=\"dataframe\">\n",
       "  <thead>\n",
       "    <tr style=\"text-align: right;\">\n",
       "      <th></th>\n",
       "      <th>Genre</th>\n",
       "      <th>Song_Name</th>\n",
       "      <th>Timestamp</th>\n",
       "      <th>Views</th>\n",
       "      <th>Comments</th>\n",
       "      <th>Likes</th>\n",
       "      <th>Popularity</th>\n",
       "      <th>Followers</th>\n",
       "      <th>dayofweek</th>\n",
       "      <th>weekend</th>\n",
       "    </tr>\n",
       "  </thead>\n",
       "  <tbody>\n",
       "    <tr>\n",
       "      <td>8583</td>\n",
       "      <td>rock</td>\n",
       "      <td>My Fairy King</td>\n",
       "      <td>1973-01-01</td>\n",
       "      <td>141</td>\n",
       "      <td>1</td>\n",
       "      <td>5.0</td>\n",
       "      <td>0.0</td>\n",
       "      <td>70299</td>\n",
       "      <td>0</td>\n",
       "      <td>0</td>\n",
       "    </tr>\n",
       "    <tr>\n",
       "      <td>14326</td>\n",
       "      <td>rock</td>\n",
       "      <td>Liar (At The BBC)</td>\n",
       "      <td>1973-01-01</td>\n",
       "      <td>87</td>\n",
       "      <td>0</td>\n",
       "      <td>0.0</td>\n",
       "      <td>0.0</td>\n",
       "      <td>70299</td>\n",
       "      <td>0</td>\n",
       "      <td>0</td>\n",
       "    </tr>\n",
       "    <tr>\n",
       "      <td>14653</td>\n",
       "      <td>rock</td>\n",
       "      <td>Keep Yourself Alive</td>\n",
       "      <td>1973-01-01</td>\n",
       "      <td>1086</td>\n",
       "      <td>0</td>\n",
       "      <td>14.0</td>\n",
       "      <td>0.0</td>\n",
       "      <td>70299</td>\n",
       "      <td>0</td>\n",
       "      <td>0</td>\n",
       "    </tr>\n",
       "    <tr>\n",
       "      <td>49988</td>\n",
       "      <td>rock</td>\n",
       "      <td>Doing All Right</td>\n",
       "      <td>1973-01-01</td>\n",
       "      <td>618</td>\n",
       "      <td>0</td>\n",
       "      <td>14.0</td>\n",
       "      <td>0.0</td>\n",
       "      <td>70299</td>\n",
       "      <td>0</td>\n",
       "      <td>0</td>\n",
       "    </tr>\n",
       "    <tr>\n",
       "      <td>61074</td>\n",
       "      <td>rock</td>\n",
       "      <td>Great King Rat</td>\n",
       "      <td>1973-01-01</td>\n",
       "      <td>104</td>\n",
       "      <td>0</td>\n",
       "      <td>0.0</td>\n",
       "      <td>0.0</td>\n",
       "      <td>70299</td>\n",
       "      <td>0</td>\n",
       "      <td>0</td>\n",
       "    </tr>\n",
       "  </tbody>\n",
       "</table>\n",
       "</div>"
      ],
      "text/plain": [
       "      Genre            Song_Name  Timestamp  Views  Comments  Likes  \\\n",
       "8583   rock        My Fairy King 1973-01-01    141         1    5.0   \n",
       "14326  rock    Liar (At The BBC) 1973-01-01     87         0    0.0   \n",
       "14653  rock  Keep Yourself Alive 1973-01-01   1086         0   14.0   \n",
       "49988  rock      Doing All Right 1973-01-01    618         0   14.0   \n",
       "61074  rock       Great King Rat 1973-01-01    104         0    0.0   \n",
       "\n",
       "       Popularity  Followers  dayofweek  weekend  \n",
       "8583          0.0      70299          0        0  \n",
       "14326         0.0      70299          0        0  \n",
       "14653         0.0      70299          0        0  \n",
       "49988         0.0      70299          0        0  \n",
       "61074         0.0      70299          0        0  "
      ]
     },
     "metadata": {},
     "output_type": "display_data"
    },
    {
     "data": {
      "text/html": [
       "<div>\n",
       "<style scoped>\n",
       "    .dataframe tbody tr th:only-of-type {\n",
       "        vertical-align: middle;\n",
       "    }\n",
       "\n",
       "    .dataframe tbody tr th {\n",
       "        vertical-align: top;\n",
       "    }\n",
       "\n",
       "    .dataframe thead th {\n",
       "        text-align: right;\n",
       "    }\n",
       "</style>\n",
       "<table border=\"1\" class=\"dataframe\">\n",
       "  <thead>\n",
       "    <tr style=\"text-align: right;\">\n",
       "      <th></th>\n",
       "      <th>Genre</th>\n",
       "      <th>Song_Name</th>\n",
       "      <th>Timestamp</th>\n",
       "      <th>Views</th>\n",
       "      <th>Comments</th>\n",
       "      <th>Likes</th>\n",
       "      <th>Popularity</th>\n",
       "      <th>Followers</th>\n",
       "      <th>dayofweek</th>\n",
       "      <th>weekend</th>\n",
       "    </tr>\n",
       "  </thead>\n",
       "  <tbody>\n",
       "    <tr>\n",
       "      <td>72376</td>\n",
       "      <td>danceedm</td>\n",
       "      <td>Sam Feldt - Heartfeldt Radio #164</td>\n",
       "      <td>2019-02-25 08:00:06</td>\n",
       "      <td>35</td>\n",
       "      <td>0</td>\n",
       "      <td>7.0</td>\n",
       "      <td>3.0</td>\n",
       "      <td>23043</td>\n",
       "      <td>0</td>\n",
       "      <td>0</td>\n",
       "    </tr>\n",
       "  </tbody>\n",
       "</table>\n",
       "</div>"
      ],
      "text/plain": [
       "          Genre                          Song_Name           Timestamp  Views  \\\n",
       "72376  danceedm  Sam Feldt - Heartfeldt Radio #164 2019-02-25 08:00:06     35   \n",
       "\n",
       "       Comments  Likes  Popularity  Followers  dayofweek  weekend  \n",
       "72376         0    7.0         3.0      23043          0        0  "
      ]
     },
     "metadata": {},
     "output_type": "display_data"
    },
    {
     "data": {
      "text/plain": [
       "Timestamp            Views\n",
       "1973-01-01 00:00:00  87       1\n",
       "                     104      1\n",
       "                     141      1\n",
       "                     618      1\n",
       "                     1086     1\n",
       "                             ..\n",
       "2019-02-25 03:59:34  1        1\n",
       "2019-02-25 04:14:28  5        1\n",
       "2019-02-25 04:15:07  1        1\n",
       "2019-02-25 07:49:53  60       1\n",
       "2019-02-25 08:00:06  35       1\n",
       "Name: Views, Length: 78193, dtype: int64"
      ]
     },
     "execution_count": 360,
     "metadata": {},
     "output_type": "execute_result"
    }
   ],
   "source": [
    "#trying for time as feature\n",
    "display(data_train[data_train['Timestamp']==data_train['Timestamp'].min()])\n",
    "display(data_train[data_train['Timestamp']==data_train['Timestamp'].max()])\n",
    "data_train.sort_values(by=['Timestamp']).groupby(['Timestamp'])['Views'].value_counts()"
   ]
  },
  {
   "cell_type": "code",
   "execution_count": 361,
   "metadata": {},
   "outputs": [
    {
     "data": {
      "image/png": "[encoded data removed]",
      "text/plain": [
       "<Figure size 864x432 with 2 Axes>"
      ]
     },
     "metadata": {
      "needs_background": "light"
     },
     "output_type": "display_data"
    }
   ],
   "source": [
    "# Increases the size of the histogram to fit both normalized and raw data\n",
    "plt.rcParams['figure.figsize'] = (12.0, 6.0)\n",
    "views = pd.DataFrame({'log_views':np.log1p(data_train[\"Views\"]), 'views': data_train[\"Views\"]})\n",
    "views.hist()\n",
    "plt.ylabel('Number of occurences')\n",
    "data_train['Views'] = np.log1p(data_train['Views'])"
   ]
  },
  {
   "cell_type": "code",
   "execution_count": 362,
   "metadata": {},
   "outputs": [
    {
     "name": "stdout",
     "output_type": "stream",
     "text": [
      "Comments      54.945118\n",
      "Likes         19.044160\n",
      "Popularity    22.228121\n",
      "Followers      4.434407\n",
      "weekend        2.153562\n",
      "dtype: float64\n"
     ]
    },
    {
     "data": {
      "text/html": [
       "<div>\n",
       "<style scoped>\n",
       "    .dataframe tbody tr th:only-of-type {\n",
       "        vertical-align: middle;\n",
       "    }\n",
       "\n",
       "    .dataframe tbody tr th {\n",
       "        vertical-align: top;\n",
       "    }\n",
       "\n",
       "    .dataframe thead th {\n",
       "        text-align: right;\n",
       "    }\n",
       "</style>\n",
       "<table border=\"1\" class=\"dataframe\">\n",
       "  <thead>\n",
       "    <tr style=\"text-align: right;\">\n",
       "      <th></th>\n",
       "      <th>Comments</th>\n",
       "      <th>Likes</th>\n",
       "      <th>Popularity</th>\n",
       "      <th>Followers</th>\n",
       "      <th>weekend</th>\n",
       "    </tr>\n",
       "  </thead>\n",
       "  <tbody>\n",
       "    <tr>\n",
       "      <td>0</td>\n",
       "      <td>1.609438</td>\n",
       "      <td>6.214608</td>\n",
       "      <td>4.584967</td>\n",
       "      <td>11.691607</td>\n",
       "      <td>0.000000</td>\n",
       "    </tr>\n",
       "    <tr>\n",
       "      <td>1</td>\n",
       "      <td>2.890372</td>\n",
       "      <td>3.912023</td>\n",
       "      <td>2.890372</td>\n",
       "      <td>7.669495</td>\n",
       "      <td>0.000000</td>\n",
       "    </tr>\n",
       "    <tr>\n",
       "      <td>2</td>\n",
       "      <td>2.484907</td>\n",
       "      <td>5.746203</td>\n",
       "      <td>4.521789</td>\n",
       "      <td>10.010052</td>\n",
       "      <td>0.000000</td>\n",
       "    </tr>\n",
       "    <tr>\n",
       "      <td>3</td>\n",
       "      <td>1.098612</td>\n",
       "      <td>7.783641</td>\n",
       "      <td>4.343805</td>\n",
       "      <td>12.883233</td>\n",
       "      <td>0.000000</td>\n",
       "    </tr>\n",
       "    <tr>\n",
       "      <td>4</td>\n",
       "      <td>4.406719</td>\n",
       "      <td>8.016978</td>\n",
       "      <td>6.551080</td>\n",
       "      <td>12.211214</td>\n",
       "      <td>0.693147</td>\n",
       "    </tr>\n",
       "    <tr>\n",
       "      <td>...</td>\n",
       "      <td>...</td>\n",
       "      <td>...</td>\n",
       "      <td>...</td>\n",
       "      <td>...</td>\n",
       "      <td>...</td>\n",
       "    </tr>\n",
       "    <tr>\n",
       "      <td>78453</td>\n",
       "      <td>2.995732</td>\n",
       "      <td>6.194405</td>\n",
       "      <td>3.871201</td>\n",
       "      <td>11.875671</td>\n",
       "      <td>0.000000</td>\n",
       "    </tr>\n",
       "    <tr>\n",
       "      <td>78454</td>\n",
       "      <td>1.609438</td>\n",
       "      <td>5.680173</td>\n",
       "      <td>4.615121</td>\n",
       "      <td>12.261602</td>\n",
       "      <td>0.000000</td>\n",
       "    </tr>\n",
       "    <tr>\n",
       "      <td>78455</td>\n",
       "      <td>0.693147</td>\n",
       "      <td>5.062595</td>\n",
       "      <td>3.465736</td>\n",
       "      <td>14.154165</td>\n",
       "      <td>0.000000</td>\n",
       "    </tr>\n",
       "    <tr>\n",
       "      <td>78456</td>\n",
       "      <td>3.218876</td>\n",
       "      <td>5.918894</td>\n",
       "      <td>4.499810</td>\n",
       "      <td>11.875789</td>\n",
       "      <td>0.000000</td>\n",
       "    </tr>\n",
       "    <tr>\n",
       "      <td>78457</td>\n",
       "      <td>1.609438</td>\n",
       "      <td>7.512071</td>\n",
       "      <td>4.276666</td>\n",
       "      <td>11.397346</td>\n",
       "      <td>0.693147</td>\n",
       "    </tr>\n",
       "  </tbody>\n",
       "</table>\n",
       "<p>78458 rows × 5 columns</p>\n",
       "</div>"
      ],
      "text/plain": [
       "       Comments     Likes  Popularity  Followers   weekend\n",
       "0      1.609438  6.214608    4.584967  11.691607  0.000000\n",
       "1      2.890372  3.912023    2.890372   7.669495  0.000000\n",
       "2      2.484907  5.746203    4.521789  10.010052  0.000000\n",
       "3      1.098612  7.783641    4.343805  12.883233  0.000000\n",
       "4      4.406719  8.016978    6.551080  12.211214  0.693147\n",
       "...         ...       ...         ...        ...       ...\n",
       "78453  2.995732  6.194405    3.871201  11.875671  0.000000\n",
       "78454  1.609438  5.680173    4.615121  12.261602  0.000000\n",
       "78455  0.693147  5.062595    3.465736  14.154165  0.000000\n",
       "78456  3.218876  5.918894    4.499810  11.875789  0.000000\n",
       "78457  1.609438  7.512071    4.276666  11.397346  0.693147\n",
       "\n",
       "[78458 rows x 5 columns]"
      ]
     },
     "metadata": {},
     "output_type": "display_data"
    }
   ],
   "source": [
    "#log transform skewed numeric features:\n",
    "skewed_feats = data_train[['Comments', 'Likes', 'Popularity','Followers','weekend']].apply(lambda x: skew(x.dropna())) #compute skewness\n",
    "print(skewed_feats.loc[skewed_feats.values > 0.75])\n",
    "\n",
    "skewed_feats = skewed_feats.index\n",
    "\n",
    "data_train[skewed_feats] = np.log1p(data_train[skewed_feats])\n",
    "display(data_train[skewed_feats])\n",
    "#preds = np.expm1(xgb_regressor.predict(X_test)) in case of np log standarization"
   ]
  },
  {
   "cell_type": "code",
   "execution_count": 363,
   "metadata": {},
   "outputs": [
    {
     "data": {
      "image/png": "[encoded data removed]",
      "text/plain": [
       "<Figure size 864x432 with 6 Axes>"
      ]
     },
     "metadata": {
      "needs_background": "light"
     },
     "output_type": "display_data"
    }
   ],
   "source": [
    "# data_train['Comments'] = np.log1p(data_train['Comments'])\n",
    "# data_train['Likes'] = np.log1p(data_train['Likes'])\n",
    "# data_train['Popularity'] = np.log1p(data_train['Popularity'])\n",
    "# data_train['Followers'] = np.log1p(data_train['Followers'])\n",
    "# data_train['weekend'] = np.log1p(data_train['weekend'])\n",
    "f = pd.melt(data_train, value_vars=['Comments', 'Likes', 'Popularity','Followers','weekend','Views'])\n",
    "grid = sns.FacetGrid(f, col=\"variable\",  col_wrap=4, sharex=False, sharey=False)\n",
    "grid = grid.map(sns.distplot, \"value\")\n"
   ]
  },
  {
   "cell_type": "code",
   "execution_count": 365,
   "metadata": {},
   "outputs": [
    {
     "data": {
      "text/plain": [
       "<bound method DataFrame.info of             Genre                                          Song_Name  \\\n",
       "0        danceedm  N-Vitral presents BOMBSQUAD - Poison Spitter (...   \n",
       "1        danceedm          Dj Aladdin - Old School Hip Hop Quick Mix   \n",
       "2        danceedm  Maxximize On Air - Mixed by Blasterjaxx - Epis...   \n",
       "3          rbsoul                MC Yago - Tenho Compromisso (DJ R7)   \n",
       "4        danceedm                         Escape (feat. Steph Jones)   \n",
       "...           ...                                                ...   \n",
       "78453     ambient                               RA.505 Josey Rebelle   \n",
       "78454        trap                 Drama We Cause - Lurtz [Exclusive]   \n",
       "78455  electronic                         Premiere: ELLLL 'SKITTLES'   \n",
       "78456  electronic                        Night Vision - DHL Mix #124   \n",
       "78457   all-music                                   Energy Freestyle   \n",
       "\n",
       "                Timestamp      Views  Comments     Likes  Popularity  \\\n",
       "0     2018-03-30 15:24:45   9.548097  1.609438  6.214608    4.584967   \n",
       "1     2016-06-20 05:58:52   7.559559  2.890372  3.912023    2.890372   \n",
       "2     2015-05-08 17:45:59   9.176680  2.484907  5.746203    4.521789   \n",
       "3     2017-06-08 23:50:03  11.635470  1.098612  7.783641    4.343805   \n",
       "4     2016-09-17 20:50:19  11.608463  4.406719  8.016978    6.551080   \n",
       "...                   ...        ...       ...       ...         ...   \n",
       "78453 2016-02-08 09:11:33   9.410993  2.995732  6.194405    3.871201   \n",
       "78454 2016-03-02 01:24:39   9.019906  1.609438  5.680173    4.615121   \n",
       "78455 2019-02-11 13:15:05   8.194782  0.693147  5.062595    3.465736   \n",
       "78456 2017-01-18 10:10:12   9.093469  3.218876  5.918894    4.499810   \n",
       "78457 2015-04-11 22:32:05  11.537501  1.609438  7.512071    4.276666   \n",
       "\n",
       "       Followers  dayofweek   weekend  \n",
       "0      11.691607          4  0.000000  \n",
       "1       7.669495          0  0.000000  \n",
       "2      10.010052          4  0.000000  \n",
       "3      12.883233          3  0.000000  \n",
       "4      12.211214          5  0.693147  \n",
       "...          ...        ...       ...  \n",
       "78453  11.875671          0  0.000000  \n",
       "78454  12.261602          2  0.000000  \n",
       "78455  14.154165          0  0.000000  \n",
       "78456  11.875789          2  0.000000  \n",
       "78457  11.397346          5  0.693147  \n",
       "\n",
       "[78458 rows x 10 columns]>"
      ]
     },
     "execution_count": 365,
     "metadata": {},
     "output_type": "execute_result"
    }
   ],
   "source": [
    "data_train.info"
   ]
  },
  {
   "cell_type": "code",
   "execution_count": 366,
   "metadata": {},
   "outputs": [],
   "source": [
    "features_data =data_train.loc[:,['Comments', 'Likes', 'Popularity', 'Followers','weekend']]\n",
    "X = data_train.loc[:,['Comments', 'Likes', 'Popularity','Followers','weekend']]\n",
    "y = data_train['Views']\n",
    "#X= StandardScaler().fit(X).transform(X)"
   ]
  },
  {
   "cell_type": "code",
   "execution_count": 368,
   "metadata": {},
   "outputs": [
    {
     "data": {
      "text/plain": [
       "((78458, 5), (78458,))"
      ]
     },
     "execution_count": 368,
     "metadata": {},
     "output_type": "execute_result"
    }
   ],
   "source": [
    "X.shape,y.shape"
   ]
  },
  {
   "cell_type": "code",
   "execution_count": 335,
   "metadata": {},
   "outputs": [],
   "source": [
    "def root_mean_squared_error(pred,y):\n",
    "    return np.sqrt(mean_squared_error(pred,y))\n",
    "def rmse_cv(model):\n",
    "    rmse= np.sqrt(-cross_val_score(model, X, y, scoring = \"neg_mean_squared_error\", cv = 5))\n",
    "    return(rmse)"
   ]
  },
  {
   "cell_type": "code",
   "execution_count": 374,
   "metadata": {},
   "outputs": [
    {
     "data": {
      "text/plain": [
       "0.8328165651072356"
      ]
     },
     "execution_count": 374,
     "metadata": {},
     "output_type": "execute_result"
    }
   ],
   "source": [
    "\n",
    "model_lasso = LassoCV(alphas = [1, 0.1, 0.001, 0.0005]).fit(X, y)\n",
    "rmse_cv(model_lasso).mean()"
   ]
  },
  {
   "cell_type": "code",
   "execution_count": 376,
   "metadata": {},
   "outputs": [
    {
     "name": "stdout",
     "output_type": "stream",
     "text": [
      "[0.8328131250420692, 0.8328131246820799, 0.832813123276642, 0.8328131187924971, 0.8328131097069921, 0.8328131061389403, 0.8328131213321642, 0.8328131709245191, 0.8328135254914404, 0.8328144761747318, 0.8328164272376798]\n"
     ]
    }
   ],
   "source": [
    "ridge_model = Ridge()\n",
    "\n",
    "# Alpha is the regularization parameter\n",
    "alphas = [0.05, 0.1, 0.3, 1, 3, 5, 10, 15, 30, 50, 75]\n",
    "cv_ridge_train = [rmse_cv(Ridge(alpha = alpha)).mean() for alpha in alphas]\n",
    "print(cv_ridge_train)"
   ]
  },
  {
   "cell_type": "code",
   "execution_count": null,
   "metadata": {},
   "outputs": [],
   "source": []
  },
  {
   "cell_type": "code",
   "execution_count": null,
   "metadata": {},
   "outputs": [],
   "source": []
  }
 ],
 "metadata": {
  "kernelspec": {
   "display_name": "Python 3",
   "language": "python",
   "name": "python3"
  },
  "language_info": {
   "codemirror_mode": {
    "name": "ipython",
    "version": 3
   },
   "file_extension": ".py",
   "mimetype": "text/x-python",
   "name": "python",
   "nbconvert_exporter": "python",
   "pygments_lexer": "ipython3",
   "version": "3.7.3"
  }
 },
 "nbformat": 4,
 "nbformat_minor": 2
}
