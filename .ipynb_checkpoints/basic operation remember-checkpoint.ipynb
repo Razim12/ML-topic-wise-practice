{
 "cells": [
  {
   "cell_type": "code",
   "execution_count": 20,
   "metadata": {},
   "outputs": [
    {
     "data": {
      "text/plain": [
       "array([[[0., 0.],\n",
       "        [0., 0.]],\n",
       "\n",
       "       [[0., 0.],\n",
       "        [0., 0.]]])"
      ]
     },
     "execution_count": 20,
     "metadata": {},
     "output_type": "execute_result"
    }
   ],
   "source": [
    "import numpy as np\n",
    "np.zeros((2,4,4,2))[1,0:2,0:2,:]"
   ]
  },
  {
   "cell_type": "code",
   "execution_count": 56,
   "metadata": {},
   "outputs": [
    {
     "name": "stdout",
     "output_type": "stream",
     "text": [
      "0 AA\n",
      "1 BB\n",
      "2 CC\n"
     ]
    }
   ],
   "source": [
    "for i,x in enumerate(['A','B','C']):\n",
    "    print(i,2*x)"
   ]
  },
  {
   "cell_type": "code",
   "execution_count": 57,
   "metadata": {},
   "outputs": [
    {
     "name": "stdout",
     "output_type": "stream",
     "text": [
      "11\n",
      "22\n",
      "33\n"
     ]
    }
   ],
   "source": [
    "A=['1','2','3']\n",
    "\n",
    "for a in A:\n",
    "\n",
    "  print(2*a)"
   ]
  },
  {
   "cell_type": "code",
   "execution_count": 58,
   "metadata": {},
   "outputs": [
    {
     "data": {
      "text/plain": [
       "2"
      ]
     },
     "execution_count": 58,
     "metadata": {},
     "output_type": "execute_result"
    }
   ],
   "source": [
    "def add(x):\n",
    "    return(x+x)\n",
    "    \n",
    "add(1)"
   ]
  },
  {
   "cell_type": "code",
   "execution_count": 59,
   "metadata": {},
   "outputs": [
    {
     "data": {
      "text/plain": [
       "3"
      ]
     },
     "execution_count": 59,
     "metadata": {},
     "output_type": "execute_result"
    }
   ],
   "source": [
    "def name(a,b):\n",
    "  return a+b\n",
    "  \n",
    "name(1,2)"
   ]
  },
  {
   "cell_type": "code",
   "execution_count": 60,
   "metadata": {},
   "outputs": [
    {
     "data": {
      "text/plain": [
       "array([[ 0.48936476,  0.83196586, -0.42271069]])"
      ]
     },
     "execution_count": 60,
     "metadata": {},
     "output_type": "execute_result"
    }
   ],
   "source": [
    "np.random.randn(1,3)"
   ]
  },
  {
   "cell_type": "code",
   "execution_count": 61,
   "metadata": {},
   "outputs": [
    {
     "data": {
      "text/plain": [
       "array([1, 1, 2, 3, 4, 4, 4, 4, 4, 4])"
      ]
     },
     "execution_count": 61,
     "metadata": {},
     "output_type": "execute_result"
    }
   ],
   "source": [
    "a = np.arange(10)\n",
    "np.clip(a, 1, 4) #    numpy.clip(a, a_min, a_max, out=None, **kwargs)[source]¶"
   ]
  },
  {
   "cell_type": "code",
   "execution_count": 22,
   "metadata": {},
   "outputs": [
    {
     "name": "stdout",
     "output_type": "stream",
     "text": [
      "Multiply 2D and 1D arrays: result is a 1D array\n",
      " [2 4 6]\n",
      "Multiply 2D and 2D arrays: result is a 2D array\n",
      " [[2]\n",
      " [4]\n",
      " [6]]\n"
     ]
    }
   ],
   "source": [
    "matrix1 = np.array([[1,1],[2,2],[3,3]]) # (3,2)\n",
    "matrix2 = np.array([[0],[0],[0]]) # (3,1) \n",
    "vector1D = np.array([1,1]) # (2,) \n",
    "vector2D = np.array([[1],[1]]) # (2,1)\n",
    "print(\"Multiply 2D and 1D arrays: result is a 1D array\\n\", \n",
    "      np.dot(matrix1,vector1D))\n",
    "print(\"Multiply 2D and 2D arrays: result is a 2D array\\n\", \n",
    "      np.dot(matrix1,vector2D))"
   ]
  },
  {
   "cell_type": "code",
   "execution_count": 63,
   "metadata": {},
   "outputs": [
    {
     "name": "stdout",
     "output_type": "stream",
     "text": [
      "Adding (3 x 1) vector to a (3 x 1) vector is a (3 x 1) vector\n",
      " This is what we want here!\n",
      " [[2]\n",
      " [4]\n",
      " [6]]\n"
     ]
    }
   ],
   "source": [
    "print(\"Adding (3 x 1) vector to a (3 x 1) vector is a (3 x 1) vector\\n\",\n",
    "      \"This is what we want here!\\n\", \n",
    "      np.dot(matrix1,vector2D) + matrix2)"
   ]
  },
  {
   "cell_type": "code",
   "execution_count": 64,
   "metadata": {},
   "outputs": [
    {
     "name": "stdout",
     "output_type": "stream",
     "text": [
      "Adding a (3,) vector to a (3 x 1) vector\n",
      " broadcasts the 1D array across the second dimension\n",
      " Not what we want here!\n",
      " [[2 4 6]\n",
      " [2 4 6]\n",
      " [2 4 6]]\n"
     ]
    }
   ],
   "source": [
    "print(\"Adding a (3,) vector to a (3 x 1) vector\\n\",\n",
    "      \"broadcasts the 1D array across the second dimension\\n\",\n",
    "      \"Not what we want here!\\n\",\n",
    "      np.dot(matrix1,vector1D) + matrix2\n",
    "     )"
   ]
  },
  {
   "cell_type": "code",
   "execution_count": 65,
   "metadata": {},
   "outputs": [
    {
     "data": {
      "text/plain": [
       "[8, 6, 6, 4, 2, 1]"
      ]
     },
     "execution_count": 65,
     "metadata": {},
     "output_type": "execute_result"
    }
   ],
   "source": [
    "arr = [1,6,6,4,8,2]\n",
    "arr.sort(reverse=True)\n",
    "arr"
   ]
  },
  {
   "cell_type": "code",
   "execution_count": 66,
   "metadata": {},
   "outputs": [
    {
     "data": {
      "text/plain": [
       "6"
      ]
     },
     "execution_count": 66,
     "metadata": {},
     "output_type": "execute_result"
    }
   ],
   "source": [
    "list(set(arr))[-2]"
   ]
  },
  {
   "cell_type": "code",
   "execution_count": 67,
   "metadata": {},
   "outputs": [
    {
     "name": "stdout",
     "output_type": "stream",
     "text": [
      "[(0, 0), (1, 2), (2, 1), (3, 4), (4, 3)]\n"
     ]
    }
   ],
   "source": [
    "x = {1: 2, 3: 4, 4: 3, 2: 1, 0: 0}\n",
    "sorted_x = sorted(x.items())\n",
    "print(sorted_x)"
   ]
  },
  {
   "cell_type": "code",
   "execution_count": 68,
   "metadata": {},
   "outputs": [
    {
     "name": "stdout",
     "output_type": "stream",
     "text": [
      "sf\n"
     ]
    }
   ],
   "source": [
    "print('sf')"
   ]
  },
  {
   "cell_type": "code",
   "execution_count": 69,
   "metadata": {},
   "outputs": [],
   "source": [
    "# marksheet = []\n",
    "#    for _ in range(0,int(input())):\n",
    "#        marksheet.append([input(), float(input())])\n",
    "#    second_highest = sorted(list(set([marks for name, marks in marksheet])))[1]\n",
    "\n",
    "#Asyncall\n",
    "\n",
    "#re.search(regex,email)\n",
    "\n",
    "#print ([[a,b,c] for a in range(0,x+1) for b in range(0,y+1) for c in range(0,z+1) if a + b + c != n ])\n",
    "\n"
   ]
  },
  {
   "cell_type": "code",
   "execution_count": 70,
   "metadata": {},
   "outputs": [
    {
     "data": {
      "text/plain": [
       "[9, 25, 25, 16]"
      ]
     },
     "execution_count": 70,
     "metadata": {},
     "output_type": "execute_result"
    }
   ],
   "source": [
    "markst=[[2,3],[4,5],[1,5],[6,4]]\n",
    "[[marks,name] for name, marks in markst]\n",
    "[(marks,name) for name, marks in markst]\n",
    "[(marks*marks) for name, marks in markst]\n"
   ]
  },
  {
   "cell_type": "code",
   "execution_count": 71,
   "metadata": {},
   "outputs": [
    {
     "name": "stdout",
     "output_type": "stream",
     "text": [
      "0\n",
      "1\n",
      "1\n",
      "2\n",
      "3\n",
      "5\n",
      "8\n",
      "13\n",
      "21\n",
      "34\n"
     ]
    }
   ],
   "source": [
    "#fibbonaci\n",
    "def fib(n):\n",
    "    if(n==1 or n==0):\n",
    "        return n\n",
    "    else:\n",
    "        return fib(n-1)+fib(n-2)\n",
    "fib(9)\n",
    "for i in range(10):\n",
    "    print(fib(i))"
   ]
  },
  {
   "cell_type": "code",
   "execution_count": 72,
   "metadata": {},
   "outputs": [
    {
     "data": {
      "text/plain": [
       "24"
      ]
     },
     "execution_count": 72,
     "metadata": {},
     "output_type": "execute_result"
    }
   ],
   "source": [
    "def fact(n):\n",
    "    if n==0:\n",
    "        return 1\n",
    "    return n*fact(n-1)\n",
    "fact(4)   "
   ]
  },
  {
   "cell_type": "code",
   "execution_count": 73,
   "metadata": {},
   "outputs": [],
   "source": [
    "#dfs bfs algo to find shortest"
   ]
  },
  {
   "cell_type": "code",
   "execution_count": 74,
   "metadata": {},
   "outputs": [
    {
     "name": "stdout",
     "output_type": "stream",
     "text": [
      "['a', 'b', 'c', 'd']\n"
     ]
    },
    {
     "data": {
      "text/plain": [
       "'dcba'"
      ]
     },
     "execution_count": 74,
     "metadata": {},
     "output_type": "execute_result"
    }
   ],
   "source": [
    "l=list('abcd')\n",
    "print(l)\n",
    "l.sort(reverse=True)\n",
    "''.join(l)"
   ]
  },
  {
   "cell_type": "code",
   "execution_count": 75,
   "metadata": {},
   "outputs": [
    {
     "data": {
      "text/plain": [
       "[4, 3, 2, 1]"
      ]
     },
     "execution_count": 75,
     "metadata": {},
     "output_type": "execute_result"
    }
   ],
   "source": [
    "[1,2,3,4][::-1]"
   ]
  },
  {
   "cell_type": "code",
   "execution_count": 76,
   "metadata": {},
   "outputs": [
    {
     "name": "stdout",
     "output_type": "stream",
     "text": [
      "1\n",
      "2\n",
      "4\n"
     ]
    }
   ],
   "source": [
    "def add(*img):\n",
    "    for i in img:\n",
    "        print(i)\n",
    "add(1,2,4)"
   ]
  },
  {
   "cell_type": "code",
   "execution_count": 77,
   "metadata": {},
   "outputs": [
    {
     "name": "stdout",
     "output_type": "stream",
     "text": [
      "first\n",
      "mid\n",
      "last\n"
     ]
    }
   ],
   "source": [
    "def add(**img):\n",
    "    for i in img.keys():\n",
    "        print(i)\n",
    "add( first ='Geeks', mid ='for', last='Geeks')"
   ]
  },
  {
   "cell_type": "code",
   "execution_count": 23,
   "metadata": {},
   "outputs": [
    {
     "name": "stdout",
     "output_type": "stream",
     "text": [
      "{0: 'dogs', 1: 'cats'}\n"
     ]
    }
   ],
   "source": [
    "labels = ({'dogs': 0, 'cats': 1})\n",
    "labels = dict((v,k) for k,v in labels.items())\n",
    "print(labels)"
   ]
  },
  {
   "cell_type": "code",
   "execution_count": 24,
   "metadata": {},
   "outputs": [
    {
     "name": "stdout",
     "output_type": "stream",
     "text": [
      "[0 1]\n",
      "['dogs', 'cats']\n"
     ]
    }
   ],
   "source": [
    "print(np.argmax([[1 ,0],[0 , 1]],axis=1))\n",
    "train_lab=[labels[i] for i in np.argmax([[1 ,0],[0 , 1]],axis=1)]\n",
    "print(train_lab)"
   ]
  },
  {
   "cell_type": "code",
   "execution_count": null,
   "metadata": {},
   "outputs": [],
   "source": [
    "#row wise addition df\n",
    "#pd.concat((df['open'],df['close']),axis=0) #axis =1 columns wise"
   ]
  },
  {
   "cell_type": "code",
   "execution_count": 25,
   "metadata": {},
   "outputs": [
    {
     "data": {
      "text/plain": [
       "['a', 'b', 'c']"
      ]
     },
     "execution_count": 25,
     "metadata": {},
     "output_type": "execute_result"
    }
   ],
   "source": [
    "venue_list=['a','b','c']\n",
    "venues_list=['a','b','c']\n",
    "[item for venue_list in venues_list for item in venue_list]"
   ]
  },
  {
   "cell_type": "code",
   "execution_count": 26,
   "metadata": {},
   "outputs": [
    {
     "data": {
      "text/plain": [
       "'sdds sdss sdss fff rr 4'"
      ]
     },
     "execution_count": 26,
     "metadata": {},
     "output_type": "execute_result"
    }
   ],
   "source": [
    "''.join(list(\"sdds sdss sdss fff rr 4\"))"
   ]
  },
  {
   "cell_type": "code",
   "execution_count": 27,
   "metadata": {},
   "outputs": [
    {
     "data": {
      "text/plain": [
       "['sdds', 'sdss', 'sdss', 'fff', 'rr', '4']"
      ]
     },
     "execution_count": 27,
     "metadata": {},
     "output_type": "execute_result"
    }
   ],
   "source": [
    "(\"sdds sdss sdss fff rr 4\").split(' ')"
   ]
  },
  {
   "cell_type": "code",
   "execution_count": 28,
   "metadata": {},
   "outputs": [
    {
     "data": {
      "text/plain": [
       "array([0, 0, 0, 0, 0, 0, 0, 0, 0, 0])"
      ]
     },
     "execution_count": 28,
     "metadata": {},
     "output_type": "execute_result"
    }
   ],
   "source": [
    "#creating arrays\n",
    "np.zeros(10, dtype='int')"
   ]
  },
  {
   "cell_type": "code",
   "execution_count": 29,
   "metadata": {},
   "outputs": [
    {
     "data": {
      "text/plain": [
       "array([[1., 1., 1., 1., 1.],\n",
       "       [1., 1., 1., 1., 1.],\n",
       "       [1., 1., 1., 1., 1.]])"
      ]
     },
     "execution_count": 29,
     "metadata": {},
     "output_type": "execute_result"
    }
   ],
   "source": [
    "np.ones((3,5), dtype=float)"
   ]
  },
  {
   "cell_type": "code",
   "execution_count": 30,
   "metadata": {},
   "outputs": [
    {
     "data": {
      "text/plain": [
       "array([[1.23, 1.23, 1.23, 1.23, 1.23],\n",
       "       [1.23, 1.23, 1.23, 1.23, 1.23],\n",
       "       [1.23, 1.23, 1.23, 1.23, 1.23]])"
      ]
     },
     "execution_count": 30,
     "metadata": {},
     "output_type": "execute_result"
    }
   ],
   "source": [
    "#creating a matrix with a predefined value\n",
    "np.full((3,5),1.23)"
   ]
  },
  {
   "cell_type": "code",
   "execution_count": 31,
   "metadata": {},
   "outputs": [
    {
     "data": {
      "text/plain": [
       "array([ 0,  2,  4,  6,  8, 10, 12, 14, 16, 18])"
      ]
     },
     "execution_count": 31,
     "metadata": {},
     "output_type": "execute_result"
    }
   ],
   "source": [
    "#create an array with a set sequence\n",
    "np.arange(0, 20, 2)"
   ]
  },
  {
   "cell_type": "code",
   "execution_count": null,
   "metadata": {},
   "outputs": [],
   "source": [
    "#create an array of even space between the given range of values\n",
    "np.linspace(0, 1, 5)"
   ]
  },
  {
   "cell_type": "code",
   "execution_count": null,
   "metadata": {},
   "outputs": [],
   "source": [
    "#create a 3x3 array with mean 0 and standard deviation 1 in a given dimension\n",
    "np.random.normal(0, 1, (3,3))"
   ]
  },
  {
   "cell_type": "code",
   "execution_count": 32,
   "metadata": {},
   "outputs": [
    {
     "name": "stdout",
     "output_type": "stream",
     "text": [
      "x3 ndim: 3\n",
      "x3 shape: (3, 4, 5)\n",
      "x3 size:  60\n"
     ]
    }
   ],
   "source": [
    "#set a random seed\n",
    "np.random.seed(0)\n",
    "\n",
    "\n",
    "x1 = np.random.randint(10, size=6) #one dimension\n",
    "x2 = np.random.randint(10, size=(3,4)) #two dimension\n",
    "x3 = np.random.randint(10, size=(3,4,5)) #three dimension\n",
    "\n",
    "\n",
    "print(\"x3 ndim:\", x3.ndim)\n",
    "print(\"x3 shape:\", x3.shape)\n",
    "print(\"x3 size: \", x3.size)"
   ]
  },
  {
   "cell_type": "code",
   "execution_count": 33,
   "metadata": {},
   "outputs": [
    {
     "data": {
      "text/plain": [
       "array([0, 2, 4, 6, 8])"
      ]
     },
     "execution_count": 33,
     "metadata": {},
     "output_type": "execute_result"
    }
   ],
   "source": [
    "x = np.arange(10)\n",
    "#return elements at even place\n",
    "x[ : : 2]"
   ]
  },
  {
   "cell_type": "code",
   "execution_count": 34,
   "metadata": {},
   "outputs": [
    {
     "data": {
      "text/plain": [
       "array([1, 3, 5, 7, 9])"
      ]
     },
     "execution_count": 34,
     "metadata": {},
     "output_type": "execute_result"
    }
   ],
   "source": [
    "#return elements from first position step by two\n",
    "x[1::2]"
   ]
  },
  {
   "cell_type": "code",
   "execution_count": 35,
   "metadata": {},
   "outputs": [
    {
     "data": {
      "text/plain": [
       "array([9, 8, 7, 6, 5, 4, 3, 2, 1, 0])"
      ]
     },
     "execution_count": 35,
     "metadata": {},
     "output_type": "execute_result"
    }
   ],
   "source": [
    "#reverse the array\n",
    "x[::-1]"
   ]
  },
  {
   "cell_type": "code",
   "execution_count": 36,
   "metadata": {},
   "outputs": [
    {
     "data": {
      "text/plain": [
       "array([ 1,  2,  3,  3,  2,  1, 21, 21, 21])"
      ]
     },
     "execution_count": 36,
     "metadata": {},
     "output_type": "execute_result"
    }
   ],
   "source": [
    "#You can concatenate two or more arrays at once.\n",
    "x = np.array([1, 2, 3])\n",
    "y = np.array([3, 2, 1])\n",
    "z = [21,21,21]\n",
    "np.concatenate([x, y,z])"
   ]
  },
  {
   "cell_type": "code",
   "execution_count": 37,
   "metadata": {},
   "outputs": [
    {
     "data": {
      "text/plain": [
       "array([[1, 2, 3],\n",
       "       [4, 5, 6],\n",
       "       [1, 2, 3],\n",
       "       [4, 5, 6]])"
      ]
     },
     "execution_count": 37,
     "metadata": {},
     "output_type": "execute_result"
    }
   ],
   "source": [
    "#You can also use this function to create 2-dimensional arrays.\n",
    "grid = np.array([[1,2,3],[4,5,6]])\n",
    "np.concatenate([grid,grid])"
   ]
  },
  {
   "cell_type": "code",
   "execution_count": 38,
   "metadata": {},
   "outputs": [
    {
     "data": {
      "text/plain": [
       "array([[ 3,  4,  5],\n",
       "       [ 1,  2,  3],\n",
       "       [17, 18, 19]])"
      ]
     },
     "execution_count": 38,
     "metadata": {},
     "output_type": "execute_result"
    }
   ],
   "source": [
    "x = np.array([3,4,5])\n",
    "grid = np.array([[1,2,3],[17,18,19]])\n",
    "np.vstack([x,grid])"
   ]
  },
  {
   "cell_type": "code",
   "execution_count": 39,
   "metadata": {},
   "outputs": [
    {
     "data": {
      "text/plain": [
       "array([[ 1,  2,  3,  9],\n",
       "       [17, 18, 19,  9]])"
      ]
     },
     "execution_count": 39,
     "metadata": {},
     "output_type": "execute_result"
    }
   ],
   "source": [
    "z = np.array([[9],[9]])\n",
    "np.hstack([grid,z])"
   ]
  },
  {
   "cell_type": "code",
   "execution_count": 40,
   "metadata": {},
   "outputs": [
    {
     "name": "stdout",
     "output_type": "stream",
     "text": [
      "[0 1 2] [3 4 5] [6 7 8 9]\n"
     ]
    }
   ],
   "source": [
    "# split the arrays based on pre-defined positions. Let's see how!\n",
    "x = np.arange(10)\n",
    "x1,x2,x3 = np.split(x,[3,6])\n",
    "print(x1,x2,x3)"
   ]
  },
  {
   "cell_type": "code",
   "execution_count": 48,
   "metadata": {},
   "outputs": [],
   "source": [
    "import pandas as pd\n",
    "data = pd.DataFrame({'Country': ['Russia','Colombia','Chile','Equador','Nigeria'],\n",
    "                    'Rank':[121,40,100,130,11],'id':[None,40,100,130,11]})"
   ]
  },
  {
   "cell_type": "code",
   "execution_count": 44,
   "metadata": {},
   "outputs": [
    {
     "data": {
      "text/html": [
       "<div>\n",
       "<style scoped>\n",
       "    .dataframe tbody tr th:only-of-type {\n",
       "        vertical-align: middle;\n",
       "    }\n",
       "\n",
       "    .dataframe tbody tr th {\n",
       "        vertical-align: top;\n",
       "    }\n",
       "\n",
       "    .dataframe thead th {\n",
       "        text-align: right;\n",
       "    }\n",
       "</style>\n",
       "<table border=\"1\" class=\"dataframe\">\n",
       "  <thead>\n",
       "    <tr style=\"text-align: right;\">\n",
       "      <th></th>\n",
       "      <th>Country</th>\n",
       "      <th>Rank</th>\n",
       "      <th>id</th>\n",
       "    </tr>\n",
       "  </thead>\n",
       "  <tbody>\n",
       "    <tr>\n",
       "      <td>4</td>\n",
       "      <td>Nigeria</td>\n",
       "      <td>11</td>\n",
       "      <td>11.0</td>\n",
       "    </tr>\n",
       "    <tr>\n",
       "      <td>1</td>\n",
       "      <td>Colombia</td>\n",
       "      <td>40</td>\n",
       "      <td>40.0</td>\n",
       "    </tr>\n",
       "    <tr>\n",
       "      <td>2</td>\n",
       "      <td>Chile</td>\n",
       "      <td>100</td>\n",
       "      <td>100.0</td>\n",
       "    </tr>\n",
       "    <tr>\n",
       "      <td>0</td>\n",
       "      <td>Russia</td>\n",
       "      <td>121</td>\n",
       "      <td>NaN</td>\n",
       "    </tr>\n",
       "    <tr>\n",
       "      <td>3</td>\n",
       "      <td>Equador</td>\n",
       "      <td>130</td>\n",
       "      <td>130.0</td>\n",
       "    </tr>\n",
       "  </tbody>\n",
       "</table>\n",
       "</div>"
      ],
      "text/plain": [
       "    Country  Rank     id\n",
       "4   Nigeria    11   11.0\n",
       "1  Colombia    40   40.0\n",
       "2     Chile   100  100.0\n",
       "0    Russia   121    NaN\n",
       "3   Equador   130  130.0"
      ]
     },
     "execution_count": 44,
     "metadata": {},
     "output_type": "execute_result"
    }
   ],
   "source": [
    "data.sort_values(by='Rank')"
   ]
  },
  {
   "cell_type": "code",
   "execution_count": 45,
   "metadata": {},
   "outputs": [
    {
     "data": {
      "text/html": [
       "<div>\n",
       "<style scoped>\n",
       "    .dataframe tbody tr th:only-of-type {\n",
       "        vertical-align: middle;\n",
       "    }\n",
       "\n",
       "    .dataframe tbody tr th {\n",
       "        vertical-align: top;\n",
       "    }\n",
       "\n",
       "    .dataframe thead th {\n",
       "        text-align: right;\n",
       "    }\n",
       "</style>\n",
       "<table border=\"1\" class=\"dataframe\">\n",
       "  <thead>\n",
       "    <tr style=\"text-align: right;\">\n",
       "      <th></th>\n",
       "      <th>Country</th>\n",
       "      <th>Rank</th>\n",
       "      <th>id</th>\n",
       "    </tr>\n",
       "  </thead>\n",
       "  <tbody>\n",
       "    <tr>\n",
       "      <td>0</td>\n",
       "      <td>Russia</td>\n",
       "      <td>121</td>\n",
       "      <td>NaN</td>\n",
       "    </tr>\n",
       "    <tr>\n",
       "      <td>1</td>\n",
       "      <td>Colombia</td>\n",
       "      <td>40</td>\n",
       "      <td>40.0</td>\n",
       "    </tr>\n",
       "    <tr>\n",
       "      <td>2</td>\n",
       "      <td>Chile</td>\n",
       "      <td>100</td>\n",
       "      <td>100.0</td>\n",
       "    </tr>\n",
       "    <tr>\n",
       "      <td>3</td>\n",
       "      <td>Equador</td>\n",
       "      <td>130</td>\n",
       "      <td>130.0</td>\n",
       "    </tr>\n",
       "    <tr>\n",
       "      <td>4</td>\n",
       "      <td>Nigeria</td>\n",
       "      <td>11</td>\n",
       "      <td>11.0</td>\n",
       "    </tr>\n",
       "  </tbody>\n",
       "</table>\n",
       "</div>"
      ],
      "text/plain": [
       "    Country  Rank     id\n",
       "0    Russia   121    NaN\n",
       "1  Colombia    40   40.0\n",
       "2     Chile   100  100.0\n",
       "3   Equador   130  130.0\n",
       "4   Nigeria    11   11.0"
      ]
     },
     "execution_count": 45,
     "metadata": {},
     "output_type": "execute_result"
    }
   ],
   "source": [
    "data.drop_duplicates()"
   ]
  },
  {
   "cell_type": "code",
   "execution_count": 46,
   "metadata": {},
   "outputs": [
    {
     "name": "stdout",
     "output_type": "stream",
     "text": [
      "('s', 'sa')\n",
      "<class 'tuple'>\n",
      "['s', 'sa']\n",
      "<class 'list'>\n"
     ]
    }
   ],
   "source": [
    "from ast import literal_eval\n",
    "data =\"('s','sa')\"\n",
    "print(literal_eval(data))\n",
    "print(type(literal_eval(data)))\n",
    "data =\"['s','sa']\"\n",
    "print(literal_eval(data))\n",
    "print(type(literal_eval(data)))"
   ]
  },
  {
   "cell_type": "markdown",
   "metadata": {},
   "source": [
    "Query.one() requires that there is only one result in the result set; it is an error if the database returns 0 or 2 or more results and an exception will be raised.\n",
    "\n",
    "Query.first() returns the first of a potentially larger result set (adding LIMIT 1 to the query), or None if there were no results"
   ]
  },
  {
   "cell_type": "code",
   "execution_count": 49,
   "metadata": {},
   "outputs": [
    {
     "data": {
      "text/plain": [
       "Country   Rank\n",
       "Chile     100     100.0\n",
       "Colombia  40       40.0\n",
       "Equador   130     130.0\n",
       "Nigeria   11       11.0\n",
       "Russia    121       NaN\n",
       "Name: id, dtype: float64"
      ]
     },
     "execution_count": 49,
     "metadata": {},
     "output_type": "execute_result"
    }
   ],
   "source": [
    "#data.unstack(fill_value=0)\n",
    "data.groupby(['Country', 'Rank'])['id'].first()"
   ]
  },
  {
   "cell_type": "code",
   "execution_count": 52,
   "metadata": {},
   "outputs": [
    {
     "data": {
      "text/html": [
       "<div>\n",
       "<style scoped>\n",
       "    .dataframe tbody tr th:only-of-type {\n",
       "        vertical-align: middle;\n",
       "    }\n",
       "\n",
       "    .dataframe tbody tr th {\n",
       "        vertical-align: top;\n",
       "    }\n",
       "\n",
       "    .dataframe thead th {\n",
       "        text-align: right;\n",
       "    }\n",
       "</style>\n",
       "<table border=\"1\" class=\"dataframe\">\n",
       "  <thead>\n",
       "    <tr style=\"text-align: right;\">\n",
       "      <th>id</th>\n",
       "      <th>11.0</th>\n",
       "      <th>40.0</th>\n",
       "      <th>100.0</th>\n",
       "      <th>130.0</th>\n",
       "    </tr>\n",
       "    <tr>\n",
       "      <th>Country</th>\n",
       "      <th></th>\n",
       "      <th></th>\n",
       "      <th></th>\n",
       "      <th></th>\n",
       "    </tr>\n",
       "  </thead>\n",
       "  <tbody>\n",
       "    <tr>\n",
       "      <td>Chile</td>\n",
       "      <td>0.0</td>\n",
       "      <td>0.0</td>\n",
       "      <td>100.0</td>\n",
       "      <td>0.0</td>\n",
       "    </tr>\n",
       "    <tr>\n",
       "      <td>Colombia</td>\n",
       "      <td>0.0</td>\n",
       "      <td>40.0</td>\n",
       "      <td>0.0</td>\n",
       "      <td>0.0</td>\n",
       "    </tr>\n",
       "    <tr>\n",
       "      <td>Equador</td>\n",
       "      <td>0.0</td>\n",
       "      <td>0.0</td>\n",
       "      <td>0.0</td>\n",
       "      <td>130.0</td>\n",
       "    </tr>\n",
       "    <tr>\n",
       "      <td>Nigeria</td>\n",
       "      <td>11.0</td>\n",
       "      <td>0.0</td>\n",
       "      <td>0.0</td>\n",
       "      <td>0.0</td>\n",
       "    </tr>\n",
       "  </tbody>\n",
       "</table>\n",
       "</div>"
      ],
      "text/plain": [
       "id        11.0   40.0   100.0  130.0\n",
       "Country                             \n",
       "Chile       0.0    0.0  100.0    0.0\n",
       "Colombia    0.0   40.0    0.0    0.0\n",
       "Equador     0.0    0.0    0.0  130.0\n",
       "Nigeria    11.0    0.0    0.0    0.0"
      ]
     },
     "execution_count": 52,
     "metadata": {},
     "output_type": "execute_result"
    }
   ],
   "source": [
    "data.groupby(['Country', 'id'])['Rank'].first().unstack(fill_value=0.0)"
   ]
  },
  {
   "attachments": {
    "image.png": {
     "image/png": "[encoded data removed]"
    }
   },
   "cell_type": "markdown",
   "metadata": {},
   "source": [
    "![image.png](attachment:image.png)"
   ]
  },
  {
   "cell_type": "code",
   "execution_count": 53,
   "metadata": {},
   "outputs": [
    {
     "name": "stdout",
     "output_type": "stream",
     "text": [
      "[1, 2]\n",
      "[1, 2, '4']\n",
      "[1, 2, '4']\n"
     ]
    }
   ],
   "source": [
    "A= [1,2]\n",
    "B=A\n",
    "print(B)\n",
    "B.append('4') #pass by reference\n",
    "print(A)\n",
    "print(B)"
   ]
  },
  {
   "cell_type": "code",
   "execution_count": 54,
   "metadata": {},
   "outputs": [
    {
     "name": "stdout",
     "output_type": "stream",
     "text": [
      "[1, 2]\n",
      "[1, 2]\n",
      "[3]\n"
     ]
    }
   ],
   "source": [
    "A= [1,2]\n",
    "B=A\n",
    "print(B)\n",
    "B=[3] #pass by value\n",
    "print(A)\n",
    "print(B)"
   ]
  },
  {
   "cell_type": "code",
   "execution_count": 55,
   "metadata": {},
   "outputs": [
    {
     "data": {
      "text/plain": [
       "{'__name__': 'time',\n",
       " '__doc__': 'This module provides various functions to manipulate time values.\\n\\nThere are two standard representations of time.  One is the number\\nof seconds since the Epoch, in UTC (a.k.a. GMT).  It may be an integer\\nor a floating point number (to represent fractions of seconds).\\nThe Epoch is system-defined; on Unix, it is generally January 1st, 1970.\\nThe actual value can be retrieved by calling gmtime(0).\\n\\nThe other representation is a tuple of 9 integers giving local time.\\nThe tuple items are:\\n  year (including century, e.g. 1998)\\n  month (1-12)\\n  day (1-31)\\n  hours (0-23)\\n  minutes (0-59)\\n  seconds (0-59)\\n  weekday (0-6, Monday is 0)\\n  Julian day (day in the year, 1-366)\\n  DST (Daylight Savings Time) flag (-1, 0 or 1)\\nIf the DST flag is 0, the time is given in the regular time zone;\\nif it is 1, the time is given in the DST time zone;\\nif it is -1, mktime() should guess based on the date and time.\\n',\n",
       " '__package__': '',\n",
       " '__loader__': _frozen_importlib.BuiltinImporter,\n",
       " '__spec__': ModuleSpec(name='time', loader=<class '_frozen_importlib.BuiltinImporter'>, origin='built-in'),\n",
       " 'time': <function time.time>,\n",
       " 'time_ns': <function time.time_ns>,\n",
       " 'clock': <function time.clock>,\n",
       " 'sleep': <function time.sleep>,\n",
       " 'gmtime': <function time.gmtime>,\n",
       " 'localtime': <function time.localtime>,\n",
       " 'asctime': <function time.asctime>,\n",
       " 'ctime': <function time.ctime>,\n",
       " 'mktime': <function time.mktime>,\n",
       " 'strftime': <function time.strftime>,\n",
       " 'strptime': <function time.strptime>,\n",
       " 'tzset': <function time.tzset>,\n",
       " 'monotonic': <function time.monotonic>,\n",
       " 'monotonic_ns': <function time.monotonic_ns>,\n",
       " 'process_time': <function time.process_time>,\n",
       " 'process_time_ns': <function time.process_time_ns>,\n",
       " 'perf_counter': <function time.perf_counter>,\n",
       " 'perf_counter_ns': <function time.perf_counter_ns>,\n",
       " 'get_clock_info': <function time.get_clock_info>,\n",
       " 'timezone': -19800,\n",
       " 'altzone': -19800,\n",
       " 'daylight': 0,\n",
       " 'tzname': ('IST', 'IST'),\n",
       " '_STRUCT_TM_ITEMS': 11,\n",
       " 'struct_time': time.struct_time}"
      ]
     },
     "execution_count": 55,
     "metadata": {},
     "output_type": "execute_result"
    }
   ],
   "source": [
    "import time\n",
    "time.__dict__  #namespaces"
   ]
  },
  {
   "attachments": {
    "image.png": {
     "image/png": "[encoded data removed]"
    }
   },
   "cell_type": "markdown",
   "metadata": {},
   "source": [
    "![image.png](attachment:image.png)"
   ]
  },
  {
   "cell_type": "code",
   "execution_count": null,
   "metadata": {},
   "outputs": [],
   "source": [
    "a= lambda x:x+5\n",
    "a(2)\n",
    "b= lambda a,b:a+b\n",
    "b(2,3)\n"
   ]
  },
  {
   "cell_type": "markdown",
   "metadata": {},
   "source": [
    "__iter__ method that is called on initialization of an iterator. This should return an object that has a next or __next__ (in Python 3) method.\n",
    "next ( __next__ in Python 3) The iterator next method should return the next value for the iterable. When an iterator is used with a ‘for in’ loop, the for loop implicitly calls next()"
   ]
  },
  {
   "cell_type": "code",
   "execution_count": 56,
   "metadata": {},
   "outputs": [
    {
     "name": "stdout",
     "output_type": "stream",
     "text": [
      "1\n",
      "3\n"
     ]
    }
   ],
   "source": [
    "list1=[1,3,4,6,7]\n",
    "iterator = iter(list1) #iterator\n",
    "print(next(iterator))\n",
    "print(next(iterator))\n"
   ]
  },
  {
   "cell_type": "code",
   "execution_count": 57,
   "metadata": {},
   "outputs": [
    {
     "data": {
      "text/plain": [
       "[7, 6, 4, 3, 1]"
      ]
     },
     "execution_count": 57,
     "metadata": {},
     "output_type": "execute_result"
    }
   ],
   "source": [
    "[1,3,4,6,7][::-1]  #slicing"
   ]
  },
  {
   "cell_type": "code",
   "execution_count": 58,
   "metadata": {},
   "outputs": [
    {
     "data": {
      "text/plain": [
       "[3, 6]"
      ]
     },
     "execution_count": 58,
     "metadata": {},
     "output_type": "execute_result"
    }
   ],
   "source": [
    "[1,3,4,6,7][1::2]"
   ]
  },
  {
   "cell_type": "code",
   "execution_count": 59,
   "metadata": {},
   "outputs": [
    {
     "data": {
      "text/plain": [
       "[3]"
      ]
     },
     "execution_count": 59,
     "metadata": {},
     "output_type": "execute_result"
    }
   ],
   "source": [
    "[1,3,4,6,7][1:2]"
   ]
  },
  {
   "cell_type": "code",
   "execution_count": 60,
   "metadata": {},
   "outputs": [
    {
     "data": {
      "text/plain": [
       "' sahda'"
      ]
     },
     "execution_count": 60,
     "metadata": {},
     "output_type": "execute_result"
    }
   ],
   "source": [
    "def docstring():     #docstring\n",
    "    \"\"\" sahda\"\"\"\n",
    "docstring.__doc__"
   ]
  },
  {
   "cell_type": "code",
   "execution_count": 61,
   "metadata": {},
   "outputs": [
    {
     "name": "stdout",
     "output_type": "stream",
     "text": [
      "[1, 2, 3, 4, 5]\n",
      "[1, 2, 3, 4, 5]\n"
     ]
    }
   ],
   "source": [
    "li = [1,2,3,4,5]\n",
    "import copy \n",
    "print(li.copy())\n",
    "print(copy.deepcopy(li))\n",
    "#in case of deep copy, a copy of object is copied in other object. It means that any changes made to\n",
    "#a copy of object do not reflect in the original object"
   ]
  },
  {
   "cell_type": "code",
   "execution_count": 62,
   "metadata": {},
   "outputs": [],
   "source": [
    "a = range(1,10) \n",
    "#x = xrange(1,10)  x range take less memory not sure depriciated"
   ]
  },
  {
   "cell_type": "code",
   "execution_count": null,
   "metadata": {},
   "outputs": [],
   "source": [
    "# Explain how can you make a Python Script executable on Unix?\n",
    "\n",
    "# To make a Python Script executable on Unix, you need to do two things,\n",
    "\n",
    "# Script file's mode must be executable and\n",
    "# the first line must begin with # ( #!/usr/local/bin/python)\n",
    "#delete file os.remove (filename) \n",
    "#10//5 = 2 and 10.0//5.0 = 2.0.\n",
    "#// integer divison"
   ]
  },
  {
   "cell_type": "code",
   "execution_count": null,
   "metadata": {},
   "outputs": [],
   "source": [
    "# Python comprises of a huge standard library for most Internet platforms like Email, HTML, etc.flask\n",
    "# Python does not require explicit memory management as the interpreter itself allocates the memory to new variables and free them automatically\n",
    "# Provide easy readability due to use of square brackets\n",
    "# Easy-to-learn for beginners"
   ]
  },
  {
   "cell_type": "markdown",
   "metadata": {},
   "source": [
    "<!-- A session basically allows you to remember information from one request to another. In a flask, it uses a signed cookie so the user can look at the session contents and modify. The user can modify the session if only it has the secret key Flask.secret_key. -->\n",
    "Model view controller structure of flask\n",
    "\n",
    "<!-- Configuration part will be\n",
    "from flask import Flask\n",
    "\n",
    "app = Flask(_name_)\n",
    "\n",
    "View part will be\n",
    "@app.route(\"/\")\n",
    "\n",
    "Def hello():\n",
    "\n",
    "return \"Hello World\"\n",
    "\n",
    "While you model or main part will be\n",
    "app.run(debug = True) -->\n"
   ]
  },
  {
   "cell_type": "markdown",
   "metadata": {},
   "source": [
    "<!-- So you need to install sqlite3 command in order to create or initiate the database in Flask.\n",
    "\n",
    "Flask allows to request database in three ways\n",
    "\n",
    "before_request() : They are called before a request and pass no arguments\n",
    "after_request() : They are called after a request and pass the response that will be sent to the client\n",
    "teardown_request(): They are called in situation when exception is raised, and response are not -->"
   ]
  },
  {
   "cell_type": "code",
   "execution_count": 63,
   "metadata": {},
   "outputs": [],
   "source": [
    "# So you need to install sqlite3 command in order to create or initiate the database in Flask.\n",
    "\n",
    "# Flask allows to request database in three ways\n",
    "\n",
    "# before_request() : They are called before a request and pass no arguments\n",
    "# after_request() : They are called after a request and pass the response that will be sent to the client\n",
    "# teardown_request(): They are called in situation when exception is raised, and response are not\n",
    "\n",
    "# Arrays and lists, in Python, have the same way of storing data. But, arrays can hold only a single data type\n",
    "# elements whereas lists can hold any data type elements.\n"
   ]
  },
  {
   "cell_type": "markdown",
   "metadata": {},
   "source": [
    "#### The main role of _init_ is to initialize the values of instance members for objects. "
   ]
  },
  {
   "cell_type": "code",
   "execution_count": 64,
   "metadata": {},
   "outputs": [
    {
     "name": "stdout",
     "output_type": "stream",
     "text": [
      "XYZ\n",
      "23\n",
      "20000\n"
     ]
    }
   ],
   "source": [
    "class Employee:\n",
    "    def __init__(self, name, age,salary):\n",
    "        self.name = name\n",
    "        self.age = age\n",
    "        self.salary = 20000\n",
    "E1 = Employee(\"XYZ\", 23, 20000)\n",
    "# E1 is the instance of class Employee.\n",
    "#__init__ allocates memory for E1. \n",
    "print(E1.name)\n",
    "print(E1.age)\n",
    "print(E1.salary)"
   ]
  },
  {
   "cell_type": "code",
   "execution_count": 65,
   "metadata": {},
   "outputs": [
    {
     "name": "stdout",
     "output_type": "stream",
     "text": [
      "['Keep', 'High', 'Blue', 'The', 'Flying', 'Flag']\n"
     ]
    }
   ],
   "source": [
    "from random import shuffle\n",
    "x = ['Keep', 'The', 'Blue', 'Flag', 'Flying', 'High']\n",
    "shuffle(x)\n",
    "print(x)"
   ]
  },
  {
   "cell_type": "code",
   "execution_count": 67,
   "metadata": {},
   "outputs": [
    {
     "data": {
      "text/plain": [
       "('Utkarsh', 'utkarsh')"
      ]
     },
     "execution_count": 67,
     "metadata": {},
     "output_type": "execute_result"
    }
   ],
   "source": [
    "\"utkarsh\".capitalize(),\"utkarsh\".lower()"
   ]
  },
  {
   "cell_type": "code",
   "execution_count": 68,
   "metadata": {},
   "outputs": [
    {
     "name": "stdout",
     "output_type": "stream",
     "text": [
      "False False True True\n"
     ]
    }
   ],
   "source": [
    "print(1 is True ,not 1 , '1' in '1qwd;',1 in [1,2,3])"
   ]
  },
  {
   "cell_type": "code",
   "execution_count": null,
   "metadata": {},
   "outputs": [],
   "source": [
    "#list in python can have multiple data type while array have single\n",
    "\n",
    "a=[1,2,3,4,5,6,7,8]\n",
    "a.pop()\n",
    "print(a)\n",
    "a.pop(3)    # index\n",
    "print(a)\n",
    "a.remove(3)#value\n",
    "print(a)  "
   ]
  },
  {
   "cell_type": "code",
   "execution_count": null,
   "metadata": {},
   "outputs": [],
   "source": [
    "import threading \n",
    "  \n",
    "def print_cube(num): \n",
    "    \"\"\" \n",
    "    function to print cube of given num \n",
    "    \"\"\"\n",
    "    print(\"Cube: {}\".format(num * num * num)) \n",
    "  \n",
    "def print_square(num): \n",
    "    \"\"\" \n",
    "    function to print square of given num \n",
    "    \"\"\"\n",
    "    print(\"Square: {}\".format(num * num)) \n",
    "  \n",
    "if __name__ == \"__main__\": \n",
    "    # creating thread \n",
    "    t1 = threading.Thread(target=print_square, args=(10,)) \n",
    "    t2 = threading.Thread(target=print_cube, args=(10,)) \n",
    "  \n",
    "    # starting thread 1 \n",
    "    t1.start() \n",
    "    # starting thread 2 \n",
    "    t2.start() \n",
    "  \n",
    "    # wait until thread 1 is completely executed \n",
    "    t1.join() \n",
    "    # wait until thread 2 is completely executed \n",
    "    t2.join() \n",
    "  \n",
    "    # both threads completely executed \n",
    "    print(\"Done!\") "
   ]
  },
  {
   "cell_type": "code",
   "execution_count": null,
   "metadata": {},
   "outputs": [],
   "source": [
    "\"aasss\".split(),list('adaads')"
   ]
  },
  {
   "cell_type": "markdown",
   "metadata": {},
   "source": [
    "# m.py\n",
    "class MyClass:\n",
    "def f(self):\n",
    "print \"f()\"\n",
    "\n",
    "import m\n",
    "def monkey_f(self):\n",
    "    print(\"monkey_f()\")\n",
    " \n",
    "m.MyClass.f = monkey_f\n",
    "obj = m.MyClass()\n",
    "obj.f()\n",
    "n Python, the term monkey patch only refers to dynamic modifications of a class or module at run-time."
   ]
  },
  {
   "cell_type": "markdown",
   "metadata": {},
   "source": [
    "- An empty class is a class that does not have any code defined within its block. It can be created using the pass keyword.\n",
    "\n",
    "### Data abstraction creation of abstract method with same function name"
   ]
  },
  {
   "cell_type": "code",
   "execution_count": null,
   "metadata": {},
   "outputs": [],
   "source": [
    "from abc import ABC, abstractmethod \n",
    "class Animal(ABC): \n",
    "  \n",
    "    def move(self): \n",
    "        pass\n",
    "  \n",
    "class Human(Animal): \n",
    "  \n",
    "    def move(self): \n",
    "        print(\"I can walk and run\") \n",
    "R = Human() \n",
    "R.move() "
   ]
  },
  {
   "cell_type": "markdown",
   "metadata": {},
   "source": [
    "#### python dont have access specifier it only can have add single _  (_privateMethod ) before so that to tell api that this thing will not be constant its private means it will be change by class functions .leading underscores are used to indicate variables that must not be accessed from outside the class."
   ]
  },
  {
   "cell_type": "markdown",
   "metadata": {},
   "source": [
    "Create i relation with trend of printing on paper then do it \n",
    "her x is 1,3,5,7  so 2x+1\n",
    "blank is  8,5,2"
   ]
  },
  {
   "cell_type": "code",
   "execution_count": 69,
   "metadata": {},
   "outputs": [
    {
     "name": "stdout",
     "output_type": "stream",
     "text": [
      "        *\n",
      "8 dsdas 1\n",
      "       ***\n",
      "7 dsdas 3\n",
      "      *****\n",
      "6 dsdas 5\n",
      "     *******\n",
      "5 dsdas 7\n",
      "    *********\n",
      "4 dsdas 9\n",
      "   ***********\n",
      "3 dsdas 11\n",
      "  *************\n",
      "2 dsdas 13\n",
      " ***************\n",
      "1 dsdas 15\n",
      "*****************\n",
      "0 dsdas 17\n",
      "XXXXXX\n"
     ]
    }
   ],
   "source": [
    "def pyfunc(r):\n",
    "    for x in range(r):\n",
    "        print(' '*(r-x-1)+'*'*(2*x+1))                    \n",
    "        print((r-x-1),'dsdas',(2*x+1)) \n",
    "pyfunc(9)\n",
    "print('X'*6)   # remember"
   ]
  },
  {
   "cell_type": "markdown",
   "metadata": {},
   "source": [
    "### For counting capital letter in file\n",
    "- with open(SOME_LARGE_FILE) as fh:\n",
    "- count = 0\n",
    "- text = fh.read()\n",
    "- for character in text:\n",
    "    if character.isupper():\n",
    "count += 1"
   ]
  },
  {
   "cell_type": "markdown",
   "metadata": {},
   "source": [
    "#### write comprehension\n",
    "count sum(1 for line in fh for character in line if character.isupper())\n"
   ]
  },
  {
   "cell_type": "code",
   "execution_count": 70,
   "metadata": {},
   "outputs": [
    {
     "data": {
      "text/plain": [
       "[2, 3, 4, 5, 6, 7, 8]"
      ]
     },
     "execution_count": 70,
     "metadata": {},
     "output_type": "execute_result"
    }
   ],
   "source": [
    "list2 =[i+1 for i in [7,5,2,1,3,4,6,7]]\n",
    "list2.sort()\n",
    "list3=[i for i in set(list2)]\n",
    "list3"
   ]
  },
  {
   "cell_type": "code",
   "execution_count": 71,
   "metadata": {},
   "outputs": [
    {
     "data": {
      "text/plain": [
       "{'a': 1, 'b': 2, 'c': 4}"
      ]
     },
     "execution_count": 71,
     "metadata": {},
     "output_type": "execute_result"
    }
   ],
   "source": [
    "dict(zip(('a','b','c','d'),(1,2,4)))"
   ]
  },
  {
   "cell_type": "code",
   "execution_count": 72,
   "metadata": {},
   "outputs": [
    {
     "name": "stdout",
     "output_type": "stream",
     "text": [
      "[('a', 1), ('b', 2), ('c', 4)]\n"
     ]
    },
    {
     "data": {
      "text/plain": [
       "['a', 'b', 'c']"
      ]
     },
     "execution_count": 72,
     "metadata": {},
     "output_type": "execute_result"
    }
   ],
   "source": [
    "print([i for i in zip(('a','b','c','d'),(1,2,4))])\n",
    "[i[0] for i in zip(('a','b','c','d'),(1,2,4))]"
   ]
  },
  {
   "cell_type": "markdown",
   "metadata": {},
   "source": [
    "#### Flask\n",
    "- MVC\n",
    "- Django does a lot for you wherein you would not need to do much work. Django consists of prewritten code, which the user will need to analyze whereas Flask gives the users to create their own code, therefore, making it simpler to understand the code\n",
    "- Flask is a “microframework” primarily build for a small application with simpler requirements. In flask, you have to use external libraries. Flask is ready to use.\n",
    "- session basically allows you to remember information from one request to another. In a flask, a session uses a signed cookie so the user can look at the session contents and modify. The user can modify the session if only it has the secret key Flask.secret_key.\n",
    "#### Python\n",
    "- Less Memory\n",
    "- Fast\n",
    "- Convenient"
   ]
  },
  {
   "cell_type": "code",
   "execution_count": null,
   "metadata": {},
   "outputs": [],
   "source": [
    "5//2 ,5/2  #// floor division"
   ]
  },
  {
   "cell_type": "code",
   "execution_count": null,
   "metadata": {},
   "outputs": [],
   "source": [
    "#Spaces are not allowed in variable names.\n",
    "a b c =100"
   ]
  },
  {
   "cell_type": "markdown",
   "metadata": {},
   "source": [
    "### OOps -> \n",
    "- bottom up approach A bottom-up approach is the piecing together of module (or small program) to give rise to more complex program, thus making the original modules of the emergent program.\n",
    "- reusabiliy / polymorphis/ abstaction//inheritance\n",
    "- Class: User-defined blueprint from which objects are created. It consists of methods or set of instructions that are to be performed on the objects.\n",
    "- Structure: A structure is basically a user-defined collection of variables which are of different data types.\n",
    "- Object -> physical entity, take memory once created, can be declared whenever required\n",
    "- Class -> logical entity,does not take memory space when created,Declared just once,\n",
    "- Method overriding is a feature of OOPs by which the child class or the subclass can redefine methods present in the base class or parent class\n",
    "- finally block consists of code that is used to execute important code such as closing a connection, etc. This block executes when the try block exits. It also makes sure that finally block executes even in case some unexpected exception is encountered.\n",
    "\n",
    "#### What are the limitations of OOPs?\n",
    "- Usually not suitable for small problems\n",
    "- Requires intensive testing"
   ]
  },
  {
   "cell_type": "code",
   "execution_count": 37,
   "metadata": {},
   "outputs": [
    {
     "name": "stdout",
     "output_type": "stream",
     "text": [
      "The entry is a\n",
      "Oops! <class 'ValueError'> occured.\n",
      "Next entry.\n",
      "\n",
      "utkarsh\n",
      "The entry is 0\n",
      "Oops! <class 'ZeroDivisionError'> occured.\n",
      "Next entry.\n",
      "\n",
      "utkarsh\n",
      "The entry is 2\n",
      "utkarsh\n",
      "The reciprocal of 2 is 0.5\n",
      "file not exsist\n",
      "finally::::\n"
     ]
    }
   ],
   "source": [
    "import sys\n",
    "\n",
    "randomList = ['a', 0, 2]\n",
    "\n",
    "for entry in randomList:\n",
    "    try:\n",
    "        print(\"The entry is\", entry)\n",
    "        r = 1/int(entry)\n",
    "        break\n",
    "    except:\n",
    "        print(\"Oops!\",sys.exc_info()[0],\"occured.\")\n",
    "        print(\"Next entry.\")\n",
    "        print()\n",
    "    finally:\n",
    "        print('utkarsh')\n",
    "print(\"The reciprocal of\",entry,\"is\",r)\n",
    "\n",
    "\n",
    "try:\n",
    "    f = open('xyz.txt')\n",
    "    var = bad_var\n",
    "    pass\n",
    "except FileNotFoundError:\n",
    "    print('file not exsist')\n",
    "except Exception as e:\n",
    "    print('something wrong')\n",
    "    print(e)\n",
    "    pass\n",
    "else:\n",
    "    print(f.read())\n",
    "    f.close()\n",
    "    pass\n",
    "finally:\n",
    "    print('finally::::')\n",
    "    pass"
   ]
  },
  {
   "cell_type": "markdown",
   "metadata": {},
   "source": [
    "##### important"
   ]
  },
  {
   "cell_type": "code",
   "execution_count": 73,
   "metadata": {},
   "outputs": [
    {
     "name": "stdout",
     "output_type": "stream",
     "text": [
      "[['a', 'b'], ['c', 'd']]\n",
      "[2, 4, 6, 8]\n"
     ]
    }
   ],
   "source": [
    "x = ['ab','cd']\n",
    "print(list(map(list,x)))\n",
    "\n",
    "\n",
    "def addition(n): \n",
    "    return n + n \n",
    "  \n",
    "# We double all numbers using map() \n",
    "numbers = (1, 2, 3, 4) \n",
    "result = map(addition, numbers) \n",
    "print([*result]) "
   ]
  },
  {
   "cell_type": "code",
   "execution_count": null,
   "metadata": {},
   "outputs": [],
   "source": [
    "map_obj = map(ord, ['a', 'b', 'c', 'd'])\n",
    "print(map_obj)\n",
    "print(list(map_obj))"
   ]
  },
  {
   "cell_type": "code",
   "execution_count": null,
   "metadata": {},
   "outputs": [],
   "source": [
    "i = 1\n",
    "while i < 6:\n",
    "  print(i)\n",
    "  if i == 3:\n",
    "    break\n",
    "  i += 1"
   ]
  },
  {
   "cell_type": "markdown",
   "metadata": {},
   "source": [
    "### data type\n",
    "- Text Type:\tstr\n",
    "- Numeric Types:\tint, float, complex\n",
    "- Sequence Types:\tlist, tuple, range\n",
    "- Mapping Type:\tdict\n",
    "- Set Types:\tset, frozenset\n",
    "- Boolean Type:\tbool\n",
    "- Binary Types:\tbytes, bytearray, memoryview\n",
    "\n",
    "### Built in module \n",
    "\n",
    "- sys module\n",
    "- OS module\n",
    "- random module\n",
    "- collection module\n",
    "- JSON\n",
    "- Math module"
   ]
  },
  {
   "cell_type": "markdown",
   "metadata": {},
   "source": [
    "**Interpreted Language**: Python is an interpreted language that is used to execute the code line by line at a time. This makes debugging easy.\n",
    "\n",
    "**Highly Portable**: As Python can run on different platforms such as Unix, Macintosh, Linux, Windows, and so on. So, we can say that it is a highly portable language.\n",
    "\n",
    "**Extensible**: It ensures that the Python code can be compiled on various other languages such as C, C++ and so on.\n",
    "\n",
    "#### scrapping, list tuple ,dict,multiple package pip  np pandas\n"
   ]
  },
  {
   "cell_type": "code",
   "execution_count": 79,
   "metadata": {},
   "outputs": [
    {
     "name": "stdout",
     "output_type": "stream",
     "text": [
      "[('a', 1), ('b', 3)]\n",
      "['a', 'b']\n",
      "['a', 'b']\n",
      "[1, 3]\n"
     ]
    }
   ],
   "source": [
    "dict ={'a':1,'b':3}\n",
    "print([i for i in dict.items()])\n",
    "print([i for i in dict])\n",
    "print([i for i in dict.keys()])\n",
    "print([i for i in dict.values()])"
   ]
  },
  {
   "cell_type": "code",
   "execution_count": 80,
   "metadata": {},
   "outputs": [
    {
     "name": "stdout",
     "output_type": "stream",
     "text": [
      "[1, 5, 8, 13, 16]\n"
     ]
    }
   ],
   "source": [
    "list1 = [ \"13\", \"16\", \"1\", \"5\" , \"8\"]\n",
    "list2 = [int(x) for x in  list1]\n",
    "list2.sort() \n",
    "print(list2)   ### not list2.sort() in print remember"
   ]
  },
  {
   "cell_type": "code",
   "execution_count": 81,
   "metadata": {},
   "outputs": [
    {
     "name": "stdout",
     "output_type": "stream",
     "text": [
      "Mindmajix Online Training\n"
     ]
    }
   ],
   "source": [
    "x = [\"Mindmajix\", \"Online\", \"Training\"]\n",
    "print(\" \".join(x))"
   ]
  },
  {
   "cell_type": "code",
   "execution_count": 82,
   "metadata": {},
   "outputs": [
    {
     "name": "stdout",
     "output_type": "stream",
     "text": [
      "4 5 6 7\n"
     ]
    }
   ],
   "source": [
    "def a():\n",
    "    return 4, 5, 6, 7\n",
    "p, q, r, s = a()  \n",
    "print(p, q, r, s)"
   ]
  },
  {
   "cell_type": "code",
   "execution_count": 83,
   "metadata": {},
   "outputs": [
    {
     "name": "stdout",
     "output_type": "stream",
     "text": [
      "MindmajixMindmajixMindmajix\n"
     ]
    }
   ],
   "source": [
    "n = 3\n",
    "x = \"Mindmajix\";\n",
    "print(x*n)"
   ]
  },
  {
   "cell_type": "code",
   "execution_count": 84,
   "metadata": {},
   "outputs": [
    {
     "name": "stdout",
     "output_type": "stream",
     "text": [
      "28\n"
     ]
    }
   ],
   "source": [
    "import sys\n",
    "x = 10\n",
    "print(sys.getsizeof(x))"
   ]
  },
  {
   "cell_type": "markdown",
   "metadata": {},
   "source": [
    "### Count and Counter"
   ]
  },
  {
   "cell_type": "code",
   "execution_count": 76,
   "metadata": {},
   "outputs": [
    {
     "name": "stdout",
     "output_type": "stream",
     "text": [
      "[(1, 1), (2, 2), (3, 7), (5, 1), (7, 1), (9, 4)]\n",
      "{1, 2, 3, 5, 7, 9}\n",
      "4\n",
      "3\n",
      "9\n"
     ]
    }
   ],
   "source": [
    "test = [1, 2, 3,3,3,3,3,3, 9, 2, 7, 3, 5, 9, 9, 9]\n",
    "testSet= set(test)\n",
    "dict1=[(item,test.count(item)) for item in testSet]\n",
    "print([i for i in dict1])\n",
    "\n",
    "\n",
    "print(set(test))\n",
    "print(test.count(9))\n",
    "print(max(set(test), key = test.count))\n",
    "print(max((test)))"
   ]
  },
  {
   "cell_type": "code",
   "execution_count": 89,
   "metadata": {},
   "outputs": [
    {
     "name": "stdout",
     "output_type": "stream",
     "text": [
      "[1, 2, 2, 3, 3, 9, 9, 9, 9, 7, 5]\n",
      "[(9, 4), (2, 2), (3, 2), (1, 1), (7, 1), (5, 1)]\n",
      "(9, 4)\n",
      "(5, 1)\n",
      "[(9, 4), (2, 2), (3, 2), (1, 1), (7, 1)]\n",
      "[(1, 1), (7, 1), (5, 1)]\n",
      "[(1, 1), (5, 1)]\n"
     ]
    }
   ],
   "source": [
    "from collections import Counter \n",
    "test = [1, 2, 3, 9, 2, 7, 3, 5, 9, 9, 9]\n",
    "conterx = Counter(test)\n",
    "print(list(conterx.elements()))\n",
    "print(conterx.most_common())\n",
    "print(conterx.most_common()[0])\n",
    "print(conterx.most_common()[-1])\n",
    "print(conterx.most_common()[:-1])\n",
    "print(conterx.most_common()[-3:])   ###last threee\n",
    "print(conterx.most_common()[-3::2])   ###last threee"
   ]
  },
  {
   "cell_type": "markdown",
   "metadata": {},
   "source": [
    "**Finalize** as an object method used to free up unmanaged resources and cleanup before Garbage Collection(GC). It performs memory management tasks."
   ]
  },
  {
   "cell_type": "markdown",
   "metadata": {},
   "source": [
    "### flask db connection"
   ]
  },
  {
   "cell_type": "code",
   "execution_count": null,
   "metadata": {},
   "outputs": [],
   "source": []
  },
  {
   "cell_type": "markdown",
   "metadata": {},
   "source": [
    "### Pandas"
   ]
  },
  {
   "cell_type": "markdown",
   "metadata": {},
   "source": [
    "data structure ->  Series, and DataFrames\n",
    "#### Series : The row labels of series are called the index. By using a 'series' method, we can easily convert the list, tuple, and dictionary into series. A Series cannot contain multiple columns.\n",
    "Series.std(axis=None, skipna=None, level=None, ddof=1, numeric_only=None, **kwargs)\n",
    "A DataFrame is a widely used data structure of pandas and works with a two-dimensional array with labeled axes (rows and columns)\n",
    "\n",
    "Memory Efficient\n",
    "Data Alignment\n",
    "Reshaping\n",
    "Merge and join\n",
    "Time Series\n",
    "\n",
    "#### del df.index.name\n",
    "#### df.drop_duplicates()\n",
    "####  drop() "
   ]
  },
  {
   "cell_type": "code",
   "execution_count": 93,
   "metadata": {},
   "outputs": [
    {
     "data": {
      "text/html": [
       "<div>\n",
       "<style scoped>\n",
       "    .dataframe tbody tr th:only-of-type {\n",
       "        vertical-align: middle;\n",
       "    }\n",
       "\n",
       "    .dataframe tbody tr th {\n",
       "        vertical-align: top;\n",
       "    }\n",
       "\n",
       "    .dataframe thead th {\n",
       "        text-align: right;\n",
       "    }\n",
       "</style>\n",
       "<table border=\"1\" class=\"dataframe\">\n",
       "  <thead>\n",
       "    <tr style=\"text-align: right;\">\n",
       "      <th></th>\n",
       "      <th>0</th>\n",
       "    </tr>\n",
       "  </thead>\n",
       "  <tbody>\n",
       "    <tr>\n",
       "      <td>0</td>\n",
       "      <td>Python</td>\n",
       "    </tr>\n",
       "    <tr>\n",
       "      <td>1</td>\n",
       "      <td>Pandas</td>\n",
       "    </tr>\n",
       "  </tbody>\n",
       "</table>\n",
       "</div>"
      ],
      "text/plain": [
       "        0\n",
       "0  Python\n",
       "1  Pandas"
      ]
     },
     "metadata": {},
     "output_type": "display_data"
    },
    {
     "name": "stdout",
     "output_type": "stream",
     "text": [
      "    ID Department\n",
      "0  101       B.Sc\n",
      "1  102     B.Tech\n",
      "2  103     M.Tech\n",
      "SERIES\n",
      "x    0.0\n",
      "y    1.0\n",
      "z    2.0\n",
      "dtype: float64\n"
     ]
    }
   ],
   "source": [
    "import pandas as pd    \n",
    "# a list of strings    \n",
    "a = ['Python', 'Pandas']    \n",
    "# Calling DataFrame constructor on list    \n",
    "display(pd.DataFrame(a))\n",
    "info = {'ID' :[101, 102, 103],'Department' :['B.Sc','B.Tech','M.Tech',]}    \n",
    "info = pd.DataFrame(info)    \n",
    "print (info)   \n",
    "info = {'x' : 0., 'y' : 1., 'z' : 2.}    \n",
    "a = pd.Series(info)  \n",
    "print(\"SERIES\") \n",
    "print(a)   "
   ]
  },
  {
   "cell_type": "code",
   "execution_count": 94,
   "metadata": {},
   "outputs": [
    {
     "name": "stdout",
     "output_type": "stream",
     "text": [
      "Empty DataFrame\n",
      "Columns: []\n",
      "Index: []\n"
     ]
    }
   ],
   "source": [
    "import pandas as pd    \n",
    "info = pd.DataFrame()    \n",
    "print (info)  "
   ]
  },
  {
   "cell_type": "code",
   "execution_count": 97,
   "metadata": {},
   "outputs": [
    {
     "name": "stdout",
     "output_type": "stream",
     "text": [
      "Add new column by passing series\n",
      "   one  two  three\n",
      "a  1.0    1   20.0\n",
      "b  2.0    2   40.0\n",
      "c  3.0    3   60.0\n",
      "d  4.0    4    NaN\n",
      "e  5.0    5    NaN\n",
      "f  NaN    6    NaN\n",
      "Add new column using existing DataFrame columns\n",
      "   one  two  three  four\n",
      "a  1.0    1   20.0  21.0\n",
      "b  2.0    2   40.0  42.0\n",
      "c  3.0    3   60.0  63.0\n",
      "d  4.0    4    NaN   NaN\n",
      "e  5.0    5    NaN   NaN\n",
      "f  NaN    6    NaN   NaN\n"
     ]
    },
    {
     "data": {
      "text/html": [
       "<div>\n",
       "<style scoped>\n",
       "    .dataframe tbody tr th:only-of-type {\n",
       "        vertical-align: middle;\n",
       "    }\n",
       "\n",
       "    .dataframe tbody tr th {\n",
       "        vertical-align: top;\n",
       "    }\n",
       "\n",
       "    .dataframe thead th {\n",
       "        text-align: right;\n",
       "    }\n",
       "</style>\n",
       "<table border=\"1\" class=\"dataframe\">\n",
       "  <thead>\n",
       "    <tr style=\"text-align: right;\">\n",
       "      <th></th>\n",
       "      <th>one</th>\n",
       "      <th>two</th>\n",
       "      <th>three</th>\n",
       "      <th>asd</th>\n",
       "    </tr>\n",
       "  </thead>\n",
       "  <tbody>\n",
       "    <tr>\n",
       "      <td>a</td>\n",
       "      <td>1.0</td>\n",
       "      <td>1</td>\n",
       "      <td>20.0</td>\n",
       "      <td>21.0</td>\n",
       "    </tr>\n",
       "    <tr>\n",
       "      <td>b</td>\n",
       "      <td>2.0</td>\n",
       "      <td>2</td>\n",
       "      <td>40.0</td>\n",
       "      <td>42.0</td>\n",
       "    </tr>\n",
       "    <tr>\n",
       "      <td>c</td>\n",
       "      <td>3.0</td>\n",
       "      <td>3</td>\n",
       "      <td>60.0</td>\n",
       "      <td>63.0</td>\n",
       "    </tr>\n",
       "    <tr>\n",
       "      <td>d</td>\n",
       "      <td>4.0</td>\n",
       "      <td>4</td>\n",
       "      <td>NaN</td>\n",
       "      <td>NaN</td>\n",
       "    </tr>\n",
       "    <tr>\n",
       "      <td>e</td>\n",
       "      <td>5.0</td>\n",
       "      <td>5</td>\n",
       "      <td>NaN</td>\n",
       "      <td>NaN</td>\n",
       "    </tr>\n",
       "    <tr>\n",
       "      <td>f</td>\n",
       "      <td>NaN</td>\n",
       "      <td>6</td>\n",
       "      <td>NaN</td>\n",
       "      <td>NaN</td>\n",
       "    </tr>\n",
       "  </tbody>\n",
       "</table>\n",
       "</div>"
      ],
      "text/plain": [
       "   one  two  three   asd\n",
       "a  1.0    1   20.0  21.0\n",
       "b  2.0    2   40.0  42.0\n",
       "c  3.0    3   60.0  63.0\n",
       "d  4.0    4    NaN   NaN\n",
       "e  5.0    5    NaN   NaN\n",
       "f  NaN    6    NaN   NaN"
      ]
     },
     "execution_count": 97,
     "metadata": {},
     "output_type": "execute_result"
    }
   ],
   "source": [
    "# importing the pandas library    \n",
    "import pandas as pd      \n",
    "info = {'one' : pd.Series([1, 2, 3, 4, 5], index=['a', 'b', 'c', 'd', 'e']),    \n",
    "             'two' : pd.Series([1, 2, 3, 4, 5, 6], index=['a', 'b', 'c', 'd', 'e', 'f'])}    \n",
    "   \n",
    "info = pd.DataFrame(info)    \n",
    "    \n",
    "# Add a new column to an existing DataFrame object     \n",
    "    \n",
    "print (\"Add new column by passing series\")    \n",
    "info['three']=pd.Series([20,40,60],index=['a','b','c'])    \n",
    "print (info)    \n",
    "print (\"Add new column using existing DataFrame columns\")    \n",
    "info['four']=info['one']+info['three']    \n",
    "print (info)   \n",
    "info.rename(columns={'four':'asd'})"
   ]
  },
  {
   "cell_type": "code",
   "execution_count": 98,
   "metadata": {},
   "outputs": [
    {
     "data": {
      "text/plain": [
       "0    2\n",
       "1    4\n",
       "2    6\n",
       "dtype: int64"
      ]
     },
     "execution_count": 98,
     "metadata": {},
     "output_type": "execute_result"
    }
   ],
   "source": [
    "#How to get the items of series A not present in series B?\n",
    "import pandas as pd  \n",
    "p1 = pd.Series([2, 4, 6, 8, 10])  \n",
    "p2 = pd.Series([8, 10, 12, 14, 16])  \n",
    "p1[~p1.isin(p2)]  "
   ]
  },
  {
   "cell_type": "code",
   "execution_count": 80,
   "metadata": {},
   "outputs": [
    {
     "name": "stdout",
     "output_type": "stream",
     "text": [
      "[ 2  4  6  8 10 12 14 16]\n",
      "[ 8 10]\n",
      "0    10\n",
      "1    14\n",
      "2    14\n",
      "3    14\n",
      "4    26\n",
      "dtype: int64\n"
     ]
    }
   ],
   "source": [
    "import pandas as pd  \n",
    "import numpy as np  \n",
    "p1 = pd.Series([2, 4, 6, 8, 10])  \n",
    "p2 = pd.Series([8, 10, 12, 14, 16])  \n",
    "p1[~p1.isin(p2)]  \n",
    "print(np.union1d(p1, p2))\n",
    "print(np.intersect1d(p1, p2))\n",
    "p_u = pd.Series(np.union1d(p1, p2))  # union  \n",
    "p_i = pd.Series(np.intersect1d(p1, p2))  # intersect  \n",
    "p_u[~p_u.isin(p_i)]  \n",
    "print(p1|p2)"
   ]
  },
  {
   "cell_type": "code",
   "execution_count": 100,
   "metadata": {},
   "outputs": [
    {
     "data": {
      "text/plain": [
       "0     2\n",
       "1     4\n",
       "2     6\n",
       "5    12\n",
       "6    14\n",
       "7    16\n",
       "dtype: int64"
      ]
     },
     "execution_count": 100,
     "metadata": {},
     "output_type": "execute_result"
    }
   ],
   "source": [
    "import pandas as pd  \n",
    "import numpy as np  \n",
    "p1 = pd.Series([2, 4, 6, 8, 10])  \n",
    "p2 = pd.Series([8, 10, 12, 14, 16])  \n",
    "p1[~p1.isin(p2)]  \n",
    "p_u = pd.Series(np.union1d(p1, p2))  # union  \n",
    "p_i = pd.Series(np.intersect1d(p1, p2))  # intersect  \n",
    "p_u[~p_u.isin(p_i)]  "
   ]
  },
  {
   "cell_type": "code",
   "execution_count": 101,
   "metadata": {},
   "outputs": [
    {
     "data": {
      "text/plain": [
       "[2, 4, 6, 8, 10]"
      ]
     },
     "execution_count": 101,
     "metadata": {},
     "output_type": "execute_result"
    }
   ],
   "source": [
    "list(p1)"
   ]
  },
  {
   "cell_type": "code",
   "execution_count": 106,
   "metadata": {},
   "outputs": [
    {
     "data": {
      "text/plain": [
       "array([ 4.61498692, 12.15572753, 14.67780756, 17.58054104, 33.24975515])"
      ]
     },
     "execution_count": 106,
     "metadata": {},
     "output_type": "execute_result"
    }
   ],
   "source": [
    "#### percentile\n",
    "state = np.random.RandomState(120)  \n",
    "p = pd.Series(state.normal(14, 6, 22))  \n",
    "np.percentile(p, q=[0, 25, 50, 75, 100])  \n"
   ]
  },
  {
   "cell_type": "code",
   "execution_count": 110,
   "metadata": {},
   "outputs": [
    {
     "name": "stdout",
     "output_type": "stream",
     "text": [
      "0     p\n",
      "1     r\n",
      "2     t\n",
      "3     t\n",
      "4     p\n",
      "5     r\n",
      "6     p\n",
      "7     r\n",
      "8     s\n",
      "9     r\n",
      "10    q\n",
      "11    p\n",
      "12    u\n",
      "13    s\n",
      "14    s\n",
      "15    s\n",
      "16    t\n",
      "dtype: object\n"
     ]
    },
    {
     "data": {
      "text/plain": [
       "p    4\n",
       "s    4\n",
       "r    4\n",
       "t    3\n",
       "q    1\n",
       "u    1\n",
       "dtype: int64"
      ]
     },
     "execution_count": 110,
     "metadata": {},
     "output_type": "execute_result"
    }
   ],
   "source": [
    "# How to get frequency counts of unique items of a series?\n",
    "# We can calculate the frequency counts of each unique value p as below example:\n",
    "\n",
    "import pandas as pd  \n",
    "import numpy as np  \n",
    "p = pd.Series(np.take(list('pqrstu'), np.random.randint(6, size=17))) \n",
    "print(p)\n",
    "p.value_counts()  "
   ]
  },
  {
   "cell_type": "markdown",
   "metadata": {},
   "source": [
    "#### How to convert a numpy array to a dataframe of given shape"
   ]
  },
  {
   "cell_type": "code",
   "execution_count": 115,
   "metadata": {},
   "outputs": [
    {
     "name": "stdout",
     "output_type": "stream",
     "text": [
      "(35,)\n",
      "0     1\n",
      "1     1\n",
      "2     4\n",
      "3     6\n",
      "4     4\n",
      "5     3\n",
      "6     2\n",
      "7     5\n",
      "8     6\n",
      "9     5\n",
      "10    4\n",
      "11    6\n",
      "12    2\n",
      "13    2\n",
      "14    6\n",
      "15    4\n",
      "16    4\n",
      "17    4\n",
      "18    1\n",
      "19    3\n",
      "20    5\n",
      "21    2\n",
      "22    4\n",
      "23    1\n",
      "24    3\n",
      "25    2\n",
      "26    3\n",
      "27    4\n",
      "28    1\n",
      "29    1\n",
      "30    4\n",
      "31    4\n",
      "32    3\n",
      "33    2\n",
      "34    1\n",
      "dtype: int64\n",
      "(5, 7)\n",
      "   0  1  2  3  4  5  6\n",
      "0  1  1  4  6  4  3  2\n",
      "1  5  6  5  4  6  2  2\n",
      "2  6  4  4  4  1  3  5\n",
      "3  2  4  1  3  2  3  4\n",
      "4  1  1  4  4  3  2  1\n"
     ]
    }
   ],
   "source": [
    "# Input  \n",
    "p = pd.Series(np.random.randint(1, 7, 35)) \n",
    "print(p.shape)\n",
    "print(p)\n",
    "info = pd.DataFrame(p.values.reshape(5,-1))   #values.reshape remmeber\n",
    "print(info.shape)  \n",
    "print(info)  "
   ]
  },
  {
   "cell_type": "code",
   "execution_count": 117,
   "metadata": {},
   "outputs": [
    {
     "data": {
      "text/html": [
       "<div>\n",
       "<style scoped>\n",
       "    .dataframe tbody tr th:only-of-type {\n",
       "        vertical-align: middle;\n",
       "    }\n",
       "\n",
       "    .dataframe tbody tr th {\n",
       "        vertical-align: top;\n",
       "    }\n",
       "\n",
       "    .dataframe thead th {\n",
       "        text-align: right;\n",
       "    }\n",
       "</style>\n",
       "<table border=\"1\" class=\"dataframe\">\n",
       "  <thead>\n",
       "    <tr style=\"text-align: right;\">\n",
       "      <th></th>\n",
       "      <th>0</th>\n",
       "      <th>1</th>\n",
       "      <th>2</th>\n",
       "      <th>3</th>\n",
       "      <th>4</th>\n",
       "      <th>5</th>\n",
       "      <th>6</th>\n",
       "    </tr>\n",
       "  </thead>\n",
       "  <tbody>\n",
       "    <tr>\n",
       "      <td>0</td>\n",
       "      <td>1</td>\n",
       "      <td>1</td>\n",
       "      <td>4</td>\n",
       "      <td>6</td>\n",
       "      <td>4</td>\n",
       "      <td>3</td>\n",
       "      <td>2</td>\n",
       "    </tr>\n",
       "    <tr>\n",
       "      <td>1</td>\n",
       "      <td>5</td>\n",
       "      <td>6</td>\n",
       "      <td>5</td>\n",
       "      <td>4</td>\n",
       "      <td>6</td>\n",
       "      <td>2</td>\n",
       "      <td>2</td>\n",
       "    </tr>\n",
       "    <tr>\n",
       "      <td>2</td>\n",
       "      <td>6</td>\n",
       "      <td>4</td>\n",
       "      <td>4</td>\n",
       "      <td>4</td>\n",
       "      <td>1</td>\n",
       "      <td>3</td>\n",
       "      <td>5</td>\n",
       "    </tr>\n",
       "    <tr>\n",
       "      <td>3</td>\n",
       "      <td>2</td>\n",
       "      <td>4</td>\n",
       "      <td>1</td>\n",
       "      <td>3</td>\n",
       "      <td>2</td>\n",
       "      <td>3</td>\n",
       "      <td>4</td>\n",
       "    </tr>\n",
       "    <tr>\n",
       "      <td>4</td>\n",
       "      <td>1</td>\n",
       "      <td>1</td>\n",
       "      <td>4</td>\n",
       "      <td>4</td>\n",
       "      <td>3</td>\n",
       "      <td>2</td>\n",
       "      <td>1</td>\n",
       "    </tr>\n",
       "  </tbody>\n",
       "</table>\n",
       "</div>"
      ],
      "text/plain": [
       "   0  1  2  3  4  5  6\n",
       "0  1  1  4  6  4  3  2\n",
       "1  5  6  5  4  6  2  2\n",
       "2  6  4  4  4  1  3  5\n",
       "3  2  4  1  3  2  3  4\n",
       "4  1  1  4  4  3  2  1"
      ]
     },
     "execution_count": 117,
     "metadata": {},
     "output_type": "execute_result"
    }
   ],
   "source": [
    "pd.DataFrame(info)   ##converted to dataframe"
   ]
  },
  {
   "cell_type": "markdown",
   "metadata": {},
   "source": [
    "#### R- series to dataframe"
   ]
  },
  {
   "cell_type": "code",
   "execution_count": 120,
   "metadata": {},
   "outputs": [
    {
     "data": {
      "text/html": [
       "<div>\n",
       "<style scoped>\n",
       "    .dataframe tbody tr th:only-of-type {\n",
       "        vertical-align: middle;\n",
       "    }\n",
       "\n",
       "    .dataframe tbody tr th {\n",
       "        vertical-align: top;\n",
       "    }\n",
       "\n",
       "    .dataframe thead th {\n",
       "        text-align: right;\n",
       "    }\n",
       "</style>\n",
       "<table border=\"1\" class=\"dataframe\">\n",
       "  <thead>\n",
       "    <tr style=\"text-align: right;\">\n",
       "      <th></th>\n",
       "      <th>vals</th>\n",
       "    </tr>\n",
       "  </thead>\n",
       "  <tbody>\n",
       "    <tr>\n",
       "      <td>0</td>\n",
       "      <td>a</td>\n",
       "    </tr>\n",
       "    <tr>\n",
       "      <td>1</td>\n",
       "      <td>b</td>\n",
       "    </tr>\n",
       "    <tr>\n",
       "      <td>2</td>\n",
       "      <td>c</td>\n",
       "    </tr>\n",
       "  </tbody>\n",
       "</table>\n",
       "</div>"
      ],
      "text/plain": [
       "  vals\n",
       "0    a\n",
       "1    b\n",
       "2    c"
      ]
     },
     "execution_count": 120,
     "metadata": {},
     "output_type": "execute_result"
    }
   ],
   "source": [
    "s = pd.Series([\"a\", \"b\", \"c\"],    \n",
    "name=\"vals\")    \n",
    "s.to_frame()    "
   ]
  },
  {
   "cell_type": "markdown",
   "metadata": {},
   "source": [
    "#### Numerical Python (Numpy) is defined as a Python package used for performing the various numerical computations and processing of the multidimensional and single-dimensional array elements. The calculations using Numpy arrays are faster than the normal Python array."
   ]
  },
  {
   "cell_type": "code",
   "execution_count": 124,
   "metadata": {},
   "outputs": [
    {
     "data": {
      "text/plain": [
       "array([[1, 1, 4, 6, 4, 3, 2],\n",
       "       [5, 6, 5, 4, 6, 2, 2],\n",
       "       [6, 4, 4, 4, 1, 3, 5],\n",
       "       [2, 4, 1, 3, 2, 3, 4],\n",
       "       [1, 1, 4, 4, 3, 2, 1]])"
      ]
     },
     "execution_count": 124,
     "metadata": {},
     "output_type": "execute_result"
    }
   ],
   "source": [
    "## df to numpy\n",
    "pd.DataFrame(info).to_numpy()"
   ]
  },
  {
   "cell_type": "code",
   "execution_count": 125,
   "metadata": {},
   "outputs": [
    {
     "data": {
      "text/plain": [
       "array(['a', 'b', 'c'], dtype=object)"
      ]
     },
     "execution_count": 125,
     "metadata": {},
     "output_type": "execute_result"
    }
   ],
   "source": [
    "## series to numpy\n",
    "pd.Series([\"a\", \"b\", \"c\"]).to_numpy()"
   ]
  },
  {
   "cell_type": "code",
   "execution_count": 136,
   "metadata": {},
   "outputs": [
    {
     "data": {
      "text/html": [
       "<div>\n",
       "<style scoped>\n",
       "    .dataframe tbody tr th:only-of-type {\n",
       "        vertical-align: middle;\n",
       "    }\n",
       "\n",
       "    .dataframe tbody tr th {\n",
       "        vertical-align: top;\n",
       "    }\n",
       "\n",
       "    .dataframe thead th {\n",
       "        text-align: right;\n",
       "    }\n",
       "</style>\n",
       "<table border=\"1\" class=\"dataframe\">\n",
       "  <thead>\n",
       "    <tr style=\"text-align: right;\">\n",
       "      <th></th>\n",
       "      <th>number</th>\n",
       "    </tr>\n",
       "  </thead>\n",
       "  <tbody>\n",
       "    <tr>\n",
       "      <td>0</td>\n",
       "      <td>1</td>\n",
       "    </tr>\n",
       "    <tr>\n",
       "      <td>4</td>\n",
       "      <td>2</td>\n",
       "    </tr>\n",
       "    <tr>\n",
       "      <td>3</td>\n",
       "      <td>3</td>\n",
       "    </tr>\n",
       "    <tr>\n",
       "      <td>1</td>\n",
       "      <td>4</td>\n",
       "    </tr>\n",
       "    <tr>\n",
       "      <td>2</td>\n",
       "      <td>5</td>\n",
       "    </tr>\n",
       "    <tr>\n",
       "      <td>6</td>\n",
       "      <td>8</td>\n",
       "    </tr>\n",
       "    <tr>\n",
       "      <td>5</td>\n",
       "      <td>9</td>\n",
       "    </tr>\n",
       "  </tbody>\n",
       "</table>\n",
       "</div>"
      ],
      "text/plain": [
       "   number\n",
       "0       1\n",
       "4       2\n",
       "3       3\n",
       "1       4\n",
       "2       5\n",
       "6       8\n",
       "5       9"
      ]
     },
     "execution_count": 136,
     "metadata": {},
     "output_type": "execute_result"
    }
   ],
   "source": [
    "pd.DataFrame({'number':[1,4,5,3,2,9,8]}).sort_values(by='number')\n",
    "##by default ascending is true for else ascending=False"
   ]
  },
  {
   "cell_type": "markdown",
   "metadata": {},
   "source": [
    "#### with reset index\n",
    "\n",
    "drop is true else it will not delete older index"
   ]
  },
  {
   "cell_type": "code",
   "execution_count": 140,
   "metadata": {},
   "outputs": [
    {
     "data": {
      "text/html": [
       "<div>\n",
       "<style scoped>\n",
       "    .dataframe tbody tr th:only-of-type {\n",
       "        vertical-align: middle;\n",
       "    }\n",
       "\n",
       "    .dataframe tbody tr th {\n",
       "        vertical-align: top;\n",
       "    }\n",
       "\n",
       "    .dataframe thead th {\n",
       "        text-align: right;\n",
       "    }\n",
       "</style>\n",
       "<table border=\"1\" class=\"dataframe\">\n",
       "  <thead>\n",
       "    <tr style=\"text-align: right;\">\n",
       "      <th></th>\n",
       "      <th>number</th>\n",
       "    </tr>\n",
       "  </thead>\n",
       "  <tbody>\n",
       "    <tr>\n",
       "      <td>0</td>\n",
       "      <td>1</td>\n",
       "    </tr>\n",
       "    <tr>\n",
       "      <td>1</td>\n",
       "      <td>2</td>\n",
       "    </tr>\n",
       "    <tr>\n",
       "      <td>2</td>\n",
       "      <td>3</td>\n",
       "    </tr>\n",
       "    <tr>\n",
       "      <td>3</td>\n",
       "      <td>4</td>\n",
       "    </tr>\n",
       "    <tr>\n",
       "      <td>4</td>\n",
       "      <td>5</td>\n",
       "    </tr>\n",
       "    <tr>\n",
       "      <td>5</td>\n",
       "      <td>8</td>\n",
       "    </tr>\n",
       "    <tr>\n",
       "      <td>6</td>\n",
       "      <td>9</td>\n",
       "    </tr>\n",
       "  </tbody>\n",
       "</table>\n",
       "</div>"
      ],
      "text/plain": [
       "   number\n",
       "0       1\n",
       "1       2\n",
       "2       3\n",
       "3       4\n",
       "4       5\n",
       "5       8\n",
       "6       9"
      ]
     },
     "execution_count": 140,
     "metadata": {},
     "output_type": "execute_result"
    }
   ],
   "source": [
    "pd.DataFrame({'number':[1,4,5,3,2,9,8]}).sort_values(by='number').reset_index(drop=True)   "
   ]
  },
  {
   "cell_type": "code",
   "execution_count": 145,
   "metadata": {},
   "outputs": [
    {
     "data": {
      "text/html": [
       "<div>\n",
       "<style scoped>\n",
       "    .dataframe tbody tr th:only-of-type {\n",
       "        vertical-align: middle;\n",
       "    }\n",
       "\n",
       "    .dataframe tbody tr th {\n",
       "        vertical-align: top;\n",
       "    }\n",
       "\n",
       "    .dataframe thead th {\n",
       "        text-align: right;\n",
       "    }\n",
       "</style>\n",
       "<table border=\"1\" class=\"dataframe\">\n",
       "  <thead>\n",
       "    <tr style=\"text-align: right;\">\n",
       "      <th></th>\n",
       "    </tr>\n",
       "    <tr>\n",
       "      <th>number</th>\n",
       "    </tr>\n",
       "  </thead>\n",
       "  <tbody>\n",
       "    <tr>\n",
       "      <td>1</td>\n",
       "    </tr>\n",
       "    <tr>\n",
       "      <td>4</td>\n",
       "    </tr>\n",
       "    <tr>\n",
       "      <td>5</td>\n",
       "    </tr>\n",
       "    <tr>\n",
       "      <td>3</td>\n",
       "    </tr>\n",
       "    <tr>\n",
       "      <td>2</td>\n",
       "    </tr>\n",
       "    <tr>\n",
       "      <td>9</td>\n",
       "    </tr>\n",
       "    <tr>\n",
       "      <td>8</td>\n",
       "    </tr>\n",
       "  </tbody>\n",
       "</table>\n",
       "</div>"
      ],
      "text/plain": [
       "Empty DataFrame\n",
       "Columns: []\n",
       "Index: [1, 4, 5, 3, 2, 9, 8]"
      ]
     },
     "execution_count": 145,
     "metadata": {},
     "output_type": "execute_result"
    }
   ],
   "source": [
    "df=pd.DataFrame({'number':[1,4,5,3,2,9,8]})\n",
    "df.set_index('number', inplace=True)\n",
    "df"
   ]
  },
  {
   "cell_type": "code",
   "execution_count": 146,
   "metadata": {},
   "outputs": [
    {
     "data": {
      "text/html": [
       "<div>\n",
       "<style scoped>\n",
       "    .dataframe tbody tr th:only-of-type {\n",
       "        vertical-align: middle;\n",
       "    }\n",
       "\n",
       "    .dataframe tbody tr th {\n",
       "        vertical-align: top;\n",
       "    }\n",
       "\n",
       "    .dataframe thead th {\n",
       "        text-align: right;\n",
       "    }\n",
       "</style>\n",
       "<table border=\"1\" class=\"dataframe\">\n",
       "  <thead>\n",
       "    <tr style=\"text-align: right;\">\n",
       "      <th></th>\n",
       "    </tr>\n",
       "    <tr>\n",
       "      <th>number</th>\n",
       "    </tr>\n",
       "  </thead>\n",
       "  <tbody>\n",
       "    <tr>\n",
       "      <td>4</td>\n",
       "    </tr>\n",
       "    <tr>\n",
       "      <td>5</td>\n",
       "    </tr>\n",
       "  </tbody>\n",
       "</table>\n",
       "</div>"
      ],
      "text/plain": [
       "Empty DataFrame\n",
       "Columns: []\n",
       "Index: [4, 5]"
      ]
     },
     "execution_count": 146,
     "metadata": {},
     "output_type": "execute_result"
    }
   ],
   "source": [
    "df.iloc[1:3,:] # with index replace we can sort or get value in that range"
   ]
  },
  {
   "cell_type": "code",
   "execution_count": 155,
   "metadata": {},
   "outputs": [
    {
     "data": {
      "text/html": [
       "<div>\n",
       "<style scoped>\n",
       "    .dataframe tbody tr th:only-of-type {\n",
       "        vertical-align: middle;\n",
       "    }\n",
       "\n",
       "    .dataframe tbody tr th {\n",
       "        vertical-align: top;\n",
       "    }\n",
       "\n",
       "    .dataframe thead th {\n",
       "        text-align: right;\n",
       "    }\n",
       "</style>\n",
       "<table border=\"1\" class=\"dataframe\">\n",
       "  <thead>\n",
       "    <tr style=\"text-align: right;\">\n",
       "      <th></th>\n",
       "      <th>number</th>\n",
       "      <th>B</th>\n",
       "    </tr>\n",
       "  </thead>\n",
       "  <tbody>\n",
       "    <tr>\n",
       "      <td>0</td>\n",
       "      <td>1</td>\n",
       "      <td>1</td>\n",
       "    </tr>\n",
       "    <tr>\n",
       "      <td>1</td>\n",
       "      <td>4</td>\n",
       "      <td>4</td>\n",
       "    </tr>\n",
       "    <tr>\n",
       "      <td>2</td>\n",
       "      <td>5</td>\n",
       "      <td>8</td>\n",
       "    </tr>\n",
       "    <tr>\n",
       "      <td>3</td>\n",
       "      <td>3</td>\n",
       "      <td>5</td>\n",
       "    </tr>\n",
       "    <tr>\n",
       "      <td>4</td>\n",
       "      <td>2</td>\n",
       "      <td>2</td>\n",
       "    </tr>\n",
       "    <tr>\n",
       "      <td>5</td>\n",
       "      <td>9</td>\n",
       "      <td>3</td>\n",
       "    </tr>\n",
       "    <tr>\n",
       "      <td>6</td>\n",
       "      <td>8</td>\n",
       "      <td>0</td>\n",
       "    </tr>\n",
       "  </tbody>\n",
       "</table>\n",
       "</div>"
      ],
      "text/plain": [
       "   number  B\n",
       "0       1  1\n",
       "1       4  4\n",
       "2       5  8\n",
       "3       3  5\n",
       "4       2  2\n",
       "5       9  3\n",
       "6       8  0"
      ]
     },
     "metadata": {},
     "output_type": "display_data"
    },
    {
     "data": {
      "text/html": [
       "<div>\n",
       "<style scoped>\n",
       "    .dataframe tbody tr th:only-of-type {\n",
       "        vertical-align: middle;\n",
       "    }\n",
       "\n",
       "    .dataframe tbody tr th {\n",
       "        vertical-align: top;\n",
       "    }\n",
       "\n",
       "    .dataframe thead tr th {\n",
       "        text-align: left;\n",
       "    }\n",
       "\n",
       "    .dataframe thead tr:last-of-type th {\n",
       "        text-align: right;\n",
       "    }\n",
       "</style>\n",
       "<table border=\"1\" class=\"dataframe\">\n",
       "  <thead>\n",
       "    <tr>\n",
       "      <th></th>\n",
       "      <th>B</th>\n",
       "    </tr>\n",
       "    <tr>\n",
       "      <th></th>\n",
       "      <th>min</th>\n",
       "    </tr>\n",
       "    <tr>\n",
       "      <th>number</th>\n",
       "      <th></th>\n",
       "    </tr>\n",
       "  </thead>\n",
       "  <tbody>\n",
       "    <tr>\n",
       "      <td>1</td>\n",
       "      <td>1</td>\n",
       "    </tr>\n",
       "    <tr>\n",
       "      <td>2</td>\n",
       "      <td>2</td>\n",
       "    </tr>\n",
       "    <tr>\n",
       "      <td>3</td>\n",
       "      <td>5</td>\n",
       "    </tr>\n",
       "    <tr>\n",
       "      <td>4</td>\n",
       "      <td>4</td>\n",
       "    </tr>\n",
       "    <tr>\n",
       "      <td>5</td>\n",
       "      <td>8</td>\n",
       "    </tr>\n",
       "    <tr>\n",
       "      <td>8</td>\n",
       "      <td>0</td>\n",
       "    </tr>\n",
       "    <tr>\n",
       "      <td>9</td>\n",
       "      <td>3</td>\n",
       "    </tr>\n",
       "  </tbody>\n",
       "</table>\n",
       "</div>"
      ],
      "text/plain": [
       "         B\n",
       "       min\n",
       "number    \n",
       "1        1\n",
       "2        2\n",
       "3        5\n",
       "4        4\n",
       "5        8\n",
       "8        0\n",
       "9        3"
      ]
     },
     "execution_count": 155,
     "metadata": {},
     "output_type": "execute_result"
    }
   ],
   "source": [
    "df=pd.DataFrame({'number':[1,4,5,3,2,9,8],'B': [1,4,8,5,2,3,0]})\n",
    "display(df)\n",
    "df.groupby('number').agg(['min', 'max'])"
   ]
  },
  {
   "cell_type": "markdown",
   "metadata": {},
   "source": [
    "### Group By"
   ]
  },
  {
   "cell_type": "code",
   "execution_count": 156,
   "metadata": {},
   "outputs": [],
   "source": [
    "from sklearn import datasets"
   ]
  },
  {
   "cell_type": "code",
   "execution_count": 161,
   "metadata": {},
   "outputs": [
    {
     "data": {
      "text/plain": [
       "{'data': array([[5.1, 3.5, 1.4, 0.2],\n",
       "        [4.9, 3. , 1.4, 0.2],\n",
       "        [4.7, 3.2, 1.3, 0.2],\n",
       "        [4.6, 3.1, 1.5, 0.2],\n",
       "        [5. , 3.6, 1.4, 0.2],\n",
       "        [5.4, 3.9, 1.7, 0.4],\n",
       "        [4.6, 3.4, 1.4, 0.3],\n",
       "        [5. , 3.4, 1.5, 0.2],\n",
       "        [4.4, 2.9, 1.4, 0.2],\n",
       "        [4.9, 3.1, 1.5, 0.1],\n",
       "        [5.4, 3.7, 1.5, 0.2],\n",
       "        [4.8, 3.4, 1.6, 0.2],\n",
       "        [4.8, 3. , 1.4, 0.1],\n",
       "        [4.3, 3. , 1.1, 0.1],\n",
       "        [5.8, 4. , 1.2, 0.2],\n",
       "        [5.7, 4.4, 1.5, 0.4],\n",
       "        [5.4, 3.9, 1.3, 0.4],\n",
       "        [5.1, 3.5, 1.4, 0.3],\n",
       "        [5.7, 3.8, 1.7, 0.3],\n",
       "        [5.1, 3.8, 1.5, 0.3],\n",
       "        [5.4, 3.4, 1.7, 0.2],\n",
       "        [5.1, 3.7, 1.5, 0.4],\n",
       "        [4.6, 3.6, 1. , 0.2],\n",
       "        [5.1, 3.3, 1.7, 0.5],\n",
       "        [4.8, 3.4, 1.9, 0.2],\n",
       "        [5. , 3. , 1.6, 0.2],\n",
       "        [5. , 3.4, 1.6, 0.4],\n",
       "        [5.2, 3.5, 1.5, 0.2],\n",
       "        [5.2, 3.4, 1.4, 0.2],\n",
       "        [4.7, 3.2, 1.6, 0.2],\n",
       "        [4.8, 3.1, 1.6, 0.2],\n",
       "        [5.4, 3.4, 1.5, 0.4],\n",
       "        [5.2, 4.1, 1.5, 0.1],\n",
       "        [5.5, 4.2, 1.4, 0.2],\n",
       "        [4.9, 3.1, 1.5, 0.2],\n",
       "        [5. , 3.2, 1.2, 0.2],\n",
       "        [5.5, 3.5, 1.3, 0.2],\n",
       "        [4.9, 3.6, 1.4, 0.1],\n",
       "        [4.4, 3. , 1.3, 0.2],\n",
       "        [5.1, 3.4, 1.5, 0.2],\n",
       "        [5. , 3.5, 1.3, 0.3],\n",
       "        [4.5, 2.3, 1.3, 0.3],\n",
       "        [4.4, 3.2, 1.3, 0.2],\n",
       "        [5. , 3.5, 1.6, 0.6],\n",
       "        [5.1, 3.8, 1.9, 0.4],\n",
       "        [4.8, 3. , 1.4, 0.3],\n",
       "        [5.1, 3.8, 1.6, 0.2],\n",
       "        [4.6, 3.2, 1.4, 0.2],\n",
       "        [5.3, 3.7, 1.5, 0.2],\n",
       "        [5. , 3.3, 1.4, 0.2],\n",
       "        [7. , 3.2, 4.7, 1.4],\n",
       "        [6.4, 3.2, 4.5, 1.5],\n",
       "        [6.9, 3.1, 4.9, 1.5],\n",
       "        [5.5, 2.3, 4. , 1.3],\n",
       "        [6.5, 2.8, 4.6, 1.5],\n",
       "        [5.7, 2.8, 4.5, 1.3],\n",
       "        [6.3, 3.3, 4.7, 1.6],\n",
       "        [4.9, 2.4, 3.3, 1. ],\n",
       "        [6.6, 2.9, 4.6, 1.3],\n",
       "        [5.2, 2.7, 3.9, 1.4],\n",
       "        [5. , 2. , 3.5, 1. ],\n",
       "        [5.9, 3. , 4.2, 1.5],\n",
       "        [6. , 2.2, 4. , 1. ],\n",
       "        [6.1, 2.9, 4.7, 1.4],\n",
       "        [5.6, 2.9, 3.6, 1.3],\n",
       "        [6.7, 3.1, 4.4, 1.4],\n",
       "        [5.6, 3. , 4.5, 1.5],\n",
       "        [5.8, 2.7, 4.1, 1. ],\n",
       "        [6.2, 2.2, 4.5, 1.5],\n",
       "        [5.6, 2.5, 3.9, 1.1],\n",
       "        [5.9, 3.2, 4.8, 1.8],\n",
       "        [6.1, 2.8, 4. , 1.3],\n",
       "        [6.3, 2.5, 4.9, 1.5],\n",
       "        [6.1, 2.8, 4.7, 1.2],\n",
       "        [6.4, 2.9, 4.3, 1.3],\n",
       "        [6.6, 3. , 4.4, 1.4],\n",
       "        [6.8, 2.8, 4.8, 1.4],\n",
       "        [6.7, 3. , 5. , 1.7],\n",
       "        [6. , 2.9, 4.5, 1.5],\n",
       "        [5.7, 2.6, 3.5, 1. ],\n",
       "        [5.5, 2.4, 3.8, 1.1],\n",
       "        [5.5, 2.4, 3.7, 1. ],\n",
       "        [5.8, 2.7, 3.9, 1.2],\n",
       "        [6. , 2.7, 5.1, 1.6],\n",
       "        [5.4, 3. , 4.5, 1.5],\n",
       "        [6. , 3.4, 4.5, 1.6],\n",
       "        [6.7, 3.1, 4.7, 1.5],\n",
       "        [6.3, 2.3, 4.4, 1.3],\n",
       "        [5.6, 3. , 4.1, 1.3],\n",
       "        [5.5, 2.5, 4. , 1.3],\n",
       "        [5.5, 2.6, 4.4, 1.2],\n",
       "        [6.1, 3. , 4.6, 1.4],\n",
       "        [5.8, 2.6, 4. , 1.2],\n",
       "        [5. , 2.3, 3.3, 1. ],\n",
       "        [5.6, 2.7, 4.2, 1.3],\n",
       "        [5.7, 3. , 4.2, 1.2],\n",
       "        [5.7, 2.9, 4.2, 1.3],\n",
       "        [6.2, 2.9, 4.3, 1.3],\n",
       "        [5.1, 2.5, 3. , 1.1],\n",
       "        [5.7, 2.8, 4.1, 1.3],\n",
       "        [6.3, 3.3, 6. , 2.5],\n",
       "        [5.8, 2.7, 5.1, 1.9],\n",
       "        [7.1, 3. , 5.9, 2.1],\n",
       "        [6.3, 2.9, 5.6, 1.8],\n",
       "        [6.5, 3. , 5.8, 2.2],\n",
       "        [7.6, 3. , 6.6, 2.1],\n",
       "        [4.9, 2.5, 4.5, 1.7],\n",
       "        [7.3, 2.9, 6.3, 1.8],\n",
       "        [6.7, 2.5, 5.8, 1.8],\n",
       "        [7.2, 3.6, 6.1, 2.5],\n",
       "        [6.5, 3.2, 5.1, 2. ],\n",
       "        [6.4, 2.7, 5.3, 1.9],\n",
       "        [6.8, 3. , 5.5, 2.1],\n",
       "        [5.7, 2.5, 5. , 2. ],\n",
       "        [5.8, 2.8, 5.1, 2.4],\n",
       "        [6.4, 3.2, 5.3, 2.3],\n",
       "        [6.5, 3. , 5.5, 1.8],\n",
       "        [7.7, 3.8, 6.7, 2.2],\n",
       "        [7.7, 2.6, 6.9, 2.3],\n",
       "        [6. , 2.2, 5. , 1.5],\n",
       "        [6.9, 3.2, 5.7, 2.3],\n",
       "        [5.6, 2.8, 4.9, 2. ],\n",
       "        [7.7, 2.8, 6.7, 2. ],\n",
       "        [6.3, 2.7, 4.9, 1.8],\n",
       "        [6.7, 3.3, 5.7, 2.1],\n",
       "        [7.2, 3.2, 6. , 1.8],\n",
       "        [6.2, 2.8, 4.8, 1.8],\n",
       "        [6.1, 3. , 4.9, 1.8],\n",
       "        [6.4, 2.8, 5.6, 2.1],\n",
       "        [7.2, 3. , 5.8, 1.6],\n",
       "        [7.4, 2.8, 6.1, 1.9],\n",
       "        [7.9, 3.8, 6.4, 2. ],\n",
       "        [6.4, 2.8, 5.6, 2.2],\n",
       "        [6.3, 2.8, 5.1, 1.5],\n",
       "        [6.1, 2.6, 5.6, 1.4],\n",
       "        [7.7, 3. , 6.1, 2.3],\n",
       "        [6.3, 3.4, 5.6, 2.4],\n",
       "        [6.4, 3.1, 5.5, 1.8],\n",
       "        [6. , 3. , 4.8, 1.8],\n",
       "        [6.9, 3.1, 5.4, 2.1],\n",
       "        [6.7, 3.1, 5.6, 2.4],\n",
       "        [6.9, 3.1, 5.1, 2.3],\n",
       "        [5.8, 2.7, 5.1, 1.9],\n",
       "        [6.8, 3.2, 5.9, 2.3],\n",
       "        [6.7, 3.3, 5.7, 2.5],\n",
       "        [6.7, 3. , 5.2, 2.3],\n",
       "        [6.3, 2.5, 5. , 1.9],\n",
       "        [6.5, 3. , 5.2, 2. ],\n",
       "        [6.2, 3.4, 5.4, 2.3],\n",
       "        [5.9, 3. , 5.1, 1.8]]),\n",
       " 'target': array([0, 0, 0, 0, 0, 0, 0, 0, 0, 0, 0, 0, 0, 0, 0, 0, 0, 0, 0, 0, 0, 0,\n",
       "        0, 0, 0, 0, 0, 0, 0, 0, 0, 0, 0, 0, 0, 0, 0, 0, 0, 0, 0, 0, 0, 0,\n",
       "        0, 0, 0, 0, 0, 0, 1, 1, 1, 1, 1, 1, 1, 1, 1, 1, 1, 1, 1, 1, 1, 1,\n",
       "        1, 1, 1, 1, 1, 1, 1, 1, 1, 1, 1, 1, 1, 1, 1, 1, 1, 1, 1, 1, 1, 1,\n",
       "        1, 1, 1, 1, 1, 1, 1, 1, 1, 1, 1, 1, 2, 2, 2, 2, 2, 2, 2, 2, 2, 2,\n",
       "        2, 2, 2, 2, 2, 2, 2, 2, 2, 2, 2, 2, 2, 2, 2, 2, 2, 2, 2, 2, 2, 2,\n",
       "        2, 2, 2, 2, 2, 2, 2, 2, 2, 2, 2, 2, 2, 2, 2, 2, 2, 2]),\n",
       " 'target_names': array(['setosa', 'versicolor', 'virginica'], dtype='<U10'),\n",
       " 'DESCR': '.. _iris_dataset:\\n\\nIris plants dataset\\n--------------------\\n\\n**Data Set Characteristics:**\\n\\n    :Number of Instances: 150 (50 in each of three classes)\\n    :Number of Attributes: 4 numeric, predictive attributes and the class\\n    :Attribute Information:\\n        - sepal length in cm\\n        - sepal width in cm\\n        - petal length in cm\\n        - petal width in cm\\n        - class:\\n                - Iris-Setosa\\n                - Iris-Versicolour\\n                - Iris-Virginica\\n                \\n    :Summary Statistics:\\n\\n    ============== ==== ==== ======= ===== ====================\\n                    Min  Max   Mean    SD   Class Correlation\\n    ============== ==== ==== ======= ===== ====================\\n    sepal length:   4.3  7.9   5.84   0.83    0.7826\\n    sepal width:    2.0  4.4   3.05   0.43   -0.4194\\n    petal length:   1.0  6.9   3.76   1.76    0.9490  (high!)\\n    petal width:    0.1  2.5   1.20   0.76    0.9565  (high!)\\n    ============== ==== ==== ======= ===== ====================\\n\\n    :Missing Attribute Values: None\\n    :Class Distribution: 33.3% for each of 3 classes.\\n    :Creator: R.A. Fisher\\n    :Donor: Michael Marshall (MARSHALL%PLU@io.arc.nasa.gov)\\n    :Date: July, 1988\\n\\nThe famous Iris database, first used by Sir R.A. Fisher. The dataset is taken\\nfrom Fisher\\'s paper. Note that it\\'s the same as in R, but not as in the UCI\\nMachine Learning Repository, which has two wrong data points.\\n\\nThis is perhaps the best known database to be found in the\\npattern recognition literature.  Fisher\\'s paper is a classic in the field and\\nis referenced frequently to this day.  (See Duda & Hart, for example.)  The\\ndata set contains 3 classes of 50 instances each, where each class refers to a\\ntype of iris plant.  One class is linearly separable from the other 2; the\\nlatter are NOT linearly separable from each other.\\n\\n.. topic:: References\\n\\n   - Fisher, R.A. \"The use of multiple measurements in taxonomic problems\"\\n     Annual Eugenics, 7, Part II, 179-188 (1936); also in \"Contributions to\\n     Mathematical Statistics\" (John Wiley, NY, 1950).\\n   - Duda, R.O., & Hart, P.E. (1973) Pattern Classification and Scene Analysis.\\n     (Q327.D83) John Wiley & Sons.  ISBN 0-471-22361-1.  See page 218.\\n   - Dasarathy, B.V. (1980) \"Nosing Around the Neighborhood: A New System\\n     Structure and Classification Rule for Recognition in Partially Exposed\\n     Environments\".  IEEE Transactions on Pattern Analysis and Machine\\n     Intelligence, Vol. PAMI-2, No. 1, 67-71.\\n   - Gates, G.W. (1972) \"The Reduced Nearest Neighbor Rule\".  IEEE Transactions\\n     on Information Theory, May 1972, 431-433.\\n   - See also: 1988 MLC Proceedings, 54-64.  Cheeseman et al\"s AUTOCLASS II\\n     conceptual clustering system finds 3 classes in the data.\\n   - Many, many more ...',\n",
       " 'feature_names': ['sepal length (cm)',\n",
       "  'sepal width (cm)',\n",
       "  'petal length (cm)',\n",
       "  'petal width (cm)'],\n",
       " 'filename': '/Users/utkarsh/anaconda3/lib/python3.7/site-packages/sklearn/datasets/data/iris.csv'}"
      ]
     },
     "execution_count": 161,
     "metadata": {},
     "output_type": "execute_result"
    }
   ],
   "source": [
    "iris = datasets.load_iris()\n",
    "iris"
   ]
  },
  {
   "cell_type": "code",
   "execution_count": 162,
   "metadata": {},
   "outputs": [],
   "source": [
    "data1 = pd.DataFrame(data= np.c_[iris['data'], iris['target']],\n",
    "                     columns= iris['feature_names'] + ['target'])"
   ]
  },
  {
   "cell_type": "code",
   "execution_count": 163,
   "metadata": {},
   "outputs": [
    {
     "data": {
      "text/html": [
       "<div>\n",
       "<style scoped>\n",
       "    .dataframe tbody tr th:only-of-type {\n",
       "        vertical-align: middle;\n",
       "    }\n",
       "\n",
       "    .dataframe tbody tr th {\n",
       "        vertical-align: top;\n",
       "    }\n",
       "\n",
       "    .dataframe thead th {\n",
       "        text-align: right;\n",
       "    }\n",
       "</style>\n",
       "<table border=\"1\" class=\"dataframe\">\n",
       "  <thead>\n",
       "    <tr style=\"text-align: right;\">\n",
       "      <th></th>\n",
       "      <th>sepal length (cm)</th>\n",
       "      <th>sepal width (cm)</th>\n",
       "      <th>petal length (cm)</th>\n",
       "      <th>petal width (cm)</th>\n",
       "      <th>target</th>\n",
       "    </tr>\n",
       "  </thead>\n",
       "  <tbody>\n",
       "    <tr>\n",
       "      <td>0</td>\n",
       "      <td>5.1</td>\n",
       "      <td>3.5</td>\n",
       "      <td>1.4</td>\n",
       "      <td>0.2</td>\n",
       "      <td>0.0</td>\n",
       "    </tr>\n",
       "    <tr>\n",
       "      <td>1</td>\n",
       "      <td>4.9</td>\n",
       "      <td>3.0</td>\n",
       "      <td>1.4</td>\n",
       "      <td>0.2</td>\n",
       "      <td>0.0</td>\n",
       "    </tr>\n",
       "    <tr>\n",
       "      <td>2</td>\n",
       "      <td>4.7</td>\n",
       "      <td>3.2</td>\n",
       "      <td>1.3</td>\n",
       "      <td>0.2</td>\n",
       "      <td>0.0</td>\n",
       "    </tr>\n",
       "    <tr>\n",
       "      <td>3</td>\n",
       "      <td>4.6</td>\n",
       "      <td>3.1</td>\n",
       "      <td>1.5</td>\n",
       "      <td>0.2</td>\n",
       "      <td>0.0</td>\n",
       "    </tr>\n",
       "    <tr>\n",
       "      <td>4</td>\n",
       "      <td>5.0</td>\n",
       "      <td>3.6</td>\n",
       "      <td>1.4</td>\n",
       "      <td>0.2</td>\n",
       "      <td>0.0</td>\n",
       "    </tr>\n",
       "    <tr>\n",
       "      <td>...</td>\n",
       "      <td>...</td>\n",
       "      <td>...</td>\n",
       "      <td>...</td>\n",
       "      <td>...</td>\n",
       "      <td>...</td>\n",
       "    </tr>\n",
       "    <tr>\n",
       "      <td>145</td>\n",
       "      <td>6.7</td>\n",
       "      <td>3.0</td>\n",
       "      <td>5.2</td>\n",
       "      <td>2.3</td>\n",
       "      <td>2.0</td>\n",
       "    </tr>\n",
       "    <tr>\n",
       "      <td>146</td>\n",
       "      <td>6.3</td>\n",
       "      <td>2.5</td>\n",
       "      <td>5.0</td>\n",
       "      <td>1.9</td>\n",
       "      <td>2.0</td>\n",
       "    </tr>\n",
       "    <tr>\n",
       "      <td>147</td>\n",
       "      <td>6.5</td>\n",
       "      <td>3.0</td>\n",
       "      <td>5.2</td>\n",
       "      <td>2.0</td>\n",
       "      <td>2.0</td>\n",
       "    </tr>\n",
       "    <tr>\n",
       "      <td>148</td>\n",
       "      <td>6.2</td>\n",
       "      <td>3.4</td>\n",
       "      <td>5.4</td>\n",
       "      <td>2.3</td>\n",
       "      <td>2.0</td>\n",
       "    </tr>\n",
       "    <tr>\n",
       "      <td>149</td>\n",
       "      <td>5.9</td>\n",
       "      <td>3.0</td>\n",
       "      <td>5.1</td>\n",
       "      <td>1.8</td>\n",
       "      <td>2.0</td>\n",
       "    </tr>\n",
       "  </tbody>\n",
       "</table>\n",
       "<p>150 rows × 5 columns</p>\n",
       "</div>"
      ],
      "text/plain": [
       "     sepal length (cm)  sepal width (cm)  petal length (cm)  petal width (cm)  \\\n",
       "0                  5.1               3.5                1.4               0.2   \n",
       "1                  4.9               3.0                1.4               0.2   \n",
       "2                  4.7               3.2                1.3               0.2   \n",
       "3                  4.6               3.1                1.5               0.2   \n",
       "4                  5.0               3.6                1.4               0.2   \n",
       "..                 ...               ...                ...               ...   \n",
       "145                6.7               3.0                5.2               2.3   \n",
       "146                6.3               2.5                5.0               1.9   \n",
       "147                6.5               3.0                5.2               2.0   \n",
       "148                6.2               3.4                5.4               2.3   \n",
       "149                5.9               3.0                5.1               1.8   \n",
       "\n",
       "     target  \n",
       "0       0.0  \n",
       "1       0.0  \n",
       "2       0.0  \n",
       "3       0.0  \n",
       "4       0.0  \n",
       "..      ...  \n",
       "145     2.0  \n",
       "146     2.0  \n",
       "147     2.0  \n",
       "148     2.0  \n",
       "149     2.0  \n",
       "\n",
       "[150 rows x 5 columns]"
      ]
     },
     "execution_count": 163,
     "metadata": {},
     "output_type": "execute_result"
    }
   ],
   "source": [
    "data1"
   ]
  },
  {
   "cell_type": "code",
   "execution_count": 164,
   "metadata": {},
   "outputs": [
    {
     "data": {
      "text/plain": [
       "<pandas.core.groupby.generic.DataFrameGroupBy object at 0x11d549828>"
      ]
     },
     "execution_count": 164,
     "metadata": {},
     "output_type": "execute_result"
    }
   ],
   "source": [
    "data1.groupby(['target'])"
   ]
  },
  {
   "cell_type": "markdown",
   "metadata": {},
   "source": [
    "#### R get element of group"
   ]
  },
  {
   "cell_type": "code",
   "execution_count": 168,
   "metadata": {},
   "outputs": [
    {
     "data": {
      "text/html": [
       "<div>\n",
       "<style scoped>\n",
       "    .dataframe tbody tr th:only-of-type {\n",
       "        vertical-align: middle;\n",
       "    }\n",
       "\n",
       "    .dataframe tbody tr th {\n",
       "        vertical-align: top;\n",
       "    }\n",
       "\n",
       "    .dataframe thead th {\n",
       "        text-align: right;\n",
       "    }\n",
       "</style>\n",
       "<table border=\"1\" class=\"dataframe\">\n",
       "  <thead>\n",
       "    <tr style=\"text-align: right;\">\n",
       "      <th></th>\n",
       "      <th>sepal length (cm)</th>\n",
       "      <th>sepal width (cm)</th>\n",
       "      <th>petal length (cm)</th>\n",
       "      <th>petal width (cm)</th>\n",
       "      <th>target</th>\n",
       "    </tr>\n",
       "  </thead>\n",
       "  <tbody>\n",
       "    <tr>\n",
       "      <td>100</td>\n",
       "      <td>6.3</td>\n",
       "      <td>3.3</td>\n",
       "      <td>6.0</td>\n",
       "      <td>2.5</td>\n",
       "      <td>2.0</td>\n",
       "    </tr>\n",
       "    <tr>\n",
       "      <td>101</td>\n",
       "      <td>5.8</td>\n",
       "      <td>2.7</td>\n",
       "      <td>5.1</td>\n",
       "      <td>1.9</td>\n",
       "      <td>2.0</td>\n",
       "    </tr>\n",
       "    <tr>\n",
       "      <td>102</td>\n",
       "      <td>7.1</td>\n",
       "      <td>3.0</td>\n",
       "      <td>5.9</td>\n",
       "      <td>2.1</td>\n",
       "      <td>2.0</td>\n",
       "    </tr>\n",
       "    <tr>\n",
       "      <td>103</td>\n",
       "      <td>6.3</td>\n",
       "      <td>2.9</td>\n",
       "      <td>5.6</td>\n",
       "      <td>1.8</td>\n",
       "      <td>2.0</td>\n",
       "    </tr>\n",
       "    <tr>\n",
       "      <td>104</td>\n",
       "      <td>6.5</td>\n",
       "      <td>3.0</td>\n",
       "      <td>5.8</td>\n",
       "      <td>2.2</td>\n",
       "      <td>2.0</td>\n",
       "    </tr>\n",
       "  </tbody>\n",
       "</table>\n",
       "</div>"
      ],
      "text/plain": [
       "     sepal length (cm)  sepal width (cm)  petal length (cm)  petal width (cm)  \\\n",
       "100                6.3               3.3                6.0               2.5   \n",
       "101                5.8               2.7                5.1               1.9   \n",
       "102                7.1               3.0                5.9               2.1   \n",
       "103                6.3               2.9                5.6               1.8   \n",
       "104                6.5               3.0                5.8               2.2   \n",
       "\n",
       "     target  \n",
       "100     2.0  \n",
       "101     2.0  \n",
       "102     2.0  \n",
       "103     2.0  \n",
       "104     2.0  "
      ]
     },
     "execution_count": 168,
     "metadata": {},
     "output_type": "execute_result"
    }
   ],
   "source": [
    "data1.groupby(['target']).get_group(2.0).head()"
   ]
  },
  {
   "cell_type": "markdown",
   "metadata": {},
   "source": [
    "### R size of each group"
   ]
  },
  {
   "cell_type": "code",
   "execution_count": 169,
   "metadata": {},
   "outputs": [
    {
     "data": {
      "text/plain": [
       "target\n",
       "0.0    50\n",
       "1.0    50\n",
       "2.0    50\n",
       "dtype: int64"
      ]
     },
     "execution_count": 169,
     "metadata": {},
     "output_type": "execute_result"
    }
   ],
   "source": [
    "data1.groupby(['target']).size()"
   ]
  },
  {
   "cell_type": "markdown",
   "metadata": {},
   "source": [
    "### R Add filter over groups"
   ]
  },
  {
   "cell_type": "code",
   "execution_count": 171,
   "metadata": {},
   "outputs": [
    {
     "data": {
      "text/plain": [
       "sepal length (cm)\n",
       "0    89\n",
       "1    61\n",
       "dtype: int64"
      ]
     },
     "execution_count": 171,
     "metadata": {},
     "output_type": "execute_result"
    }
   ],
   "source": [
    "data1.groupby(\n",
    "  data1['sepal length (cm)'].apply(lambda x: 1 if(x>6) else 0)\n",
    ").size()"
   ]
  },
  {
   "cell_type": "markdown",
   "metadata": {},
   "source": [
    "### R min max first sum join many more can be done"
   ]
  },
  {
   "cell_type": "code",
   "execution_count": 190,
   "metadata": {},
   "outputs": [
    {
     "data": {
      "text/html": [
       "<div>\n",
       "<style scoped>\n",
       "    .dataframe tbody tr th:only-of-type {\n",
       "        vertical-align: middle;\n",
       "    }\n",
       "\n",
       "    .dataframe tbody tr th {\n",
       "        vertical-align: top;\n",
       "    }\n",
       "\n",
       "    .dataframe thead tr th {\n",
       "        text-align: left;\n",
       "    }\n",
       "\n",
       "    .dataframe thead tr:last-of-type th {\n",
       "        text-align: right;\n",
       "    }\n",
       "</style>\n",
       "<table border=\"1\" class=\"dataframe\">\n",
       "  <thead>\n",
       "    <tr>\n",
       "      <th></th>\n",
       "      <th colspan=\"2\" halign=\"left\">sepal length (cm)</th>\n",
       "      <th colspan=\"3\" halign=\"left\">sepal width (cm)</th>\n",
       "      <th>petal length (cm)</th>\n",
       "    </tr>\n",
       "    <tr>\n",
       "      <th></th>\n",
       "      <th>sum</th>\n",
       "      <th>mean</th>\n",
       "      <th>min</th>\n",
       "      <th>max</th>\n",
       "      <th>first</th>\n",
       "      <th>join</th>\n",
       "    </tr>\n",
       "    <tr>\n",
       "      <th>target</th>\n",
       "      <th></th>\n",
       "      <th></th>\n",
       "      <th></th>\n",
       "      <th></th>\n",
       "      <th></th>\n",
       "      <th></th>\n",
       "    </tr>\n",
       "  </thead>\n",
       "  <tbody>\n",
       "    <tr>\n",
       "      <td>0.0</td>\n",
       "      <td>250.3</td>\n",
       "      <td>5.006</td>\n",
       "      <td>2.3</td>\n",
       "      <td>4.4</td>\n",
       "      <td>3.5</td>\n",
       "      <td>1.4,1.4,1.3,1.5,1.4,1.7,1.4,1.5,1.4,1.5,1.5,1....</td>\n",
       "    </tr>\n",
       "    <tr>\n",
       "      <td>1.0</td>\n",
       "      <td>296.8</td>\n",
       "      <td>5.936</td>\n",
       "      <td>2.0</td>\n",
       "      <td>3.4</td>\n",
       "      <td>3.2</td>\n",
       "      <td>4.7,4.5,4.9,4.0,4.6,4.5,4.7,3.3,4.6,3.9,3.5,4....</td>\n",
       "    </tr>\n",
       "    <tr>\n",
       "      <td>2.0</td>\n",
       "      <td>329.4</td>\n",
       "      <td>6.588</td>\n",
       "      <td>2.2</td>\n",
       "      <td>3.8</td>\n",
       "      <td>3.3</td>\n",
       "      <td>6.0,5.1,5.9,5.6,5.8,6.6,4.5,6.3,5.8,6.1,5.1,5....</td>\n",
       "    </tr>\n",
       "  </tbody>\n",
       "</table>\n",
       "</div>"
      ],
      "text/plain": [
       "       sepal length (cm)        sepal width (cm)             \\\n",
       "                     sum   mean              min  max first   \n",
       "target                                                        \n",
       "0.0                250.3  5.006              2.3  4.4   3.5   \n",
       "1.0                296.8  5.936              2.0  3.4   3.2   \n",
       "2.0                329.4  6.588              2.2  3.8   3.3   \n",
       "\n",
       "                                        petal length (cm)  \n",
       "                                                     join  \n",
       "target                                                     \n",
       "0.0     1.4,1.4,1.3,1.5,1.4,1.7,1.4,1.5,1.4,1.5,1.5,1....  \n",
       "1.0     4.7,4.5,4.9,4.0,4.6,4.5,4.7,3.3,4.6,3.9,3.5,4....  \n",
       "2.0     6.0,5.1,5.9,5.6,5.8,6.6,4.5,6.3,5.8,6.1,5.1,5....  "
      ]
     },
     "execution_count": 190,
     "metadata": {},
     "output_type": "execute_result"
    }
   ],
   "source": [
    "data1['petal length (cm)']=data1['petal length (cm)'].astype('str')\n",
    "data1.groupby(['target']).agg({\n",
    "    'sepal length (cm)':['sum','mean'] ,\n",
    "    'sepal width (cm)':['min','max','first'],              #first return first element from group of item\n",
    "    'petal length (cm)':','.join,\n",
    "})"
   ]
  },
  {
   "cell_type": "code",
   "execution_count": 182,
   "metadata": {},
   "outputs": [],
   "source": [
    "df2=data1.groupby(['target']).agg({\n",
    "    'sepal length (cm)':['sum','mean'] ,\n",
    "    'sepal width (cm)':['min','max'],\n",
    "    'petal length (cm)':'max'\n",
    "})"
   ]
  },
  {
   "cell_type": "code",
   "execution_count": 181,
   "metadata": {},
   "outputs": [
    {
     "data": {
      "text/plain": [
       "target\n",
       "0.0    2.3\n",
       "1.0    2.0\n",
       "2.0    2.2\n",
       "Name: min, dtype: float64"
      ]
     },
     "execution_count": 181,
     "metadata": {},
     "output_type": "execute_result"
    }
   ],
   "source": [
    "df2['sepal width (cm)']['min']"
   ]
  },
  {
   "cell_type": "code",
   "execution_count": 192,
   "metadata": {},
   "outputs": [
    {
     "data": {
      "text/plain": [
       "<matplotlib.axes._subplots.AxesSubplot at 0x1a2059a9b0>"
      ]
     },
     "execution_count": 192,
     "metadata": {},
     "output_type": "execute_result"
    },
    {
     "data": {
      "image/png": "[encoded data removed]",
      "text/plain": [
       "<Figure size 432x288 with 1 Axes>"
      ]
     },
     "metadata": {
      "needs_background": "light"
     },
     "output_type": "display_data"
    }
   ],
   "source": [
    "import seaborn as sns\n",
    "sns.kdeplot(data1['sepal length (cm)'])   ##coln name with data"
   ]
  },
  {
   "cell_type": "code",
   "execution_count": 205,
   "metadata": {},
   "outputs": [
    {
     "data": {
      "text/plain": [
       "<matplotlib.axes._subplots.AxesSubplot at 0x1a2121cd68>"
      ]
     },
     "execution_count": 205,
     "metadata": {},
     "output_type": "execute_result"
    },
    {
     "data": {
      "image/png": "[encoded data removed]",
      "text/plain": [
       "<Figure size 432x288 with 1 Axes>"
      ]
     },
     "metadata": {
      "needs_background": "light"
     },
     "output_type": "display_data"
    }
   ],
   "source": [
    "sns.kdeplot(data1['petal length (cm)'],data1['petal width (cm)'],kind='kde', shade=True) "
   ]
  },
  {
   "cell_type": "markdown",
   "metadata": {},
   "source": [
    "### R"
   ]
  },
  {
   "cell_type": "code",
   "execution_count": 49,
   "metadata": {},
   "outputs": [
    {
     "data": {
      "text/html": [
       "<div>\n",
       "<style scoped>\n",
       "    .dataframe tbody tr th:only-of-type {\n",
       "        vertical-align: middle;\n",
       "    }\n",
       "\n",
       "    .dataframe tbody tr th {\n",
       "        vertical-align: top;\n",
       "    }\n",
       "\n",
       "    .dataframe thead th {\n",
       "        text-align: right;\n",
       "    }\n",
       "</style>\n",
       "<table border=\"1\" class=\"dataframe\">\n",
       "  <thead>\n",
       "    <tr style=\"text-align: right;\">\n",
       "      <th></th>\n",
       "      <th>id</th>\n",
       "      <th>name</th>\n",
       "      <th>fitness.height</th>\n",
       "      <th>fitness.weight</th>\n",
       "    </tr>\n",
       "  </thead>\n",
       "  <tbody>\n",
       "    <tr>\n",
       "      <td>0</td>\n",
       "      <td>1.0</td>\n",
       "      <td>Cole Volk</td>\n",
       "      <td>130</td>\n",
       "      <td>{'kg': 30, 'lbs': 40}</td>\n",
       "    </tr>\n",
       "    <tr>\n",
       "      <td>1</td>\n",
       "      <td>NaN</td>\n",
       "      <td>Mose Reg</td>\n",
       "      <td>130</td>\n",
       "      <td>60</td>\n",
       "    </tr>\n",
       "    <tr>\n",
       "      <td>2</td>\n",
       "      <td>2.0</td>\n",
       "      <td>Faye Raker</td>\n",
       "      <td>130</td>\n",
       "      <td>60</td>\n",
       "    </tr>\n",
       "  </tbody>\n",
       "</table>\n",
       "</div>"
      ],
      "text/plain": [
       "    id        name  fitness.height         fitness.weight\n",
       "0  1.0   Cole Volk             130  {'kg': 30, 'lbs': 40}\n",
       "1  NaN    Mose Reg             130                     60\n",
       "2  2.0  Faye Raker             130                     60"
      ]
     },
     "execution_count": 49,
     "metadata": {},
     "output_type": "execute_result"
    }
   ],
   "source": [
    "from pandas.io.json import json_normalize\n",
    "data = [{'id': 1,'name': \"Cole Volk\",'fitness': {'height': 130, 'weight': {'kg':30,'lbs':40}}},\\\n",
    "        {'name': \"Mose Reg\",'fitness': {'height': 130, 'weight': 60}},\n",
    "        {'id': 2, 'name': 'Faye Raker','fitness': {'height': 130, 'weight': 60}}]\n",
    "json_normalize(data, max_level=1)  #level 2 nested json"
   ]
  },
  {
   "cell_type": "markdown",
   "metadata": {},
   "source": [
    "- Multiprocessing adds CPUs to increase computing power.\t\n",
    "\n",
    "- Multithreading creates multiple threads of a single process to increase computing power."
   ]
  },
  {
   "cell_type": "code",
   "execution_count": 208,
   "metadata": {},
   "outputs": [
    {
     "name": "stdout",
     "output_type": "stream",
     "text": [
      "Sleeping 5 second(s)...\n",
      "Sleeping 4 second(s)...\n",
      "Sleeping 3 second(s)...\n",
      "Sleeping 2 second(s)...\n",
      "Sleeping 1 second(s)...\n",
      "Finished in 5.04 second(s)\n"
     ]
    }
   ],
   "source": [
    "#multiprocessingparrallelcoderun\n",
    "import concurrent.futures\n",
    "import time\n",
    "\n",
    "start = time.perf_counter()\n",
    "\n",
    "\n",
    "def do_something(seconds):\n",
    "    print(f'Sleeping {seconds} second(s)...')\n",
    "    time.sleep(seconds)\n",
    "    return f'Done Sleeping...{seconds}'\n",
    "\n",
    "\n",
    "with concurrent.futures.ProcessPoolExecutor() as executor:\n",
    "    secs = [5, 4, 3, 2, 1]\n",
    "    results = executor.map(do_something, secs)\n",
    "\n",
    "    # for result in results:\n",
    "    #     print(result)\n",
    "\n",
    "finish = time.perf_counter()\n",
    "\n",
    "print(f'Finished in {round(finish-start, 2)} second(s)')\n"
   ]
  },
  {
   "cell_type": "code",
   "execution_count": 213,
   "metadata": {},
   "outputs": [
    {
     "name": "stdout",
     "output_type": "stream",
     "text": [
      "sleep  1 sec\n",
      "sleep  1 sec\n",
      "sleep  1 sec\n",
      "sleep  1 sec\n",
      "sleep  1 sec\n",
      "sleep  1 sec\n",
      "sleep  1 sec\n",
      "sleep  1 sec\n",
      "sleep  1 sec\n",
      "sleep  1 sec\n",
      "done sleep\n",
      "done sleep\n",
      "done sleep\n",
      "done sleep\n",
      "done sleep\n",
      "done sleep\n",
      "done sleep\n",
      "done sleep\n",
      "done sleep\n",
      "done sleep\n",
      "sleep  1 sec\n",
      "done sleep1\n",
      "finished in 2.16 seconds\n"
     ]
    }
   ],
   "source": [
    "import multiprocessing\n",
    "import time\n",
    "import concurrent.futures\n",
    "\n",
    "import concurrent.futures\n",
    "start = time.perf_counter()\n",
    "\n",
    "processs = []\n",
    "def do_some(seconds):\n",
    "    print(f'sleep  {seconds} sec')\n",
    "    time.sleep(seconds)\n",
    "    print('done sleep')\n",
    "\n",
    "def do_some1(seconds):\n",
    "    print(f'sleep  {seconds} sec')\n",
    "    time.sleep(seconds)\n",
    "    return  'done sleep1'\n",
    "\n",
    "# p1 = multiprocessing.Process(target=do_some)\n",
    "# p2 = multiprocessing.Process(target=do_some)\n",
    "#\n",
    "# p1.start()\n",
    "# p2.start()\n",
    "#\n",
    "# p1.join()\n",
    "# p2.join()\n",
    "\n",
    "# serialize arg means it can deconstruct in pythons\n",
    "\n",
    "for _ in range(10):\n",
    "    p = multiprocessing.Process(target=do_some, args=[1])\n",
    "    p.start()\n",
    "    processs.append(p)\n",
    "for process in processs:\n",
    "    process.join()\n",
    "\n",
    "\n",
    "with concurrent.futures.ProcessPoolExecutor() as executor:\n",
    "    f1 = executor.submit(do_some1 , 1)\n",
    "    # results = [executor.submit(do_some1, 1) for _ in range(10)] for multiple times\n",
    "    print(f1.result())\n",
    "#    for f in concurrent.futures.as_completed(results):\n",
    "#          print (f.result())\n",
    "\n",
    "finish = time.perf_counter()\n",
    "\n",
    "\n",
    "print(f'finished in {round(finish-start,2)} seconds')  #f string do computaition or direct object pasing in print"
   ]
  },
  {
   "cell_type": "code",
   "execution_count": 4,
   "metadata": {},
   "outputs": [
    {
     "name": "stdout",
     "output_type": "stream",
     "text": [
      "[1, 16, 81, 625]\n"
     ]
    }
   ],
   "source": [
    "def generateSquareYield(num):\n",
    "    for i in num:\n",
    "        yield (i * i)\n",
    "\n",
    "squareNumYield = generateSquareYield([1, 2, 3, 5])\n",
    "\n",
    "a = (x ** 2 for x in squareNumYield)\n",
    "\n",
    "print(list(a))"
   ]
  },
  {
   "cell_type": "code",
   "execution_count": 9,
   "metadata": {},
   "outputs": [
    {
     "name": "stdout",
     "output_type": "stream",
     "text": [
      "3.4\n",
      "3\n"
     ]
    }
   ],
   "source": [
    "print(round(3.444,1))\n",
    "print(round(3.444))"
   ]
  },
  {
   "cell_type": "code",
   "execution_count": 10,
   "metadata": {},
   "outputs": [
    {
     "name": "stdout",
     "output_type": "stream",
     "text": [
      "HHELLO WORLD\n",
      "1\n",
      "Utkarsh World\n"
     ]
    }
   ],
   "source": [
    "message = 'Hello World'\n",
    "name = 'utkarsh'\n",
    "\n",
    "print(message[0] + message.upper())\n",
    "print(message.find('ello'))  #return index\n",
    "print(message.replace('Hello', 'Utkarsh'))"
   ]
  },
  {
   "cell_type": "markdown",
   "metadata": {},
   "source": [
    "### R os.getcwd() os.listdir()"
   ]
  },
  {
   "cell_type": "code",
   "execution_count": 15,
   "metadata": {},
   "outputs": [
    {
     "name": "stdout",
     "output_type": "stream",
     "text": [
      "/Users/utkarsh/PycharmProjects\n",
      "['ML-topic wise practice', 'Namamlearning', 'analytic vidya', 'cnn_keras_captcha-master', 'Coursera_Capstone', '.DS_Store', 'NLP_processing.ipynb', 'basic operation remember.ipynb', 'chatbot', 'vgg16_weights.h5', 'test1', 'pythonLearning', 'PCA_Mnist.ipynb', 'portfolio-master', 'Books', 'machineLearning', 'Chartbusters Foretell the popularity of songs', 'flaskLearn', 'machineLearning.zip', 'deep learn', '.ipynb_checkpoints', 'DataAnalysis', 'chromedriver', 'ML-Projects', 'train status', '.idea']\n"
     ]
    }
   ],
   "source": [
    "import os\n",
    "#print(dir(os))\n",
    "\n",
    "print(os.getcwd())  # current working direc\n",
    "\n",
    "# # os.chdir('/Users/utkarsh/PycharmProjects/')\n",
    "\n",
    "print(os.listdir())"
   ]
  },
  {
   "cell_type": "code",
   "execution_count": 16,
   "metadata": {},
   "outputs": [
    {
     "name": "stdout",
     "output_type": "stream",
     "text": [
      "text.txt\n",
      "tmp\n",
      "('tmp', 'text.txt')\n",
      "False\n",
      "False\n",
      "False\n",
      "('tmp/text', '.txt')\n"
     ]
    }
   ],
   "source": [
    "print(os.path.basename('tmp/text.txt'))\n",
    "print(os.path.dirname('tmp/text.txt'))\n",
    "print(os.path.split('tmp/text.txt'))\n",
    "print(os.path.exists('tmp/text.txt'))\n",
    "print(os.path.isdir('tmp/text.txt'))\n",
    "print(os.path.isfile('tmp/text.txt'))\n",
    "print(os.path.splitext('tmp/text.txt'))"
   ]
  },
  {
   "cell_type": "code",
   "execution_count": 36,
   "metadata": {},
   "outputs": [
    {
     "name": "stdout",
     "output_type": "stream",
     "text": [
      "['/Users/utkarsh/PycharmProjects', '/Users/utkarsh/anaconda3/lib/python37.zip', '/Users/utkarsh/anaconda3/lib/python3.7', '/Users/utkarsh/anaconda3/lib/python3.7/lib-dynload', '', '/Users/utkarsh/anaconda3/lib/python3.7/site-packages', '/Users/utkarsh/anaconda3/lib/python3.7/site-packages/aeosa', '/Users/utkarsh/anaconda3/lib/python3.7/site-packages/IPython/extensions', '/Users/utkarsh/.ipython']\n",
      "choice english\n",
      "blue\n",
      "['red', 'blue', 'blue', 'green', 'red', 'red', 'blue', 'blue', 'blue', 'blue']\n",
      "2020-01-22\n",
      "False\n",
      "/Users/utkarsh/PycharmProjects\n",
      "/Users/utkarsh/anaconda3/lib/python3.7/os.py\n"
     ]
    }
   ],
   "source": [
    "# import mymodule as mm\n",
    "##from mymodule import find_index  # or for all function and variable import *\n",
    "import sys\n",
    "import random\n",
    "import math\n",
    "import datetime\n",
    "import calendar\n",
    "import os\n",
    "\n",
    "courses = ['math', 'hindi', 'english', 'physics']\n",
    "\n",
    "print(sys.path)\n",
    "\n",
    "randomchoice = random.choice(courses)\n",
    "\n",
    "print('choice',randomchoice)\n",
    "color =[\"blue\", \"red\", \"green\"]\n",
    "\n",
    "print(random.choice(color))\n",
    "\n",
    "print(random.choices(color,weights=[18, 18, 2], k=10))  ### we can give weight and number of items to sekect\n",
    "print(datetime.date.today())\n",
    "\n",
    "print(calendar.isleap(2022))\n",
    "# export path  in  nano ~/bash_profile\n",
    "\n",
    "print((os.getcwd()))\n",
    "\n",
    "print(os.__file__)\n"
   ]
  },
  {
   "cell_type": "code",
   "execution_count": 25,
   "metadata": {},
   "outputs": [
    {
     "name": "stdout",
     "output_type": "stream",
     "text": [
      "0\n",
      "1\n",
      "2\n"
     ]
    }
   ],
   "source": [
    "x=0\n",
    "while x <= 2:\n",
    "    print(x)\n",
    "    x += 1"
   ]
  },
  {
   "cell_type": "code",
   "execution_count": 32,
   "metadata": {},
   "outputs": [
    {
     "name": "stdout",
     "output_type": "stream",
     "text": [
      "Don't annoy users, you only care what the value is when it's sent to the server. Sniffing keystrokes doesn't check input that is entered via other means. Instead, provide on–screen hints for format, validate input before sending and let users figure it out.\n",
      "utkarsh\n"
     ]
    }
   ],
   "source": [
    "# with open('test.txt','w') as f:\n",
    "#     f.write('ut')\n",
    "\n",
    "with open('test.txt','r')  as rf:\n",
    "    for line in rf:\n",
    "        print(line)\n",
    "        print('utkarsh')\n",
    "    #print(rf.read())\n",
    "#     with open('test1.txt','w') as wf:\n",
    "#         for line in rf:\n",
    "#             wf.write(line)"
   ]
  },
  {
   "cell_type": "code",
   "execution_count": 33,
   "metadata": {},
   "outputs": [],
   "source": [
    "# with open('a.jpg','rb')  as rf:\n",
    "#     with open('b.jpg','wb') as wf:\n",
    "#         for line in rf:\n",
    "#             wf.write(line)\n",
    "\n",
    "# copying images with chunk data for memory optimixe\n",
    "# with open('a.jpg','rb')  as rf:\n",
    "#     with open('b.jpg','wb') as wf:\n",
    "#         chunksize=4096\n",
    "#         rfcontent =rf.read(chunksize)\n",
    "#         while leng(rfcontent)>0:\n",
    "#             wf.write(rfcontent)\n",
    "#             rfcontent =rf.read(chunksize)\n",
    "\n",
    "\n",
    "\n",
    "#dictreader\n",
    "\n",
    "# with open('20-Real-life example.csv', 'r') as csvFile:\n",
    "#     csvReader = csv.DictReader(csvFile)\n",
    "#     for line in csvReader:\n",
    "#         print(line['Price'])   # index of item\n",
    "\n",
    "# #DictWriter\n",
    "# with open('20-Real-life example.csv', 'r') as csvFile:\n",
    "#     csvReader = csv.DictReader(csvFile)\n",
    "#     with open('20-Real-life example-newdictwriter.csv', 'w') as newFile:\n",
    "#         fieldName = ['Price', 'EngineV', 'Model', 'Year', 'Engine Type', 'Mileage', 'Body', '\\ufeffBrand']\n",
    "#         csvwriter = csv.DictWriter(newFile, fieldnames=fieldName, delimiter = '\\t')\n",
    "#         csvwriter.writeheader()\n",
    "#         for line in csvReader:\n",
    "#             name.append('{} year2 {} model'.format(line['Year'], line['Model']))\n",
    "#             del line['Registration']\n",
    "#             csvwriter.writerow(line)\n",
    "# print(name)\n"
   ]
  },
  {
   "cell_type": "code",
   "execution_count": 41,
   "metadata": {},
   "outputs": [
    {
     "name": "stdout",
     "output_type": "stream",
     "text": [
      "0\n",
      "1\n"
     ]
    }
   ],
   "source": [
    "for i in range(0,2):\n",
    "    print(i)"
   ]
  },
  {
   "cell_type": "code",
   "execution_count": 12,
   "metadata": {},
   "outputs": [
    {
     "name": "stdout",
     "output_type": "stream",
     "text": [
      "this is child function\n"
     ]
    }
   ],
   "source": [
    "class Parent:\n",
    "    def func1(self):\n",
    "        print(\"this is parent function\")\n",
    " \n",
    "class Child(Parent):\n",
    "    def func1(self):\n",
    "        print(\"this is child function\")\n",
    " \n",
    "ob = Child()\n",
    "ob.func1()"
   ]
  },
  {
   "cell_type": "code",
   "execution_count": 13,
   "metadata": {},
   "outputs": [
    {
     "ename": "NameError",
     "evalue": "name 'Super' is not defined",
     "output_type": "error",
     "traceback": [
      "\u001b[0;31m---------------------------------------------------------------------------\u001b[0m",
      "\u001b[0;31mNameError\u001b[0m                                 Traceback (most recent call last)",
      "\u001b[0;32m<ipython-input-13-71b7b01af45f>\u001b[0m in \u001b[0;36m<module>\u001b[0;34m\u001b[0m\n\u001b[1;32m      8\u001b[0m \u001b[0;34m\u001b[0m\u001b[0m\n\u001b[1;32m      9\u001b[0m \u001b[0mob\u001b[0m \u001b[0;34m=\u001b[0m \u001b[0mChild\u001b[0m\u001b[0;34m(\u001b[0m\u001b[0;34m)\u001b[0m\u001b[0;34m\u001b[0m\u001b[0;34m\u001b[0m\u001b[0m\n\u001b[0;32m---> 10\u001b[0;31m \u001b[0mob\u001b[0m\u001b[0;34m.\u001b[0m\u001b[0mfunc2\u001b[0m\u001b[0;34m(\u001b[0m\u001b[0;34m)\u001b[0m\u001b[0;34m\u001b[0m\u001b[0;34m\u001b[0m\u001b[0m\n\u001b[0m",
      "\u001b[0;32m<ipython-input-13-71b7b01af45f>\u001b[0m in \u001b[0;36mfunc2\u001b[0;34m(self)\u001b[0m\n\u001b[1;32m      4\u001b[0m \u001b[0;32mclass\u001b[0m \u001b[0mChild\u001b[0m\u001b[0;34m(\u001b[0m\u001b[0mParent\u001b[0m\u001b[0;34m)\u001b[0m\u001b[0;34m:\u001b[0m\u001b[0;34m\u001b[0m\u001b[0;34m\u001b[0m\u001b[0m\n\u001b[1;32m      5\u001b[0m      \u001b[0;32mdef\u001b[0m \u001b[0mfunc2\u001b[0m\u001b[0;34m(\u001b[0m\u001b[0mself\u001b[0m\u001b[0;34m)\u001b[0m\u001b[0;34m:\u001b[0m\u001b[0;34m\u001b[0m\u001b[0;34m\u001b[0m\u001b[0m\n\u001b[0;32m----> 6\u001b[0;31m           \u001b[0mSuper\u001b[0m\u001b[0;34m(\u001b[0m\u001b[0;34m)\u001b[0m\u001b[0;34m.\u001b[0m\u001b[0mfunc1\u001b[0m\u001b[0;34m(\u001b[0m\u001b[0;34m)\u001b[0m\u001b[0;34m\u001b[0m\u001b[0;34m\u001b[0m\u001b[0m\n\u001b[0m\u001b[1;32m      7\u001b[0m           \u001b[0mprint\u001b[0m\u001b[0;34m(\u001b[0m\u001b[0;34m\"this is function 2\"\u001b[0m\u001b[0;34m)\u001b[0m\u001b[0;34m\u001b[0m\u001b[0;34m\u001b[0m\u001b[0m\n\u001b[1;32m      8\u001b[0m \u001b[0;34m\u001b[0m\u001b[0m\n",
      "\u001b[0;31mNameError\u001b[0m: name 'Super' is not defined"
     ]
    }
   ],
   "source": [
    "class Parent:\n",
    "     def func1(self):\n",
    "         print(\"this is function 1\")\n",
    "class Child(Parent):\n",
    "     def func2(self):\n",
    "          Super().func1()\n",
    "          print(\"this is function 2\")\n",
    " \n",
    "ob = Child()\n",
    "ob.func2()"
   ]
  },
  {
   "cell_type": "code",
   "execution_count": 14,
   "metadata": {},
   "outputs": [
    {
     "name": "stdout",
     "output_type": "stream",
     "text": [
      "this is function 1\n",
      "this is function 2\n",
      "this is function 3\n"
     ]
    }
   ],
   "source": [
    "class Parent:\n",
    "   def func1(self):\n",
    "        print(\"this is function 1\")\n",
    "class Parent2:\n",
    "   def func2(self):\n",
    "        print(\"this is function 2\")\n",
    "class Child(Parent , Parent2):\n",
    "    def func3(self):\n",
    "        print(\"this is function 3\")\n",
    " \n",
    "ob = Child()\n",
    "ob.func1()\n",
    "ob.func2()\n",
    "ob.func3()"
   ]
  },
  {
   "cell_type": "code",
   "execution_count": 81,
   "metadata": {},
   "outputs": [
    {
     "name": "stdout",
     "output_type": "stream",
     "text": [
      "(1, 2, 3, [14, 5])\n",
      "('edureka', 'python')\n"
     ]
    }
   ],
   "source": [
    "a = (1,2,3,[4,5])\n",
    "a[3][0] = 14\n",
    "#a[0]=122 not possible\n",
    "print(a)\n",
    "#reassigning the value\n",
    "a = ('edureka', 'python')\n",
    "print(a)"
   ]
  },
  {
   "cell_type": "code",
   "execution_count": 82,
   "metadata": {},
   "outputs": [
    {
     "data": {
      "text/plain": [
       "1"
      ]
     },
     "execution_count": 82,
     "metadata": {},
     "output_type": "execute_result"
    }
   ],
   "source": [
    "round(0.6)"
   ]
  },
  {
   "cell_type": "markdown",
   "metadata": {},
   "source": [
    "### Important"
   ]
  },
  {
   "cell_type": "code",
   "execution_count": 102,
   "metadata": {},
   "outputs": [
    {
     "name": "stdout",
     "output_type": "stream",
     "text": [
      "started at 10:50:30\n",
      "hello\n",
      "world\n",
      "finished at 10:50:37\n"
     ]
    }
   ],
   "source": [
    "import asyncio\n",
    "import time\n",
    "\n",
    "async def say_after(delay, what):\n",
    "    await asyncio.sleep(delay)\n",
    "    print(what)\n",
    "\n",
    "async def main():\n",
    "    print(f\"started at {time.strftime('%X')}\")\n",
    "\n",
    "    await say_after(3, 'hello')\n",
    "    await say_after(4, 'world')\n",
    "\n",
    "    print(f\"finished at {time.strftime('%X')}\")\n",
    "\n",
    "await main()"
   ]
  },
  {
   "cell_type": "code",
   "execution_count": 103,
   "metadata": {},
   "outputs": [
    {
     "name": "stdout",
     "output_type": "stream",
     "text": [
      "started at 10:57:54\n",
      "hello\n",
      "world\n",
      "finished at 10:57:58\n"
     ]
    }
   ],
   "source": [
    "import asyncio\n",
    "import time\n",
    "\n",
    "async def say_after(delay, what):\n",
    "    await asyncio.sleep(delay)\n",
    "    print(what)\n",
    "\n",
    "async def main():\n",
    "    print(f\"started at {time.strftime('%X')}\")\n",
    "\n",
    "    await asyncio.gather(say_after(3, 'hello'),say_after(4, 'world'))\n",
    "\n",
    "\n",
    "    print(f\"finished at {time.strftime('%X')}\")\n",
    "\n",
    "await main() #asyncio.run(main())"
   ]
  },
  {
   "cell_type": "code",
   "execution_count": 112,
   "metadata": {
    "scrolled": true
   },
   "outputs": [
    {
     "data": {
      "text/plain": [
       "[[1, 2, 3], [1, 3, 5]]"
      ]
     },
     "execution_count": 112,
     "metadata": {},
     "output_type": "execute_result"
    }
   ],
   "source": [
    "tree = [[1,2,3],[1,3,5]]\n",
    "[[leaf for leaf in branch] for branch in tree]"
   ]
  },
  {
   "cell_type": "code",
   "execution_count": 110,
   "metadata": {},
   "outputs": [
    {
     "data": {
      "text/plain": [
       "[1, 2, 3, 1, 3, 5]"
      ]
     },
     "execution_count": 110,
     "metadata": {},
     "output_type": "execute_result"
    }
   ],
   "source": [
    "tree = [[1,2,3],[1,3,5]]\n",
    "[leaf for branch in tree for leaf in branch]"
   ]
  },
  {
   "cell_type": "code",
   "execution_count": null,
   "metadata": {},
   "outputs": [],
   "source": []
  }
 ],
 "metadata": {
  "kernelspec": {
   "display_name": "Python 3",
   "language": "python",
   "name": "python3"
  },
  "language_info": {
   "codemirror_mode": {
    "name": "ipython",
    "version": 3
   },
   "file_extension": ".py",
   "mimetype": "text/x-python",
   "name": "python",
   "nbconvert_exporter": "python",
   "pygments_lexer": "ipython3",
   "version": "3.7.3"
  },
  "varInspector": {
   "cols": {
    "lenName": 16,
    "lenType": 16,
    "lenVar": 40
   },
   "kernels_config": {
    "python": {
     "delete_cmd_postfix": "",
     "delete_cmd_prefix": "del ",
     "library": "var_list.py",
     "varRefreshCmd": "print(var_dic_list())"
    },
    "r": {
     "delete_cmd_postfix": ") ",
     "delete_cmd_prefix": "rm(",
     "library": "var_list.r",
     "varRefreshCmd": "cat(var_dic_list()) "
    }
   },
   "types_to_exclude": [
    "module",
    "function",
    "builtin_function_or_method",
    "instance",
    "_Feature"
   ],
   "window_display": false
  }
 },
 "nbformat": 4,
 "nbformat_minor": 2
}
