{
 "cells": [
  {
   "cell_type": "code",
   "execution_count": 64,
   "metadata": {},
   "outputs": [],
   "source": [
    "import pandas as pd\n",
    "import numpy as np\n",
    "import matplotlib.pyplot as plt\n",
    "import seaborn as sns\n",
    "from wordcloud import WordCloud\n",
    "from collections import Counter\n",
    "import string\n",
    "from nltk.corpus import stopwords\n",
    "from sklearn.model_selection import train_test_split,GridSearchCV,RandomizedSearchCV\n",
    "from sklearn.feature_extraction.text import TfidfVectorizer\n",
    "from sklearn.metrics import mean_squared_log_error,mean_squared_error,roc_auc_score\n",
    "from sklearn import metrics\n",
    "from sklearn.linear_model import SGDRegressor,LinearRegression,Lasso,Ridge\n",
    "from sklearn.ensemble import RandomForestRegressor,GradientBoostingClassifier\n",
    "from sklearn.preprocessing import StandardScaler,MinMaxScaler\n",
    "import time\n",
    "import warnings\n",
    "warnings.simplefilter(action='ignore', category=FutureWarning)\n",
    "from sklearn.pipeline import Pipeline\n",
    "from math import sqrt\n",
    "from scipy.sparse import csr_matrix, hstack\n",
    "from sklearn.svm import SVR\n",
    "from sklearn import preprocessing\n",
    "import xgboost as xgb\n",
    "from sklearn.decomposition import PCA"
   ]
  },
  {
   "cell_type": "code",
   "execution_count": 65,
   "metadata": {},
   "outputs": [],
   "source": [
    "data = pd.read_csv('./data/Data_Train.csv')"
   ]
  },
  {
   "cell_type": "code",
   "execution_count": 66,
   "metadata": {},
   "outputs": [
    {
     "data": {
      "text/html": [
       "<div>\n",
       "<style scoped>\n",
       "    .dataframe tbody tr th:only-of-type {\n",
       "        vertical-align: middle;\n",
       "    }\n",
       "\n",
       "    .dataframe tbody tr th {\n",
       "        vertical-align: top;\n",
       "    }\n",
       "\n",
       "    .dataframe thead th {\n",
       "        text-align: right;\n",
       "    }\n",
       "</style>\n",
       "<table border=\"1\" class=\"dataframe\">\n",
       "  <thead>\n",
       "    <tr style=\"text-align: right;\">\n",
       "      <th></th>\n",
       "      <th>Unique_ID</th>\n",
       "      <th>Name</th>\n",
       "      <th>Genre</th>\n",
       "      <th>Country</th>\n",
       "      <th>Song_Name</th>\n",
       "      <th>Timestamp</th>\n",
       "      <th>Views</th>\n",
       "      <th>Comments</th>\n",
       "      <th>Likes</th>\n",
       "      <th>Popularity</th>\n",
       "      <th>Followers</th>\n",
       "    </tr>\n",
       "  </thead>\n",
       "  <tbody>\n",
       "    <tr>\n",
       "      <td>0</td>\n",
       "      <td>413890</td>\n",
       "      <td>Hardstyle</td>\n",
       "      <td>danceedm</td>\n",
       "      <td>AU</td>\n",
       "      <td>N-Vitral presents BOMBSQUAD - Poison Spitter (...</td>\n",
       "      <td>2018-03-30 15:24:45.000000</td>\n",
       "      <td>14017</td>\n",
       "      <td>4</td>\n",
       "      <td>499</td>\n",
       "      <td>97</td>\n",
       "      <td>119563</td>\n",
       "    </tr>\n",
       "    <tr>\n",
       "      <td>1</td>\n",
       "      <td>249453</td>\n",
       "      <td>Dj Aladdin</td>\n",
       "      <td>danceedm</td>\n",
       "      <td>AU</td>\n",
       "      <td>Dj Aladdin - Old School Hip Hop Quick Mix</td>\n",
       "      <td>2016-06-20 05:58:52.000000</td>\n",
       "      <td>1918</td>\n",
       "      <td>17</td>\n",
       "      <td>49</td>\n",
       "      <td>17</td>\n",
       "      <td>2141</td>\n",
       "    </tr>\n",
       "    <tr>\n",
       "      <td>2</td>\n",
       "      <td>681116</td>\n",
       "      <td>Maxximize On Air</td>\n",
       "      <td>danceedm</td>\n",
       "      <td>AU</td>\n",
       "      <td>Maxximize On Air - Mixed by Blasterjaxx - Epis...</td>\n",
       "      <td>2015-05-08 17:45:59.000000</td>\n",
       "      <td>9668</td>\n",
       "      <td>11</td>\n",
       "      <td>312</td>\n",
       "      <td>91</td>\n",
       "      <td>22248</td>\n",
       "    </tr>\n",
       "    <tr>\n",
       "      <td>3</td>\n",
       "      <td>387253</td>\n",
       "      <td>GR6 EXPLODE</td>\n",
       "      <td>rbsoul</td>\n",
       "      <td>AU</td>\n",
       "      <td>MC Yago - Tenho Compromisso (DJ R7)</td>\n",
       "      <td>2017-06-08 23:50:03.000000</td>\n",
       "      <td>113036</td>\n",
       "      <td>2</td>\n",
       "      <td>2,400</td>\n",
       "      <td>76</td>\n",
       "      <td>393655</td>\n",
       "    </tr>\n",
       "    <tr>\n",
       "      <td>4</td>\n",
       "      <td>1428029</td>\n",
       "      <td>Tritonal</td>\n",
       "      <td>danceedm</td>\n",
       "      <td>AU</td>\n",
       "      <td>Escape (feat. Steph Jones)</td>\n",
       "      <td>2016-09-17 20:50:19.000000</td>\n",
       "      <td>110024</td>\n",
       "      <td>81</td>\n",
       "      <td>3,031</td>\n",
       "      <td>699</td>\n",
       "      <td>201030</td>\n",
       "    </tr>\n",
       "  </tbody>\n",
       "</table>\n",
       "</div>"
      ],
      "text/plain": [
       "   Unique_ID              Name     Genre Country  \\\n",
       "0     413890         Hardstyle  danceedm      AU   \n",
       "1     249453        Dj Aladdin  danceedm      AU   \n",
       "2     681116  Maxximize On Air  danceedm      AU   \n",
       "3     387253       GR6 EXPLODE    rbsoul      AU   \n",
       "4    1428029          Tritonal  danceedm      AU   \n",
       "\n",
       "                                           Song_Name  \\\n",
       "0  N-Vitral presents BOMBSQUAD - Poison Spitter (...   \n",
       "1          Dj Aladdin - Old School Hip Hop Quick Mix   \n",
       "2  Maxximize On Air - Mixed by Blasterjaxx - Epis...   \n",
       "3                MC Yago - Tenho Compromisso (DJ R7)   \n",
       "4                         Escape (feat. Steph Jones)   \n",
       "\n",
       "                    Timestamp   Views  Comments  Likes Popularity  Followers  \n",
       "0  2018-03-30 15:24:45.000000   14017         4    499         97     119563  \n",
       "1  2016-06-20 05:58:52.000000    1918        17     49         17       2141  \n",
       "2  2015-05-08 17:45:59.000000    9668        11    312         91      22248  \n",
       "3  2017-06-08 23:50:03.000000  113036         2  2,400         76     393655  \n",
       "4  2016-09-17 20:50:19.000000  110024        81  3,031        699     201030  "
      ]
     },
     "execution_count": 66,
     "metadata": {},
     "output_type": "execute_result"
    }
   ],
   "source": [
    "data.head()"
   ]
  },
  {
   "cell_type": "code",
   "execution_count": 67,
   "metadata": {},
   "outputs": [],
   "source": [
    "data.drop(columns=['Unique_ID','Country','Name'],axis=1,inplace=True)"
   ]
  },
  {
   "cell_type": "code",
   "execution_count": 68,
   "metadata": {},
   "outputs": [
    {
     "data": {
      "text/html": [
       "<div>\n",
       "<style scoped>\n",
       "    .dataframe tbody tr th:only-of-type {\n",
       "        vertical-align: middle;\n",
       "    }\n",
       "\n",
       "    .dataframe tbody tr th {\n",
       "        vertical-align: top;\n",
       "    }\n",
       "\n",
       "    .dataframe thead th {\n",
       "        text-align: right;\n",
       "    }\n",
       "</style>\n",
       "<table border=\"1\" class=\"dataframe\">\n",
       "  <thead>\n",
       "    <tr style=\"text-align: right;\">\n",
       "      <th></th>\n",
       "      <th>Genre</th>\n",
       "      <th>Song_Name</th>\n",
       "      <th>Timestamp</th>\n",
       "      <th>Views</th>\n",
       "      <th>Comments</th>\n",
       "      <th>Likes</th>\n",
       "      <th>Popularity</th>\n",
       "      <th>Followers</th>\n",
       "    </tr>\n",
       "  </thead>\n",
       "  <tbody>\n",
       "    <tr>\n",
       "      <td>0</td>\n",
       "      <td>danceedm</td>\n",
       "      <td>N-Vitral presents BOMBSQUAD - Poison Spitter (...</td>\n",
       "      <td>2018-03-30 15:24:45.000000</td>\n",
       "      <td>14017</td>\n",
       "      <td>4</td>\n",
       "      <td>499</td>\n",
       "      <td>97</td>\n",
       "      <td>119563</td>\n",
       "    </tr>\n",
       "    <tr>\n",
       "      <td>1</td>\n",
       "      <td>danceedm</td>\n",
       "      <td>Dj Aladdin - Old School Hip Hop Quick Mix</td>\n",
       "      <td>2016-06-20 05:58:52.000000</td>\n",
       "      <td>1918</td>\n",
       "      <td>17</td>\n",
       "      <td>49</td>\n",
       "      <td>17</td>\n",
       "      <td>2141</td>\n",
       "    </tr>\n",
       "    <tr>\n",
       "      <td>2</td>\n",
       "      <td>danceedm</td>\n",
       "      <td>Maxximize On Air - Mixed by Blasterjaxx - Epis...</td>\n",
       "      <td>2015-05-08 17:45:59.000000</td>\n",
       "      <td>9668</td>\n",
       "      <td>11</td>\n",
       "      <td>312</td>\n",
       "      <td>91</td>\n",
       "      <td>22248</td>\n",
       "    </tr>\n",
       "    <tr>\n",
       "      <td>3</td>\n",
       "      <td>rbsoul</td>\n",
       "      <td>MC Yago - Tenho Compromisso (DJ R7)</td>\n",
       "      <td>2017-06-08 23:50:03.000000</td>\n",
       "      <td>113036</td>\n",
       "      <td>2</td>\n",
       "      <td>2,400</td>\n",
       "      <td>76</td>\n",
       "      <td>393655</td>\n",
       "    </tr>\n",
       "    <tr>\n",
       "      <td>4</td>\n",
       "      <td>danceedm</td>\n",
       "      <td>Escape (feat. Steph Jones)</td>\n",
       "      <td>2016-09-17 20:50:19.000000</td>\n",
       "      <td>110024</td>\n",
       "      <td>81</td>\n",
       "      <td>3,031</td>\n",
       "      <td>699</td>\n",
       "      <td>201030</td>\n",
       "    </tr>\n",
       "  </tbody>\n",
       "</table>\n",
       "</div>"
      ],
      "text/plain": [
       "      Genre                                          Song_Name  \\\n",
       "0  danceedm  N-Vitral presents BOMBSQUAD - Poison Spitter (...   \n",
       "1  danceedm          Dj Aladdin - Old School Hip Hop Quick Mix   \n",
       "2  danceedm  Maxximize On Air - Mixed by Blasterjaxx - Epis...   \n",
       "3    rbsoul                MC Yago - Tenho Compromisso (DJ R7)   \n",
       "4  danceedm                         Escape (feat. Steph Jones)   \n",
       "\n",
       "                    Timestamp   Views  Comments  Likes Popularity  Followers  \n",
       "0  2018-03-30 15:24:45.000000   14017         4    499         97     119563  \n",
       "1  2016-06-20 05:58:52.000000    1918        17     49         17       2141  \n",
       "2  2015-05-08 17:45:59.000000    9668        11    312         91      22248  \n",
       "3  2017-06-08 23:50:03.000000  113036         2  2,400         76     393655  \n",
       "4  2016-09-17 20:50:19.000000  110024        81  3,031        699     201030  "
      ]
     },
     "execution_count": 68,
     "metadata": {},
     "output_type": "execute_result"
    }
   ],
   "source": [
    "data.head()"
   ]
  },
  {
   "cell_type": "code",
   "execution_count": 69,
   "metadata": {},
   "outputs": [],
   "source": [
    "#data = pd.get_dummies(data,columns=['Genre'],drop_first=True)"
   ]
  },
  {
   "cell_type": "code",
   "execution_count": 70,
   "metadata": {},
   "outputs": [
    {
     "data": {
      "text/html": [
       "<div>\n",
       "<style scoped>\n",
       "    .dataframe tbody tr th:only-of-type {\n",
       "        vertical-align: middle;\n",
       "    }\n",
       "\n",
       "    .dataframe tbody tr th {\n",
       "        vertical-align: top;\n",
       "    }\n",
       "\n",
       "    .dataframe thead th {\n",
       "        text-align: right;\n",
       "    }\n",
       "</style>\n",
       "<table border=\"1\" class=\"dataframe\">\n",
       "  <thead>\n",
       "    <tr style=\"text-align: right;\">\n",
       "      <th></th>\n",
       "      <th>Genre</th>\n",
       "      <th>Song_Name</th>\n",
       "      <th>Timestamp</th>\n",
       "      <th>Views</th>\n",
       "      <th>Comments</th>\n",
       "      <th>Likes</th>\n",
       "      <th>Popularity</th>\n",
       "      <th>Followers</th>\n",
       "    </tr>\n",
       "  </thead>\n",
       "  <tbody>\n",
       "    <tr>\n",
       "      <td>0</td>\n",
       "      <td>danceedm</td>\n",
       "      <td>N-Vitral presents BOMBSQUAD - Poison Spitter (...</td>\n",
       "      <td>2018-03-30 15:24:45.000000</td>\n",
       "      <td>14017</td>\n",
       "      <td>4</td>\n",
       "      <td>499</td>\n",
       "      <td>97</td>\n",
       "      <td>119563</td>\n",
       "    </tr>\n",
       "    <tr>\n",
       "      <td>1</td>\n",
       "      <td>danceedm</td>\n",
       "      <td>Dj Aladdin - Old School Hip Hop Quick Mix</td>\n",
       "      <td>2016-06-20 05:58:52.000000</td>\n",
       "      <td>1918</td>\n",
       "      <td>17</td>\n",
       "      <td>49</td>\n",
       "      <td>17</td>\n",
       "      <td>2141</td>\n",
       "    </tr>\n",
       "    <tr>\n",
       "      <td>2</td>\n",
       "      <td>danceedm</td>\n",
       "      <td>Maxximize On Air - Mixed by Blasterjaxx - Epis...</td>\n",
       "      <td>2015-05-08 17:45:59.000000</td>\n",
       "      <td>9668</td>\n",
       "      <td>11</td>\n",
       "      <td>312</td>\n",
       "      <td>91</td>\n",
       "      <td>22248</td>\n",
       "    </tr>\n",
       "    <tr>\n",
       "      <td>3</td>\n",
       "      <td>rbsoul</td>\n",
       "      <td>MC Yago - Tenho Compromisso (DJ R7)</td>\n",
       "      <td>2017-06-08 23:50:03.000000</td>\n",
       "      <td>113036</td>\n",
       "      <td>2</td>\n",
       "      <td>2,400</td>\n",
       "      <td>76</td>\n",
       "      <td>393655</td>\n",
       "    </tr>\n",
       "    <tr>\n",
       "      <td>4</td>\n",
       "      <td>danceedm</td>\n",
       "      <td>Escape (feat. Steph Jones)</td>\n",
       "      <td>2016-09-17 20:50:19.000000</td>\n",
       "      <td>110024</td>\n",
       "      <td>81</td>\n",
       "      <td>3,031</td>\n",
       "      <td>699</td>\n",
       "      <td>201030</td>\n",
       "    </tr>\n",
       "  </tbody>\n",
       "</table>\n",
       "</div>"
      ],
      "text/plain": [
       "      Genre                                          Song_Name  \\\n",
       "0  danceedm  N-Vitral presents BOMBSQUAD - Poison Spitter (...   \n",
       "1  danceedm          Dj Aladdin - Old School Hip Hop Quick Mix   \n",
       "2  danceedm  Maxximize On Air - Mixed by Blasterjaxx - Epis...   \n",
       "3    rbsoul                MC Yago - Tenho Compromisso (DJ R7)   \n",
       "4  danceedm                         Escape (feat. Steph Jones)   \n",
       "\n",
       "                    Timestamp   Views  Comments  Likes Popularity  Followers  \n",
       "0  2018-03-30 15:24:45.000000   14017         4    499         97     119563  \n",
       "1  2016-06-20 05:58:52.000000    1918        17     49         17       2141  \n",
       "2  2015-05-08 17:45:59.000000    9668        11    312         91      22248  \n",
       "3  2017-06-08 23:50:03.000000  113036         2  2,400         76     393655  \n",
       "4  2016-09-17 20:50:19.000000  110024        81  3,031        699     201030  "
      ]
     },
     "execution_count": 70,
     "metadata": {},
     "output_type": "execute_result"
    }
   ],
   "source": [
    "data.head()"
   ]
  },
  {
   "cell_type": "code",
   "execution_count": 71,
   "metadata": {},
   "outputs": [
    {
     "data": {
      "text/plain": [
       "dayofweek\n",
       "0    464738.026194\n",
       "1    490431.424895\n",
       "2    492227.829528\n",
       "3    527652.001258\n",
       "4    712625.466029\n",
       "5    447178.314718\n",
       "6    603471.317145\n",
       "Name: Views, dtype: float64"
      ]
     },
     "metadata": {},
     "output_type": "display_data"
    },
    {
     "data": {
      "text/plain": [
       "weekend\n",
       "0    551470.332289\n",
       "1    517781.487123\n",
       "Name: Views, dtype: float64"
      ]
     },
     "metadata": {},
     "output_type": "display_data"
    }
   ],
   "source": [
    "data['Timestamp'] =pd.to_datetime(data['Timestamp'])\n",
    "data['dayofweek'] = data['Timestamp'].dt.dayofweek #but mostly people on weekend\n",
    "data['weekend'] = data['dayofweek'].apply(lambda x: 1 if (x>4)  else 0)\n",
    "display(data.groupby(['dayofweek'])['Views'].mean())\n",
    "display(data.groupby(['weekend'])['Views'].mean())"
   ]
  },
  {
   "cell_type": "code",
   "execution_count": 72,
   "metadata": {},
   "outputs": [
    {
     "data": {
      "text/html": [
       "<div>\n",
       "<style scoped>\n",
       "    .dataframe tbody tr th:only-of-type {\n",
       "        vertical-align: middle;\n",
       "    }\n",
       "\n",
       "    .dataframe tbody tr th {\n",
       "        vertical-align: top;\n",
       "    }\n",
       "\n",
       "    .dataframe thead th {\n",
       "        text-align: right;\n",
       "    }\n",
       "</style>\n",
       "<table border=\"1\" class=\"dataframe\">\n",
       "  <thead>\n",
       "    <tr style=\"text-align: right;\">\n",
       "      <th></th>\n",
       "      <th>Views</th>\n",
       "      <th>Comments</th>\n",
       "      <th>Followers</th>\n",
       "      <th>dayofweek</th>\n",
       "      <th>weekend</th>\n",
       "    </tr>\n",
       "  </thead>\n",
       "  <tbody>\n",
       "    <tr>\n",
       "      <td>count</td>\n",
       "      <td>7.845800e+04</td>\n",
       "      <td>78458.000000</td>\n",
       "      <td>7.845800e+04</td>\n",
       "      <td>78458.000000</td>\n",
       "      <td>78458.000000</td>\n",
       "    </tr>\n",
       "    <tr>\n",
       "      <td>mean</td>\n",
       "      <td>5.469686e+05</td>\n",
       "      <td>115.270973</td>\n",
       "      <td>4.787663e+05</td>\n",
       "      <td>2.579609</td>\n",
       "      <td>0.133626</td>\n",
       "    </tr>\n",
       "    <tr>\n",
       "      <td>std</td>\n",
       "      <td>3.883085e+06</td>\n",
       "      <td>724.614868</td>\n",
       "      <td>1.168120e+06</td>\n",
       "      <td>1.785213</td>\n",
       "      <td>0.340252</td>\n",
       "    </tr>\n",
       "    <tr>\n",
       "      <td>min</td>\n",
       "      <td>0.000000e+00</td>\n",
       "      <td>0.000000</td>\n",
       "      <td>1.000000e+00</td>\n",
       "      <td>0.000000</td>\n",
       "      <td>0.000000</td>\n",
       "    </tr>\n",
       "    <tr>\n",
       "      <td>25%</td>\n",
       "      <td>6.216500e+03</td>\n",
       "      <td>1.000000</td>\n",
       "      <td>1.770000e+04</td>\n",
       "      <td>1.000000</td>\n",
       "      <td>0.000000</td>\n",
       "    </tr>\n",
       "    <tr>\n",
       "      <td>50%</td>\n",
       "      <td>2.538650e+04</td>\n",
       "      <td>12.000000</td>\n",
       "      <td>8.768200e+04</td>\n",
       "      <td>3.000000</td>\n",
       "      <td>0.000000</td>\n",
       "    </tr>\n",
       "    <tr>\n",
       "      <td>75%</td>\n",
       "      <td>1.201342e+05</td>\n",
       "      <td>61.000000</td>\n",
       "      <td>3.936550e+05</td>\n",
       "      <td>4.000000</td>\n",
       "      <td>0.000000</td>\n",
       "    </tr>\n",
       "    <tr>\n",
       "      <td>max</td>\n",
       "      <td>1.994050e+08</td>\n",
       "      <td>104082.000000</td>\n",
       "      <td>9.789123e+06</td>\n",
       "      <td>6.000000</td>\n",
       "      <td>1.000000</td>\n",
       "    </tr>\n",
       "  </tbody>\n",
       "</table>\n",
       "</div>"
      ],
      "text/plain": [
       "              Views       Comments     Followers     dayofweek       weekend\n",
       "count  7.845800e+04   78458.000000  7.845800e+04  78458.000000  78458.000000\n",
       "mean   5.469686e+05     115.270973  4.787663e+05      2.579609      0.133626\n",
       "std    3.883085e+06     724.614868  1.168120e+06      1.785213      0.340252\n",
       "min    0.000000e+00       0.000000  1.000000e+00      0.000000      0.000000\n",
       "25%    6.216500e+03       1.000000  1.770000e+04      1.000000      0.000000\n",
       "50%    2.538650e+04      12.000000  8.768200e+04      3.000000      0.000000\n",
       "75%    1.201342e+05      61.000000  3.936550e+05      4.000000      0.000000\n",
       "max    1.994050e+08  104082.000000  9.789123e+06      6.000000      1.000000"
      ]
     },
     "execution_count": 72,
     "metadata": {},
     "output_type": "execute_result"
    }
   ],
   "source": [
    "data.describe()\n",
    "#if mean and median not equal outliers ??"
   ]
  },
  {
   "cell_type": "code",
   "execution_count": 73,
   "metadata": {},
   "outputs": [
    {
     "name": "stdout",
     "output_type": "stream",
     "text": [
      "<class 'pandas.core.frame.DataFrame'>\n",
      "RangeIndex: 78458 entries, 0 to 78457\n",
      "Data columns (total 10 columns):\n",
      "Genre         78458 non-null object\n",
      "Song_Name     78457 non-null object\n",
      "Timestamp     78458 non-null datetime64[ns]\n",
      "Views         78458 non-null int64\n",
      "Comments      78458 non-null int64\n",
      "Likes         78458 non-null object\n",
      "Popularity    78458 non-null object\n",
      "Followers     78458 non-null int64\n",
      "dayofweek     78458 non-null int64\n",
      "weekend       78458 non-null int64\n",
      "dtypes: datetime64[ns](1), int64(5), object(4)\n",
      "memory usage: 6.0+ MB\n"
     ]
    }
   ],
   "source": [
    "data.info()"
   ]
  },
  {
   "cell_type": "code",
   "execution_count": 74,
   "metadata": {},
   "outputs": [],
   "source": [
    "#pd.plotting.scatter_matrix(data, alpha=0.3, figsize=(14,8), diagonal='kde');"
   ]
  },
  {
   "cell_type": "code",
   "execution_count": 75,
   "metadata": {},
   "outputs": [
    {
     "data": {
      "text/plain": [
       "<matplotlib.axes._subplots.AxesSubplot at 0x1acf155160>"
      ]
     },
     "execution_count": 75,
     "metadata": {},
     "output_type": "execute_result"
    },
    {
     "data": {
      "image/png": "[encoded data removed]",
      "text/plain": [
       "<Figure size 432x288 with 1 Axes>"
      ]
     },
     "metadata": {
      "needs_background": "light"
     },
     "output_type": "display_data"
    }
   ],
   "source": [
    "#sns.regplot(x=\"Likes\", y=\"Views\", data=data)\n",
    "#sns.regplot(x=\"Comments\", y=\"Views\", data=data)\n",
    "#sns.regplot(x=\"Popularity\", y=\"Views\", data=data)\n",
    "sns.regplot(x=\"Followers\", y=\"Views\", data=data)"
   ]
  },
  {
   "cell_type": "code",
   "execution_count": 76,
   "metadata": {},
   "outputs": [],
   "source": [
    "def popularityConverting(x):\n",
    "    if x[-1]=='K':\n",
    "        x= ''.join(x[:-1].split(','))\n",
    "        x=float(x)*1000\n",
    "    elif x[-1]=='M':\n",
    "        x= ''.join(x[:-1].split(','))\n",
    "        x=float(x)*1000000\n",
    "    else:\n",
    "        x= ''.join(x.split(','))\n",
    "    return x"
   ]
  },
  {
   "cell_type": "code",
   "execution_count": 77,
   "metadata": {},
   "outputs": [
    {
     "data": {
      "text/html": [
       "<div>\n",
       "<style scoped>\n",
       "    .dataframe tbody tr th:only-of-type {\n",
       "        vertical-align: middle;\n",
       "    }\n",
       "\n",
       "    .dataframe tbody tr th {\n",
       "        vertical-align: top;\n",
       "    }\n",
       "\n",
       "    .dataframe thead th {\n",
       "        text-align: right;\n",
       "    }\n",
       "</style>\n",
       "<table border=\"1\" class=\"dataframe\">\n",
       "  <thead>\n",
       "    <tr style=\"text-align: right;\">\n",
       "      <th></th>\n",
       "      <th>Genre</th>\n",
       "      <th>Song_Name</th>\n",
       "      <th>Timestamp</th>\n",
       "      <th>Views</th>\n",
       "      <th>Comments</th>\n",
       "      <th>Likes</th>\n",
       "      <th>Popularity</th>\n",
       "      <th>Followers</th>\n",
       "      <th>dayofweek</th>\n",
       "      <th>weekend</th>\n",
       "      <th>LikePerFollower</th>\n",
       "      <th>PopularityPerFollower</th>\n",
       "      <th>CommentsPerFollower</th>\n",
       "    </tr>\n",
       "  </thead>\n",
       "  <tbody>\n",
       "    <tr>\n",
       "      <td>0</td>\n",
       "      <td>danceedm</td>\n",
       "      <td>N-Vitral presents BOMBSQUAD - Poison Spitter (...</td>\n",
       "      <td>2018-03-30 15:24:45</td>\n",
       "      <td>14017</td>\n",
       "      <td>4</td>\n",
       "      <td>499.0</td>\n",
       "      <td>97.0</td>\n",
       "      <td>119563</td>\n",
       "      <td>4</td>\n",
       "      <td>0</td>\n",
       "      <td>0.004174</td>\n",
       "      <td>0.000811</td>\n",
       "      <td>0.000033</td>\n",
       "    </tr>\n",
       "    <tr>\n",
       "      <td>1</td>\n",
       "      <td>danceedm</td>\n",
       "      <td>Dj Aladdin - Old School Hip Hop Quick Mix</td>\n",
       "      <td>2016-06-20 05:58:52</td>\n",
       "      <td>1918</td>\n",
       "      <td>17</td>\n",
       "      <td>49.0</td>\n",
       "      <td>17.0</td>\n",
       "      <td>2141</td>\n",
       "      <td>0</td>\n",
       "      <td>0</td>\n",
       "      <td>0.022887</td>\n",
       "      <td>0.007940</td>\n",
       "      <td>0.007940</td>\n",
       "    </tr>\n",
       "    <tr>\n",
       "      <td>2</td>\n",
       "      <td>danceedm</td>\n",
       "      <td>Maxximize On Air - Mixed by Blasterjaxx - Epis...</td>\n",
       "      <td>2015-05-08 17:45:59</td>\n",
       "      <td>9668</td>\n",
       "      <td>11</td>\n",
       "      <td>312.0</td>\n",
       "      <td>91.0</td>\n",
       "      <td>22248</td>\n",
       "      <td>4</td>\n",
       "      <td>0</td>\n",
       "      <td>0.014024</td>\n",
       "      <td>0.004090</td>\n",
       "      <td>0.000494</td>\n",
       "    </tr>\n",
       "    <tr>\n",
       "      <td>3</td>\n",
       "      <td>rbsoul</td>\n",
       "      <td>MC Yago - Tenho Compromisso (DJ R7)</td>\n",
       "      <td>2017-06-08 23:50:03</td>\n",
       "      <td>113036</td>\n",
       "      <td>2</td>\n",
       "      <td>2400.0</td>\n",
       "      <td>76.0</td>\n",
       "      <td>393655</td>\n",
       "      <td>3</td>\n",
       "      <td>0</td>\n",
       "      <td>0.006097</td>\n",
       "      <td>0.000193</td>\n",
       "      <td>0.000005</td>\n",
       "    </tr>\n",
       "    <tr>\n",
       "      <td>4</td>\n",
       "      <td>danceedm</td>\n",
       "      <td>Escape (feat. Steph Jones)</td>\n",
       "      <td>2016-09-17 20:50:19</td>\n",
       "      <td>110024</td>\n",
       "      <td>81</td>\n",
       "      <td>3031.0</td>\n",
       "      <td>699.0</td>\n",
       "      <td>201030</td>\n",
       "      <td>5</td>\n",
       "      <td>1</td>\n",
       "      <td>0.015077</td>\n",
       "      <td>0.003477</td>\n",
       "      <td>0.000403</td>\n",
       "    </tr>\n",
       "  </tbody>\n",
       "</table>\n",
       "</div>"
      ],
      "text/plain": [
       "      Genre                                          Song_Name  \\\n",
       "0  danceedm  N-Vitral presents BOMBSQUAD - Poison Spitter (...   \n",
       "1  danceedm          Dj Aladdin - Old School Hip Hop Quick Mix   \n",
       "2  danceedm  Maxximize On Air - Mixed by Blasterjaxx - Epis...   \n",
       "3    rbsoul                MC Yago - Tenho Compromisso (DJ R7)   \n",
       "4  danceedm                         Escape (feat. Steph Jones)   \n",
       "\n",
       "            Timestamp   Views  Comments   Likes  Popularity  Followers  \\\n",
       "0 2018-03-30 15:24:45   14017         4   499.0        97.0     119563   \n",
       "1 2016-06-20 05:58:52    1918        17    49.0        17.0       2141   \n",
       "2 2015-05-08 17:45:59    9668        11   312.0        91.0      22248   \n",
       "3 2017-06-08 23:50:03  113036         2  2400.0        76.0     393655   \n",
       "4 2016-09-17 20:50:19  110024        81  3031.0       699.0     201030   \n",
       "\n",
       "   dayofweek  weekend  LikePerFollower  PopularityPerFollower  \\\n",
       "0          4        0         0.004174               0.000811   \n",
       "1          0        0         0.022887               0.007940   \n",
       "2          4        0         0.014024               0.004090   \n",
       "3          3        0         0.006097               0.000193   \n",
       "4          5        1         0.015077               0.003477   \n",
       "\n",
       "   CommentsPerFollower  \n",
       "0             0.000033  \n",
       "1             0.007940  \n",
       "2             0.000494  \n",
       "3             0.000005  \n",
       "4             0.000403  "
      ]
     },
     "execution_count": 77,
     "metadata": {},
     "output_type": "execute_result"
    }
   ],
   "source": [
    "data['Popularity'] = data.Popularity.apply(popularityConverting)\n",
    "data['Popularity'] = data.Popularity.astype('float')\n",
    "data['Likes'] = data.Likes.apply(popularityConverting)\n",
    "data['Likes'] = data.Likes.astype('float')\n",
    "data['LikePerFollower'] = data.Likes/data.Followers\n",
    "data['PopularityPerFollower'] = data.Popularity/data.Followers\n",
    "data['CommentsPerFollower'] = data.Comments/data.Followers\n",
    "data.head()"
   ]
  },
  {
   "cell_type": "code",
   "execution_count": 78,
   "metadata": {},
   "outputs": [
    {
     "data": {
      "text/html": [
       "<div>\n",
       "<style scoped>\n",
       "    .dataframe tbody tr th:only-of-type {\n",
       "        vertical-align: middle;\n",
       "    }\n",
       "\n",
       "    .dataframe tbody tr th {\n",
       "        vertical-align: top;\n",
       "    }\n",
       "\n",
       "    .dataframe thead th {\n",
       "        text-align: right;\n",
       "    }\n",
       "</style>\n",
       "<table border=\"1\" class=\"dataframe\">\n",
       "  <thead>\n",
       "    <tr style=\"text-align: right;\">\n",
       "      <th></th>\n",
       "      <th>Views</th>\n",
       "      <th>Comments</th>\n",
       "      <th>Likes</th>\n",
       "      <th>Popularity</th>\n",
       "      <th>Followers</th>\n",
       "      <th>dayofweek</th>\n",
       "      <th>weekend</th>\n",
       "      <th>LikePerFollower</th>\n",
       "      <th>PopularityPerFollower</th>\n",
       "      <th>CommentsPerFollower</th>\n",
       "    </tr>\n",
       "  </thead>\n",
       "  <tbody>\n",
       "    <tr>\n",
       "      <td>Views</td>\n",
       "      <td>1.000000</td>\n",
       "      <td>0.679104</td>\n",
       "      <td>0.980132</td>\n",
       "      <td>0.834635</td>\n",
       "      <td>0.103603</td>\n",
       "      <td>0.014646</td>\n",
       "      <td>-0.002952</td>\n",
       "      <td>0.055206</td>\n",
       "      <td>0.068608</td>\n",
       "      <td>0.047441</td>\n",
       "    </tr>\n",
       "    <tr>\n",
       "      <td>Comments</td>\n",
       "      <td>0.679104</td>\n",
       "      <td>1.000000</td>\n",
       "      <td>0.656645</td>\n",
       "      <td>0.641815</td>\n",
       "      <td>0.085034</td>\n",
       "      <td>-0.001844</td>\n",
       "      <td>-0.002394</td>\n",
       "      <td>0.022917</td>\n",
       "      <td>0.039188</td>\n",
       "      <td>0.062131</td>\n",
       "    </tr>\n",
       "    <tr>\n",
       "      <td>Likes</td>\n",
       "      <td>0.980132</td>\n",
       "      <td>0.656645</td>\n",
       "      <td>1.000000</td>\n",
       "      <td>0.869048</td>\n",
       "      <td>0.110321</td>\n",
       "      <td>0.014117</td>\n",
       "      <td>-0.006747</td>\n",
       "      <td>0.072477</td>\n",
       "      <td>0.076148</td>\n",
       "      <td>0.050129</td>\n",
       "    </tr>\n",
       "    <tr>\n",
       "      <td>Popularity</td>\n",
       "      <td>0.834635</td>\n",
       "      <td>0.641815</td>\n",
       "      <td>0.869048</td>\n",
       "      <td>1.000000</td>\n",
       "      <td>0.138454</td>\n",
       "      <td>-0.006822</td>\n",
       "      <td>-0.013047</td>\n",
       "      <td>0.023005</td>\n",
       "      <td>0.045790</td>\n",
       "      <td>0.024282</td>\n",
       "    </tr>\n",
       "    <tr>\n",
       "      <td>Followers</td>\n",
       "      <td>0.103603</td>\n",
       "      <td>0.085034</td>\n",
       "      <td>0.110321</td>\n",
       "      <td>0.138454</td>\n",
       "      <td>1.000000</td>\n",
       "      <td>-0.031933</td>\n",
       "      <td>-0.076020</td>\n",
       "      <td>-0.017536</td>\n",
       "      <td>-0.022310</td>\n",
       "      <td>-0.023134</td>\n",
       "    </tr>\n",
       "    <tr>\n",
       "      <td>dayofweek</td>\n",
       "      <td>0.014646</td>\n",
       "      <td>-0.001844</td>\n",
       "      <td>0.014117</td>\n",
       "      <td>-0.006822</td>\n",
       "      <td>-0.031933</td>\n",
       "      <td>1.000000</td>\n",
       "      <td>0.631842</td>\n",
       "      <td>0.004269</td>\n",
       "      <td>0.004554</td>\n",
       "      <td>0.003408</td>\n",
       "    </tr>\n",
       "    <tr>\n",
       "      <td>weekend</td>\n",
       "      <td>-0.002952</td>\n",
       "      <td>-0.002394</td>\n",
       "      <td>-0.006747</td>\n",
       "      <td>-0.013047</td>\n",
       "      <td>-0.076020</td>\n",
       "      <td>0.631842</td>\n",
       "      <td>1.000000</td>\n",
       "      <td>0.005027</td>\n",
       "      <td>0.005993</td>\n",
       "      <td>0.004032</td>\n",
       "    </tr>\n",
       "    <tr>\n",
       "      <td>LikePerFollower</td>\n",
       "      <td>0.055206</td>\n",
       "      <td>0.022917</td>\n",
       "      <td>0.072477</td>\n",
       "      <td>0.023005</td>\n",
       "      <td>-0.017536</td>\n",
       "      <td>0.004269</td>\n",
       "      <td>0.005027</td>\n",
       "      <td>1.000000</td>\n",
       "      <td>0.822878</td>\n",
       "      <td>0.612209</td>\n",
       "    </tr>\n",
       "    <tr>\n",
       "      <td>PopularityPerFollower</td>\n",
       "      <td>0.068608</td>\n",
       "      <td>0.039188</td>\n",
       "      <td>0.076148</td>\n",
       "      <td>0.045790</td>\n",
       "      <td>-0.022310</td>\n",
       "      <td>0.004554</td>\n",
       "      <td>0.005993</td>\n",
       "      <td>0.822878</td>\n",
       "      <td>1.000000</td>\n",
       "      <td>0.557543</td>\n",
       "    </tr>\n",
       "    <tr>\n",
       "      <td>CommentsPerFollower</td>\n",
       "      <td>0.047441</td>\n",
       "      <td>0.062131</td>\n",
       "      <td>0.050129</td>\n",
       "      <td>0.024282</td>\n",
       "      <td>-0.023134</td>\n",
       "      <td>0.003408</td>\n",
       "      <td>0.004032</td>\n",
       "      <td>0.612209</td>\n",
       "      <td>0.557543</td>\n",
       "      <td>1.000000</td>\n",
       "    </tr>\n",
       "  </tbody>\n",
       "</table>\n",
       "</div>"
      ],
      "text/plain": [
       "                          Views  Comments     Likes  Popularity  Followers  \\\n",
       "Views                  1.000000  0.679104  0.980132    0.834635   0.103603   \n",
       "Comments               0.679104  1.000000  0.656645    0.641815   0.085034   \n",
       "Likes                  0.980132  0.656645  1.000000    0.869048   0.110321   \n",
       "Popularity             0.834635  0.641815  0.869048    1.000000   0.138454   \n",
       "Followers              0.103603  0.085034  0.110321    0.138454   1.000000   \n",
       "dayofweek              0.014646 -0.001844  0.014117   -0.006822  -0.031933   \n",
       "weekend               -0.002952 -0.002394 -0.006747   -0.013047  -0.076020   \n",
       "LikePerFollower        0.055206  0.022917  0.072477    0.023005  -0.017536   \n",
       "PopularityPerFollower  0.068608  0.039188  0.076148    0.045790  -0.022310   \n",
       "CommentsPerFollower    0.047441  0.062131  0.050129    0.024282  -0.023134   \n",
       "\n",
       "                       dayofweek   weekend  LikePerFollower  \\\n",
       "Views                   0.014646 -0.002952         0.055206   \n",
       "Comments               -0.001844 -0.002394         0.022917   \n",
       "Likes                   0.014117 -0.006747         0.072477   \n",
       "Popularity             -0.006822 -0.013047         0.023005   \n",
       "Followers              -0.031933 -0.076020        -0.017536   \n",
       "dayofweek               1.000000  0.631842         0.004269   \n",
       "weekend                 0.631842  1.000000         0.005027   \n",
       "LikePerFollower         0.004269  0.005027         1.000000   \n",
       "PopularityPerFollower   0.004554  0.005993         0.822878   \n",
       "CommentsPerFollower     0.003408  0.004032         0.612209   \n",
       "\n",
       "                       PopularityPerFollower  CommentsPerFollower  \n",
       "Views                               0.068608             0.047441  \n",
       "Comments                            0.039188             0.062131  \n",
       "Likes                               0.076148             0.050129  \n",
       "Popularity                          0.045790             0.024282  \n",
       "Followers                          -0.022310            -0.023134  \n",
       "dayofweek                           0.004554             0.003408  \n",
       "weekend                             0.005993             0.004032  \n",
       "LikePerFollower                     0.822878             0.612209  \n",
       "PopularityPerFollower               1.000000             0.557543  \n",
       "CommentsPerFollower                 0.557543             1.000000  "
      ]
     },
     "execution_count": 78,
     "metadata": {},
     "output_type": "execute_result"
    }
   ],
   "source": [
    "data.corr()"
   ]
  },
  {
   "cell_type": "code",
   "execution_count": 79,
   "metadata": {},
   "outputs": [],
   "source": [
    "def text_process(text):\n",
    "    \n",
    "    text = text.translate(str.maketrans('', '', string.punctuation))\n",
    "    text = [word for word in text.split() if word.lower() not in stopwords.words('english')]\n",
    "    \n",
    "    return \" \".join(text)\n",
    "#data['Song_Name']=data['Song_Name'].astype('str')\n",
    "#data['Song_Name'] = data['Song_Name'].apply(text_process)"
   ]
  },
  {
   "cell_type": "code",
   "execution_count": 80,
   "metadata": {},
   "outputs": [
    {
     "data": {
      "text/plain": [
       "0    N-Vitral presents BOMBSQUAD - Poison Spitter (...\n",
       "1            Dj Aladdin - Old School Hip Hop Quick Mix\n",
       "2    Maxximize On Air - Mixed by Blasterjaxx - Epis...\n",
       "3                  MC Yago - Tenho Compromisso (DJ R7)\n",
       "4                           Escape (feat. Steph Jones)\n",
       "Name: Song_Name, dtype: object"
      ]
     },
     "execution_count": 80,
     "metadata": {},
     "output_type": "execute_result"
    }
   ],
   "source": [
    "data['Song_Name'].head()"
   ]
  },
  {
   "cell_type": "code",
   "execution_count": 81,
   "metadata": {},
   "outputs": [
    {
     "data": {
      "text/html": [
       "<div>\n",
       "<style scoped>\n",
       "    .dataframe tbody tr th:only-of-type {\n",
       "        vertical-align: middle;\n",
       "    }\n",
       "\n",
       "    .dataframe tbody tr th {\n",
       "        vertical-align: top;\n",
       "    }\n",
       "\n",
       "    .dataframe thead th {\n",
       "        text-align: right;\n",
       "    }\n",
       "</style>\n",
       "<table border=\"1\" class=\"dataframe\">\n",
       "  <thead>\n",
       "    <tr style=\"text-align: right;\">\n",
       "      <th></th>\n",
       "      <th>Genre</th>\n",
       "      <th>Song_Name</th>\n",
       "      <th>Timestamp</th>\n",
       "      <th>Views</th>\n",
       "      <th>Comments</th>\n",
       "      <th>Likes</th>\n",
       "      <th>Popularity</th>\n",
       "      <th>Followers</th>\n",
       "      <th>dayofweek</th>\n",
       "      <th>weekend</th>\n",
       "      <th>LikePerFollower</th>\n",
       "      <th>PopularityPerFollower</th>\n",
       "      <th>CommentsPerFollower</th>\n",
       "    </tr>\n",
       "  </thead>\n",
       "  <tbody>\n",
       "    <tr>\n",
       "      <td>8583</td>\n",
       "      <td>rock</td>\n",
       "      <td>My Fairy King</td>\n",
       "      <td>1973-01-01</td>\n",
       "      <td>141</td>\n",
       "      <td>1</td>\n",
       "      <td>5.0</td>\n",
       "      <td>0.0</td>\n",
       "      <td>70299</td>\n",
       "      <td>0</td>\n",
       "      <td>0</td>\n",
       "      <td>0.000071</td>\n",
       "      <td>0.0</td>\n",
       "      <td>0.000014</td>\n",
       "    </tr>\n",
       "    <tr>\n",
       "      <td>14326</td>\n",
       "      <td>rock</td>\n",
       "      <td>Liar (At The BBC)</td>\n",
       "      <td>1973-01-01</td>\n",
       "      <td>87</td>\n",
       "      <td>0</td>\n",
       "      <td>0.0</td>\n",
       "      <td>0.0</td>\n",
       "      <td>70299</td>\n",
       "      <td>0</td>\n",
       "      <td>0</td>\n",
       "      <td>0.000000</td>\n",
       "      <td>0.0</td>\n",
       "      <td>0.000000</td>\n",
       "    </tr>\n",
       "    <tr>\n",
       "      <td>14653</td>\n",
       "      <td>rock</td>\n",
       "      <td>Keep Yourself Alive</td>\n",
       "      <td>1973-01-01</td>\n",
       "      <td>1086</td>\n",
       "      <td>0</td>\n",
       "      <td>14.0</td>\n",
       "      <td>0.0</td>\n",
       "      <td>70299</td>\n",
       "      <td>0</td>\n",
       "      <td>0</td>\n",
       "      <td>0.000199</td>\n",
       "      <td>0.0</td>\n",
       "      <td>0.000000</td>\n",
       "    </tr>\n",
       "    <tr>\n",
       "      <td>49988</td>\n",
       "      <td>rock</td>\n",
       "      <td>Doing All Right</td>\n",
       "      <td>1973-01-01</td>\n",
       "      <td>618</td>\n",
       "      <td>0</td>\n",
       "      <td>14.0</td>\n",
       "      <td>0.0</td>\n",
       "      <td>70299</td>\n",
       "      <td>0</td>\n",
       "      <td>0</td>\n",
       "      <td>0.000199</td>\n",
       "      <td>0.0</td>\n",
       "      <td>0.000000</td>\n",
       "    </tr>\n",
       "    <tr>\n",
       "      <td>61074</td>\n",
       "      <td>rock</td>\n",
       "      <td>Great King Rat</td>\n",
       "      <td>1973-01-01</td>\n",
       "      <td>104</td>\n",
       "      <td>0</td>\n",
       "      <td>0.0</td>\n",
       "      <td>0.0</td>\n",
       "      <td>70299</td>\n",
       "      <td>0</td>\n",
       "      <td>0</td>\n",
       "      <td>0.000000</td>\n",
       "      <td>0.0</td>\n",
       "      <td>0.000000</td>\n",
       "    </tr>\n",
       "  </tbody>\n",
       "</table>\n",
       "</div>"
      ],
      "text/plain": [
       "      Genre            Song_Name  Timestamp  Views  Comments  Likes  \\\n",
       "8583   rock        My Fairy King 1973-01-01    141         1    5.0   \n",
       "14326  rock    Liar (At The BBC) 1973-01-01     87         0    0.0   \n",
       "14653  rock  Keep Yourself Alive 1973-01-01   1086         0   14.0   \n",
       "49988  rock      Doing All Right 1973-01-01    618         0   14.0   \n",
       "61074  rock       Great King Rat 1973-01-01    104         0    0.0   \n",
       "\n",
       "       Popularity  Followers  dayofweek  weekend  LikePerFollower  \\\n",
       "8583          0.0      70299          0        0         0.000071   \n",
       "14326         0.0      70299          0        0         0.000000   \n",
       "14653         0.0      70299          0        0         0.000199   \n",
       "49988         0.0      70299          0        0         0.000199   \n",
       "61074         0.0      70299          0        0         0.000000   \n",
       "\n",
       "       PopularityPerFollower  CommentsPerFollower  \n",
       "8583                     0.0             0.000014  \n",
       "14326                    0.0             0.000000  \n",
       "14653                    0.0             0.000000  \n",
       "49988                    0.0             0.000000  \n",
       "61074                    0.0             0.000000  "
      ]
     },
     "metadata": {},
     "output_type": "display_data"
    },
    {
     "data": {
      "text/html": [
       "<div>\n",
       "<style scoped>\n",
       "    .dataframe tbody tr th:only-of-type {\n",
       "        vertical-align: middle;\n",
       "    }\n",
       "\n",
       "    .dataframe tbody tr th {\n",
       "        vertical-align: top;\n",
       "    }\n",
       "\n",
       "    .dataframe thead th {\n",
       "        text-align: right;\n",
       "    }\n",
       "</style>\n",
       "<table border=\"1\" class=\"dataframe\">\n",
       "  <thead>\n",
       "    <tr style=\"text-align: right;\">\n",
       "      <th></th>\n",
       "      <th>Genre</th>\n",
       "      <th>Song_Name</th>\n",
       "      <th>Timestamp</th>\n",
       "      <th>Views</th>\n",
       "      <th>Comments</th>\n",
       "      <th>Likes</th>\n",
       "      <th>Popularity</th>\n",
       "      <th>Followers</th>\n",
       "      <th>dayofweek</th>\n",
       "      <th>weekend</th>\n",
       "      <th>LikePerFollower</th>\n",
       "      <th>PopularityPerFollower</th>\n",
       "      <th>CommentsPerFollower</th>\n",
       "    </tr>\n",
       "  </thead>\n",
       "  <tbody>\n",
       "    <tr>\n",
       "      <td>72376</td>\n",
       "      <td>danceedm</td>\n",
       "      <td>Sam Feldt - Heartfeldt Radio #164</td>\n",
       "      <td>2019-02-25 08:00:06</td>\n",
       "      <td>35</td>\n",
       "      <td>0</td>\n",
       "      <td>7.0</td>\n",
       "      <td>3.0</td>\n",
       "      <td>23043</td>\n",
       "      <td>0</td>\n",
       "      <td>0</td>\n",
       "      <td>0.000304</td>\n",
       "      <td>0.00013</td>\n",
       "      <td>0.0</td>\n",
       "    </tr>\n",
       "  </tbody>\n",
       "</table>\n",
       "</div>"
      ],
      "text/plain": [
       "          Genre                          Song_Name           Timestamp  Views  \\\n",
       "72376  danceedm  Sam Feldt - Heartfeldt Radio #164 2019-02-25 08:00:06     35   \n",
       "\n",
       "       Comments  Likes  Popularity  Followers  dayofweek  weekend  \\\n",
       "72376         0    7.0         3.0      23043          0        0   \n",
       "\n",
       "       LikePerFollower  PopularityPerFollower  CommentsPerFollower  \n",
       "72376         0.000304                0.00013                  0.0  "
      ]
     },
     "metadata": {},
     "output_type": "display_data"
    },
    {
     "data": {
      "text/plain": [
       "Timestamp            Views\n",
       "1973-01-01 00:00:00  87       1\n",
       "                     104      1\n",
       "                     141      1\n",
       "                     618      1\n",
       "                     1086     1\n",
       "                             ..\n",
       "2019-02-25 03:59:34  1        1\n",
       "2019-02-25 04:14:28  5        1\n",
       "2019-02-25 04:15:07  1        1\n",
       "2019-02-25 07:49:53  60       1\n",
       "2019-02-25 08:00:06  35       1\n",
       "Name: Views, Length: 78193, dtype: int64"
      ]
     },
     "execution_count": 81,
     "metadata": {},
     "output_type": "execute_result"
    }
   ],
   "source": [
    "#trying for time as feature\n",
    "display(data[data['Timestamp']==data['Timestamp'].min()])\n",
    "display(data[data['Timestamp']==data['Timestamp'].max()])\n",
    "data.sort_values(by=['Timestamp']).groupby(['Timestamp'])['Views'].value_counts()"
   ]
  },
  {
   "cell_type": "code",
   "execution_count": 99,
   "metadata": {},
   "outputs": [],
   "source": [
    "features_data =data.loc[:,['Comments', 'Likes', 'Popularity', 'Followers','weekend','LikePerFollower','PopularityPerFollower','CommentsPerFollower']]\n",
    "X = data.loc[:,['Comments', 'Likes', 'Popularity', 'Followers','weekend','LikePerFollower','PopularityPerFollower','CommentsPerFollower']]\n",
    "y = data['Views']\n",
    "X= StandardScaler().fit(X).transform(X)"
   ]
  },
  {
   "cell_type": "code",
   "execution_count": 54,
   "metadata": {},
   "outputs": [
    {
     "data": {
      "image/png": "[encoded data removed]",
      "text/plain": [
       "<Figure size 1008x576 with 36 Axes>"
      ]
     },
     "metadata": {
      "needs_background": "light"
     },
     "output_type": "display_data"
    }
   ],
   "source": [
    "#pd.plotting.scatter_matrix(data.loc[:,['Views','Comments', 'Likes', 'Popularity', 'Followers','weekend']], alpha=0.3, figsize=(14,8), diagonal='kde');"
   ]
  },
  {
   "cell_type": "code",
   "execution_count": 83,
   "metadata": {},
   "outputs": [],
   "source": [
    "X_train, X_test, y_train, y_test = train_test_split(X, y, test_size=0.3, random_state=42)"
   ]
  },
  {
   "cell_type": "code",
   "execution_count": 84,
   "metadata": {},
   "outputs": [
    {
     "name": "stdout",
     "output_type": "stream",
     "text": [
      "[0.32042337 0.28543395 0.13286504 0.1141046  0.06031586 0.05219836\n",
      " 0.02013112 0.0145277 ]\n",
      "[0.32042337 0.60585732 0.73872236 0.85282697 0.91314283 0.96534119\n",
      " 0.9854723  1.        ]\n"
     ]
    },
    {
     "data": {
      "image/png": "[encoded data removed]",
      "text/plain": [
       "<Figure size 720x432 with 1 Axes>"
      ]
     },
     "metadata": {
      "needs_background": "light"
     },
     "output_type": "display_data"
    }
   ],
   "source": [
    "# Build PCA using standarized trained data\n",
    "pca = PCA(n_components=None, svd_solver=\"full\")\n",
    "pca.fit(StandardScaler().fit_transform(X_train))\n",
    "print(pca.explained_variance_ratio_)\n",
    "cum_var_exp = np.cumsum(pca.explained_variance_ratio_)\n",
    "plt.figure(figsize=(10, 6))\n",
    "plt.bar(range(1, 9), pca.explained_variance_ratio_, align=\"center\",\n",
    "        color='red', label=\"Individual explained variance\")\n",
    "plt.step(range(1, 9), cum_var_exp, where=\"mid\", label=\"Cumulative explained variance\")\n",
    "plt.xticks(range(1, 9))\n",
    "plt.legend(loc=\"best\")\n",
    "plt.xlabel(\"Principal component index\", {\"fontsize\": 14})\n",
    "plt.ylabel(\"Explained variance ratio\", {\"fontsize\": 14})\n",
    "plt.title(\"PCA on training data\", {\"fontsize\": 16});\n",
    "print(cum_var_exp)"
   ]
  },
  {
   "cell_type": "code",
   "execution_count": 85,
   "metadata": {},
   "outputs": [
    {
     "data": {
      "image/png": "[encoded data removed]",
      "text/plain": [
       "<Figure size 432x288 with 1 Axes>"
      ]
     },
     "metadata": {
      "needs_background": "light"
     },
     "output_type": "display_data"
    },
    {
     "name": "stdout",
     "output_type": "stream",
     "text": [
      "RMSE: 710782.952301\n"
     ]
    }
   ],
   "source": [
    "lr_regressor =LinearRegression()\n",
    "lr_regressor.fit(X_train, y_train)\n",
    "preds = lr_regressor.predict(X_test)\n",
    "plt.scatter(y_test,preds)\n",
    "plt.grid()\n",
    "plt.xlabel('Actual y')\n",
    "plt.ylabel('Predicted y')\n",
    "plt.title('scatter plot between actual y and predicted y')\n",
    "plt.show()\n",
    "rmse = np.sqrt(mean_squared_error(y_test, preds))\n",
    "print(\"RMSE: %f\" % (rmse))\n"
   ]
  },
  {
   "cell_type": "code",
   "execution_count": 58,
   "metadata": {},
   "outputs": [
    {
     "name": "stdout",
     "output_type": "stream",
     "text": [
      "tuned hpyerparameters :(best parameters)  {'alpha': 0.001}\n",
      "accuracy : 0.9612988694176566\n"
     ]
    }
   ],
   "source": [
    "lasso_params = {'alpha':[0.005,0.001, 0.02, 0.03, 0.05, 0.06]}\n",
    "laso_regressor=Lasso()\n",
    "laso_regressor_cv=GridSearchCV(laso_regressor,lasso_params,cv=5)\n",
    "laso_regressor_cv.fit(X,y)\n",
    "print(\"tuned hpyerparameters :(best parameters) \",laso_regressor_cv.best_params_)\n",
    "print(\"accuracy :\",laso_regressor_cv.best_score_)"
   ]
  },
  {
   "cell_type": "code",
   "execution_count": 90,
   "metadata": {},
   "outputs": [
    {
     "data": {
      "image/png": "[encoded data removed]",
      "text/plain": [
       "<Figure size 432x288 with 1 Axes>"
      ]
     },
     "metadata": {
      "needs_background": "light"
     },
     "output_type": "display_data"
    },
    {
     "name": "stdout",
     "output_type": "stream",
     "text": [
      "RMSE: 710782.952377\n"
     ]
    }
   ],
   "source": [
    "laso_regressor =Lasso(alpha= 0.001)\n",
    "laso_regressor.fit(X_train, y_train)\n",
    "preds = laso_regressor.predict(X_test)\n",
    "plt.scatter(y_test,preds)\n",
    "plt.grid()\n",
    "plt.xlabel('Actual y')\n",
    "plt.ylabel('Predicted y')\n",
    "plt.title('scatter plot between actual y and predicted y')\n",
    "plt.show()\n",
    "rmse = np.sqrt(mean_squared_error(y_test, preds))\n",
    "print(\"RMSE: %f\" % (rmse))"
   ]
  },
  {
   "cell_type": "code",
   "execution_count": 60,
   "metadata": {},
   "outputs": [
    {
     "name": "stdout",
     "output_type": "stream",
     "text": [
      "tuned hpyerparameters :(best parameters)  {'max_features': 0.4, 'min_samples_leaf': 1, 'n_estimators': 100}\n",
      "accuracy : 0.9591374461957914\n"
     ]
    }
   ],
   "source": [
    "rf_regressor= RandomForestRegressor()\n",
    "hyperparam_grid={\"n_estimators\": [10, 50, 100],\"max_features\": [\"sqrt\", \"log2\", 0.4, 0.5],\\\n",
    "                 \"min_samples_leaf\": [1, 3, 5]}\n",
    "rf_regressor_cv = GridSearchCV(rf_regressor,hyperparam_grid,cv=2)\n",
    "rf_regressor_cv.fit(X,y)\n",
    "print(\"tuned hpyerparameters :(best parameters) \",rf_regressor_cv.best_params_)\n",
    "print(\"accuracy :\",rf_regressor_cv.best_score_)"
   ]
  },
  {
   "cell_type": "code",
   "execution_count": 61,
   "metadata": {},
   "outputs": [
    {
     "data": {
      "image/png": "[encoded data removed]",
      "text/plain": [
       "<Figure size 432x288 with 1 Axes>"
      ]
     },
     "metadata": {
      "needs_background": "light"
     },
     "output_type": "display_data"
    },
    {
     "name": "stdout",
     "output_type": "stream",
     "text": [
      "RMSE: 651317.732288\n"
     ]
    }
   ],
   "source": [
    "rf_regressor=RandomForestRegressor(max_features= 0.4, min_samples_leaf= 1, n_estimators=100)\n",
    "rf_regressor.fit(X_train,y_train)\n",
    "\n",
    "preds = rf_regressor.predict(X_test)\n",
    "rmse = np.sqrt(mean_squared_error(y_test, preds))\n",
    "plt.scatter(y_test,preds)\n",
    "plt.grid()\n",
    "plt.xlabel('Actual y')\n",
    "plt.ylabel('Predicted y')\n",
    "plt.title('scatter plot between actual y and predicted y')\n",
    "plt.show()\n",
    "print(\"RMSE: %f\" % (rmse))"
   ]
  },
  {
   "cell_type": "code",
   "execution_count": 62,
   "metadata": {},
   "outputs": [
    {
     "name": "stdout",
     "output_type": "stream",
     "text": [
      "[4 3 0 2 1]\n",
      "[1 2 0 3 4]\n"
     ]
    },
    {
     "data": {
      "image/png": "[encoded data removed]",
      "text/plain": [
       "<Figure size 576x360 with 1 Axes>"
      ]
     },
     "metadata": {
      "needs_background": "light"
     },
     "output_type": "display_data"
    }
   ],
   "source": [
    "feature_importance = rf_regressor.feature_importances_\n",
    "print(np.argsort(rf_regressor.feature_importances_))\n",
    "indices = np.argsort(rf_regressor.feature_importances_)[::-1]\n",
    "print(indices)\n",
    "plt.figure(figsize=(8, 5))\n",
    "plt.xticks(range(1, 6), features_data.columns[indices], rotation=90)\n",
    "plt.bar(range(1, 6), feature_importance[indices], align=\"center\")\n",
    "plt.title(\"Feature Importance\", {\"fontsize\": 16});"
   ]
  },
  {
   "cell_type": "code",
   "execution_count": 89,
   "metadata": {},
   "outputs": [
    {
     "name": "stdout",
     "output_type": "stream",
     "text": [
      "[11:43:04] WARNING: src/objective/regression_obj.cu:152: reg:linear is now deprecated in favor of reg:squarederror.\n",
      "[11:43:22] WARNING: src/objective/regression_obj.cu:152: reg:linear is now deprecated in favor of reg:squarederror.\n",
      "[11:43:43] WARNING: src/objective/regression_obj.cu:152: reg:linear is now deprecated in favor of reg:squarederror.\n",
      "[11:43:46] WARNING: src/objective/regression_obj.cu:152: reg:linear is now deprecated in favor of reg:squarederror.\n",
      "[11:43:49] WARNING: src/objective/regression_obj.cu:152: reg:linear is now deprecated in favor of reg:squarederror.\n",
      "[11:43:58] WARNING: src/objective/regression_obj.cu:152: reg:linear is now deprecated in favor of reg:squarederror.\n",
      "[11:44:07] WARNING: src/objective/regression_obj.cu:152: reg:linear is now deprecated in favor of reg:squarederror.\n",
      "[11:44:13] WARNING: src/objective/regression_obj.cu:152: reg:linear is now deprecated in favor of reg:squarederror.\n",
      "[11:44:20] WARNING: src/objective/regression_obj.cu:152: reg:linear is now deprecated in favor of reg:squarederror.\n",
      "[11:44:22] WARNING: src/objective/regression_obj.cu:152: reg:linear is now deprecated in favor of reg:squarederror.\n",
      "[11:44:23] WARNING: src/objective/regression_obj.cu:152: reg:linear is now deprecated in favor of reg:squarederror.\n",
      "[11:44:41] WARNING: src/objective/regression_obj.cu:152: reg:linear is now deprecated in favor of reg:squarederror.\n",
      "[11:45:02] WARNING: src/objective/regression_obj.cu:152: reg:linear is now deprecated in favor of reg:squarederror.\n",
      "[11:45:12] WARNING: src/objective/regression_obj.cu:152: reg:linear is now deprecated in favor of reg:squarederror.\n",
      "[11:45:22] WARNING: src/objective/regression_obj.cu:152: reg:linear is now deprecated in favor of reg:squarederror.\n",
      "[11:45:29] WARNING: src/objective/regression_obj.cu:152: reg:linear is now deprecated in favor of reg:squarederror.\n",
      "[11:45:36] WARNING: src/objective/regression_obj.cu:152: reg:linear is now deprecated in favor of reg:squarederror.\n",
      "[11:45:38] WARNING: src/objective/regression_obj.cu:152: reg:linear is now deprecated in favor of reg:squarederror.\n",
      "[11:45:40] WARNING: src/objective/regression_obj.cu:152: reg:linear is now deprecated in favor of reg:squarederror.\n",
      "[11:45:42] WARNING: src/objective/regression_obj.cu:152: reg:linear is now deprecated in favor of reg:squarederror.\n",
      "[11:45:44] WARNING: src/objective/regression_obj.cu:152: reg:linear is now deprecated in favor of reg:squarederror.\n"
     ]
    },
    {
     "data": {
      "text/plain": [
       "XGBRegressor(base_score=0.5, booster='gbtree', colsample_bylevel=1,\n",
       "             colsample_bynode=1, colsample_bytree=1, gamma=0,\n",
       "             importance_type='gain', learning_rate=0.15, max_delta_step=0,\n",
       "             max_depth=10, min_child_weight=1, missing=None, n_estimators=500,\n",
       "             n_jobs=1, nthread=None, objective='reg:linear', random_state=0,\n",
       "             reg_alpha=0, reg_lambda=1, scale_pos_weight=1, seed=None,\n",
       "             silent=None, subsample=1, verbosity=1)"
      ]
     },
     "execution_count": 89,
     "metadata": {},
     "output_type": "execute_result"
    }
   ],
   "source": [
    "xgb_regressor=xgb.XGBRegressor()\n",
    "\n",
    "n_estimators = [100, 500]\n",
    "max_depth = [2, 3, 5, 10, 15]\n",
    "learning_rate=[0.05,0.1,0.15,0.20]\n",
    "min_child_weight=[1,2,3,4]\n",
    "\n",
    "# Define the grid of hyperparameters to search\n",
    "hyperparameter_grid = {\n",
    "    'n_estimators': n_estimators,\n",
    "    'max_depth':max_depth,\n",
    "    'learning_rate':learning_rate,\n",
    "    'min_child_weight':min_child_weight,\n",
    "    }\n",
    "\n",
    "# Set up the random search with 4-fold cross validation\n",
    "xgb_regressor_cv = RandomizedSearchCV(estimator=xgb_regressor,\n",
    "            param_distributions=hyperparameter_grid,\n",
    "            cv=2,\n",
    "            scoring = 'neg_mean_absolute_error',\n",
    "            return_train_score = True,\n",
    "            random_state=42)\n",
    "xgb_regressor_cv.fit(X_train,y_train)\n",
    "xgb_regressor_cv.best_estimator_"
   ]
  },
  {
   "cell_type": "code",
   "execution_count": 96,
   "metadata": {},
   "outputs": [
    {
     "name": "stdout",
     "output_type": "stream",
     "text": [
      "[11:49:51] WARNING: src/objective/regression_obj.cu:152: reg:linear is now deprecated in favor of reg:squarederror.\n"
     ]
    },
    {
     "data": {
      "image/png": "[encoded data removed]",
      "text/plain": [
       "<Figure size 432x288 with 1 Axes>"
      ]
     },
     "metadata": {
      "needs_background": "light"
     },
     "output_type": "display_data"
    },
    {
     "name": "stdout",
     "output_type": "stream",
     "text": [
      "RMSE: 618888.610669\n"
     ]
    }
   ],
   "source": [
    "#regressor=xgb.XGBRegressor(objective ='reg:squarederror',n_estimators=100, min_child_weight=3, max_depth=10, learning_rate=0.1, booster='gbtree', base_score=0.25)\n",
    "xgb_regressor= xgb.XGBRegressor(base_score=0.5, booster='gbtree', colsample_bylevel=1,\n",
    "             colsample_bynode=1, colsample_bytree=1, gamma=0,\n",
    "             importance_type='gain', learning_rate=0.15, max_delta_step=0,\n",
    "             max_depth=10, min_child_weight=1, missing=None, n_estimators=500,\n",
    "             n_jobs=1, nthread=None, objective='reg:linear', random_state=0,\n",
    "             reg_alpha=0, reg_lambda=1, scale_pos_weight=1, seed=None,\n",
    "             silent=None, subsample=1, verbosity=1)\n",
    "xgb_regressor.fit(X_train,y_train)\n",
    "\n",
    "preds = xgb_regressor.predict(X_test)\n",
    "rmse = np.sqrt(mean_squared_error(y_test, preds))\n",
    "plt.scatter(y_test,preds)\n",
    "plt.grid()\n",
    "plt.xlabel('Actual y')\n",
    "plt.ylabel('Predicted y')\n",
    "plt.title('scatter plot between actual y and predicted y')\n",
    "plt.show()\n",
    "print(\"RMSE: %f\" % (rmse))"
   ]
  },
  {
   "cell_type": "code",
   "execution_count": 97,
   "metadata": {},
   "outputs": [
    {
     "data": {
      "text/plain": [
       "array([0.00680899, 0.9688946 , 0.00772279, 0.00373136, 0.00190862,\n",
       "       0.00180873, 0.00350854, 0.00561637], dtype=float32)"
      ]
     },
     "execution_count": 97,
     "metadata": {},
     "output_type": "execute_result"
    }
   ],
   "source": [
    "#outliers\n",
    "xgb_regressor.feature_importances_"
   ]
  },
  {
   "cell_type": "code",
   "execution_count": 100,
   "metadata": {},
   "outputs": [
    {
     "name": "stdout",
     "output_type": "stream",
     "text": [
      "[5 4 6 3 7 0 2 1]\n",
      "[1 2 0 7 3 6 4 5]\n"
     ]
    },
    {
     "data": {
      "image/png": "[encoded data removed]",
      "text/plain": [
       "<Figure size 576x360 with 1 Axes>"
      ]
     },
     "metadata": {
      "needs_background": "light"
     },
     "output_type": "display_data"
    }
   ],
   "source": [
    "feature_importance = xgb_regressor.feature_importances_\n",
    "print(np.argsort(xgb_regressor.feature_importances_))\n",
    "indices = np.argsort(xgb_regressor.feature_importances_)[::-1]\n",
    "print(indices)\n",
    "plt.figure(figsize=(8, 5))\n",
    "plt.xticks(range(1, 9), features_data.columns[indices], rotation=90)\n",
    "plt.bar(range(1, 9), feature_importance[indices], align=\"center\")\n",
    "plt.title(\"Feature Importance\", {\"fontsize\": 16});"
   ]
  },
  {
   "cell_type": "code",
   "execution_count": null,
   "metadata": {},
   "outputs": [],
   "source": [
    "estimators = {\"Linear Regressor\": lr_regressor,\n",
    "              \"Lasso Regressor\": laso_regressor,\n",
    "              \"Random Forest Regressor\": rf_regressor,\n",
    "              \"XGB Regressor\": xgb_regressor}\n",
    "for estimator in estimators.keys():\n",
    "    print('RMSE {}:{:.2f}'.format(estimator,np.sqrt(mean_squared_error(y_test, estimators[estimator].predict(X_test)))))"
   ]
  },
  {
   "cell_type": "code",
   "execution_count": 103,
   "metadata": {},
   "outputs": [
    {
     "data": {
      "text/html": [
       "<div>\n",
       "<style scoped>\n",
       "    .dataframe tbody tr th:only-of-type {\n",
       "        vertical-align: middle;\n",
       "    }\n",
       "\n",
       "    .dataframe tbody tr th {\n",
       "        vertical-align: top;\n",
       "    }\n",
       "\n",
       "    .dataframe thead th {\n",
       "        text-align: right;\n",
       "    }\n",
       "</style>\n",
       "<table border=\"1\" class=\"dataframe\">\n",
       "  <thead>\n",
       "    <tr style=\"text-align: right;\">\n",
       "      <th></th>\n",
       "      <th>Unique_ID</th>\n",
       "      <th>Name</th>\n",
       "      <th>Genre</th>\n",
       "      <th>Country</th>\n",
       "      <th>Song_Name</th>\n",
       "      <th>Timestamp</th>\n",
       "      <th>Comments</th>\n",
       "      <th>Likes</th>\n",
       "      <th>Popularity</th>\n",
       "      <th>Followers</th>\n",
       "    </tr>\n",
       "  </thead>\n",
       "  <tbody>\n",
       "    <tr>\n",
       "      <td>0</td>\n",
       "      <td>562546</td>\n",
       "      <td>L2Share♫79</td>\n",
       "      <td>all-music</td>\n",
       "      <td>AU</td>\n",
       "      <td>엔플라잉 N.Flying - Rooftop (옥탑방)</td>\n",
       "      <td>2019-01-02 09:49:19.000000</td>\n",
       "      <td>26</td>\n",
       "      <td>5,428</td>\n",
       "      <td>118</td>\n",
       "      <td>2568</td>\n",
       "    </tr>\n",
       "    <tr>\n",
       "      <td>1</td>\n",
       "      <td>907584</td>\n",
       "      <td>Morgan Page</td>\n",
       "      <td>danceedm</td>\n",
       "      <td>AU</td>\n",
       "      <td>Morgan Page - In The Air - Episode 246</td>\n",
       "      <td>2015-03-09 17:30:10.000000</td>\n",
       "      <td>18</td>\n",
       "      <td>738</td>\n",
       "      <td>195</td>\n",
       "      <td>155645</td>\n",
       "    </tr>\n",
       "    <tr>\n",
       "      <td>2</td>\n",
       "      <td>213013</td>\n",
       "      <td>Dirty Workz</td>\n",
       "      <td>danceedm</td>\n",
       "      <td>AU</td>\n",
       "      <td>Outlander - Devotion (Official HQ Preview)</td>\n",
       "      <td>2013-09-18 16:09:03.000000</td>\n",
       "      <td>18</td>\n",
       "      <td>386</td>\n",
       "      <td>96</td>\n",
       "      <td>29446</td>\n",
       "    </tr>\n",
       "    <tr>\n",
       "      <td>3</td>\n",
       "      <td>340312</td>\n",
       "      <td>Gucci Mane</td>\n",
       "      <td>all-music</td>\n",
       "      <td>AU</td>\n",
       "      <td>Freaky Gurl</td>\n",
       "      <td>2007-08-14 00:00:00.000000</td>\n",
       "      <td>1</td>\n",
       "      <td>388</td>\n",
       "      <td>19</td>\n",
       "      <td>799410</td>\n",
       "    </tr>\n",
       "    <tr>\n",
       "      <td>4</td>\n",
       "      <td>41854</td>\n",
       "      <td>Angga Kecap</td>\n",
       "      <td>rock</td>\n",
       "      <td>AU</td>\n",
       "      <td>Radical Nusantara - Teman</td>\n",
       "      <td>2018-08-10 16:28:54.000000</td>\n",
       "      <td>0</td>\n",
       "      <td>79</td>\n",
       "      <td>1</td>\n",
       "      <td>2</td>\n",
       "    </tr>\n",
       "  </tbody>\n",
       "</table>\n",
       "</div>"
      ],
      "text/plain": [
       "   Unique_ID         Name      Genre Country  \\\n",
       "0     562546   L2Share♫79  all-music      AU   \n",
       "1     907584  Morgan Page   danceedm      AU   \n",
       "2     213013  Dirty Workz   danceedm      AU   \n",
       "3     340312   Gucci Mane  all-music      AU   \n",
       "4      41854  Angga Kecap       rock      AU   \n",
       "\n",
       "                                    Song_Name                   Timestamp  \\\n",
       "0               엔플라잉 N.Flying - Rooftop (옥탑방)  2019-01-02 09:49:19.000000   \n",
       "1      Morgan Page - In The Air - Episode 246  2015-03-09 17:30:10.000000   \n",
       "2  Outlander - Devotion (Official HQ Preview)  2013-09-18 16:09:03.000000   \n",
       "3                                 Freaky Gurl  2007-08-14 00:00:00.000000   \n",
       "4                   Radical Nusantara - Teman  2018-08-10 16:28:54.000000   \n",
       "\n",
       "   Comments  Likes Popularity  Followers  \n",
       "0        26  5,428        118       2568  \n",
       "1        18    738        195     155645  \n",
       "2        18    386         96      29446  \n",
       "3         1    388         19     799410  \n",
       "4         0     79          1          2  "
      ]
     },
     "metadata": {},
     "output_type": "display_data"
    },
    {
     "data": {
      "text/html": [
       "<div>\n",
       "<style scoped>\n",
       "    .dataframe tbody tr th:only-of-type {\n",
       "        vertical-align: middle;\n",
       "    }\n",
       "\n",
       "    .dataframe tbody tr th {\n",
       "        vertical-align: top;\n",
       "    }\n",
       "\n",
       "    .dataframe thead th {\n",
       "        text-align: right;\n",
       "    }\n",
       "</style>\n",
       "<table border=\"1\" class=\"dataframe\">\n",
       "  <thead>\n",
       "    <tr style=\"text-align: right;\">\n",
       "      <th></th>\n",
       "      <th>Genre</th>\n",
       "      <th>Timestamp</th>\n",
       "      <th>Comments</th>\n",
       "      <th>Likes</th>\n",
       "      <th>Popularity</th>\n",
       "      <th>Followers</th>\n",
       "      <th>dayofweek</th>\n",
       "      <th>weekend</th>\n",
       "    </tr>\n",
       "  </thead>\n",
       "  <tbody>\n",
       "    <tr>\n",
       "      <td>0</td>\n",
       "      <td>all-music</td>\n",
       "      <td>2019-01-02 09:49:19</td>\n",
       "      <td>26</td>\n",
       "      <td>5,428</td>\n",
       "      <td>118</td>\n",
       "      <td>2568</td>\n",
       "      <td>2</td>\n",
       "      <td>0</td>\n",
       "    </tr>\n",
       "    <tr>\n",
       "      <td>1</td>\n",
       "      <td>danceedm</td>\n",
       "      <td>2015-03-09 17:30:10</td>\n",
       "      <td>18</td>\n",
       "      <td>738</td>\n",
       "      <td>195</td>\n",
       "      <td>155645</td>\n",
       "      <td>0</td>\n",
       "      <td>0</td>\n",
       "    </tr>\n",
       "    <tr>\n",
       "      <td>2</td>\n",
       "      <td>danceedm</td>\n",
       "      <td>2013-09-18 16:09:03</td>\n",
       "      <td>18</td>\n",
       "      <td>386</td>\n",
       "      <td>96</td>\n",
       "      <td>29446</td>\n",
       "      <td>2</td>\n",
       "      <td>0</td>\n",
       "    </tr>\n",
       "    <tr>\n",
       "      <td>3</td>\n",
       "      <td>all-music</td>\n",
       "      <td>2007-08-14 00:00:00</td>\n",
       "      <td>1</td>\n",
       "      <td>388</td>\n",
       "      <td>19</td>\n",
       "      <td>799410</td>\n",
       "      <td>1</td>\n",
       "      <td>0</td>\n",
       "    </tr>\n",
       "    <tr>\n",
       "      <td>4</td>\n",
       "      <td>rock</td>\n",
       "      <td>2018-08-10 16:28:54</td>\n",
       "      <td>0</td>\n",
       "      <td>79</td>\n",
       "      <td>1</td>\n",
       "      <td>2</td>\n",
       "      <td>4</td>\n",
       "      <td>0</td>\n",
       "    </tr>\n",
       "  </tbody>\n",
       "</table>\n",
       "</div>"
      ],
      "text/plain": [
       "       Genre           Timestamp  Comments  Likes Popularity  Followers  \\\n",
       "0  all-music 2019-01-02 09:49:19        26  5,428        118       2568   \n",
       "1   danceedm 2015-03-09 17:30:10        18    738        195     155645   \n",
       "2   danceedm 2013-09-18 16:09:03        18    386         96      29446   \n",
       "3  all-music 2007-08-14 00:00:00         1    388         19     799410   \n",
       "4       rock 2018-08-10 16:28:54         0     79          1          2   \n",
       "\n",
       "   dayofweek  weekend  \n",
       "0          2        0  \n",
       "1          0        0  \n",
       "2          2        0  \n",
       "3          1        0  \n",
       "4          4        0  "
      ]
     },
     "metadata": {},
     "output_type": "display_data"
    }
   ],
   "source": [
    "data_test = pd.read_csv('./data/Data_Test.csv')\n",
    "display(data_test.head())\n",
    "label= data_test['Unique_ID']\n",
    "data_test.drop(columns=['Unique_ID','Country','Name','Song_Name'],axis=1,inplace=True)\n",
    "data_test['Timestamp'] =pd.to_datetime(data_test['Timestamp'])\n",
    "data_test['dayofweek'] = data_test['Timestamp'].dt.dayofweek #but mostly people on weekend\n",
    "data_test['weekend'] = data_test['dayofweek'].apply(lambda x: 1 if (x>4)  else 0)\n",
    "display(data_test.head())\n",
    "data_test['Popularity'] = data_test.Popularity.apply(popularityConverting)\n",
    "data_test['Popularity'] = data_test.Popularity.astype('float')\n",
    "data_test['Likes'] = data_test.Likes.apply(popularityConverting)\n",
    "data_test['Likes'] = data_test.Likes.astype('float')\n",
    "data['LikePerFollower'] = data.Likes/data.Followers\n",
    "data['PopularityPerFollower'] = data.Popularity/data.Followers\n",
    "data['CommentsPerFollower'] = data.Comments/data.Followers\n",
    "X_testf = data_test.loc[:,['Comments', 'Likes', 'Popularity', 'Followers','weekend','LikePerFollower','PopularityPerFollower','CommentsPerFollower']]\n",
    "#y_testf = data['Views']"
   ]
  },
  {
   "cell_type": "code",
   "execution_count": 104,
   "metadata": {},
   "outputs": [
    {
     "data": {
      "text/plain": [
       "(19615, 8)"
      ]
     },
     "execution_count": 104,
     "metadata": {},
     "output_type": "execute_result"
    }
   ],
   "source": [
    "X_testf.shape"
   ]
  },
  {
   "cell_type": "code",
   "execution_count": 105,
   "metadata": {},
   "outputs": [
    {
     "name": "stderr",
     "output_type": "stream",
     "text": [
      "/Users/utkarsh/anaconda3/lib/python3.7/site-packages/sklearn/utils/extmath.py:765: RuntimeWarning: invalid value encountered in true_divide\n",
      "  updated_mean = (last_sum + new_sum) / updated_sample_count\n",
      "/Users/utkarsh/anaconda3/lib/python3.7/site-packages/sklearn/utils/extmath.py:706: RuntimeWarning: Degrees of freedom <= 0 for slice.\n",
      "  result = op(x, *args, **kwargs)\n"
     ]
    },
    {
     "data": {
      "text/plain": [
       "19615"
      ]
     },
     "metadata": {},
     "output_type": "display_data"
    },
    {
     "data": {
      "text/plain": [
       "19615"
      ]
     },
     "metadata": {},
     "output_type": "display_data"
    }
   ],
   "source": [
    "X_testf= StandardScaler().fit(X_testf).transform(X_testf)\n",
    "display(len(X_testf))\n",
    "Y_pred = xgb_regressor.predict(X_testf)\n",
    "display(len(Y_pred))"
   ]
  },
  {
   "cell_type": "code",
   "execution_count": 106,
   "metadata": {},
   "outputs": [
    {
     "name": "stdout",
     "output_type": "stream",
     "text": [
      "[262909.7     45741.453   17880.65   ...  -1154.6476 230225.27\n",
      "  31991.107 ]\n"
     ]
    },
    {
     "data": {
      "text/plain": [
       "19615"
      ]
     },
     "metadata": {},
     "output_type": "display_data"
    }
   ],
   "source": [
    "print(Y_pred)\n",
    "display(len(label))"
   ]
  },
  {
   "cell_type": "code",
   "execution_count": 108,
   "metadata": {},
   "outputs": [],
   "source": [
    "sub_df = pd.read_excel('./data/Sample_Submission.xlsx') \n",
    "submission = pd.DataFrame({\n",
    "        \"Unique_ID\": label,\n",
    "        \"Views\": Y_pred\n",
    "    })\n",
    "submission.to_excel('./data/Sample_Submission_Final.xlsx',index=False)"
   ]
  },
  {
   "cell_type": "code",
   "execution_count": null,
   "metadata": {},
   "outputs": [],
   "source": [
    "X_train"
   ]
  },
  {
   "cell_type": "code",
   "execution_count": null,
   "metadata": {},
   "outputs": [],
   "source": [
    "from keras import backend as K\n",
    "def root_mean_squared_error(y_true, y_pred):\n",
    "        return K.sqrt(K.mean(K.square(y_pred - y_true)))"
   ]
  },
  {
   "cell_type": "code",
   "execution_count": null,
   "metadata": {},
   "outputs": [],
   "source": [
    "# Importing the Keras libraries and packages\n",
    "import keras\n",
    "from keras.wrappers.scikit_learn import KerasClassifier,KerasRegressor\n",
    "from sklearn.model_selection import GridSearchCV\n",
    "from keras.models import Sequential\n",
    "from keras.layers import Dense\n",
    "from keras.layers import LeakyReLU,PReLU,ELU\n",
    "from keras.layers import Dropout\n",
    "\n",
    "\n",
    "# Function to create model, required for KerasClassifier\n",
    "def create_model():\n",
    "    # create mode\n",
    "    model = Sequential()\n",
    "    model.add(Dense( units=12, input_dim=5, kernel_initializer='he_uniform', activation='relu'))\n",
    "    model.add(Dense( units=8, kernel_initializer='he_uniform', activation='relu'))\n",
    "    model.add(Dense(units = 1, kernel_initializer='he_uniform'))\n",
    "    # Compile model\n",
    "    model.compile(loss=root_mean_squared_error, optimizer='Adamax')\n",
    "    return model\n",
    "# create model\n",
    "model = KerasRegressor(build_fn=create_model)\n",
    "\n",
    "# Fitting the ANN to the Training set\n",
    "model_history=model.fit(X_train, y_train,validation_split=0.30, batch_size = 10, epochs = 100)"
   ]
  },
  {
   "cell_type": "code",
   "execution_count": null,
   "metadata": {},
   "outputs": [],
   "source": [
    "ann_pred=model.predict(X_test)"
   ]
  },
  {
   "cell_type": "code",
   "execution_count": null,
   "metadata": {},
   "outputs": [],
   "source": [
    "rmse = np.sqrt(mean_squared_error(y_test, ann_pred))\n",
    "print(\"RMSE: %f\" % (rmse))"
   ]
  },
  {
   "cell_type": "code",
   "execution_count": null,
   "metadata": {},
   "outputs": [],
   "source": []
  }
 ],
 "metadata": {
  "kernelspec": {
   "display_name": "Python 3",
   "language": "python",
   "name": "python3"
  },
  "language_info": {
   "codemirror_mode": {
    "name": "ipython",
    "version": 3
   },
   "file_extension": ".py",
   "mimetype": "text/x-python",
   "name": "python",
   "nbconvert_exporter": "python",
   "pygments_lexer": "ipython3",
   "version": "3.7.3"
  }
 },
 "nbformat": 4,
 "nbformat_minor": 2
}
