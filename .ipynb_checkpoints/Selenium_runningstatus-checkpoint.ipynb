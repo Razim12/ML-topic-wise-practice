{
 "cells": [
  {
   "cell_type": "code",
   "execution_count": 93,
   "metadata": {},
   "outputs": [],
   "source": [
    "from selenium import webdriver\n",
    "from selenium.webdriver.common.keys import Keys\n",
    "from bs4 import BeautifulSoup\n",
    "from selenium.common.exceptions import TimeoutException\n",
    "from selenium.webdriver.support.ui import WebDriverWait\n",
    "from selenium.webdriver.support import expected_conditions as EC\n",
    "from selenium.webdriver.common.by import By\n",
    "import pandas as pd\n",
    "import time "
   ]
  },
  {
   "cell_type": "code",
   "execution_count": 94,
   "metadata": {},
   "outputs": [],
   "source": [
    "driver = webdriver.Chrome('/Users/utkarsh/PycharmProjects/chromedriver')\n",
    "driver.implicitly_wait(30)"
   ]
  },
  {
   "cell_type": "code",
   "execution_count": 95,
   "metadata": {},
   "outputs": [],
   "source": [
    "driver.set_page_load_timeout(10)"
   ]
  },
  {
   "cell_type": "code",
   "execution_count": 96,
   "metadata": {},
   "outputs": [],
   "source": [
    "#driver.get('https://etrain.info/in?PAGE=runningHistory')\n",
    "# get the search textbox\n",
    "#search_field = driver.find_element_by_id(\"runhistrn\")\n",
    "#search_field2 = driver.find_element_by_id(\"bartrainid\")\n",
    "#search_field.clear()\n",
    "\n",
    "# enter search keyword and submit\n",
    "#search_field.send_keys(\"12557\")\n",
    "#search_field2.send_keys(\"12557\")\n",
    "#driver.find_element_by_css_selector('.runhisbtngo.donthide.btn.btn-primary').click()\n",
    "\n",
    "#from running status\n",
    "driver.get('https://runningstatus.in/history')\n",
    "driver.execute_script(\"document.forms['history_form'].childNodes[3].children[0].value=12557\")\n",
    "driver.execute_script(\"document.getElementById('rdatesel').value='seldates'\")\n",
    "driver.execute_script(\"showhistoryseldates();\")\n",
    "driver.execute_script(\"document.getElementById('fdate').value='01-01-2016'\")\n",
    "driver.execute_script(\"document.getElementById('tdate').value='01-01-2020'\")\n",
    "driver.execute_script(\"var buttons = document.getElementsByClassName('btn btn-primary');\\\n",
    "Array.prototype.forEach.call(buttons, function(btn, index) \\\n",
    "{if(btn.innerText=='Check History')btn.click();\\\n",
    "});\")\n"
   ]
  },
  {
   "cell_type": "code",
   "execution_count": 97,
   "metadata": {},
   "outputs": [],
   "source": [
    "# timeout = 3\n",
    "# try:\n",
    "#     element_present = EC.presence_of_element_located((By.CLASS_NAME, 'main'))\n",
    "#     WebDriverWait(driver, timeout).until(element_present)\n",
    "# except TimeoutException:\n",
    "#     print(\"Timed out waiting for page to load\")\n",
    "# finally:\n",
    "#     print(\"Page loaded\")"
   ]
  },
  {
   "cell_type": "code",
   "execution_count": 102,
   "metadata": {},
   "outputs": [],
   "source": [
    "import time \n",
    "time.sleep(10)\n",
    "soup_level1=BeautifulSoup(driver.page_source, 'lxml')\n",
    "print(driver.page_source)\n",
    "print('asd')"
   ]
  },
  {
   "cell_type": "code",
   "execution_count": 99,
   "metadata": {},
   "outputs": [],
   "source": [
    "table_data = [[cell.text for cell in row(\"td\")]\n",
    "                         for row in soup_level1(\"tr\")]\n",
    "print(table_data)"
   ]
  },
  {
   "cell_type": "code",
   "execution_count": 100,
   "metadata": {},
   "outputs": [],
   "source": [
    "complete_date_range_data=[]\n",
    "station_date_range_data=[]\n",
    "each_date_data={}\n",
    "each_station_data={}\n",
    "each_date_count=0\n",
    "date_start_count=0;\n",
    "for row in soup_level1(\"tr\"):\n",
    "    for cell in row('td'):\n",
    "        for abbr in cell('abbr'):\n",
    "            if 'station_name' in each_station_data.keys():\n",
    "                station_date_range_data.append(each_station_data)\n",
    "                each_station_data={}            \n",
    "            each_station_data['station_name']=abbr.text\n",
    "        for small in cell('small',{'class':None}):\n",
    "            each_station_data['distance_from_Source']=small.text\n",
    "        for span in cell('span',{'class':'text-danger'}):\n",
    "            each_station_data['avg_delayed']=span.text\n",
    "        for small in cell('small'):\n",
    "            if date_start_count !=0:\n",
    "                each_date_count+=1\n",
    "                if each_date_count == 1:\n",
    "                    each_date_data['departure_delayed']=small.text\n",
    "                if each_date_count == 2:\n",
    "                    each_date_data['arrival_delayed']=small.text\n",
    "                if each_date_count == 3:\n",
    "                    each_date_data['departure_time']=small.text\n",
    "                if each_date_count == 4:\n",
    "                    each_date_data['arrival_time']=small.text\n",
    "                    complete_date_range_data.append(each_date_data)\n",
    "                    each_date_data={}\n",
    "                    each_date_count=0\n",
    "        for a in cell('a',{'class':'text-info'}):\n",
    "            date_start_count=1\n",
    "            each_date_data['Date_of_journey']=a.text\n",
    "    #print(row('td').find_all('abbr'))\n",
    "#print(annual_data)\n"
   ]
  },
  {
   "cell_type": "code",
   "execution_count": 101,
   "metadata": {},
   "outputs": [],
   "source": [
    "print(annual_data)"
   ]
  },
  {
   "cell_type": "code",
   "execution_count": null,
   "metadata": {},
   "outputs": [],
   "source": [
    "df_station= pd.DataFrame(station_date_range_data)\n",
    "df_date_range=pd.DataFrame(complete_date_range_data)"
   ]
  },
  {
   "cell_type": "code",
   "execution_count": null,
   "metadata": {},
   "outputs": [],
   "source": [
    "display(df_station.head(10))\n",
    "display(df_date_range.head(10))"
   ]
  },
  {
   "cell_type": "code",
   "execution_count": null,
   "metadata": {},
   "outputs": [],
   "source": [
    "#these data weekly or monthly so we can incorporate changing if any there but we need to track alert for issues"
   ]
  }
 ],
 "metadata": {
  "kernelspec": {
   "display_name": "Python 3",
   "language": "python",
   "name": "python3"
  },
  "language_info": {
   "codemirror_mode": {
    "name": "ipython",
    "version": 3
   },
   "file_extension": ".py",
   "mimetype": "text/x-python",
   "name": "python",
   "nbconvert_exporter": "python",
   "pygments_lexer": "ipython3",
   "version": "3.7.3"
  }
 },
 "nbformat": 4,
 "nbformat_minor": 2
}
