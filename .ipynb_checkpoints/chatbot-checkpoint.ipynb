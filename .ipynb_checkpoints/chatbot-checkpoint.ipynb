{
 "cells": [
  {
   "cell_type": "code",
   "execution_count": 25,
   "metadata": {},
   "outputs": [],
   "source": [
    "import nltk\n",
    "import numpy as np\n",
    "import random\n",
    "import string # to process standard python strings\n",
    "from sklearn.feature_extraction.text import TfidfVectorizer\n",
    "from sklearn.metrics.pairwise import cosine_similarity"
   ]
  },
  {
   "cell_type": "code",
   "execution_count": 26,
   "metadata": {},
   "outputs": [],
   "source": [
    "f=open('chatbot.txt','r',errors = 'ignore')\n",
    "raw=f.read()\n",
    "raw=raw.lower()# converts to lowercase"
   ]
  },
  {
   "cell_type": "code",
   "execution_count": 27,
   "metadata": {},
   "outputs": [
    {
     "data": {
      "text/plain": [
       "'introduction: responding to reviews\\nto help you respond to reviews better, we looked at 200,000 review responses in the reviewtrackers database and combined their best features to make templates you can use to respond to your negative, positive, and neutral reviews.\\n\\nwhy is responding to reviews so important? consider this:\\n\\n94 percent of consumers say that a bad review has convinced them to avoid a business.\\n53 percent of customers expect businesses to respond to negative reviews within a week.\\nbut 63 percent say that a business has never responded to their review.\\n45 percent of consumers say they’re more likely to visit a business that responds to negative reviews.\\nthe takeaway: respond to reviews before they drive your customers away.\\n\\neach section below has copy-and-paste review response templates you can use as a starting point for getting back to customers asap. in addition there are lots of real-life examples of restaurants, banks, hospitals, and other businesses responding to their customer reviews. click the link below to jump to section relevant to you.\\n\\nnegative reviews: how to respond\\npositive reviews: how to respond\\nneutral reviews: how to respond\\nemployee reviews: how to respond\\nrespond on google, yelp, facebook, and other sites\\nhow to respond to negative reviews\\nresponding to negative reviews is difficult. bad reviews hurt. sometimes they can be downright cruel.\\n\\nit’s natural to get upset, but when you’ve lost your cool, or if you feel like retaliating, it’s wise to step away from the keyboard. you can’t let your emotions dictate what you’re going to write in your response to a negative review.\\n\\nhere’s a template you can use for your negative review response:\\n\\ndear [name of reviewer], thanks for sharing your feedback. we’re sorry your experience didn’t match your expectations. it was an uncommon instance and we’ll do better.\\n\\nplease feel free reach out to [insert contact information] with any further comments, concerns, or suggestions you wish to share. we would love to make things right if you give us another chance.\\n\\nthink of the above review response example as an all-purpose one. obviously, how you respond to negative reviews will vary from situation to situation.\\n\\nbut if you examine the way highly rated businesses win over their reviewers, you’ll notice that the response above applies some of the best practices in responding to bad reviews.\\n\\n \\n\\n\\n\\nafter looking at 200,000 review responses, and analyzing the differences between positive, neutral, and negative reviews responses, we found the best ways to respond to each type of review.\\n\\nwhen the feedback is negative, businesses focus more on engaging directly with the customer, showing the willingness to understand and sympathize with their experience, and offering them an easy way to access the business — usually including direct contact information.\\n\\nnotice that while businesses do apologize, that’s a relatively small part of the response (13 percent)—and that makes sense: it can come across as unprofessional to be overly apologetic. instead, brands focus on their commitment to service and “next steps” (e.g., how a consumer can contact them directly).\\n\\n7 steps to crafting the right review response: negative reviews\\n1. address the reviewer\\nyour customers want to be heard individually and addressed personally. so don’t forget your salutations and, if possible, avoid the generic “dear guest,” or “dear customer.”\\n\\nbecause 76 percent of reviews are now on google or facebook, you can usually get a first name for the reviewer.\\n\\n2. say thank you\\nshow customers that your business appreciates and values candid feedback, and always remember to say thank you in responses to reviews (even the bad ones).\\n\\nsome things you can say:\\n\\n“thank you for your review. i’m sorry to hear you had such a frustrating experience, but i really appreciate you bringing this issue to my attention.”\\n“thank you for bringing this to our attention. we’re sorry you had a bad experience. we’ll strive to do better. ”\\n“thank you for letting us know know about this. your feedback helps us get better. we are looking into this issue and hope to resolve it promptly and accurately.”\\n3. apologize and sympathize\\nsaying sorry shows that you care about your customers and that you’re not too proud to own up to your mistakes.\\n\\neven if it’s not your fault, and there will be times when this is true, say sorry anyway. besides, people don’t like businesses that are too perfect or too proud to apologize.\\n\\nkeep you apology short and sweet like this: \\n\\n“we apologize that our service did not satisfy your expectations.”\\n“we’re so sorry that your experience did not match your expectations. this is on us.”\\n“we set a high standard for ourselves, and we’re so sorry to hear this was not met in your interaction with our business.”\\n4. take responsibility\\ndon’t make excuses. even if what happened was an uncommon instance, an isolated case, an unfortunate incident, an off day — acknowledge the customer’s experience. at the same time, provide reassurance that you hold yourself to high standards.\\n\\nsome things you can say:\\n\\n“i’m so sorry. we’re normally known for our exceptional attention to detail, and we regret that we missed the mark.”\\n“we always aim to deliver a great experience. we are gutted when we miss the mark! thanks for taking the time to bring this to our attention. we will use the feedback to make us better and to ensure this doesn’t happen again.”\\n“thank you for posting a review and we’re sorry to hear that your experience was not of the quality you expected. we would like the opportunity to investigate your feedback further.”\\n5. make things right\\navoid cookie-cutter responses that do not resolve or address any specific issues raised in the review. be as specific as you can about the customer’s experience, and communicate any changes or improvements you have made or will make as a result of their feedback.\\n\\nif there’s nothing you can do to fix what happened, here’s a really compelling way to respond to the reviewer, take ownership, and promise to make things right in the future:\\n\\n“i apologize on behalf of everyone at [company name]. please know that your situation was an exception. as you can see on other reviews, we are known for taking ownership and caring deeply about our customers. we can’t fix the past but you have my personal commitment to improve the way our staff serves every customer. until then, please accept my sincerest apologies on behalf of everyone on the team.”\\n6. take the issue offline\\nit’s best for you and your customer to talk directly about the problem they had and take the issue offline. for this reason, brands will provide direct contact information for their customers in their review response.\\n\\nsome things you can say:\\n\\n“we would like the opportunity to investigate your feedback further. please could you contact me at [email address] or call our team at [phone number]? we’ll work with you to resolve any issues as quickly as possible.”\\n“we are sorry that your experience at [company name] didn’t quite match your expectations. we would love to know why, so that we can deliver a better experience next time. you may reach us anytime at [email address] or [phone number]. again, thank you for your feedback!”\\n7. ask for a second chance\\ndon’t slam the door on negative reviewers; extend a hand. invite them to come back; when they do, welcome them with open arms.\\n\\nnot only does this create an opportunity for you to change the conversation; it also establishes confidence in your ability to deliver an experience worth raving (instead of ranting) about.\\n\\nsome things you can say:\\n\\n“thank you for bringing this matter to our attention. i’m very sorry we failed to meet your expectations. i would appreciate another chance to earn your business. please call me or ask for me next time you’re at [company name].”\\n\\n\\ntips on responding to rating-only reviews (no text)\\nbefore we dig into some more examples, a word about an increasing trend we’re seeing with reviews: rating-only reviews.\\n\\nthese reviews have no text, just a star rating. and it can be puzzling to know what to say to someone who leaves a blank 1-star review of your business.\\n\\nwhen someone leaves a review without any text, it makes sense to keep your response brief and to the point. ask the reviewer to elaborate privately about their experience and provide contact information for them to do so like in these examples: \\n\\n“we invite you to contact us at [email address], so we may discuss your specific personal experience at [company name].  thank you.”\\n“your review is very concerning to us. we would appreciate if you would contact our customer care team by calling [phone number] to speak with a customer care representative about your recent experience. “\\n“we are sad to hear that you didn’t have the best experience at [company name]. you deserve better. please reach out to me at your leisure so we can make it right.  [manager name, phone number]”\\nexamples: how to respond to negative reviews\\nrestaurant negative review response example\\nrestaurateurs know that delicious food doesn’t always guarantee a 5-star review. take notes from this heartfelt response to a review that commented on other aspects of the dining experience.\\n\\n\\n\\nwhy it works: in the response, the restaurateur seems genuinely sorry that the guest’s experience “could’ve been better.” the response also offers ways to deliver a better or more satisfactory experience next time — while keeping the tone polite and professional. by highlighting the upstairs seating, the response not only offers a solution to this diner, but also offers a tip to prospective diners who may be reading this review in the future. \\n\\nhotel negative review response example\\nwhen a loyal customer expressed her disappointment with her anniversary stay at the stamford plaza in brisbane, executive assistant manager dale john wrote a pitch-perfect response.\\n\\n\\n\\nwhy it works: the response addressed the reviewer and started with a “thank you.” it was also very specific about the customer’s experience, and it provided information on how the hotel planned to resolve certain issues and maintain its usual standards.\\n\\nhealthcare negative review response example\\nfor healthcare providers, it’s a little bit trickier to craft responses to negative patient reviews.\\n\\nwith the health insurance portability and accountability act (hipaa), which is designed to safeguard patients’ health information, healthcare marketers must be able to respond without referring to any specifics about medical care or the patient’s identity, which could be construed as “patient data.”\\n\\nyou can read the guide on how to write hipaa-compliant review responses. here’s a great example:\\n\\n\\n\\nwhy it works: the review response addresses specific issues without breaking confidentiality. it also communicates the provider’s concrete plan to make things right (“we recently hired a consultant…”). and the response wisely offers to take the conversation offline — demonstrating the provider’s genuine desire to engage with the patient and solve the problem.\\n\\nfinancial services negative review response example\\nnegative reviews can also hit banks and financial services providers. by replying asap, you can minimize the possibility of other potential clients being swayed by the original reviewer’s experience.\\n\\n\\n\\nwhy it works: this review response feels sincere instead of defensive. sometimes, simply thanking the customer for their feedback and apologizing can go a long way. take note, too, of the offer to take things offline and discuss the issue privately.\\n\\nveterinary clinic negative review response example\\nhere’s another example of a response to a negative review; it’s from a veterinary clinic, a business in an industry in which emotions can run high, especially in times of a pet’s health crisis.\\n\\n\\n\\nwhy it works: pet parents can be extremely vocal and opinionated. there will always be people who are going to be convinced that their vets are just “in it for the money” and don’t really care about the welfare of their animals. in response to the negative facebook review, forest grove veterinary clinic posted a classy reply that highlighted the company’s values while also directly addressing the customer’s experience.\\n\\ntravel and hospitality negative review response example\\njetblue airways’ twitter account serves as one of the company’s main customer service channels. when a customer named esaí vélez complained (politely) about his backseat tv not working, jetblue responded within minutes.  \\n\\n\\n\\n\\n\\nwhy it works: the swiftness with which jetblue responded is impressive. while it’s a response to a tweet instead of to a review, the short reply effectively displays sympathy while also offering a solution (or at least a genuine attempt to make amends).\\n\\nsays best-selling author and customer service expert chip bell: “in the customer’s mind the clock starts when he or she posts a negative review, and your reputation drops with every hour you delay providing a response. bad reviews that remain unanswered signal to other customers you are disinterested. it also fuels the perception that the negative report by an angry customer was probably accurate.”\\n\\nbest practices when responding to negative reviews\\nrespond in a timely manner\\nas mentioned earlier, more than 50 percent of customers who have written reviews expect a response in seven days or less.\\n\\n1 in 4 have an even shorter time frame: they expect to hear back from the business within three days.\\n\\nset up review alerts so you are notified of new reviews. also, you definitely don’t want to be logging in and out of every review site manually — so a review response tool may be useful.\\n\\nremember: the clock begins ticking once reviews are posted, and customers are waiting to hear back from you.\\n\\nassign ownership of the process\\nidentify people in your organization who will be directly involved with responding to bad reviews. this is actually complicated, because reviews live at the intersection of marketing, operations, social media, and customer service. there are a lot of stakeholders.\\n\\ntypically speaking, we see that branch or location managers, social media teams, marketing teams, and customer service staff are typically the people who are put in charge of review response.\\n\\nclarifying who is in charge of responding to reviews is important not just because it simplifies the process—it will also increase your review response time, a key customer success metric.\\n\\nwhoever steps up as the head of your review response program should understand the guidelines of each review site, be able to transform the collected feedback into valuable insights for your company, and — perhaps most important of all — display the right tact needed to address complaints and represent the brand well.\\n\\ncreate a review response policy\\nif you operate in multiple locations, chances are more than one person will be assigned to respond directly to online reviews.\\n\\nthis makes it crucial to have an organization-wide policy that guides how your company should proceed whenever new customer reviews are posted online.\\n\\nyour policy should cover things like what language and tone you should use, what the timeline is for getting back to customers, with whom the reviews will be shared in your organization, when do escalations become necessary, what the ideal response rate is, and other items that may affect how your company handles reviews.\\n\\nhow to respond to positive reviews\\npositive reviews won’t drive your customers away like bad reviews do. so why respond?\\n\\nthe short answer is: responding to a positive review directly translates to seizing an opportunity.\\n\\nhere’s an all-purpose template that you can use to respond to positive reviews:\\n\\ndear [name of customer], thanks for leaving us such a wonderful review. we are thrilled that you loved your experience; our staff will definitely be happy to read what you wrote. we put customer experience and satisfaction as our priority, and your review reaffirms the hard work we put in every day. so thanks for your kind words and we look forward to seeing you again.\\n\\nif a customer paid you a compliment in person, the most natural response is to say thank you. the same goes for good reviews.\\n\\nbut more than simply being the polite thing to do, responding to positive reviews is also a great way to support your marketing efforts, build buzz for your business, inspire customer loyalty, and call more attention to the great parts of your customer experience.\\n\\n5 ways to craft the right review response: positive reviews\\n1. say thank you\\nshow appreciation for the customer who took the time to share their positive experience. after all, great reviews and high ratings serve as powerful social proof for attracting new potential customers and influencing their decision-making process. your customer just did you a solid.\\n\\nbased on reviewtrackers data, expressing gratitude to the reviewer is one of the most common threads tying together over 200,000 positive review responses.\\n\\n\\n\\nsome things you can say:\\n\\n“this review made our day!”\\n“thank you so much for taking the time to leave us this amazing review.”\\n“we are so grateful for your kind words. thanks for sharing your review with us and the community.”\\n2. reinforce the positive\\noften, positive reviews cite specific things that the customer liked best about their experience. identify them — then mention them in your response. this lets you do some subtle marketing and hype up a specific product, service, or feature.\\n\\nin your response, explain that the delicious red velvet cupcakes they loved so much are actually from your mother’s old recipe, let them in on how you grow your own rocket lettuce, and tell them that others have also commented on the amazing views from the cliffside swimming pool.\\n\\n3. pass along the compliment\\nwhen the reviewer mentions someone at the business by name, always pass along the compliment.\\n\\nfor example, if a reviewer wrote, “our service technician, mike, is always super helpful and clear,” reply by saying something along the lines of: “i’m so glad you like mike’s work! we’ll pass along the kind words.”\\n\\nresponding to reviews is a way for you to share the best feedback you get, but also make it a point to let your teams know when they’re doing great work and to call out your superstars.\\n\\n4. let customers know you’d love to see them again\\nmake happy customers feel welcome by extending an invitation for them to return. this does two things: first it turns customers into repeat customers. and secondly, it shows other online users that yours is the kind of business that people come back to.\\n\\n5. mention other products or services\\nyou have to be careful with this last step as you don’t want to come off as too sales-y.\\n\\nthat said, the savviest replies often include some mention of another product, service, or feature worth trying. these responses will have to be specific for the business, but here are some examples:\\n\\n“we’re glad you loved the gambas al ajillo! if you come by on saturday, we think you’ll love the spanish tapas buffet.”\\n“we’re so glad you had a good experience. next time you’re here, try the shi tao massage for you feet. it’s one of our newer offerings.”\\nexamples: how to respond to positive reviews\\nlet’s check out some examples of how to respond to good reviews.\\n\\nhotel positive review response example\\njessica lavin of hotel monaco in philadelphia saw a positive review as an opportunity to savvily pay the hotel guest a compliment.\\n\\n\\n\\nwhy it works: there are hundreds of ways you can say thank you, and this review response takes advantage of that. it’s simple, well-written, and personalized, and it shows genuine appreciation for the words the customer wrote. it highlights the sense of community that the hotel has. \\n\\nrestaurant positive review response example\\nhere’s another example of an appropriate positive review response, which paints a picture of a happy team of employees committed to customer satisfaction.\\n\\n\\n\\nwhy it works: a positive review is obviously great for your brand reputation. it’s also the perfect way to boost employee morale. hard rock cafe’s german crespi knows this and uses it to full advantage. he promises to pass along the compliment to jessica, which puts a human face on a big brand like hard rock cafe. he also signs off by letting the customer know he’d love to see her again.\\n\\n\\npositive review response example (with mixed feedback)\\nit’s not uncommon for some positive reviews to contain a bit of constructive criticism. here’s a classic example, from a tripadvisor review response on the fallowfields country house hotel profile\\n\\n\\n\\nwhy it works: the reply begins and ends with an expression of gratitude. anthony lloyd, the owner of the hotel, also responded to the review in a way that takes the constructive feedback on board, while also reassuring the reviewer (and other potential customers) that the issues are already being sorted out.\\n\\nbest practices when responding to positive reviews\\nrespond publicly\\nyour response to a positive review may be intended for one specific person. but on websites like google, facebook, yelp, and tripadvisor, thousands of other people will be reading what you write.\\n\\nso don’t limit yourself to sending private “thank you” messages to customers. seize the opportunity to reinforce the positive and show the world how much you care about reviews (good or bad).\\n\\nshare the review with your team\\nthere’s nothing like anecdotal evidence to show your team exactly what makes customers happy; by sharing the review, you encourage more of that behavior.\\n\\nthis also has the effect of boosting employee morale, so be sure to share the positive review (and your support) for your team’s success.\\n\\nshare the review with the world\\nif you consistently receive 5-star ratings and glowing reviews on online review websites, don’t hesitate to show them off. handpick your best reviews and share these on social media.\\n\\nthere are a handful of review widgets that allows you to embed reviews on your website, which should help drive conversions and even boost your site’s search engine optimization (seo) performance.\\n\\n\\n\\nremember: the impact of user-generated content, such as that found in reviews, is more powerful and effective than loud sales messages or promotional brand content.\\n\\nhow to respond to neutral reviews (3-star)\\nas you might expect, neutral reviews usually combine positive comments with negative feedback — which means that you’ll have to take what you can from the previous two sections and determine review response techniques most applicable to your situation.\\n\\noftentimes, however, 3-star reviews are brief and lack details. they happen because customers don’t feel strongly enough either way to describe their experience in great detail.\\n\\nif that is the case, here’s an appropriate way to respond to neutral reviews:\\n\\ndear [customer name], thanks for your review. we would love to hear more about your experience, so that we can use your valuable feedback to deliver an even better experience next time. please reach out to [contact information] with any further comments or suggestions you wish to share. again, thank you for taking the time to review our business!\\n\\ncrafting the right review response: neutral reviews\\n1. as always, say thank you\\nbefore you write out the rest of your neutral review response, start the right way by showing appreciation for the time the customer took to write the review.\\n\\n2. reinforce the positive\\nif the 3-star review contains positive feedback, be sure to call attention to it by mentioning it in your response: “we’re glad to hear that enjoyed ________.”\\n\\neven if the review includes a critical comment, start your response with an affirmation of the review’s positive aspects. (research shows that readers are more likely to absorb ideas in the first 100 words of a text block.)\\n\\n3. address the negative\\nif you receive a neutral review with negative feedback, acknowledge the specific issues the customer had with their experience. you may also issue a short apology and provide a brief explanation on what happened.  \\n\\n4. take it offline\\nif you’re asking the customer for more details, do so with the intention of taking it offline. that way, you can investigate the situation more thoroughly while preventing details of a possibly negative experience from becoming public.\\n\\nsome things you can say:\\n\\n“your business means a lot to us, so if you ever have additional feedback, please don’t hesitate to reach out via [contact information].”\\nexamples: how to respond to neutral reviews\\nservice neutral review response example\\nkréme de la kréme nail lounge is the recipient of numerous positive reviews on yelp. angela t., the business owner, takes the time out to thank yelpers who put in these good words for her.\\n\\nwhen this neutral review came along, angela responded with:\\n\\n\\n\\nwhy it works: her review response reinforces the positive (“so glad you enjoyed the cupcakes and liked our jewelry…”), while also providing information that’s useful to the customer who wondered about the price, as well as to readers of the review who might be curious why the nail salon’s prices are slightly higher than that of her competitors.\\n\\nthe response also gives an idea of the great lengths the business goes to in order to provide quality services and products.\\n\\nrestaurant neutral review response example\\netta in chicago received this 3-star review on yelp, and what followed was an ideal response, penned by general manager adam scholten:\\n\\n\\n\\nwhy it works: like the review itself, the response is short and simple. adam thanked the customer for his honesty, but also expressed his eagerness to investigate the matter further so that the restaurant can deliver a better dining experience next time.\\n\\nretail neutral review response example\\nanother good example of how to handle a mixed or neutral review is from joseph d., the owner of flowers for dreams in chicago.\\n\\n\\n\\nwhy it works: the review response takes responsibility for an uncommon instance in which the flower arrangement ordered by the customer kind of differed from the arrangement delivered.\\n\\njoseph was quick to apologize, explaining that the product the customer received was not up to the business’ usual quality standards. his response concluded with an invitation to privately discuss the matter in more detail and an offer to make things right for the customer.\\n\\n\\nhow to respond to employee reviews\\ncrucial to the success and growth of any organization is its ability to attract and retain the best talent. that’s why it’s so important for your leadership and hr teams to embrace — instead of fear — online reviews and public employee feedback posted online, on sites like glassdoor and indeed.\\n\\nconsider this:\\n\\n83 percent of candidates are likely to check a company’s employee reviews and ratings when deciding on where to apply for a job.\\nfurthermore, 84 percent of job seekers say that the reputation of a company as an employer is very important when making a decision on where to apply for a job.\\nby responding to employee reviews, you can drive engagement with employees as well as support efforts to improve the overall employee experience.\\n\\nbusinesses that respond to employee reviews also provide job candidates with an extra measure of reassurance, particularly when they see that you, as an employer, are active on employee review sites.\\n\\ndon’t miss out on the opportunity to show current and prospective employees that your company is open to and appreciative of feedback, values the employee experience, and is constantly working towards make the work environment better.\\n\\ncrafting the right review response: employee reviews\\nrespond in a timely and organized manner\\nthe first step to responding to reviews is developing an organized way to do so. timeliness is crucial: whether it is once a week or once a month, find a cadence that works for your team’s bandwidth.\\n\\nshow your appreciation\\nwhen responding to employee reviews, make it a priority to thank the reviewer, regardless of whether they’re singing your praises or highlighting areas for improvement.\\n\\nrespond professionally and with authenticity\\nthe strongest responses to employee reviews show respect for the reviewer by addressing feedback in a way that’s professional and authentic.\\n\\ntake action\\ncorrect any organizational problems discussed in online reviews posted by your employees. by using their reviews to improve the employee experience, you can build not only a stronger employer brand but also a happier and more productive workforce.\\n\\nask for more feedback\\nasking for more details can be tricky when you’re dealing with employee reviews—which are anonymous on a site like glassdoor. you’ll want to respect that anonymity and encourage the reviewer to give private feedback to your hr team.\\n\\nfor example, an employee may feel comfortable offering negative feedback about their boss while on glassdoor, but not in person. direct them to your hr team so that you can get more details about their experience, but make sure they also feel comfortable.\\n\\nexamples: how to respond to employee reviews (on glassdoor)\\nthe best responses to employee reviews are able to highlight or reinforce the positives, capitalizing on the opportunity to show how strong the employer brand is. check out this example from genentech:\\n\\n\\n\\nas you can see in the response, genentech elaborates on the positive aspects of the review, noting, “we are delighted to hear that you value the efforts we have put toward creating an environment where everyone at genentech can thrive.”\\n\\nthe response also addresses the negative concerns, but not before showing appreciation for the positive feedback.\\n\\nhere’s an example of an employee review response from docusign:\\n\\n\\n\\nwhy it works: it’s a short, simple response that shows appreciation for the time the employee took to write the review. docusign actually does this for every review posted on their glassdoor profile, demonstrating that the company cares about its employees and their experience working there.\\n\\nthe key to responding effectively to negative employee reviews is to acknowledge and try to understand the individual employee experience. doing so can even benefit your organization, resulting in improved employee satisfaction and plentiful wins for your business.\\n\\n\\n\\nin the example above, willowtree doesn’t sweep the rather difficult concerns under the rug by ignoring the employee’s comments. the response specifically addresses problematic areas brought up and discusses what is being done to remedy them.\\n\\nwhich review sites allow you respond to customers?\\nresponding to reviews posted by customers and taking part in their conversation can have a very real and measurable effect on your business.\\n\\nresponding to reviews has been correlated to revenue growth by researchers at cornell university.\\n\\nkeep in mind, however, that every single review site will have its own set of rules, terms, or guidelines for review responses. make sure that the person assigned to respond to your reviews is aware of these rules.\\n\\nresponding to google reviews\\nreviews on google show up in two places: google search and google maps.\\n\\nto respond to a google review, you must be logged into your google my business (gmb) account. from your gmb account, click the reviews tab.\\n\\n\\n\\nyou can click on the “reply” button below each review to formulate a response. you can also edit your response if it has a typographical error or inaccurate information, but try to keep those mistakes to a minimum.\\n\\n\\n\\ngoogle review response notifications\\nin case you didn’t know: customers are notified whenever a business responds to their online review on google. they are sent email notifications containing a link to a page with the business owner’s response to the google review. \\n\\nthe business’ response is published immediately and the email notification is sent to the customer 5 minutes later. the 5-minute delay allows the business to edit or make any corrections to their response after initial submission.\\n\\nbusinesses will be notified of any new reviews that come in through their gmb notifications. however, it’s important to note that brands with over 100 locations, don’t receive google review alerts.\\n\\nresponding to yelp reviews\\nyou can respond to yelp reviews through the yelp for business owners page. make sure you have already claimed your business page on the site before getting started with responding to reviews.\\n\\nto see your yelp reviews using yelp for business owners, simply log in and click the reviews tab.\\n\\n\\n\\napart from reading each individual review, you’ll also be able to respond to your yelp reviews with a public comment or a direct message. or you can simply press the thank button to show your appreciation for customers who took the time to review your business on yelp. you can find these response options under each individual review.\\n\\n\\n\\nresponding to facebook reviews\\nfacebook reviews and recommendations are activated by default when you create a business page. (don’t see them? read this guide to set up facebook reviews and recommendations.)\\n\\nany review, whether or not it includes additional text feedback, appears like a post in the reviews or recommendations section. you can respond to facebook reviews and recommendations the same way you can respond to comments on your facebook page or through your facebook business manager account.\\n\\n\\n\\nfinal thoughts\\nonline reviews influence the way customers think about your business.\\n\\nkeep in mind that your reputation is shaped not only by what you say about the business but also — and probably mostly — by what customers are saying on online review websites.\\n\\nwhile this may make you feel like you have little control over how potential customers perceive your brand, you can still actively participate in improving your online reputation. one of the best ways to do so is by responding to your reviews.\\n\\nby responding to positive, negative, neutral, and employee reviews and applying best practices in review response, you can make a positive impact on your brand reputation and even boost financial outcomes.'"
      ]
     },
     "execution_count": 27,
     "metadata": {},
     "output_type": "execute_result"
    }
   ],
   "source": [
    "raw"
   ]
  },
  {
   "cell_type": "code",
   "execution_count": 28,
   "metadata": {},
   "outputs": [],
   "source": [
    "sent_tokens = nltk.sent_tokenize(raw)# converts to list of sentences \n",
    "word_tokens = nltk.word_tokenize(raw)# converts to list of words"
   ]
  },
  {
   "cell_type": "code",
   "execution_count": 29,
   "metadata": {},
   "outputs": [
    {
     "data": {
      "text/plain": [
       "['introduction: responding to reviews\\nto help you respond to reviews better, we looked at 200,000 review responses in the reviewtrackers database and combined their best features to make templates you can use to respond to your negative, positive, and neutral reviews.',\n",
       " 'why is responding to reviews so important?']"
      ]
     },
     "execution_count": 29,
     "metadata": {},
     "output_type": "execute_result"
    }
   ],
   "source": [
    "sent_tokens[:2]"
   ]
  },
  {
   "cell_type": "code",
   "execution_count": 30,
   "metadata": {},
   "outputs": [
    {
     "data": {
      "text/plain": [
       "['introduction', ':']"
      ]
     },
     "execution_count": 30,
     "metadata": {},
     "output_type": "execute_result"
    }
   ],
   "source": [
    "word_tokens[:2]"
   ]
  },
  {
   "cell_type": "code",
   "execution_count": 31,
   "metadata": {},
   "outputs": [],
   "source": [
    "lemmer = nltk.stem.WordNetLemmatizer()\n",
    "#WordNet is a semantically-oriented dictionary of English included in NLTK.\n",
    "def LemTokens(tokens):\n",
    "    return [lemmer.lemmatize(token) for token in tokens]\n",
    "remove_punct_dict = dict((ord(punct), None) for punct in string.punctuation)\n",
    "def LemNormalize(text):\n",
    "    return LemTokens(nltk.word_tokenize(text.lower().translate(remove_punct_dict)))"
   ]
  },
  {
   "cell_type": "code",
   "execution_count": 32,
   "metadata": {},
   "outputs": [],
   "source": [
    "GREETING_INPUTS = (\"hello\", \"hi\", \"greetings\", \"sup\", \"what's up\",\"hey\",)\n",
    "GREETING_RESPONSES = [\"hi\", \"hey\", \"*nods*\", \"hi there\", \"hello\", \"I am glad! You are talking to me\"]\n",
    "def greeting(sentence):\n",
    " \n",
    "    for word in sentence.split():\n",
    "        if word.lower() in GREETING_INPUTS:\n",
    "            return random.choice(GREETING_RESPONSES)"
   ]
  },
  {
   "cell_type": "code",
   "execution_count": 43,
   "metadata": {},
   "outputs": [],
   "source": [
    "def response(user_response):\n",
    "    robo_response=''\n",
    "    sent_tokens.append(user_response)\n",
    "    TfidfVec = TfidfVectorizer(tokenizer=LemNormalize, stop_words='english')\n",
    "    tfidf = TfidfVec.fit_transform(sent_tokens)\n",
    "    vals = cosine_similarity(tfidf[-1], tfidf)\n",
    "    idx=vals.argsort()[0][-2]\n",
    "    flat = vals.flatten()\n",
    "    flat.sort()\n",
    "    req_tfidf = flat[-2]\n",
    "    if(req_tfidf==0):\n",
    "        robo_response=robo_response+\"I am sorry! I don't understand you\"\n",
    "        return robo_response\n",
    "    else:\n",
    "        robo_response = robo_response+sent_tokens[idx]\n",
    "        return robo_response"
   ]
  },
  {
   "cell_type": "code",
   "execution_count": 44,
   "metadata": {},
   "outputs": [
    {
     "name": "stdout",
     "output_type": "stream",
     "text": [
      "ROBO: My name is Robo. I will answer your queries about Chatbots. If you want to exit, type Bye!\n",
      "positive\n",
      "ROBO: positive\n",
      "response\n",
      "ROBO: restaurant neutral review response example\n",
      "etta in chicago received this 3-star review on yelp, and what followed was an ideal response, penned by general manager adam scholten:\n",
      "\n",
      "\n",
      "\n",
      "why it works: like the review itself, the response is short and simple.\n",
      "bye\n",
      "ROBO: Bye! take care..\n"
     ]
    }
   ],
   "source": [
    "flag=True\n",
    "print(\"ROBO: My name is Robo. I will answer your queries about Chatbots. If you want to exit, type Bye!\")\n",
    "while(flag==True):\n",
    "    user_response = input()\n",
    "    user_response=user_response.lower()\n",
    "    if(user_response!='bye'):\n",
    "        if(user_response=='thanks' or user_response=='thank you' ):\n",
    "            flag=False\n",
    "            print(\"ROBO: You are welcome..\")\n",
    "        else:\n",
    "            if(greeting(user_response)!=None):\n",
    "                print(\"ROBO: \"+greeting(user_response))\n",
    "            else:\n",
    "                print(\"ROBO: \",end=\"\")\n",
    "                print(response(user_response))\n",
    "                sent_tokens.remove(user_response)\n",
    "    else:\n",
    "        flag=False\n",
    "        print(\"ROBO: Bye! take care..\")"
   ]
  },
  {
   "cell_type": "code",
   "execution_count": null,
   "metadata": {},
   "outputs": [],
   "source": []
  }
 ],
 "metadata": {
  "kernelspec": {
   "display_name": "Python 3",
   "language": "python",
   "name": "python3"
  },
  "language_info": {
   "codemirror_mode": {
    "name": "ipython",
    "version": 3
   },
   "file_extension": ".py",
   "mimetype": "text/x-python",
   "name": "python",
   "nbconvert_exporter": "python",
   "pygments_lexer": "ipython3",
   "version": "3.7.3"
  },
  "varInspector": {
   "cols": {
    "lenName": 16,
    "lenType": 16,
    "lenVar": 40
   },
   "kernels_config": {
    "python": {
     "delete_cmd_postfix": "",
     "delete_cmd_prefix": "del ",
     "library": "var_list.py",
     "varRefreshCmd": "print(var_dic_list())"
    },
    "r": {
     "delete_cmd_postfix": ") ",
     "delete_cmd_prefix": "rm(",
     "library": "var_list.r",
     "varRefreshCmd": "cat(var_dic_list()) "
    }
   },
   "types_to_exclude": [
    "module",
    "function",
    "builtin_function_or_method",
    "instance",
    "_Feature"
   ],
   "window_display": false
  }
 },
 "nbformat": 4,
 "nbformat_minor": 2
}
