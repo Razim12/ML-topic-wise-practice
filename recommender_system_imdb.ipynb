{
 "cells": [
  {
   "cell_type": "code",
   "execution_count": 176,
   "metadata": {},
   "outputs": [],
   "source": [
    "import pandas as pd \n",
    "import numpy as np "
   ]
  },
  {
   "cell_type": "code",
   "execution_count": 177,
   "metadata": {},
   "outputs": [],
   "source": [
    "import pandas as pd"
   ]
  },
  {
   "cell_type": "code",
   "execution_count": 178,
   "metadata": {},
   "outputs": [],
   "source": [
    "df1 = pd.read_csv('./data/tmdb-movie-metadata/tmdb_5000_credits.csv')\n",
    "df2 = pd.read_csv('./data/tmdb-movie-metadata/tmdb_5000_movies.csv')"
   ]
  },
  {
   "cell_type": "code",
   "execution_count": 179,
   "metadata": {},
   "outputs": [
    {
     "data": {
      "text/html": [
       "<div>\n",
       "<style scoped>\n",
       "    .dataframe tbody tr th:only-of-type {\n",
       "        vertical-align: middle;\n",
       "    }\n",
       "\n",
       "    .dataframe tbody tr th {\n",
       "        vertical-align: top;\n",
       "    }\n",
       "\n",
       "    .dataframe thead th {\n",
       "        text-align: right;\n",
       "    }\n",
       "</style>\n",
       "<table border=\"1\" class=\"dataframe\">\n",
       "  <thead>\n",
       "    <tr style=\"text-align: right;\">\n",
       "      <th></th>\n",
       "      <th>movie_id</th>\n",
       "      <th>title</th>\n",
       "      <th>cast</th>\n",
       "      <th>crew</th>\n",
       "    </tr>\n",
       "  </thead>\n",
       "  <tbody>\n",
       "    <tr>\n",
       "      <td>0</td>\n",
       "      <td>19995</td>\n",
       "      <td>Avatar</td>\n",
       "      <td>[{\"cast_id\": 242, \"character\": \"Jake Sully\", \"...</td>\n",
       "      <td>[{\"credit_id\": \"52fe48009251416c750aca23\", \"de...</td>\n",
       "    </tr>\n",
       "    <tr>\n",
       "      <td>1</td>\n",
       "      <td>285</td>\n",
       "      <td>Pirates of the Caribbean: At World's End</td>\n",
       "      <td>[{\"cast_id\": 4, \"character\": \"Captain Jack Spa...</td>\n",
       "      <td>[{\"credit_id\": \"52fe4232c3a36847f800b579\", \"de...</td>\n",
       "    </tr>\n",
       "    <tr>\n",
       "      <td>2</td>\n",
       "      <td>206647</td>\n",
       "      <td>Spectre</td>\n",
       "      <td>[{\"cast_id\": 1, \"character\": \"James Bond\", \"cr...</td>\n",
       "      <td>[{\"credit_id\": \"54805967c3a36829b5002c41\", \"de...</td>\n",
       "    </tr>\n",
       "    <tr>\n",
       "      <td>3</td>\n",
       "      <td>49026</td>\n",
       "      <td>The Dark Knight Rises</td>\n",
       "      <td>[{\"cast_id\": 2, \"character\": \"Bruce Wayne / Ba...</td>\n",
       "      <td>[{\"credit_id\": \"52fe4781c3a36847f81398c3\", \"de...</td>\n",
       "    </tr>\n",
       "    <tr>\n",
       "      <td>4</td>\n",
       "      <td>49529</td>\n",
       "      <td>John Carter</td>\n",
       "      <td>[{\"cast_id\": 5, \"character\": \"John Carter\", \"c...</td>\n",
       "      <td>[{\"credit_id\": \"52fe479ac3a36847f813eaa3\", \"de...</td>\n",
       "    </tr>\n",
       "  </tbody>\n",
       "</table>\n",
       "</div>"
      ],
      "text/plain": [
       "   movie_id                                     title  \\\n",
       "0     19995                                    Avatar   \n",
       "1       285  Pirates of the Caribbean: At World's End   \n",
       "2    206647                                   Spectre   \n",
       "3     49026                     The Dark Knight Rises   \n",
       "4     49529                               John Carter   \n",
       "\n",
       "                                                cast  \\\n",
       "0  [{\"cast_id\": 242, \"character\": \"Jake Sully\", \"...   \n",
       "1  [{\"cast_id\": 4, \"character\": \"Captain Jack Spa...   \n",
       "2  [{\"cast_id\": 1, \"character\": \"James Bond\", \"cr...   \n",
       "3  [{\"cast_id\": 2, \"character\": \"Bruce Wayne / Ba...   \n",
       "4  [{\"cast_id\": 5, \"character\": \"John Carter\", \"c...   \n",
       "\n",
       "                                                crew  \n",
       "0  [{\"credit_id\": \"52fe48009251416c750aca23\", \"de...  \n",
       "1  [{\"credit_id\": \"52fe4232c3a36847f800b579\", \"de...  \n",
       "2  [{\"credit_id\": \"54805967c3a36829b5002c41\", \"de...  \n",
       "3  [{\"credit_id\": \"52fe4781c3a36847f81398c3\", \"de...  \n",
       "4  [{\"credit_id\": \"52fe479ac3a36847f813eaa3\", \"de...  "
      ]
     },
     "execution_count": 179,
     "metadata": {},
     "output_type": "execute_result"
    }
   ],
   "source": [
    "df1.head()"
   ]
  },
  {
   "cell_type": "code",
   "execution_count": 180,
   "metadata": {},
   "outputs": [
    {
     "data": {
      "text/html": [
       "<div>\n",
       "<style scoped>\n",
       "    .dataframe tbody tr th:only-of-type {\n",
       "        vertical-align: middle;\n",
       "    }\n",
       "\n",
       "    .dataframe tbody tr th {\n",
       "        vertical-align: top;\n",
       "    }\n",
       "\n",
       "    .dataframe thead th {\n",
       "        text-align: right;\n",
       "    }\n",
       "</style>\n",
       "<table border=\"1\" class=\"dataframe\">\n",
       "  <thead>\n",
       "    <tr style=\"text-align: right;\">\n",
       "      <th></th>\n",
       "      <th>budget</th>\n",
       "      <th>genres</th>\n",
       "      <th>homepage</th>\n",
       "      <th>id</th>\n",
       "      <th>keywords</th>\n",
       "      <th>original_language</th>\n",
       "      <th>original_title</th>\n",
       "      <th>overview</th>\n",
       "      <th>popularity</th>\n",
       "      <th>production_companies</th>\n",
       "      <th>production_countries</th>\n",
       "      <th>release_date</th>\n",
       "      <th>revenue</th>\n",
       "      <th>runtime</th>\n",
       "      <th>spoken_languages</th>\n",
       "      <th>status</th>\n",
       "      <th>tagline</th>\n",
       "      <th>title</th>\n",
       "      <th>vote_average</th>\n",
       "      <th>vote_count</th>\n",
       "    </tr>\n",
       "  </thead>\n",
       "  <tbody>\n",
       "    <tr>\n",
       "      <td>0</td>\n",
       "      <td>237000000</td>\n",
       "      <td>[{\"id\": 28, \"name\": \"Action\"}, {\"id\": 12, \"nam...</td>\n",
       "      <td>http://www.avatarmovie.com/</td>\n",
       "      <td>19995</td>\n",
       "      <td>[{\"id\": 1463, \"name\": \"culture clash\"}, {\"id\":...</td>\n",
       "      <td>en</td>\n",
       "      <td>Avatar</td>\n",
       "      <td>In the 22nd century, a paraplegic Marine is di...</td>\n",
       "      <td>150.437577</td>\n",
       "      <td>[{\"name\": \"Ingenious Film Partners\", \"id\": 289...</td>\n",
       "      <td>[{\"iso_3166_1\": \"US\", \"name\": \"United States o...</td>\n",
       "      <td>2009-12-10</td>\n",
       "      <td>2787965087</td>\n",
       "      <td>162.0</td>\n",
       "      <td>[{\"iso_639_1\": \"en\", \"name\": \"English\"}, {\"iso...</td>\n",
       "      <td>Released</td>\n",
       "      <td>Enter the World of Pandora.</td>\n",
       "      <td>Avatar</td>\n",
       "      <td>7.2</td>\n",
       "      <td>11800</td>\n",
       "    </tr>\n",
       "    <tr>\n",
       "      <td>1</td>\n",
       "      <td>300000000</td>\n",
       "      <td>[{\"id\": 12, \"name\": \"Adventure\"}, {\"id\": 14, \"...</td>\n",
       "      <td>http://disney.go.com/disneypictures/pirates/</td>\n",
       "      <td>285</td>\n",
       "      <td>[{\"id\": 270, \"name\": \"ocean\"}, {\"id\": 726, \"na...</td>\n",
       "      <td>en</td>\n",
       "      <td>Pirates of the Caribbean: At World's End</td>\n",
       "      <td>Captain Barbossa, long believed to be dead, ha...</td>\n",
       "      <td>139.082615</td>\n",
       "      <td>[{\"name\": \"Walt Disney Pictures\", \"id\": 2}, {\"...</td>\n",
       "      <td>[{\"iso_3166_1\": \"US\", \"name\": \"United States o...</td>\n",
       "      <td>2007-05-19</td>\n",
       "      <td>961000000</td>\n",
       "      <td>169.0</td>\n",
       "      <td>[{\"iso_639_1\": \"en\", \"name\": \"English\"}]</td>\n",
       "      <td>Released</td>\n",
       "      <td>At the end of the world, the adventure begins.</td>\n",
       "      <td>Pirates of the Caribbean: At World's End</td>\n",
       "      <td>6.9</td>\n",
       "      <td>4500</td>\n",
       "    </tr>\n",
       "    <tr>\n",
       "      <td>2</td>\n",
       "      <td>245000000</td>\n",
       "      <td>[{\"id\": 28, \"name\": \"Action\"}, {\"id\": 12, \"nam...</td>\n",
       "      <td>http://www.sonypictures.com/movies/spectre/</td>\n",
       "      <td>206647</td>\n",
       "      <td>[{\"id\": 470, \"name\": \"spy\"}, {\"id\": 818, \"name...</td>\n",
       "      <td>en</td>\n",
       "      <td>Spectre</td>\n",
       "      <td>A cryptic message from Bond’s past sends him o...</td>\n",
       "      <td>107.376788</td>\n",
       "      <td>[{\"name\": \"Columbia Pictures\", \"id\": 5}, {\"nam...</td>\n",
       "      <td>[{\"iso_3166_1\": \"GB\", \"name\": \"United Kingdom\"...</td>\n",
       "      <td>2015-10-26</td>\n",
       "      <td>880674609</td>\n",
       "      <td>148.0</td>\n",
       "      <td>[{\"iso_639_1\": \"fr\", \"name\": \"Fran\\u00e7ais\"},...</td>\n",
       "      <td>Released</td>\n",
       "      <td>A Plan No One Escapes</td>\n",
       "      <td>Spectre</td>\n",
       "      <td>6.3</td>\n",
       "      <td>4466</td>\n",
       "    </tr>\n",
       "    <tr>\n",
       "      <td>3</td>\n",
       "      <td>250000000</td>\n",
       "      <td>[{\"id\": 28, \"name\": \"Action\"}, {\"id\": 80, \"nam...</td>\n",
       "      <td>http://www.thedarkknightrises.com/</td>\n",
       "      <td>49026</td>\n",
       "      <td>[{\"id\": 849, \"name\": \"dc comics\"}, {\"id\": 853,...</td>\n",
       "      <td>en</td>\n",
       "      <td>The Dark Knight Rises</td>\n",
       "      <td>Following the death of District Attorney Harve...</td>\n",
       "      <td>112.312950</td>\n",
       "      <td>[{\"name\": \"Legendary Pictures\", \"id\": 923}, {\"...</td>\n",
       "      <td>[{\"iso_3166_1\": \"US\", \"name\": \"United States o...</td>\n",
       "      <td>2012-07-16</td>\n",
       "      <td>1084939099</td>\n",
       "      <td>165.0</td>\n",
       "      <td>[{\"iso_639_1\": \"en\", \"name\": \"English\"}]</td>\n",
       "      <td>Released</td>\n",
       "      <td>The Legend Ends</td>\n",
       "      <td>The Dark Knight Rises</td>\n",
       "      <td>7.6</td>\n",
       "      <td>9106</td>\n",
       "    </tr>\n",
       "    <tr>\n",
       "      <td>4</td>\n",
       "      <td>260000000</td>\n",
       "      <td>[{\"id\": 28, \"name\": \"Action\"}, {\"id\": 12, \"nam...</td>\n",
       "      <td>http://movies.disney.com/john-carter</td>\n",
       "      <td>49529</td>\n",
       "      <td>[{\"id\": 818, \"name\": \"based on novel\"}, {\"id\":...</td>\n",
       "      <td>en</td>\n",
       "      <td>John Carter</td>\n",
       "      <td>John Carter is a war-weary, former military ca...</td>\n",
       "      <td>43.926995</td>\n",
       "      <td>[{\"name\": \"Walt Disney Pictures\", \"id\": 2}]</td>\n",
       "      <td>[{\"iso_3166_1\": \"US\", \"name\": \"United States o...</td>\n",
       "      <td>2012-03-07</td>\n",
       "      <td>284139100</td>\n",
       "      <td>132.0</td>\n",
       "      <td>[{\"iso_639_1\": \"en\", \"name\": \"English\"}]</td>\n",
       "      <td>Released</td>\n",
       "      <td>Lost in our world, found in another.</td>\n",
       "      <td>John Carter</td>\n",
       "      <td>6.1</td>\n",
       "      <td>2124</td>\n",
       "    </tr>\n",
       "  </tbody>\n",
       "</table>\n",
       "</div>"
      ],
      "text/plain": [
       "      budget                                             genres  \\\n",
       "0  237000000  [{\"id\": 28, \"name\": \"Action\"}, {\"id\": 12, \"nam...   \n",
       "1  300000000  [{\"id\": 12, \"name\": \"Adventure\"}, {\"id\": 14, \"...   \n",
       "2  245000000  [{\"id\": 28, \"name\": \"Action\"}, {\"id\": 12, \"nam...   \n",
       "3  250000000  [{\"id\": 28, \"name\": \"Action\"}, {\"id\": 80, \"nam...   \n",
       "4  260000000  [{\"id\": 28, \"name\": \"Action\"}, {\"id\": 12, \"nam...   \n",
       "\n",
       "                                       homepage      id  \\\n",
       "0                   http://www.avatarmovie.com/   19995   \n",
       "1  http://disney.go.com/disneypictures/pirates/     285   \n",
       "2   http://www.sonypictures.com/movies/spectre/  206647   \n",
       "3            http://www.thedarkknightrises.com/   49026   \n",
       "4          http://movies.disney.com/john-carter   49529   \n",
       "\n",
       "                                            keywords original_language  \\\n",
       "0  [{\"id\": 1463, \"name\": \"culture clash\"}, {\"id\":...                en   \n",
       "1  [{\"id\": 270, \"name\": \"ocean\"}, {\"id\": 726, \"na...                en   \n",
       "2  [{\"id\": 470, \"name\": \"spy\"}, {\"id\": 818, \"name...                en   \n",
       "3  [{\"id\": 849, \"name\": \"dc comics\"}, {\"id\": 853,...                en   \n",
       "4  [{\"id\": 818, \"name\": \"based on novel\"}, {\"id\":...                en   \n",
       "\n",
       "                             original_title  \\\n",
       "0                                    Avatar   \n",
       "1  Pirates of the Caribbean: At World's End   \n",
       "2                                   Spectre   \n",
       "3                     The Dark Knight Rises   \n",
       "4                               John Carter   \n",
       "\n",
       "                                            overview  popularity  \\\n",
       "0  In the 22nd century, a paraplegic Marine is di...  150.437577   \n",
       "1  Captain Barbossa, long believed to be dead, ha...  139.082615   \n",
       "2  A cryptic message from Bond’s past sends him o...  107.376788   \n",
       "3  Following the death of District Attorney Harve...  112.312950   \n",
       "4  John Carter is a war-weary, former military ca...   43.926995   \n",
       "\n",
       "                                production_companies  \\\n",
       "0  [{\"name\": \"Ingenious Film Partners\", \"id\": 289...   \n",
       "1  [{\"name\": \"Walt Disney Pictures\", \"id\": 2}, {\"...   \n",
       "2  [{\"name\": \"Columbia Pictures\", \"id\": 5}, {\"nam...   \n",
       "3  [{\"name\": \"Legendary Pictures\", \"id\": 923}, {\"...   \n",
       "4        [{\"name\": \"Walt Disney Pictures\", \"id\": 2}]   \n",
       "\n",
       "                                production_countries release_date     revenue  \\\n",
       "0  [{\"iso_3166_1\": \"US\", \"name\": \"United States o...   2009-12-10  2787965087   \n",
       "1  [{\"iso_3166_1\": \"US\", \"name\": \"United States o...   2007-05-19   961000000   \n",
       "2  [{\"iso_3166_1\": \"GB\", \"name\": \"United Kingdom\"...   2015-10-26   880674609   \n",
       "3  [{\"iso_3166_1\": \"US\", \"name\": \"United States o...   2012-07-16  1084939099   \n",
       "4  [{\"iso_3166_1\": \"US\", \"name\": \"United States o...   2012-03-07   284139100   \n",
       "\n",
       "   runtime                                   spoken_languages    status  \\\n",
       "0    162.0  [{\"iso_639_1\": \"en\", \"name\": \"English\"}, {\"iso...  Released   \n",
       "1    169.0           [{\"iso_639_1\": \"en\", \"name\": \"English\"}]  Released   \n",
       "2    148.0  [{\"iso_639_1\": \"fr\", \"name\": \"Fran\\u00e7ais\"},...  Released   \n",
       "3    165.0           [{\"iso_639_1\": \"en\", \"name\": \"English\"}]  Released   \n",
       "4    132.0           [{\"iso_639_1\": \"en\", \"name\": \"English\"}]  Released   \n",
       "\n",
       "                                          tagline  \\\n",
       "0                     Enter the World of Pandora.   \n",
       "1  At the end of the world, the adventure begins.   \n",
       "2                           A Plan No One Escapes   \n",
       "3                                 The Legend Ends   \n",
       "4            Lost in our world, found in another.   \n",
       "\n",
       "                                      title  vote_average  vote_count  \n",
       "0                                    Avatar           7.2       11800  \n",
       "1  Pirates of the Caribbean: At World's End           6.9        4500  \n",
       "2                                   Spectre           6.3        4466  \n",
       "3                     The Dark Knight Rises           7.6        9106  \n",
       "4                               John Carter           6.1        2124  "
      ]
     },
     "execution_count": 180,
     "metadata": {},
     "output_type": "execute_result"
    }
   ],
   "source": [
    "df2.head()"
   ]
  },
  {
   "cell_type": "code",
   "execution_count": 181,
   "metadata": {},
   "outputs": [],
   "source": [
    "#joining two dataframe on id\n",
    "\n",
    "df1.columns = ['movie_id','tittle','cast','crew']\n",
    "df2.rename(columns={'id':'movie_id'},inplace=True)\n",
    "df2= df2.merge(df1,on='movie_id')"
   ]
  },
  {
   "cell_type": "code",
   "execution_count": 182,
   "metadata": {},
   "outputs": [
    {
     "data": {
      "text/html": [
       "<div>\n",
       "<style scoped>\n",
       "    .dataframe tbody tr th:only-of-type {\n",
       "        vertical-align: middle;\n",
       "    }\n",
       "\n",
       "    .dataframe tbody tr th {\n",
       "        vertical-align: top;\n",
       "    }\n",
       "\n",
       "    .dataframe thead th {\n",
       "        text-align: right;\n",
       "    }\n",
       "</style>\n",
       "<table border=\"1\" class=\"dataframe\">\n",
       "  <thead>\n",
       "    <tr style=\"text-align: right;\">\n",
       "      <th></th>\n",
       "      <th>budget</th>\n",
       "      <th>genres</th>\n",
       "      <th>homepage</th>\n",
       "      <th>movie_id</th>\n",
       "      <th>keywords</th>\n",
       "      <th>original_language</th>\n",
       "      <th>original_title</th>\n",
       "      <th>overview</th>\n",
       "      <th>popularity</th>\n",
       "      <th>production_companies</th>\n",
       "      <th>...</th>\n",
       "      <th>runtime</th>\n",
       "      <th>spoken_languages</th>\n",
       "      <th>status</th>\n",
       "      <th>tagline</th>\n",
       "      <th>title</th>\n",
       "      <th>vote_average</th>\n",
       "      <th>vote_count</th>\n",
       "      <th>tittle</th>\n",
       "      <th>cast</th>\n",
       "      <th>crew</th>\n",
       "    </tr>\n",
       "  </thead>\n",
       "  <tbody>\n",
       "    <tr>\n",
       "      <td>0</td>\n",
       "      <td>237000000</td>\n",
       "      <td>[{\"id\": 28, \"name\": \"Action\"}, {\"id\": 12, \"nam...</td>\n",
       "      <td>http://www.avatarmovie.com/</td>\n",
       "      <td>19995</td>\n",
       "      <td>[{\"id\": 1463, \"name\": \"culture clash\"}, {\"id\":...</td>\n",
       "      <td>en</td>\n",
       "      <td>Avatar</td>\n",
       "      <td>In the 22nd century, a paraplegic Marine is di...</td>\n",
       "      <td>150.437577</td>\n",
       "      <td>[{\"name\": \"Ingenious Film Partners\", \"id\": 289...</td>\n",
       "      <td>...</td>\n",
       "      <td>162.0</td>\n",
       "      <td>[{\"iso_639_1\": \"en\", \"name\": \"English\"}, {\"iso...</td>\n",
       "      <td>Released</td>\n",
       "      <td>Enter the World of Pandora.</td>\n",
       "      <td>Avatar</td>\n",
       "      <td>7.2</td>\n",
       "      <td>11800</td>\n",
       "      <td>Avatar</td>\n",
       "      <td>[{\"cast_id\": 242, \"character\": \"Jake Sully\", \"...</td>\n",
       "      <td>[{\"credit_id\": \"52fe48009251416c750aca23\", \"de...</td>\n",
       "    </tr>\n",
       "    <tr>\n",
       "      <td>1</td>\n",
       "      <td>300000000</td>\n",
       "      <td>[{\"id\": 12, \"name\": \"Adventure\"}, {\"id\": 14, \"...</td>\n",
       "      <td>http://disney.go.com/disneypictures/pirates/</td>\n",
       "      <td>285</td>\n",
       "      <td>[{\"id\": 270, \"name\": \"ocean\"}, {\"id\": 726, \"na...</td>\n",
       "      <td>en</td>\n",
       "      <td>Pirates of the Caribbean: At World's End</td>\n",
       "      <td>Captain Barbossa, long believed to be dead, ha...</td>\n",
       "      <td>139.082615</td>\n",
       "      <td>[{\"name\": \"Walt Disney Pictures\", \"id\": 2}, {\"...</td>\n",
       "      <td>...</td>\n",
       "      <td>169.0</td>\n",
       "      <td>[{\"iso_639_1\": \"en\", \"name\": \"English\"}]</td>\n",
       "      <td>Released</td>\n",
       "      <td>At the end of the world, the adventure begins.</td>\n",
       "      <td>Pirates of the Caribbean: At World's End</td>\n",
       "      <td>6.9</td>\n",
       "      <td>4500</td>\n",
       "      <td>Pirates of the Caribbean: At World's End</td>\n",
       "      <td>[{\"cast_id\": 4, \"character\": \"Captain Jack Spa...</td>\n",
       "      <td>[{\"credit_id\": \"52fe4232c3a36847f800b579\", \"de...</td>\n",
       "    </tr>\n",
       "    <tr>\n",
       "      <td>2</td>\n",
       "      <td>245000000</td>\n",
       "      <td>[{\"id\": 28, \"name\": \"Action\"}, {\"id\": 12, \"nam...</td>\n",
       "      <td>http://www.sonypictures.com/movies/spectre/</td>\n",
       "      <td>206647</td>\n",
       "      <td>[{\"id\": 470, \"name\": \"spy\"}, {\"id\": 818, \"name...</td>\n",
       "      <td>en</td>\n",
       "      <td>Spectre</td>\n",
       "      <td>A cryptic message from Bond’s past sends him o...</td>\n",
       "      <td>107.376788</td>\n",
       "      <td>[{\"name\": \"Columbia Pictures\", \"id\": 5}, {\"nam...</td>\n",
       "      <td>...</td>\n",
       "      <td>148.0</td>\n",
       "      <td>[{\"iso_639_1\": \"fr\", \"name\": \"Fran\\u00e7ais\"},...</td>\n",
       "      <td>Released</td>\n",
       "      <td>A Plan No One Escapes</td>\n",
       "      <td>Spectre</td>\n",
       "      <td>6.3</td>\n",
       "      <td>4466</td>\n",
       "      <td>Spectre</td>\n",
       "      <td>[{\"cast_id\": 1, \"character\": \"James Bond\", \"cr...</td>\n",
       "      <td>[{\"credit_id\": \"54805967c3a36829b5002c41\", \"de...</td>\n",
       "    </tr>\n",
       "    <tr>\n",
       "      <td>3</td>\n",
       "      <td>250000000</td>\n",
       "      <td>[{\"id\": 28, \"name\": \"Action\"}, {\"id\": 80, \"nam...</td>\n",
       "      <td>http://www.thedarkknightrises.com/</td>\n",
       "      <td>49026</td>\n",
       "      <td>[{\"id\": 849, \"name\": \"dc comics\"}, {\"id\": 853,...</td>\n",
       "      <td>en</td>\n",
       "      <td>The Dark Knight Rises</td>\n",
       "      <td>Following the death of District Attorney Harve...</td>\n",
       "      <td>112.312950</td>\n",
       "      <td>[{\"name\": \"Legendary Pictures\", \"id\": 923}, {\"...</td>\n",
       "      <td>...</td>\n",
       "      <td>165.0</td>\n",
       "      <td>[{\"iso_639_1\": \"en\", \"name\": \"English\"}]</td>\n",
       "      <td>Released</td>\n",
       "      <td>The Legend Ends</td>\n",
       "      <td>The Dark Knight Rises</td>\n",
       "      <td>7.6</td>\n",
       "      <td>9106</td>\n",
       "      <td>The Dark Knight Rises</td>\n",
       "      <td>[{\"cast_id\": 2, \"character\": \"Bruce Wayne / Ba...</td>\n",
       "      <td>[{\"credit_id\": \"52fe4781c3a36847f81398c3\", \"de...</td>\n",
       "    </tr>\n",
       "    <tr>\n",
       "      <td>4</td>\n",
       "      <td>260000000</td>\n",
       "      <td>[{\"id\": 28, \"name\": \"Action\"}, {\"id\": 12, \"nam...</td>\n",
       "      <td>http://movies.disney.com/john-carter</td>\n",
       "      <td>49529</td>\n",
       "      <td>[{\"id\": 818, \"name\": \"based on novel\"}, {\"id\":...</td>\n",
       "      <td>en</td>\n",
       "      <td>John Carter</td>\n",
       "      <td>John Carter is a war-weary, former military ca...</td>\n",
       "      <td>43.926995</td>\n",
       "      <td>[{\"name\": \"Walt Disney Pictures\", \"id\": 2}]</td>\n",
       "      <td>...</td>\n",
       "      <td>132.0</td>\n",
       "      <td>[{\"iso_639_1\": \"en\", \"name\": \"English\"}]</td>\n",
       "      <td>Released</td>\n",
       "      <td>Lost in our world, found in another.</td>\n",
       "      <td>John Carter</td>\n",
       "      <td>6.1</td>\n",
       "      <td>2124</td>\n",
       "      <td>John Carter</td>\n",
       "      <td>[{\"cast_id\": 5, \"character\": \"John Carter\", \"c...</td>\n",
       "      <td>[{\"credit_id\": \"52fe479ac3a36847f813eaa3\", \"de...</td>\n",
       "    </tr>\n",
       "  </tbody>\n",
       "</table>\n",
       "<p>5 rows × 23 columns</p>\n",
       "</div>"
      ],
      "text/plain": [
       "      budget                                             genres  \\\n",
       "0  237000000  [{\"id\": 28, \"name\": \"Action\"}, {\"id\": 12, \"nam...   \n",
       "1  300000000  [{\"id\": 12, \"name\": \"Adventure\"}, {\"id\": 14, \"...   \n",
       "2  245000000  [{\"id\": 28, \"name\": \"Action\"}, {\"id\": 12, \"nam...   \n",
       "3  250000000  [{\"id\": 28, \"name\": \"Action\"}, {\"id\": 80, \"nam...   \n",
       "4  260000000  [{\"id\": 28, \"name\": \"Action\"}, {\"id\": 12, \"nam...   \n",
       "\n",
       "                                       homepage  movie_id  \\\n",
       "0                   http://www.avatarmovie.com/     19995   \n",
       "1  http://disney.go.com/disneypictures/pirates/       285   \n",
       "2   http://www.sonypictures.com/movies/spectre/    206647   \n",
       "3            http://www.thedarkknightrises.com/     49026   \n",
       "4          http://movies.disney.com/john-carter     49529   \n",
       "\n",
       "                                            keywords original_language  \\\n",
       "0  [{\"id\": 1463, \"name\": \"culture clash\"}, {\"id\":...                en   \n",
       "1  [{\"id\": 270, \"name\": \"ocean\"}, {\"id\": 726, \"na...                en   \n",
       "2  [{\"id\": 470, \"name\": \"spy\"}, {\"id\": 818, \"name...                en   \n",
       "3  [{\"id\": 849, \"name\": \"dc comics\"}, {\"id\": 853,...                en   \n",
       "4  [{\"id\": 818, \"name\": \"based on novel\"}, {\"id\":...                en   \n",
       "\n",
       "                             original_title  \\\n",
       "0                                    Avatar   \n",
       "1  Pirates of the Caribbean: At World's End   \n",
       "2                                   Spectre   \n",
       "3                     The Dark Knight Rises   \n",
       "4                               John Carter   \n",
       "\n",
       "                                            overview  popularity  \\\n",
       "0  In the 22nd century, a paraplegic Marine is di...  150.437577   \n",
       "1  Captain Barbossa, long believed to be dead, ha...  139.082615   \n",
       "2  A cryptic message from Bond’s past sends him o...  107.376788   \n",
       "3  Following the death of District Attorney Harve...  112.312950   \n",
       "4  John Carter is a war-weary, former military ca...   43.926995   \n",
       "\n",
       "                                production_companies  ... runtime  \\\n",
       "0  [{\"name\": \"Ingenious Film Partners\", \"id\": 289...  ...   162.0   \n",
       "1  [{\"name\": \"Walt Disney Pictures\", \"id\": 2}, {\"...  ...   169.0   \n",
       "2  [{\"name\": \"Columbia Pictures\", \"id\": 5}, {\"nam...  ...   148.0   \n",
       "3  [{\"name\": \"Legendary Pictures\", \"id\": 923}, {\"...  ...   165.0   \n",
       "4        [{\"name\": \"Walt Disney Pictures\", \"id\": 2}]  ...   132.0   \n",
       "\n",
       "                                    spoken_languages    status  \\\n",
       "0  [{\"iso_639_1\": \"en\", \"name\": \"English\"}, {\"iso...  Released   \n",
       "1           [{\"iso_639_1\": \"en\", \"name\": \"English\"}]  Released   \n",
       "2  [{\"iso_639_1\": \"fr\", \"name\": \"Fran\\u00e7ais\"},...  Released   \n",
       "3           [{\"iso_639_1\": \"en\", \"name\": \"English\"}]  Released   \n",
       "4           [{\"iso_639_1\": \"en\", \"name\": \"English\"}]  Released   \n",
       "\n",
       "                                          tagline  \\\n",
       "0                     Enter the World of Pandora.   \n",
       "1  At the end of the world, the adventure begins.   \n",
       "2                           A Plan No One Escapes   \n",
       "3                                 The Legend Ends   \n",
       "4            Lost in our world, found in another.   \n",
       "\n",
       "                                      title vote_average vote_count  \\\n",
       "0                                    Avatar          7.2      11800   \n",
       "1  Pirates of the Caribbean: At World's End          6.9       4500   \n",
       "2                                   Spectre          6.3       4466   \n",
       "3                     The Dark Knight Rises          7.6       9106   \n",
       "4                               John Carter          6.1       2124   \n",
       "\n",
       "                                     tittle  \\\n",
       "0                                    Avatar   \n",
       "1  Pirates of the Caribbean: At World's End   \n",
       "2                                   Spectre   \n",
       "3                     The Dark Knight Rises   \n",
       "4                               John Carter   \n",
       "\n",
       "                                                cast  \\\n",
       "0  [{\"cast_id\": 242, \"character\": \"Jake Sully\", \"...   \n",
       "1  [{\"cast_id\": 4, \"character\": \"Captain Jack Spa...   \n",
       "2  [{\"cast_id\": 1, \"character\": \"James Bond\", \"cr...   \n",
       "3  [{\"cast_id\": 2, \"character\": \"Bruce Wayne / Ba...   \n",
       "4  [{\"cast_id\": 5, \"character\": \"John Carter\", \"c...   \n",
       "\n",
       "                                                crew  \n",
       "0  [{\"credit_id\": \"52fe48009251416c750aca23\", \"de...  \n",
       "1  [{\"credit_id\": \"52fe4232c3a36847f800b579\", \"de...  \n",
       "2  [{\"credit_id\": \"54805967c3a36829b5002c41\", \"de...  \n",
       "3  [{\"credit_id\": \"52fe4781c3a36847f81398c3\", \"de...  \n",
       "4  [{\"credit_id\": \"52fe479ac3a36847f813eaa3\", \"de...  \n",
       "\n",
       "[5 rows x 23 columns]"
      ]
     },
     "execution_count": 182,
     "metadata": {},
     "output_type": "execute_result"
    }
   ],
   "source": [
    "df2.head()"
   ]
  },
  {
   "cell_type": "code",
   "execution_count": 183,
   "metadata": {},
   "outputs": [
    {
     "name": "stdout",
     "output_type": "stream",
     "text": [
      "<class 'pandas.core.frame.DataFrame'>\n",
      "Int64Index: 4803 entries, 0 to 4802\n",
      "Data columns (total 23 columns):\n",
      "budget                  4803 non-null int64\n",
      "genres                  4803 non-null object\n",
      "homepage                1712 non-null object\n",
      "movie_id                4803 non-null int64\n",
      "keywords                4803 non-null object\n",
      "original_language       4803 non-null object\n",
      "original_title          4803 non-null object\n",
      "overview                4800 non-null object\n",
      "popularity              4803 non-null float64\n",
      "production_companies    4803 non-null object\n",
      "production_countries    4803 non-null object\n",
      "release_date            4802 non-null object\n",
      "revenue                 4803 non-null int64\n",
      "runtime                 4801 non-null float64\n",
      "spoken_languages        4803 non-null object\n",
      "status                  4803 non-null object\n",
      "tagline                 3959 non-null object\n",
      "title                   4803 non-null object\n",
      "vote_average            4803 non-null float64\n",
      "vote_count              4803 non-null int64\n",
      "tittle                  4803 non-null object\n",
      "cast                    4803 non-null object\n",
      "crew                    4803 non-null object\n",
      "dtypes: float64(3), int64(4), object(16)\n",
      "memory usage: 900.6+ KB\n"
     ]
    }
   ],
   "source": [
    "df2.info()"
   ]
  },
  {
   "cell_type": "markdown",
   "metadata": {},
   "source": [
    "### Demographic Filtering -\n",
    "Before getting started with this -\n",
    "\n",
    "- we need a metric to score or rate movie\n",
    "- Calculate the score for every movie\n",
    "- Sort the scores and recommend the best rated movie to the users.\n",
    "\n",
    "We can use the average ratings of the movie as the score but using this won't be fair enough since a movie with 8.9 average rating and only 3 votes cannot be considered better than the movie with 7.8 as as average rating but 40 votes. So, I'll be using IMDB's weighted rating (wr) which is given as"
   ]
  },
  {
   "cell_type": "code",
   "execution_count": 184,
   "metadata": {},
   "outputs": [
    {
     "data": {
      "text/plain": [
       "6.092171559442011"
      ]
     },
     "execution_count": 184,
     "metadata": {},
     "output_type": "execute_result"
    }
   ],
   "source": [
    "C= df2['vote_average'].mean()\n",
    "C"
   ]
  },
  {
   "cell_type": "markdown",
   "metadata": {},
   "source": [
    "So, the mean rating for all the movies is approx 6 on a scale of 10.The next step is to determine an appropriate value for m, the minimum votes required to be listed in the chart. We will use 90th percentile as our cutoff. In other words, for a movie to feature in the charts, it must have more votes than at least 90% of the movies in the list."
   ]
  },
  {
   "cell_type": "code",
   "execution_count": 185,
   "metadata": {},
   "outputs": [
    {
     "data": {
      "text/plain": [
       "1838.4000000000015"
      ]
     },
     "execution_count": 185,
     "metadata": {},
     "output_type": "execute_result"
    }
   ],
   "source": [
    "m= df2['vote_count'].quantile(0.9)\n",
    "m"
   ]
  },
  {
   "cell_type": "markdown",
   "metadata": {},
   "source": [
    "Now, we can filter out the movies that qualify for the chart"
   ]
  },
  {
   "cell_type": "code",
   "execution_count": 186,
   "metadata": {},
   "outputs": [
    {
     "data": {
      "text/plain": [
       "(481, 23)"
      ]
     },
     "execution_count": 186,
     "metadata": {},
     "output_type": "execute_result"
    }
   ],
   "source": [
    "q_movies = df2.copy().loc[df2['vote_count'] >= m]\n",
    "q_movies.shape"
   ]
  },
  {
   "cell_type": "markdown",
   "metadata": {},
   "source": [
    "We see that there are 481 movies which qualify to be in this list. Now, we need to calculate our metric for each qualified movie. To do this, we will define a function, weighted_rating() and define a new feature score, of which we'll calculate the value by applying this function to our DataFrame of qualified movies"
   ]
  },
  {
   "cell_type": "code",
   "execution_count": 187,
   "metadata": {},
   "outputs": [],
   "source": [
    "# IMDB's weighted rating (wr)\n",
    "def weighted_rating(x, m=m, C=C):\n",
    "    v = x['vote_count']\n",
    "    R = x['vote_average']\n",
    "    # Calculation based on the IMDB formula\n",
    "    return (v/(v+m) * R) + (m/(m+v) * C)"
   ]
  },
  {
   "cell_type": "code",
   "execution_count": 188,
   "metadata": {},
   "outputs": [],
   "source": [
    "# Define a new feature 'score' and calculate its value with `weighted_rating()`\n",
    "q_movies['score'] = q_movies.apply(weighted_rating, axis=1)"
   ]
  },
  {
   "cell_type": "code",
   "execution_count": 189,
   "metadata": {},
   "outputs": [
    {
     "data": {
      "text/html": [
       "<div>\n",
       "<style scoped>\n",
       "    .dataframe tbody tr th:only-of-type {\n",
       "        vertical-align: middle;\n",
       "    }\n",
       "\n",
       "    .dataframe tbody tr th {\n",
       "        vertical-align: top;\n",
       "    }\n",
       "\n",
       "    .dataframe thead th {\n",
       "        text-align: right;\n",
       "    }\n",
       "</style>\n",
       "<table border=\"1\" class=\"dataframe\">\n",
       "  <thead>\n",
       "    <tr style=\"text-align: right;\">\n",
       "      <th></th>\n",
       "      <th>title</th>\n",
       "      <th>vote_count</th>\n",
       "      <th>vote_average</th>\n",
       "      <th>score</th>\n",
       "    </tr>\n",
       "  </thead>\n",
       "  <tbody>\n",
       "    <tr>\n",
       "      <td>1881</td>\n",
       "      <td>The Shawshank Redemption</td>\n",
       "      <td>8205</td>\n",
       "      <td>8.5</td>\n",
       "      <td>8.059258</td>\n",
       "    </tr>\n",
       "    <tr>\n",
       "      <td>662</td>\n",
       "      <td>Fight Club</td>\n",
       "      <td>9413</td>\n",
       "      <td>8.3</td>\n",
       "      <td>7.939256</td>\n",
       "    </tr>\n",
       "    <tr>\n",
       "      <td>65</td>\n",
       "      <td>The Dark Knight</td>\n",
       "      <td>12002</td>\n",
       "      <td>8.2</td>\n",
       "      <td>7.920020</td>\n",
       "    </tr>\n",
       "    <tr>\n",
       "      <td>3232</td>\n",
       "      <td>Pulp Fiction</td>\n",
       "      <td>8428</td>\n",
       "      <td>8.3</td>\n",
       "      <td>7.904645</td>\n",
       "    </tr>\n",
       "    <tr>\n",
       "      <td>96</td>\n",
       "      <td>Inception</td>\n",
       "      <td>13752</td>\n",
       "      <td>8.1</td>\n",
       "      <td>7.863239</td>\n",
       "    </tr>\n",
       "    <tr>\n",
       "      <td>3337</td>\n",
       "      <td>The Godfather</td>\n",
       "      <td>5893</td>\n",
       "      <td>8.4</td>\n",
       "      <td>7.851236</td>\n",
       "    </tr>\n",
       "    <tr>\n",
       "      <td>95</td>\n",
       "      <td>Interstellar</td>\n",
       "      <td>10867</td>\n",
       "      <td>8.1</td>\n",
       "      <td>7.809479</td>\n",
       "    </tr>\n",
       "    <tr>\n",
       "      <td>809</td>\n",
       "      <td>Forrest Gump</td>\n",
       "      <td>7927</td>\n",
       "      <td>8.2</td>\n",
       "      <td>7.803188</td>\n",
       "    </tr>\n",
       "    <tr>\n",
       "      <td>329</td>\n",
       "      <td>The Lord of the Rings: The Return of the King</td>\n",
       "      <td>8064</td>\n",
       "      <td>8.1</td>\n",
       "      <td>7.727243</td>\n",
       "    </tr>\n",
       "    <tr>\n",
       "      <td>1990</td>\n",
       "      <td>The Empire Strikes Back</td>\n",
       "      <td>5879</td>\n",
       "      <td>8.2</td>\n",
       "      <td>7.697884</td>\n",
       "    </tr>\n",
       "  </tbody>\n",
       "</table>\n",
       "</div>"
      ],
      "text/plain": [
       "                                              title  vote_count  vote_average  \\\n",
       "1881                       The Shawshank Redemption        8205           8.5   \n",
       "662                                      Fight Club        9413           8.3   \n",
       "65                                  The Dark Knight       12002           8.2   \n",
       "3232                                   Pulp Fiction        8428           8.3   \n",
       "96                                        Inception       13752           8.1   \n",
       "3337                                  The Godfather        5893           8.4   \n",
       "95                                     Interstellar       10867           8.1   \n",
       "809                                    Forrest Gump        7927           8.2   \n",
       "329   The Lord of the Rings: The Return of the King        8064           8.1   \n",
       "1990                        The Empire Strikes Back        5879           8.2   \n",
       "\n",
       "         score  \n",
       "1881  8.059258  \n",
       "662   7.939256  \n",
       "65    7.920020  \n",
       "3232  7.904645  \n",
       "96    7.863239  \n",
       "3337  7.851236  \n",
       "95    7.809479  \n",
       "809   7.803188  \n",
       "329   7.727243  \n",
       "1990  7.697884  "
      ]
     },
     "execution_count": 189,
     "metadata": {},
     "output_type": "execute_result"
    }
   ],
   "source": [
    "#Sort movies based on score calculated above\n",
    "q_movies = q_movies.sort_values('score', ascending=False)\n",
    "\n",
    "#Print the top 15 movies\n",
    "q_movies[['title', 'vote_count', 'vote_average', 'score']].head(10)"
   ]
  },
  {
   "cell_type": "markdown",
   "metadata": {},
   "source": [
    "We have made our first(though very basic) recommender. Under the Trending Now tab of these systems we find movies that are very popular and they can just be obtained by sorting the dataset by the popularity column."
   ]
  },
  {
   "cell_type": "code",
   "execution_count": 190,
   "metadata": {},
   "outputs": [
    {
     "data": {
      "text/plain": [
       "Text(0.5, 1.0, 'Popular Movies')"
      ]
     },
     "execution_count": 190,
     "metadata": {},
     "output_type": "execute_result"
    },
    {
     "data": {
      "image/png": "[encoded data removed]",
      "text/plain": [
       "<Figure size 864x288 with 1 Axes>"
      ]
     },
     "metadata": {
      "needs_background": "light"
     },
     "output_type": "display_data"
    }
   ],
   "source": [
    "pop= df2.sort_values('popularity', ascending=False)\n",
    "import matplotlib.pyplot as plt\n",
    "plt.figure(figsize=(12,4))\n",
    "\n",
    "plt.barh(pop['title'].head(6),pop['popularity'].head(6), align='center',\n",
    "        color='skyblue')\n",
    "plt.gca().invert_yaxis()\n",
    "plt.xlabel(\"Popularity\")\n",
    "plt.title(\"Popular Movies\")"
   ]
  },
  {
   "cell_type": "markdown",
   "metadata": {},
   "source": [
    "### Content Based Filtering\n",
    "In this recommender system the content of the movie (overview, cast, crew, keyword, tagline etc) is used to find its similarity with other movies. Then the movies that are most likely to be similar are recommended."
   ]
  },
  {
   "cell_type": "code",
   "execution_count": 191,
   "metadata": {},
   "outputs": [
    {
     "data": {
      "text/plain": [
       "0    In the 22nd century, a paraplegic Marine is di...\n",
       "1    Captain Barbossa, long believed to be dead, ha...\n",
       "2    A cryptic message from Bond’s past sends him o...\n",
       "3    Following the death of District Attorney Harve...\n",
       "4    John Carter is a war-weary, former military ca...\n",
       "Name: overview, dtype: object"
      ]
     },
     "execution_count": 191,
     "metadata": {},
     "output_type": "execute_result"
    }
   ],
   "source": [
    "df2['overview'].head(5)"
   ]
  },
  {
   "cell_type": "code",
   "execution_count": 192,
   "metadata": {},
   "outputs": [
    {
     "data": {
      "text/plain": [
       "(4803, 20978)"
      ]
     },
     "execution_count": 192,
     "metadata": {},
     "output_type": "execute_result"
    }
   ],
   "source": [
    "#Import TfIdfVectorizer from scikit-learn\n",
    "from sklearn.feature_extraction.text import TfidfVectorizer\n",
    "\n",
    "#Define a TF-IDF Vectorizer Object. Remove all english stop words such as 'the', 'a'\n",
    "tfidf = TfidfVectorizer(stop_words='english')\n",
    "\n",
    "#Replace NaN with an empty string\n",
    "df2['overview'] = df2['overview'].fillna('')\n",
    "\n",
    "#Construct the required TF-IDF matrix by fitting and transforming the data\n",
    "tfidf_matrix = tfidf.fit_transform(df2['overview'])\n",
    "\n",
    "#Output the shape of tfidf_matrix\n",
    "tfidf_matrix.shape"
   ]
  },
  {
   "cell_type": "markdown",
   "metadata": {},
   "source": [
    "We see that over 20,000 different words were used to describe the 4800 movies in our dataset.\n",
    "\n",
    "With this matrix in hand, we can now compute a similarity score. There are several candidates for this; such as the euclidean, the Pearson and the cosine similarity scores. There is no right answer to which score is the best. Different scores work well in different scenarios and it is often a good idea to experiment with different metrics.\n",
    "\n",
    "We will be using the cosine similarity to calculate a numeric quantity that denotes the similarity between two movies. We use the cosine similarity score since it is independent of magnitude and is relatively easy and fast to calculate. Mathematically, it is defined as follows:\n",
    "\n",
    "Since we have used the TF-IDF vectorizer, calculating the dot product will directly give us the cosine similarity score. Therefore, we will use sklearn's linear_kernel() instead of cosine_similarities() since it is faster."
   ]
  },
  {
   "cell_type": "code",
   "execution_count": 193,
   "metadata": {},
   "outputs": [],
   "source": [
    "# Import linear_kernel\n",
    "from sklearn.metrics.pairwise import linear_kernel\n",
    "\n",
    "# Compute the cosine similarity matrix\n",
    "cosine_sim = linear_kernel(tfidf_matrix, tfidf_matrix)"
   ]
  },
  {
   "cell_type": "markdown",
   "metadata": {},
   "source": [
    "We are going to define a function that takes in a movie title as an input and outputs a list of the 10 most similar movies. Firstly, for this, we need a reverse mapping of movie titles and DataFrame indices. In other words, we need a mechanism to identify the index of a movie in our metadata DataFrame, given its title."
   ]
  },
  {
   "cell_type": "code",
   "execution_count": 194,
   "metadata": {},
   "outputs": [],
   "source": [
    "#Construct a reverse map of indices and movie titles\n",
    "indices = pd.Series(df2.index, index=df2['title']).drop_duplicates()"
   ]
  },
  {
   "cell_type": "markdown",
   "metadata": {},
   "source": [
    "We are now in a good position to define our recommendation function. These are the following steps we'll follow :-\n",
    "\n",
    "- Get the index of the movie given its title.\n",
    "- Get the list of cosine similarity scores for that particular movie with all movies. Convert it into a list of tuples - where the first element is its position and the second is the similarity score.\n",
    "- Sort the aforementioned list of tuples based on the similarity scores; that is, the second element.\n",
    "- Get the top 10 elements of this list. Ignore the first element as it refers to self (the movie most similar to a   particular movie is the movie itself).\n",
    "- Return the titles corresponding to the indices of the top elements."
   ]
  },
  {
   "cell_type": "code",
   "execution_count": 220,
   "metadata": {},
   "outputs": [],
   "source": [
    "# Function that takes in movie title as input and outputs most similar movies\n",
    "def get_recommendations(title, cosine_sim=cosine_sim):\n",
    "    # Get the index of the movie that matches the title\n",
    "    idx = indices[title]\n",
    "    #print(list((cosine_sim[idx])))\n",
    "    # Get the pairwsie similarity scores of all movies with that movie\n",
    "    sim_scores = list(enumerate(cosine_sim[idx]))\n",
    "    \n",
    "    # Sort the movies based on the similarity scores\n",
    "    sim_scores = sorted(sim_scores, key=lambda x: x[1], reverse=True)\n",
    "\n",
    "    # Get the scores of the 10 most similar movies\n",
    "    sim_scores = sim_scores[1:11]\n",
    "    print(sim_scores)\n",
    "    # Get the movie indices\n",
    "    movie_indices = [i[0] for i in sim_scores]\n",
    "\n",
    "    # Return the top 10 most similar movies\n",
    "    return df2['title'].iloc[movie_indices]"
   ]
  },
  {
   "cell_type": "code",
   "execution_count": 221,
   "metadata": {},
   "outputs": [
    {
     "name": "stdout",
     "output_type": "stream",
     "text": [
      "[(65, 0.30151176591665485), (299, 0.29857045255396825), (428, 0.2878505467001694), (1359, 0.264460923827995), (3854, 0.18545003006561456), (119, 0.16799626199850706), (2507, 0.16682891043358278), (9, 0.1337400906655523), (1181, 0.13219702138476813), (210, 0.13045537014449818)]\n"
     ]
    },
    {
     "data": {
      "text/plain": [
       "65                              The Dark Knight\n",
       "299                              Batman Forever\n",
       "428                              Batman Returns\n",
       "1359                                     Batman\n",
       "3854    Batman: The Dark Knight Returns, Part 2\n",
       "119                               Batman Begins\n",
       "2507                                  Slow Burn\n",
       "9            Batman v Superman: Dawn of Justice\n",
       "1181                                        JFK\n",
       "210                              Batman & Robin\n",
       "Name: title, dtype: object"
      ]
     },
     "execution_count": 221,
     "metadata": {},
     "output_type": "execute_result"
    }
   ],
   "source": [
    "get_recommendations('The Dark Knight Rises')"
   ]
  },
  {
   "cell_type": "code",
   "execution_count": 207,
   "metadata": {},
   "outputs": [
    {
     "name": "stdout",
     "output_type": "stream",
     "text": [
      "[(0, 0.0), (1, 0.0), (2, 0.0), (3, 0.021121093874993183), (4, 0.045257098111540495), (5, 0.0), (6, 0.0), (7, 0.1463743318256992), (8, 0.04587279492609739), (9, 0.026695558676665405), (10, 0.0), (11, 0.0), (12, 0.0), (13, 0.0), (14, 0.012609172699849567), (15, 0.0), (16, 1.0000000000000002), (17, 0.0359270707479574), (18, 0.0339483652372229), (19, 0.0), (20, 0.010910492909093211), (21, 0.0), (22, 0.0), (23, 0.0), (24, 0.0), (25, 0.0), (26, 0.009134986548049596), (27, 0.02701086070020013), (28, 0.00926209565685457), (29, 0.05682904531211514), (30, 0.0), (31, 0.013090335324022914), (32, 0.014927181428737543), (33, 0.0), (34, 0.0), (35, 0.0), (36, 0.0), (37, 0.0), (38, 0.034003492033737405), (39, 0.05136359949438984), (40, 0.03723751875020516), (41, 0.05065831567389778), (42, 0.0), (43, 0.0), (44, 0.0), (45, 0.013820188413462643), (46, 0.0), (47, 0.014459276485068022), (48, 0.007394856398472883), (49, 0.03605561364406458), (50, 0.009545531280933892), (51, 0.011704492462614577), (52, 0.0), (53, 0.0), (54, 0.016246223594910104), (55, 0.0), (56, 0.039891366903145285), (57, 0.0), (58, 0.0), (59, 0.02630598562080359), (60, 0.0), (61, 0.0), (62, 0.0), (63, 0.0), (64, 0.027658507789701043), (65, 0.01764972725759218), (66, 0.03801727686688619), (67, 0.0), (68, 0.0), (69, 0.006935873106202471), (70, 0.014457976667328943), (71, 0.008217187126138777), (72, 0.015857239744113398), (73, 0.0), (74, 0.0), (75, 0.0073967310903094935), (76, 0.02526968046053859), (77, 0.0), (78, 0.0), (79, 0.007636279989617369), (80, 0.0), (81, 0.024001122100429154), (82, 0.0), (83, 0.0), (84, 0.0), (85, 0.06800495683427248), (86, 0.008048392640960213), (87, 0.0), (88, 0.019175873039948138), (89, 0.0), (90, 0.0), (91, 0.05153248000087284), (92, 0.0), (93, 0.0), (94, 0.01516803066022428), (95, 0.0), (96, 0.0), (97, 0.058807894301780496), (98, 0.0), (99, 0.0), (100, 0.0), (101, 0.03350218576297362), (102, 0.0), (103, 0.0), (104, 0.0), (105, 0.0), (106, 0.01258688239915594), (107, 0.03340442853950811), (108, 0.0), (109, 0.010647021061223534), (110, 0.0), (111, 0.0), (112, 0.03435854020323928), (113, 0.0), (114, 0.0), (115, 0.0075412264326218505), (116, 0.008057321044074228), (117, 0.028059990400191488), (118, 0.01204017571160485), (119, 0.0), (120, 0.0), (121, 0.0), (122, 0.0), (123, 0.0), (124, 0.0), (125, 0.0), (126, 0.026709597807935043), (127, 0.007207771507470528), (128, 0.022095238850201735), (129, 0.007523563146498828), (130, 0.0), (131, 0.02925696064026596), (132, 0.0), (133, 0.06555137415486373), (134, 0.061739373327349065), (135, 0.0), (136, 0.0), (137, 0.0), (138, 0.0), (139, 0.017046358282780245), (140, 0.0), (141, 0.0), (142, 0.0), (143, 0.03610817164487787), (144, 0.0), (145, 0.007963260370154409), (146, 0.015513946062600332), (147, 0.0), (148, 0.0), (149, 0.02518616852220521), (150, 0.02251323617400129), (151, 0.0), (152, 0.0), (153, 0.07307952415294955), (154, 0.052262765786829396), (155, 0.0), (156, 0.010577728869451285), (157, 0.0), (158, 0.0), (159, 0.0), (160, 0.006222697550946912), (161, 0.0), (162, 0.01236182237774604), (163, 0.0), (164, 0.0), (165, 0.0), (166, 0.05387315974326362), (167, 0.0), (168, 0.0), (169, 0.04541012894408303), (170, 0.0429393428010226), (171, 0.07405232498828608), (172, 0.0), (173, 0.007563982973968355), (174, 0.012680475821707796), (175, 0.0), (176, 0.0), (177, 0.0), (178, 0.011787466073038143), (179, 0.011130532366105932), (180, 0.0), (181, 0.0), (182, 0.034430308568369775), (183, 0.0), (184, 0.00908768638821469), (185, 0.0), (186, 0.0), (187, 0.0), (188, 0.0), (189, 0.0), (190, 0.010254671845497712), (191, 0.0), (192, 0.007998024099925427), (193, 0.0), (194, 0.0), (195, 0.04050892946207154), (196, 0.0), (197, 0.0), (198, 0.021417801171568072), (199, 0.0), (200, 0.0), (201, 0.0), (202, 0.0), (203, 0.01315637701021743), (204, 0.029766402751046615), (205, 0.0), (206, 0.0), (207, 0.012993784768894436), (208, 0.0), (209, 0.0), (210, 0.0), (211, 0.0), (212, 0.038691348865255), (213, 0.024687573170660514), (214, 0.0), (215, 0.07323289007726135), (216, 0.014681647928989773), (217, 0.0), (218, 0.0), (219, 0.0), (220, 0.022140748558789128), (221, 0.0), (222, 0.0), (223, 0.012057317336175129), (224, 0.0), (225, 0.015809633972133467), (226, 0.032035067762133634), (227, 0.07894631397382865), (228, 0.018067588902810936), (229, 0.0), (230, 0.022845004802974633), (231, 0.0169993059228881), (232, 0.0), (233, 0.0), (234, 0.017827346234572404), (235, 0.0134752039624717), (236, 0.009311048139427902), (237, 0.0), (238, 0.0), (239, 0.023402683213397245), (240, 0.0), (241, 0.00797132641747758), (242, 0.05140344108741385), (243, 0.0), (244, 0.0), (245, 0.07770305267908868), (246, 0.0), (247, 0.0), (248, 0.0), (249, 0.04652546549359327), (250, 0.0), (251, 0.0), (252, 0.0), (253, 0.0), (254, 0.007828319103197909), (255, 0.0), (256, 0.08452641807086986), (257, 0.0), (258, 0.004340734712654757), (259, 0.0), (260, 0.0), (261, 0.03296751637104146), (262, 0.0), (263, 0.05570591599430765), (264, 0.0), (265, 0.0), (266, 0.0), (267, 0.0), (268, 0.0), (269, 0.0), (270, 0.011305329603199427), (271, 0.0), (272, 0.04955355788207723), (273, 0.0), (274, 0.007571570567050542), (275, 0.0), (276, 0.0), (277, 0.006087650259318394), (278, 0.020061103214178443), (279, 0.0), (280, 0.022245460458705863), (281, 0.0), (282, 0.0), (283, 0.0), (284, 0.0), (285, 0.0), (286, 0.0), (287, 0.0), (288, 0.01215739650506517), (289, 0.0), (290, 0.07794155330536612), (291, 0.0), (292, 0.0), (293, 0.0), (294, 0.028746856876949424), (295, 0.0), (296, 0.008196869984543829), (297, 0.0), (298, 0.009989034457807617), (299, 0.0), (300, 0.019718865580619353), (301, 0.033966951048994894), (302, 0.0), (303, 0.0), (304, 0.0056284851420341075), (305, 0.0), (306, 0.009094110842349245), (307, 0.014900156939751809), (308, 0.0), (309, 0.013450180680138162), (310, 0.02199517910289924), (311, 0.011395354734582157), (312, 0.03835608862631768), (313, 0.04630102290383439), (314, 0.0), (315, 0.0), (316, 0.0), (317, 0.06454657711574367), (318, 0.0), (319, 0.0), (320, 0.01642501469260651), (321, 0.0), (322, 0.0), (323, 0.0), (324, 0.007100221926569926), (325, 0.01143601417235144), (326, 0.014303299259874707), (327, 0.0), (328, 0.0), (329, 0.0), (330, 0.0), (331, 0.0), (332, 0.0), (333, 0.010403312923988675), (334, 0.02706640650734966), (335, 0.0), (336, 0.011703013949891738), (337, 0.010844038041945179), (338, 0.0), (339, 0.0), (340, 0.0), (341, 0.009231036100179706), (342, 0.0), (343, 0.032461321103676485), (344, 0.03423173554472009), (345, 0.008822092847791278), (346, 0.0), (347, 0.029693659838782898), (348, 0.0), (349, 0.0), (350, 0.0), (351, 0.0), (352, 0.0), (353, 0.015340179270737551), (354, 0.0), (355, 0.0101157354715617), (356, 0.0), (357, 0.0), (358, 0.010203040763092048), (359, 0.0), (360, 0.060164904227445), (361, 0.0), (362, 0.0), (363, 0.03164553502252413), (364, 0.0), (365, 0.0), (366, 0.016393538940594213), (367, 0.0), (368, 0.0), (369, 0.0), (370, 0.07699177613999039), (371, 0.02129746946459861), (372, 0.0), (373, 0.0), (374, 0.0), (375, 0.012154035741296402), (376, 0.031008928666489043), (377, 0.0), (378, 0.05087405317703772), (379, 0.0), (380, 0.0), (381, 0.0), (382, 0.02406289045707451), (383, 0.013565726894689415), (384, 0.026587739537637156), (385, 0.013427279498606158), (386, 0.0), (387, 0.013097681220929133), (388, 0.0), (389, 0.0), (390, 0.011203955049481233), (391, 0.0528201793796072), (392, 0.0), (393, 0.0), (394, 0.0), (395, 0.01276370679275551), (396, 0.02923048194387541), (397, 0.0), (398, 0.052332844486838365), (399, 0.011690969973917864), (400, 0.008841867509482421), (401, 0.049768845684878514), (402, 0.0), (403, 0.021025990737400295), (404, 0.012785197991049648), (405, 0.010614178841623998), (406, 0.03352730303055198), (407, 0.012923883650169658), (408, 0.045702169780592314), (409, 0.007642024493292735), (410, 0.0), (411, 0.0), (412, 0.017788494982612604), (413, 0.02550135743127679), (414, 0.0), (415, 0.0), (416, 0.014638815861875465), (417, 0.0), (418, 0.0), (419, 0.0), (420, 0.0), (421, 0.0), (422, 0.015931113496176114), (423, 0.0), (424, 0.0), (425, 0.01622709403302125), (426, 0.005402887336282506), (427, 0.033449321088265524), (428, 0.0), (429, 0.0), (430, 0.0), (431, 0.0), (432, 0.00799648148044435), (433, 0.0654833351536184), (434, 0.013036167192413607), (435, 0.0), (436, 0.0), (437, 0.0), (438, 0.0), (439, 0.010777836254837803), (440, 0.0072387170499866125), (441, 0.009782191968010702), (442, 0.0), (443, 0.0), (444, 0.010979829656054913), (445, 0.0), (446, 0.0), (447, 0.0), (448, 0.0), (449, 0.0), (450, 0.0), (451, 0.0), (452, 0.0), (453, 0.014635559548762415), (454, 0.0), (455, 0.0), (456, 0.0725284841887594), (457, 0.01565401404516342), (458, 0.012798182578080507), (459, 0.020758693091428766), (460, 0.0), (461, 0.0), (462, 0.027322351633558242), (463, 0.0), (464, 0.0), (465, 0.0), (466, 0.01652438128807109), (467, 0.0), (468, 0.0), (469, 0.0), (470, 0.0), (471, 0.0), (472, 0.0), (473, 0.0), (474, 0.0), (475, 0.0), (476, 0.012153086870295572), (477, 0.0), (478, 0.0), (479, 0.005336181251698369), (480, 0.0), (481, 0.01805461954535467), (482, 0.05738375401984041), (483, 0.0), (484, 0.0), (485, 0.0), (486, 0.027797065566299933), (487, 0.0), (488, 0.0), (489, 0.06802536286064492), (490, 0.0), (491, 0.009301916211833423), (492, 0.019591798403403395), (493, 0.011648595969797013), (494, 0.0), (495, 0.0), (496, 0.012347872565496716), (497, 0.0), (498, 0.010680706075626541), (499, 0.0), (500, 0.0), (501, 0.009699618547961345), (502, 0.0), (503, 0.013792652288986003), (504, 0.0), (505, 0.015295849823258607), (506, 0.0), (507, 0.0), (508, 0.0), (509, 0.0), (510, 0.010356090865584379), (511, 0.02177398364368437), (512, 0.0), (513, 0.0), (514, 0.03350434929710358), (515, 0.0), (516, 0.0), (517, 0.0), (518, 0.021719705263688837), (519, 0.07322007162070565), (520, 0.0), (521, 0.0), (522, 0.0), (523, 0.01831706069783787), (524, 0.0), (525, 0.0), (526, 0.0), (527, 0.0), (528, 0.020820827250936053), (529, 0.0), (530, 0.0), (531, 0.025718312109335378), (532, 0.008544108115209925), (533, 0.0), (534, 0.0), (535, 0.0), (536, 0.0), (537, 0.0), (538, 0.0), (539, 0.016539668810736072), (540, 0.0), (541, 0.0), (542, 0.024656784536611177), (543, 0.0065873834184027435), (544, 0.0), (545, 0.0), (546, 0.011401691552556867), (547, 0.0), (548, 0.0), (549, 0.015400509054166178), (550, 0.0), (551, 0.03039095689471872), (552, 0.0), (553, 0.030799757466706833), (554, 0.0), (555, 0.0), (556, 0.0), (557, 0.0), (558, 0.0), (559, 0.0), (560, 0.008961215054472327), (561, 0.0), (562, 0.0), (563, 0.016664204120837817), (564, 0.021295526654528565), (565, 0.0), (566, 0.009748614858678319), (567, 0.0), (568, 0.009156540681223315), (569, 0.02440253412758956), (570, 0.0), (571, 0.024380927555497738), (572, 0.020091497583265384), (573, 0.02185387143185853), (574, 0.012630389561612039), (575, 0.016098769521936382), (576, 0.009972119291529188), (577, 0.019371310886632312), (578, 0.01407446213643962), (579, 0.0), (580, 0.07538209564034086), (581, 0.0), (582, 0.040909610269429804), (583, 0.018732780462430237), (584, 0.0), (585, 0.009561563784687768), (586, 0.030352499739698006), (587, 0.05640018983386096), (588, 0.0940835912253675), (589, 0.0), (590, 0.0), (591, 0.010310512357761942), (592, 0.007225264397073209), (593, 0.07133687429131363), (594, 0.07125121582337388), (595, 0.05908211576523491), (596, 0.014479079356696036), (597, 0.013412389532162674), (598, 0.0), (599, 0.014008490330329009), (600, 0.04060527720192985), (601, 0.013588499651902798), (602, 0.07883880001915194), (603, 0.0), (604, 0.0), (605, 0.0), (606, 0.0), (607, 0.023756374790819948), (608, 0.03022935975047686), (609, 0.05669840065355337), (610, 0.0), (611, 0.021711234226149886), (612, 0.009890190055379269), (613, 0.0), (614, 0.0), (615, 0.0), (616, 0.0), (617, 0.0), (618, 0.0), (619, 0.0), (620, 0.0), (621, 0.05404421649968363), (622, 0.027482760528360413), (623, 0.0), (624, 0.0), (625, 0.0), (626, 0.0), (627, 0.0), (628, 0.030713450002735787), (629, 0.0), (630, 0.0598441357985663), (631, 0.0), (632, 0.0), (633, 0.0), (634, 0.0), (635, 0.0), (636, 0.03488904205753176), (637, 0.0), (638, 0.0), (639, 0.0), (640, 0.0), (641, 0.0), (642, 0.014258784908632997), (643, 0.0361945829013855), (644, 0.0), (645, 0.0), (646, 0.0), (647, 0.02533478262622718), (648, 0.0), (649, 0.0), (650, 0.0), (651, 0.0), (652, 0.0), (653, 0.0), (654, 0.0), (655, 0.0), (656, 0.006835700983238055), (657, 0.04877826811593965), (658, 0.02589020031256391), (659, 0.016136338907836417), (660, 0.0), (661, 0.0), (662, 0.0), (663, 0.04042152998400844), (664, 0.0), (665, 0.0), (666, 0.014975999285190432), (667, 0.0), (668, 0.0), (669, 0.0), (670, 0.0), (671, 0.007339761027417304), (672, 0.008880936359628283), (673, 0.05132973506517948), (674, 0.0), (675, 0.03652079795760495), (676, 0.0), (677, 0.0), (678, 0.0), (679, 0.01569947813910307), (680, 0.00863773456499102), (681, 0.008861770814517838), (682, 0.016492435169743885), (683, 0.0), (684, 0.0), (685, 0.02778578434503006), (686, 0.0), (687, 0.008186594490101184), (688, 0.0), (689, 0.0), (690, 0.0), (691, 0.05988703084305193), (692, 0.00894320905742471), (693, 0.0), (694, 0.05858290679813476), (695, 0.0), (696, 0.0), (697, 0.008355945517650844), (698, 0.008471309407091935), (699, 0.0), (700, 0.0), (701, 0.0), (702, 0.014397605817013619), (703, 0.0), (704, 0.0), (705, 0.0), (706, 0.02787356206524292), (707, 0.0), (708, 0.018044191269002984), (709, 0.006862182398913303), (710, 0.00998344452131287), (711, 0.06541241157211722), (712, 0.008423177457093575), (713, 0.0), (714, 0.0), (715, 0.00832100189629281), (716, 0.0), (717, 0.0), (718, 0.009659466170481919), (719, 0.0), (720, 0.0), (721, 0.0), (722, 0.04274164364841795), (723, 0.04492521181630714), (724, 0.06691595323685016), (725, 0.020030270173016094), (726, 0.0), (727, 0.0), (728, 0.00815700925889239), (729, 0.0), (730, 0.029694005280164942), (731, 0.0), (732, 0.023460243951923743), (733, 0.019983834121817805), (734, 0.0), (735, 0.0), (736, 0.0), (737, 0.0), (738, 0.0), (739, 0.014420217461878273), (740, 0.015234395858337904), (741, 0.0), (742, 0.0), (743, 0.022759021291072493), (744, 0.0), (745, 0.0), (746, 0.04368702512798328), (747, 0.0063479309208040804), (748, 0.014808437876647217), (749, 0.020318903786765374), (750, 0.0), (751, 0.017209408560226302), (752, 0.0), (753, 0.0), (754, 0.009530790172805316), (755, 0.018115135860323206), (756, 0.0), (757, 0.0), (758, 0.0), (759, 0.0), (760, 0.04366658867435598), (761, 0.0), (762, 0.0), (763, 0.0), (764, 0.00877185490908142), (765, 0.0), (766, 0.0), (767, 0.0), (768, 0.007222325520623298), (769, 0.011646531829699455), (770, 0.0), (771, 0.0), (772, 0.0), (773, 0.012992637818746116), (774, 0.0), (775, 0.02928382229583076), (776, 0.0), (777, 0.0), (778, 0.0), (779, 0.0), (780, 0.0), (781, 0.0), (782, 0.0), (783, 0.0), (784, 0.0), (785, 0.03472941062879437), (786, 0.02187140990577585), (787, 0.0441028755103392), (788, 0.0), (789, 0.01743425816550142), (790, 0.010446214836425669), (791, 0.0), (792, 0.0), (793, 0.0), (794, 0.0), (795, 0.0), (796, 0.0), (797, 0.0), (798, 0.0), (799, 0.05292924928786978), (800, 0.014444862975325759), (801, 0.0), (802, 0.007381819364136915), (803, 0.0), (804, 0.0), (805, 0.010052360227612057), (806, 0.0), (807, 0.0), (808, 0.0), (809, 0.0), (810, 0.014523857065809253), (811, 0.0), (812, 0.009307500420188254), (813, 0.008902675956001008), (814, 0.0), (815, 0.017703999270827546), (816, 0.0), (817, 0.0), (818, 0.0), (819, 0.0), (820, 0.0), (821, 0.007596067058722657), (822, 0.0), (823, 0.0), (824, 0.016545461594808644), (825, 0.0), (826, 0.04249454408295991), (827, 0.04412130948721759), (828, 0.0), (829, 0.01227595826451319), (830, 0.0), (831, 0.0), (832, 0.0), (833, 0.0), (834, 0.01568972874648076), (835, 0.00845965318342999), (836, 0.009548619405954388), (837, 0.015257133884899953), (838, 0.0), (839, 0.0), (840, 0.0), (841, 0.0), (842, 0.014257752397921906), (843, 0.010302345402033074), (844, 0.0), (845, 0.0), (846, 0.0), (847, 0.0282181187133295), (848, 0.010403107010513463), (849, 0.0), (850, 0.0), (851, 0.02032582250283229), (852, 0.015902532130295816), (853, 0.0), (854, 0.017985177604440482), (855, 0.0), (856, 0.0), (857, 0.014117003216586752), (858, 0.01116293634647483), (859, 0.012338555691518134), (860, 0.0), (861, 0.0), (862, 0.0), (863, 0.007992030305439156), (864, 0.0), (865, 0.0), (866, 0.04793534769737217), (867, 0.0), (868, 0.0), (869, 0.0), (870, 0.008158476508779173), (871, 0.012665178786990305), (872, 0.010628819564202878), (873, 0.0), (874, 0.0), (875, 0.026764618797590803), (876, 0.0), (877, 0.0), (878, 0.0), (879, 0.0), (880, 0.0), (881, 0.012899024058956906), (882, 0.009642494370012104), (883, 0.0), (884, 0.01830335997468494), (885, 0.0), (886, 0.0), (887, 0.0), (888, 0.0), (889, 0.03380548383590739), (890, 0.0), (891, 0.0), (892, 0.0), (893, 0.0), (894, 0.008695713887099981), (895, 0.0), (896, 0.0), (897, 0.0), (898, 0.011348133421310531), (899, 0.0), (900, 0.0), (901, 0.0), (902, 0.0), (903, 0.0), (904, 0.009709705301600953), (905, 0.0), (906, 0.0), (907, 0.02240785086417689), (908, 0.0), (909, 0.0), (910, 0.0), (911, 0.011924308695632883), (912, 0.0), (913, 0.0), (914, 0.05945391541876431), (915, 0.0), (916, 0.0), (917, 0.0), (918, 0.0), (919, 0.0), (920, 0.0), (921, 0.02680676038440984), (922, 0.0), (923, 0.0), (924, 0.0), (925, 0.00605730683789549), (926, 0.03296878836853545), (927, 0.0), (928, 0.018692005451469262), (929, 0.013676355246081025), (930, 0.0), (931, 0.0), (932, 0.04691272894560502), (933, 0.0), (934, 0.0), (935, 0.0), (936, 0.0), (937, 0.0), (938, 0.0), (939, 0.012817144585178582), (940, 0.0), (941, 0.07347667459943623), (942, 0.0), (943, 0.04656141066671354), (944, 0.0), (945, 0.02452176305360241), (946, 0.02408622767689446), (947, 0.01104323129633021), (948, 0.011520872773912715), (949, 0.0), (950, 0.018413330117427858), (951, 0.0), (952, 0.0), (953, 0.0), (954, 0.0), (955, 0.0), (956, 0.0), (957, 0.0), (958, 0.0), (959, 0.0), (960, 0.0), (961, 0.015314437724346508), (962, 0.0), (963, 0.00754642371763591), (964, 0.0), (965, 0.0), (966, 0.0), (967, 0.0), (968, 0.0), (969, 0.0070668193884008456), (970, 0.0), (971, 0.0), (972, 0.0), (973, 0.0), (974, 0.0), (975, 0.05313069841144512), (976, 0.0), (977, 0.014999033319841348), (978, 0.0), (979, 0.008289526995553154), (980, 0.0), (981, 0.0), (982, 0.0), (983, 0.0), (984, 0.0), (985, 0.008535621488983229), (986, 0.0), (987, 0.0), (988, 0.012874483661421491), (989, 0.005808283039155513), (990, 0.0), (991, 0.0), (992, 0.0), (993, 0.04853888267912106), (994, 0.0), (995, 0.0), (996, 0.0), (997, 0.0), (998, 0.022597525923873034), (999, 0.0), (1000, 0.0), (1001, 0.0), (1002, 0.0), (1003, 0.0), (1004, 0.0), (1005, 0.0), (1006, 0.015400312756194873), (1007, 0.0), (1008, 0.016199224000870305), (1009, 0.0), (1010, 0.0), (1011, 0.0), (1012, 0.0), (1013, 0.02214729698498086), (1014, 0.0), (1015, 0.0), (1016, 0.0), (1017, 0.0), (1018, 0.0), (1019, 0.0), (1020, 0.012121462754044323), (1021, 0.0), (1022, 0.011247712361246104), (1023, 0.0), (1024, 0.016295912693032027), (1025, 0.0), (1026, 0.0), (1027, 0.0), (1028, 0.0), (1029, 0.03938780222792342), (1030, 0.0), (1031, 0.0), (1032, 0.030059193370537442), (1033, 0.0), (1034, 0.0), (1035, 0.0), (1036, 0.01690591921221102), (1037, 0.0), (1038, 0.0), (1039, 0.0), (1040, 0.0), (1041, 0.0), (1042, 0.0), (1043, 0.02179958988353213), (1044, 0.014432405637274161), (1045, 0.0), (1046, 0.0), (1047, 0.0), (1048, 0.027481866410064153), (1049, 0.0), (1050, 0.0073046450455445605), (1051, 0.0), (1052, 0.0), (1053, 0.0), (1054, 0.0), (1055, 0.03315492206912732), (1056, 0.0), (1057, 0.019788051476599827), (1058, 0.029352025822593428), (1059, 0.01320300140987755), (1060, 0.0), (1061, 0.0), (1062, 0.0), (1063, 0.0), (1064, 0.0), (1065, 0.0), (1066, 0.0), (1067, 0.018337255371431927), (1068, 0.0), (1069, 0.016962031524295994), (1070, 0.0), (1071, 0.0), (1072, 0.0), (1073, 0.0), (1074, 0.018969354509297962), (1075, 0.0), (1076, 0.0), (1077, 0.0), (1078, 0.0), (1079, 0.010801684287251739), (1080, 0.0), (1081, 0.0), (1082, 0.0), (1083, 0.0), (1084, 0.0), (1085, 0.011660997604522449), (1086, 0.006089481830616596), (1087, 0.0), (1088, 0.011207750623762825), (1089, 0.0), (1090, 0.011915431710294298), (1091, 0.05955368932070406), (1092, 0.04715808971152782), (1093, 0.0), (1094, 0.011244126179766072), (1095, 0.0), (1096, 0.0), (1097, 0.0), (1098, 0.0), (1099, 0.0), (1100, 0.036349461483263665), (1101, 0.0129104350634051), (1102, 0.0), (1103, 0.026685333106243367), (1104, 0.011574805465059288), (1105, 0.028398509272019), (1106, 0.0), (1107, 0.01805798079032335), (1108, 0.0), (1109, 0.0), (1110, 0.03719958732263867), (1111, 0.0), (1112, 0.0), (1113, 0.0), (1114, 0.0), (1115, 0.0), (1116, 0.0), (1117, 0.009096363116500418), (1118, 0.0), (1119, 0.0), (1120, 0.02633397870407194), (1121, 0.0), (1122, 0.008371181353046053), (1123, 0.013568833638925809), (1124, 0.0), (1125, 0.0), (1126, 0.04965803639910291), (1127, 0.041487654187557024), (1128, 0.0), (1129, 0.009372984517809744), (1130, 0.0), (1131, 0.0), (1132, 0.0), (1133, 0.0), (1134, 0.0), (1135, 0.00929306692978119), (1136, 0.0), (1137, 0.0), (1138, 0.0), (1139, 0.0), (1140, 0.0), (1141, 0.0), (1142, 0.008492933748022949), (1143, 0.0), (1144, 0.0), (1145, 0.009749957707131213), (1146, 0.033217992862772834), (1147, 0.0), (1148, 0.0), (1149, 0.010672730929540433), (1150, 0.0), (1151, 0.022062973669160046), (1152, 0.00979593883206148), (1153, 0.0), (1154, 0.009058370619038978), (1155, 0.013548047278684344), (1156, 0.0), (1157, 0.03411359825164464), (1158, 0.033324199187437314), (1159, 0.025909131869645483), (1160, 0.0), (1161, 0.08356446629953834), (1162, 0.0), (1163, 0.030401972223410914), (1164, 0.02066321861154766), (1165, 0.009924820275521974), (1166, 0.0), (1167, 0.0), (1168, 0.0), (1169, 0.0), (1170, 0.036169476290027036), (1171, 0.0), (1172, 0.0), (1173, 0.0), (1174, 0.0), (1175, 0.0), (1176, 0.0), (1177, 0.0), (1178, 0.0), (1179, 0.0), (1180, 0.0), (1181, 0.0), (1182, 0.0), (1183, 0.017515175601779714), (1184, 0.038193289083388995), (1185, 0.021511661814312508), (1186, 0.0), (1187, 0.0), (1188, 0.024136932252422708), (1189, 0.0), (1190, 0.0), (1191, 0.0), (1192, 0.03793990068267188), (1193, 0.0), (1194, 0.0), (1195, 0.0), (1196, 0.0), (1197, 0.08356998060182787), (1198, 0.018103179397871996), (1199, 0.008873191000328792), (1200, 0.014087345750865428), (1201, 0.0), (1202, 0.0), (1203, 0.014188132179297645), (1204, 0.021838304688911788), (1205, 0.01828279561871331), (1206, 0.0), (1207, 0.0), (1208, 0.020125326224633328), (1209, 0.0), (1210, 0.0), (1211, 0.0), (1212, 0.0), (1213, 0.0), (1214, 0.0), (1215, 0.02284187484148282), (1216, 0.0), (1217, 0.00710341177098776), (1218, 0.0), (1219, 0.0), (1220, 0.0), (1221, 0.0), (1222, 0.006132368966924098), (1223, 0.0), (1224, 0.0), (1225, 0.0), (1226, 0.01022000960205563), (1227, 0.009244502734753832), (1228, 0.0), (1229, 0.024609777061170686), (1230, 0.035528218099660815), (1231, 0.0), (1232, 0.0), (1233, 0.0), (1234, 0.07696999194609744), (1235, 0.0), (1236, 0.0), (1237, 0.0), (1238, 0.0), (1239, 0.013094281744765766), (1240, 0.0), (1241, 0.0), (1242, 0.00993942678510121), (1243, 0.0), (1244, 0.0), (1245, 0.0), (1246, 0.0), (1247, 0.0), (1248, 0.0), (1249, 0.0), (1250, 0.0), (1251, 0.0), (1252, 0.0), (1253, 0.0), (1254, 0.0), (1255, 0.021875994056278845), (1256, 0.03147231947085439), (1257, 0.0), (1258, 0.0), (1259, 0.0), (1260, 0.0), (1261, 0.0), (1262, 0.0), (1263, 0.007275224028355473), (1264, 0.0), (1265, 0.015680397506595584), (1266, 0.0), (1267, 0.0), (1268, 0.0), (1269, 0.03199833033669015), (1270, 0.012156559426361058), (1271, 0.0), (1272, 0.0), (1273, 0.0), (1274, 0.0), (1275, 0.03332407214522432), (1276, 0.0), (1277, 0.0), (1278, 0.0), (1279, 0.0), (1280, 0.0), (1281, 0.0), (1282, 0.0), (1283, 0.0), (1284, 0.0), (1285, 0.0), (1286, 0.0861887692660884), (1287, 0.0), (1288, 0.05148563123627416), (1289, 0.0), (1290, 0.0), (1291, 0.0), (1292, 0.03929257588970965), (1293, 0.0), (1294, 0.0), (1295, 0.0), (1296, 0.022977424838314546), (1297, 0.0), (1298, 0.0), (1299, 0.01008118975694901), (1300, 0.03132640333741918), (1301, 0.021024408809098883), (1302, 0.007765561103856657), (1303, 0.0), (1304, 0.0), (1305, 0.0), (1306, 0.010157276758558636), (1307, 0.0), (1308, 0.024577686304610973), (1309, 0.014768505154529214), (1310, 0.054323486315097654), (1311, 0.0), (1312, 0.021752598827932616), (1313, 0.04178608354675706), (1314, 0.009032079153568956), (1315, 0.03835331384051595), (1316, 0.0), (1317, 0.0), (1318, 0.0), (1319, 0.0), (1320, 0.0), (1321, 0.0), (1322, 0.006819589677135807), (1323, 0.023173381599504547), (1324, 0.0), (1325, 0.0), (1326, 0.011656970890036584), (1327, 0.011737179315524437), (1328, 0.028213117269297112), (1329, 0.0), (1330, 0.0), (1331, 0.0), (1332, 0.0), (1333, 0.0), (1334, 0.0), (1335, 0.04815518431760336), (1336, 0.0), (1337, 0.0), (1338, 0.012929224607669315), (1339, 0.0), (1340, 0.0), (1341, 0.008706924184323287), (1342, 0.0), (1343, 0.0), (1344, 0.0), (1345, 0.021564180018056045), (1346, 0.020242784374378462), (1347, 0.0), (1348, 0.0), (1349, 0.010617256243278101), (1350, 0.0), (1351, 0.0), (1352, 0.0), (1353, 0.0), (1354, 0.0), (1355, 0.0), (1356, 0.0), (1357, 0.0), (1358, 0.00729941691088571), (1359, 0.05846778293799766), (1360, 0.0), (1361, 0.0), (1362, 0.0), (1363, 0.0), (1364, 0.02681030464163642), (1365, 0.0), (1366, 0.0), (1367, 0.0), (1368, 0.0), (1369, 0.0), (1370, 0.0), (1371, 0.0), (1372, 0.0), (1373, 0.0127723137768442), (1374, 0.0), (1375, 0.04231267574350863), (1376, 0.0), (1377, 0.0), (1378, 0.00626984002689374), (1379, 0.0), (1380, 0.0), (1381, 0.0), (1382, 0.0), (1383, 0.0), (1384, 0.01945131187088858), (1385, 0.0), (1386, 0.0), (1387, 0.0), (1388, 0.0), (1389, 0.0), (1390, 0.0), (1391, 0.0), (1392, 0.02138225406116382), (1393, 0.016490846883155653), (1394, 0.02023295318793371), (1395, 0.008159303774283014), (1396, 0.01318886370532818), (1397, 0.0), (1398, 0.0), (1399, 0.019484996025247916), (1400, 0.0), (1401, 0.0), (1402, 0.011613152061047802), (1403, 0.023156138747858945), (1404, 0.0), (1405, 0.008931055366114054), (1406, 0.0), (1407, 0.0), (1408, 0.0), (1409, 0.0), (1410, 0.0), (1411, 0.0), (1412, 0.008336287982984211), (1413, 0.012629122857670365), (1414, 0.0), (1415, 0.0), (1416, 0.0), (1417, 0.0), (1418, 0.0), (1419, 0.0), (1420, 0.0), (1421, 0.0), (1422, 0.0), (1423, 0.011133668276400468), (1424, 0.02548473282661718), (1425, 0.0), (1426, 0.05084002793089985), (1427, 0.012159819183576824), (1428, 0.015312725561174112), (1429, 0.0), (1430, 0.0), (1431, 0.0), (1432, 0.0), (1433, 0.0), (1434, 0.0), (1435, 0.0), (1436, 0.0), (1437, 0.0), (1438, 0.0), (1439, 0.0), (1440, 0.02621263729235044), (1441, 0.0), (1442, 0.0), (1443, 0.0), (1444, 0.0), (1445, 0.0), (1446, 0.02145511295891881), (1447, 0.0), (1448, 0.03844090337592342), (1449, 0.0), (1450, 0.006164123907785363), (1451, 0.015534818711190806), (1452, 0.012911785912684055), (1453, 0.01541738830226033), (1454, 0.0), (1455, 0.035252204939238946), (1456, 0.03097613496536517), (1457, 0.03579064305835842), (1458, 0.0), (1459, 0.01978216008807432), (1460, 0.0), (1461, 0.02164338535135259), (1462, 0.0), (1463, 0.0), (1464, 0.0), (1465, 0.010791609144002219), (1466, 0.030435120474924627), (1467, 0.0), (1468, 0.0866431880033664), (1469, 0.0), (1470, 0.0), (1471, 0.016335656099494344), (1472, 0.0), (1473, 0.0), (1474, 0.0), (1475, 0.028113983218929647), (1476, 0.0), (1477, 0.0), (1478, 0.0), (1479, 0.010310080762240945), (1480, 0.024897596195767684), (1481, 0.0), (1482, 0.0), (1483, 0.0), (1484, 0.030617157018428365), (1485, 0.0), (1486, 0.0), (1487, 0.009839114240709733), (1488, 0.0), (1489, 0.0), (1490, 0.0), (1491, 0.006372330054381987), (1492, 0.0), (1493, 0.0), (1494, 0.0), (1495, 0.0), (1496, 0.02222063129683001), (1497, 0.0), (1498, 0.0), (1499, 0.010799491935723247), (1500, 0.0), (1501, 0.012286976601670099), (1502, 0.0), (1503, 0.019722881870893053), (1504, 0.007495398488184759), (1505, 0.013587434514702184), (1506, 0.0), (1507, 0.05584385099966136), (1508, 0.0), (1509, 0.0), (1510, 0.0), (1511, 0.0), (1512, 0.0), (1513, 0.0), (1514, 0.0), (1515, 0.0), (1516, 0.0), (1517, 0.02795481798938959), (1518, 0.0), (1519, 0.0), (1520, 0.0), (1521, 0.0), (1522, 0.0), (1523, 0.007969108542900548), (1524, 0.0), (1525, 0.027039988423556604), (1526, 0.0), (1527, 0.0), (1528, 0.006380554311620876), (1529, 0.0), (1530, 0.008610675394699733), (1531, 0.0), (1532, 0.0), (1533, 0.0), (1534, 0.0), (1535, 0.0), (1536, 0.00914809971654055), (1537, 0.0), (1538, 0.0), (1539, 0.0), (1540, 0.0), (1541, 0.0), (1542, 0.0), (1543, 0.0), (1544, 0.0), (1545, 0.014727485558949744), (1546, 0.0), (1547, 0.0), (1548, 0.010174592846311595), (1549, 0.00901792871759678), (1550, 0.010514943768907277), (1551, 0.0), (1552, 0.0), (1553, 0.030702464443244194), (1554, 0.0), (1555, 0.0), (1556, 0.0), (1557, 0.0), (1558, 0.0), (1559, 0.009635804395657173), (1560, 0.016629683524980943), (1561, 0.0), (1562, 0.0), (1563, 0.0), (1564, 0.0), (1565, 0.0), (1566, 0.0), (1567, 0.014365156441022153), (1568, 0.0), (1569, 0.0), (1570, 0.006232316422521325), (1571, 0.0), (1572, 0.005971093842693532), (1573, 0.0), (1574, 0.0), (1575, 0.010598259172568831), (1576, 0.0), (1577, 0.0), (1578, 0.0), (1579, 0.0), (1580, 0.0), (1581, 0.008599521536223743), (1582, 0.013711051222864187), (1583, 0.0), (1584, 0.0), (1585, 0.0), (1586, 0.0), (1587, 0.046270662556212275), (1588, 0.0), (1589, 0.0), (1590, 0.0), (1591, 0.011455225811809541), (1592, 0.0), (1593, 0.0), (1594, 0.0), (1595, 0.021410803898630117), (1596, 0.0), (1597, 0.010071055962860195), (1598, 0.0), (1599, 0.0), (1600, 0.0), (1601, 0.025507293539202912), (1602, 0.010097624598855855), (1603, 0.01407720174345325), (1604, 0.014218743259661982), (1605, 0.0), (1606, 0.012101816182331738), (1607, 0.0), (1608, 0.02515053061922402), (1609, 0.019758785436815113), (1610, 0.0), (1611, 0.0), (1612, 0.0), (1613, 0.0), (1614, 0.0), (1615, 0.0), (1616, 0.0), (1617, 0.02468216581013432), (1618, 0.0), (1619, 0.0), (1620, 0.0), (1621, 0.0), (1622, 0.0), (1623, 0.0), (1624, 0.0), (1625, 0.0), (1626, 0.02695211460133145), (1627, 0.0), (1628, 0.01677302898973229), (1629, 0.0), (1630, 0.0), (1631, 0.014740502722705906), (1632, 0.0), (1633, 0.04402776367091679), (1634, 0.0), (1635, 0.0), (1636, 0.0), (1637, 0.0), (1638, 0.008149534579412202), (1639, 0.0), (1640, 0.0), (1641, 0.0288411542213557), (1642, 0.0), (1643, 0.0), (1644, 0.024760554981439416), (1645, 0.01927849632192121), (1646, 0.01107603524393667), (1647, 0.0), (1648, 0.0), (1649, 0.0), (1650, 0.0), (1651, 0.0), (1652, 0.0), (1653, 0.0), (1654, 0.0), (1655, 0.0), (1656, 0.0), (1657, 0.041801934597340065), (1658, 0.0), (1659, 0.0), (1660, 0.0), (1661, 0.0), (1662, 0.0), (1663, 0.0), (1664, 0.0), (1665, 0.0), (1666, 0.01290667676225439), (1667, 0.0), (1668, 0.0), (1669, 0.0), (1670, 0.0), (1671, 0.0), (1672, 0.008657352106139967), (1673, 0.0), (1674, 0.0), (1675, 0.015831491878335775), (1676, 0.0), (1677, 0.0), (1678, 0.05893565023487839), (1679, 0.0), (1680, 0.0), (1681, 0.0), (1682, 0.0), (1683, 0.043646997383724545), (1684, 0.0), (1685, 0.0), (1686, 0.03237948073771924), (1687, 0.009766417571679516), (1688, 0.0), (1689, 0.0), (1690, 0.056420794278731985), (1691, 0.015495360042603141), (1692, 0.0), (1693, 0.0), (1694, 0.0), (1695, 0.0), (1696, 0.0064799773418109125), (1697, 0.0), (1698, 0.0), (1699, 0.0242112500907605), (1700, 0.0), (1701, 0.04249748523105802), (1702, 0.0), (1703, 0.0), (1704, 0.07512308736129217), (1705, 0.008271140863451772), (1706, 0.04835399424159105), (1707, 0.012519488074875278), (1708, 0.0), (1709, 0.0), (1710, 0.0), (1711, 0.0), (1712, 0.0), (1713, 0.03243539434540145), (1714, 0.0), (1715, 0.11038518674285192), (1716, 0.006618429486220838), (1717, 0.0), (1718, 0.0), (1719, 0.028940328413055782), (1720, 0.0), (1721, 0.0), (1722, 0.0), (1723, 0.049305492919633945), (1724, 0.0226723751239615), (1725, 0.0), (1726, 0.0), (1727, 0.04143126241797379), (1728, 0.0), (1729, 0.0), (1730, 0.012472403265585942), (1731, 0.034691150745708194), (1732, 0.015699746635887978), (1733, 0.0), (1734, 0.0), (1735, 0.0), (1736, 0.0), (1737, 0.0), (1738, 0.0), (1739, 0.0), (1740, 0.0), (1741, 0.0), (1742, 0.0), (1743, 0.009840499131738909), (1744, 0.0), (1745, 0.023567030442495633), (1746, 0.0), (1747, 0.01230423301971869), (1748, 0.0), (1749, 0.0), (1750, 0.0), (1751, 0.0), (1752, 0.0), (1753, 0.0), (1754, 0.0), (1755, 0.03477519415588008), (1756, 0.0), (1757, 0.0), (1758, 0.0), (1759, 0.0), (1760, 0.0), (1761, 0.0), (1762, 0.012925764251581354), (1763, 0.0), (1764, 0.019256737588917723), (1765, 0.0), (1766, 0.00813840447676247), (1767, 0.0), (1768, 0.0), (1769, 0.06190196153416752), (1770, 0.0), (1771, 0.0), (1772, 0.0), (1773, 0.0), (1774, 0.0), (1775, 0.016466191582511988), (1776, 0.012207142002558171), (1777, 0.030288509258063874), (1778, 0.0), (1779, 0.0), (1780, 0.012193478924517382), (1781, 0.0), (1782, 0.0), (1783, 0.0), (1784, 0.0), (1785, 0.0), (1786, 0.0), (1787, 0.0), (1788, 0.0), (1789, 0.0), (1790, 0.0), (1791, 0.0), (1792, 0.0), (1793, 0.0), (1794, 0.007867363263525103), (1795, 0.0), (1796, 0.0), (1797, 0.010320250339700597), (1798, 0.0), (1799, 0.0), (1800, 0.0), (1801, 0.0), (1802, 0.0), (1803, 0.0), (1804, 0.0), (1805, 0.0), (1806, 0.0), (1807, 0.0), (1808, 0.0), (1809, 0.0), (1810, 0.020365940628498034), (1811, 0.0), (1812, 0.0), (1813, 0.004926296009353106), (1814, 0.0), (1815, 0.041379750470016144), (1816, 0.0), (1817, 0.034535701469939076), (1818, 0.01243499344317245), (1819, 0.019853287321375892), (1820, 0.0), (1821, 0.0), (1822, 0.020724030161466282), (1823, 0.033573778872213855), (1824, 0.0), (1825, 0.011575522221634243), (1826, 0.0), (1827, 0.0), (1828, 0.0), (1829, 0.0), (1830, 0.01720442678730302), (1831, 0.015362474805034436), (1832, 0.0), (1833, 0.0), (1834, 0.029439679937908206), (1835, 0.0), (1836, 0.014174186139355541), (1837, 0.0), (1838, 0.0), (1839, 0.0), (1840, 0.0), (1841, 0.0), (1842, 0.0), (1843, 0.0), (1844, 0.02063379488029498), (1845, 0.0), (1846, 0.0), (1847, 0.0), (1848, 0.0), (1849, 0.01882011541661555), (1850, 0.0), (1851, 0.05451205530900703), (1852, 0.0), (1853, 0.012246982537846715), (1854, 0.0), (1855, 0.021160441369357623), (1856, 0.0), (1857, 0.0), (1858, 0.0), (1859, 0.0), (1860, 0.0), (1861, 0.018595962917102193), (1862, 0.0), (1863, 0.02605166651517869), (1864, 0.012046220224128452), (1865, 0.0), (1866, 0.017089589149455756), (1867, 0.010691522004964852), (1868, 0.0), (1869, 0.0), (1870, 0.0), (1871, 0.0), (1872, 0.007861052440348968), (1873, 0.0), (1874, 0.0), (1875, 0.0), (1876, 0.0), (1877, 0.03731949415040851), (1878, 0.0), (1879, 0.009727603931181087), (1880, 0.0), (1881, 0.014107975134399466), (1882, 0.0), (1883, 0.0), (1884, 0.0), (1885, 0.0), (1886, 0.0), (1887, 0.0), (1888, 0.006460309393175471), (1889, 0.0), (1890, 0.025887347923348927), (1891, 0.0), (1892, 0.07550038107398466), (1893, 0.0), (1894, 0.0), (1895, 0.0), (1896, 0.0), (1897, 0.0), (1898, 0.0), (1899, 0.05830451769980559), (1900, 0.0), (1901, 0.0), (1902, 0.005791938149742197), (1903, 0.0), (1904, 0.0), (1905, 0.0), (1906, 0.009444989643580926), (1907, 0.0), (1908, 0.009356149860293395), (1909, 0.0), (1910, 0.0), (1911, 0.0), (1912, 0.0), (1913, 0.016820045166543063), (1914, 0.0), (1915, 0.0), (1916, 0.0), (1917, 0.0), (1918, 0.0), (1919, 0.0), (1920, 0.029806487055181498), (1921, 0.0), (1922, 0.0), (1923, 0.0), (1924, 0.0075864527646997545), (1925, 0.06983999650600402), (1926, 0.0), (1927, 0.0), (1928, 0.0), (1929, 0.0), (1930, 0.0), (1931, 0.0), (1932, 0.0), (1933, 0.05351237999326545), (1934, 0.0), (1935, 0.00952881901485191), (1936, 0.012036402353187009), (1937, 0.0), (1938, 0.0), (1939, 0.0), (1940, 0.0), (1941, 0.027522087995795846), (1942, 0.008023210756128213), (1943, 0.0), (1944, 0.0), (1945, 0.006852677296622914), (1946, 0.00946091741768493), (1947, 0.030802425932950496), (1948, 0.0), (1949, 0.0), (1950, 0.0), (1951, 0.0), (1952, 0.022850706633354683), (1953, 0.0), (1954, 0.0), (1955, 0.0), (1956, 0.0), (1957, 0.0), (1958, 0.0), (1959, 0.039770995456444226), (1960, 0.0), (1961, 0.0), (1962, 0.0), (1963, 0.0), (1964, 0.0), (1965, 0.0), (1966, 0.0), (1967, 0.0), (1968, 0.0), (1969, 0.0), (1970, 0.0), (1971, 0.0), (1972, 0.0), (1973, 0.01046906170076581), (1974, 0.02350903208570718), (1975, 0.0), (1976, 0.03651606029875296), (1977, 0.0), (1978, 0.0), (1979, 0.0), (1980, 0.0), (1981, 0.0), (1982, 0.0), (1983, 0.0), (1984, 0.015395890696545417), (1985, 0.0), (1986, 0.0), (1987, 0.0), (1988, 0.009903823003096454), (1989, 0.032622742898034074), (1990, 0.0), (1991, 0.0), (1992, 0.0), (1993, 0.0), (1994, 0.0), (1995, 0.027236443702124212), (1996, 0.013569066833453408), (1997, 0.0), (1998, 0.0), (1999, 0.006346998758489861), (2000, 0.0), (2001, 0.0), (2002, 0.06984508272098496), (2003, 0.0), (2004, 0.0), (2005, 0.0), (2006, 0.0), (2007, 0.0), (2008, 0.0), (2009, 0.009191579223704229), (2010, 0.0), (2011, 0.010239631803120193), (2012, 0.008486897466029602), (2013, 0.0), (2014, 0.0), (2015, 0.0), (2016, 0.0), (2017, 0.0), (2018, 0.04035584703356316), (2019, 0.0), (2020, 0.016180315690543637), (2021, 0.04562921788842194), (2022, 0.0), (2023, 0.0), (2024, 0.0), (2025, 0.0), (2026, 0.013885447638731886), (2027, 0.0), (2028, 0.0), (2029, 0.0), (2030, 0.0), (2031, 0.0), (2032, 0.013774225309188703), (2033, 0.0), (2034, 0.013263110356272473), (2035, 0.0), (2036, 0.0), (2037, 0.0), (2038, 0.0), (2039, 0.0), (2040, 0.00723119353111114), (2041, 0.016289626603608887), (2042, 0.0), (2043, 0.0), (2044, 0.008312574864315055), (2045, 0.021169986885803505), (2046, 0.01325242646162281), (2047, 0.022742711509606564), (2048, 0.016615117407192764), (2049, 0.0), (2050, 0.023155218090358223), (2051, 0.0), (2052, 0.012405964218049414), (2053, 0.008303588434650693), (2054, 0.0), (2055, 0.0), (2056, 0.0), (2057, 0.022068431705110605), (2058, 0.0), (2059, 0.0), (2060, 0.0), (2061, 0.0), (2062, 0.0), (2063, 0.0), (2064, 0.015696039887299635), (2065, 0.020382328230565957), (2066, 0.0), (2067, 0.0), (2068, 0.0), (2069, 0.0), (2070, 0.018866037190735832), (2071, 0.0), (2072, 0.0), (2073, 0.0), (2074, 0.0), (2075, 0.03314123579248109), (2076, 0.0), (2077, 0.0), (2078, 0.0), (2079, 0.0), (2080, 0.0), (2081, 0.0), (2082, 0.013357911305117019), (2083, 0.022637861354708844), (2084, 0.0), (2085, 0.014429044960983276), (2086, 0.0), (2087, 0.0), (2088, 0.012612939238485705), (2089, 0.0), (2090, 0.0), (2091, 0.022833696996609275), (2092, 0.0), (2093, 0.011447269841697779), (2094, 0.02646079613663577), (2095, 0.0), (2096, 0.0), (2097, 0.07886433498317331), (2098, 0.0), (2099, 0.012866975893916539), (2100, 0.0), (2101, 0.0), (2102, 0.0), (2103, 0.0), (2104, 0.0), (2105, 0.02138359858371423), (2106, 0.009704453275725475), (2107, 0.0), (2108, 0.0), (2109, 0.017945138803909747), (2110, 0.0), (2111, 0.0), (2112, 0.0), (2113, 0.0), (2114, 0.023178479836207896), (2115, 0.0), (2116, 0.0), (2117, 0.0), (2118, 0.01211965848008581), (2119, 0.008890061998153653), (2120, 0.0), (2121, 0.0), (2122, 0.02009630494608068), (2123, 0.04568982094394124), (2124, 0.0), (2125, 0.0), (2126, 0.0), (2127, 0.0), (2128, 0.0), (2129, 0.0), (2130, 0.0), (2131, 0.03746815743438986), (2132, 0.0), (2133, 0.0), (2134, 0.007788678323831002), (2135, 0.0), (2136, 0.09224358087040964), (2137, 0.011842773539567725), (2138, 0.0), (2139, 0.030889525166302743), (2140, 0.0), (2141, 0.0), (2142, 0.0), (2143, 0.0), (2144, 0.0), (2145, 0.0), (2146, 0.0), (2147, 0.0), (2148, 0.0), (2149, 0.0), (2150, 0.0), (2151, 0.0), (2152, 0.0), (2153, 0.0), (2154, 0.0), (2155, 0.0), (2156, 0.0), (2157, 0.0), (2158, 0.028747930204231675), (2159, 0.0), (2160, 0.024831774260142523), (2161, 0.007674952379242236), (2162, 0.0), (2163, 0.03987679567830469), (2164, 0.0), (2165, 0.0), (2166, 0.03145038582070596), (2167, 0.022401086913260804), (2168, 0.0), (2169, 0.02218508641618045), (2170, 0.0), (2171, 0.028554402300676712), (2172, 0.0), (2173, 0.0), (2174, 0.02570262820027941), (2175, 0.0), (2176, 0.0), (2177, 0.0), (2178, 0.0), (2179, 0.0), (2180, 0.038528213403110696), (2181, 0.0), (2182, 0.0), (2183, 0.0), (2184, 0.0), (2185, 0.0), (2186, 0.0), (2187, 0.0), (2188, 0.0), (2189, 0.0), (2190, 0.0), (2191, 0.01113068754993256), (2192, 0.0), (2193, 0.021800101018096263), (2194, 0.07707480890844756), (2195, 0.05398115993911093), (2196, 0.03904513306509283), (2197, 0.0), (2198, 0.03079085548538673), (2199, 0.0), (2200, 0.0), (2201, 0.04108940331288567), (2202, 0.0), (2203, 0.009184139864116321), (2204, 0.0), (2205, 0.02188386280359473), (2206, 0.0), (2207, 0.0), (2208, 0.0), (2209, 0.03182933851486968), (2210, 0.0), (2211, 0.0), (2212, 0.06426280908863702), (2213, 0.0), (2214, 0.0), (2215, 0.0), (2216, 0.04854435091635642), (2217, 0.0), (2218, 0.03438555486500971), (2219, 0.011234240368788466), (2220, 0.006556815769084119), (2221, 0.0), (2222, 0.014276946028024812), (2223, 0.0), (2224, 0.0), (2225, 0.0), (2226, 0.015902649806413382), (2227, 0.07116056816066821), (2228, 0.0), (2229, 0.0), (2230, 0.009769501456907142), (2231, 0.0), (2232, 0.0), (2233, 0.012545683122625701), (2234, 0.0), (2235, 0.032716944754422876), (2236, 0.035322487031522326), (2237, 0.009318079151789851), (2238, 0.0), (2239, 0.0), (2240, 0.0), (2241, 0.0), (2242, 0.0), (2243, 0.02804480815605399), (2244, 0.0), (2245, 0.02099847336768837), (2246, 0.03694649846608041), (2247, 0.0), (2248, 0.025257434173213893), (2249, 0.0), (2250, 0.0), (2251, 0.024029742634788586), (2252, 0.0), (2253, 0.0), (2254, 0.0), (2255, 0.010085551999117145), (2256, 0.0), (2257, 0.0), (2258, 0.0), (2259, 0.05586002919224801), (2260, 0.0), (2261, 0.0), (2262, 0.015370907970913209), (2263, 0.0), (2264, 0.0), (2265, 0.0), (2266, 0.0), (2267, 0.0), (2268, 0.0), (2269, 0.0), (2270, 0.0), (2271, 0.0), (2272, 0.021166545140965616), (2273, 0.0), (2274, 0.0), (2275, 0.0), (2276, 0.0), (2277, 0.0), (2278, 0.0), (2279, 0.0), (2280, 0.011863353552693098), (2281, 0.0), (2282, 0.07585388836864121), (2283, 0.0), (2284, 0.010906689092395932), (2285, 0.0), (2286, 0.0), (2287, 0.0), (2288, 0.026581136098275546), (2289, 0.0), (2290, 0.05557648911911947), (2291, 0.0), (2292, 0.0), (2293, 0.0), (2294, 0.022330333608674393), (2295, 0.0), (2296, 0.0), (2297, 0.015009315185769074), (2298, 0.0), (2299, 0.0), (2300, 0.0), (2301, 0.0), (2302, 0.0), (2303, 0.010389008905158512), (2304, 0.0), (2305, 0.0), (2306, 0.0), (2307, 0.0), (2308, 0.00969545133249333), (2309, 0.0), (2310, 0.0), (2311, 0.011974786015577114), (2312, 0.05161695438115394), (2313, 0.0), (2314, 0.01673422415595488), (2315, 0.0), (2316, 0.0), (2317, 0.0), (2318, 0.014154883660333404), (2319, 0.0), (2320, 0.014783592385993957), (2321, 0.0163792483080151), (2322, 0.0067373277895744895), (2323, 0.02948843008322143), (2324, 0.0), (2325, 0.0), (2326, 0.0), (2327, 0.0), (2328, 0.0), (2329, 0.0), (2330, 0.0), (2331, 0.049882776550123575), (2332, 0.0), (2333, 0.019472589273693428), (2334, 0.022484074698397645), (2335, 0.0), (2336, 0.0), (2337, 0.018000672738987516), (2338, 0.021838516740697086), (2339, 0.0), (2340, 0.007492588333051178), (2341, 0.009323659743286949), (2342, 0.026344502985821864), (2343, 0.0), (2344, 0.0), (2345, 0.0), (2346, 0.021975174639324), (2347, 0.0), (2348, 0.0), (2349, 0.0), (2350, 0.010268339390202847), (2351, 0.03267293759433223), (2352, 0.04323150522943753), (2353, 0.0), (2354, 0.0), (2355, 0.0), (2356, 0.061290237891590896), (2357, 0.0), (2358, 0.0), (2359, 0.03647015288798852), (2360, 0.0), (2361, 0.0), (2362, 0.0), (2363, 0.0), (2364, 0.022059023993384087), (2365, 0.02337313157123645), (2366, 0.0), (2367, 0.0), (2368, 0.04304578245056984), (2369, 0.0), (2370, 0.014014323540450348), (2371, 0.0), (2372, 0.0), (2373, 0.0), (2374, 0.0), (2375, 0.0), (2376, 0.013582329933601579), (2377, 0.01727826163292237), (2378, 0.012260026775514497), (2379, 0.0), (2380, 0.0), (2381, 0.04163081639199556), (2382, 0.0), (2383, 0.0), (2384, 0.0), (2385, 0.0), (2386, 0.015838491288389656), (2387, 0.0), (2388, 0.0), (2389, 0.01332238331713856), (2390, 0.008048431506184188), (2391, 0.016943379951593764), (2392, 0.0), (2393, 0.0), (2394, 0.0), (2395, 0.012102588752825673), (2396, 0.0), (2397, 0.009266532635796252), (2398, 0.050720633278623695), (2399, 0.0), (2400, 0.0), (2401, 0.0), (2402, 0.017491760760169804), (2403, 0.010769377554895612), (2404, 0.0), (2405, 0.0), (2406, 0.0), (2407, 0.0), (2408, 0.0), (2409, 0.0), (2410, 0.0), (2411, 0.0), (2412, 0.0), (2413, 0.0), (2414, 0.03356164717955657), (2415, 0.0), (2416, 0.0), (2417, 0.0), (2418, 0.02121208366346442), (2419, 0.028408359422578452), (2420, 0.0), (2421, 0.0), (2422, 0.023634957693706937), (2423, 0.0), (2424, 0.0), (2425, 0.0), (2426, 0.0), (2427, 0.0), (2428, 0.0), (2429, 0.02398309686795645), (2430, 0.0), (2431, 0.00786842966348695), (2432, 0.0), (2433, 0.08210423390580601), (2434, 0.0), (2435, 0.0), (2436, 0.0), (2437, 0.0), (2438, 0.0), (2439, 0.0), (2440, 0.010922496232450087), (2441, 0.06720380938691836), (2442, 0.06279610011339327), (2443, 0.007054358256631204), (2444, 0.009058805062263291), (2445, 0.0), (2446, 0.013653898699152307), (2447, 0.008170316635651084), (2448, 0.0), (2449, 0.0), (2450, 0.0), (2451, 0.0), (2452, 0.0), (2453, 0.0), (2454, 0.0), (2455, 0.0), (2456, 0.0), (2457, 0.0), (2458, 0.0), (2459, 0.0), (2460, 0.0), (2461, 0.0), (2462, 0.0), (2463, 0.0), (2464, 0.030433050098223308), (2465, 0.0), (2466, 0.0), (2467, 0.0), (2468, 0.011218303533974544), (2469, 0.0), (2470, 0.0), (2471, 0.013951165393384686), (2472, 0.012227883999751615), (2473, 0.0), (2474, 0.0), (2475, 0.0), (2476, 0.0), (2477, 0.0), (2478, 0.008771457647583643), (2479, 0.0), (2480, 0.0), (2481, 0.0), (2482, 0.03971570317416746), (2483, 0.0), (2484, 0.009024288282253634), (2485, 0.015092008634834281), (2486, 0.00701151175031213), (2487, 0.029842399033036978), (2488, 0.04924156150258717), (2489, 0.0), (2490, 0.0), (2491, 0.0), (2492, 0.0), (2493, 0.0), (2494, 0.020506056890143728), (2495, 0.0), (2496, 0.0), (2497, 0.0), (2498, 0.0), (2499, 0.0), (2500, 0.0), (2501, 0.0), (2502, 0.0), (2503, 0.0), (2504, 0.0), (2505, 0.0), (2506, 0.0), (2507, 0.0), (2508, 0.0), (2509, 0.0), (2510, 0.007758199993067775), (2511, 0.0), (2512, 0.0), (2513, 0.0), (2514, 0.031943982147226276), (2515, 0.0), (2516, 0.0), (2517, 0.017728976578692626), (2518, 0.0), (2519, 0.0), (2520, 0.03293617966873748), (2521, 0.016717756651382008), (2522, 0.022034701659414575), (2523, 0.02213469115134968), (2524, 0.0), (2525, 0.0), (2526, 0.0), (2527, 0.012878249426467215), (2528, 0.0), (2529, 0.0), (2530, 0.0), (2531, 0.015604068748642752), (2532, 0.0), (2533, 0.011809016614711685), (2534, 0.0), (2535, 0.0), (2536, 0.05368656703874372), (2537, 0.0), (2538, 0.0), (2539, 0.0), (2540, 0.0), (2541, 0.007785069449070122), (2542, 0.0), (2543, 0.0), (2544, 0.0), (2545, 0.0), (2546, 0.0), (2547, 0.011185354301359871), (2548, 0.012680999893160167), (2549, 0.0), (2550, 0.036076712156552414), (2551, 0.0), (2552, 0.0), (2553, 0.0), (2554, 0.0), (2555, 0.0), (2556, 0.0), (2557, 0.018422264404969538), (2558, 0.0), (2559, 0.004633806670885331), (2560, 0.024755538018723287), (2561, 0.0), (2562, 0.0), (2563, 0.0), (2564, 0.014532339234689232), (2565, 0.0), (2566, 0.0), (2567, 0.0), (2568, 0.0), (2569, 0.01675020171230294), (2570, 0.0), (2571, 0.008329650458105077), (2572, 0.00514786271744749), (2573, 0.0), (2574, 0.00848536033711778), (2575, 0.0), (2576, 0.0), (2577, 0.0), (2578, 0.0), (2579, 0.0), (2580, 0.0), (2581, 0.03967409342074053), (2582, 0.0), (2583, 0.015612938721744856), (2584, 0.0), (2585, 0.037179919741575904), (2586, 0.06262821912701945), (2587, 0.0), (2588, 0.02303939493003927), (2589, 0.020639814033282942), (2590, 0.0), (2591, 0.03956452501066182), (2592, 0.0), (2593, 0.0), (2594, 0.0), (2595, 0.014908217375242718), (2596, 0.0339938223541259), (2597, 0.0), (2598, 0.0), (2599, 0.0), (2600, 0.0), (2601, 0.0), (2602, 0.0), (2603, 0.03313654054906382), (2604, 0.0), (2605, 0.0), (2606, 0.0), (2607, 0.009864720815030186), (2608, 0.0), (2609, 0.0), (2610, 0.0), (2611, 0.0), (2612, 0.0), (2613, 0.0), (2614, 0.0), (2615, 0.0), (2616, 0.0), (2617, 0.04157175650980564), (2618, 0.009442596715920527), (2619, 0.0), (2620, 0.0), (2621, 0.023639990478079555), (2622, 0.0), (2623, 0.019308486621457607), (2624, 0.0), (2625, 0.0166953022261548), (2626, 0.0), (2627, 0.0), (2628, 0.0), (2629, 0.0), (2630, 0.0), (2631, 0.0), (2632, 0.0), (2633, 0.018588108676521477), (2634, 0.0), (2635, 0.0), (2636, 0.01434068349128702), (2637, 0.004604585284222225), (2638, 0.0), (2639, 0.0), (2640, 0.04117232177719577), (2641, 0.031099977477721447), (2642, 0.0), (2643, 0.0), (2644, 0.0), (2645, 0.0), (2646, 0.08108535329934477), (2647, 0.0), (2648, 0.0), (2649, 0.0), (2650, 0.01986456261814452), (2651, 0.0), (2652, 0.017161852851693513), (2653, 0.0), (2654, 0.0), (2655, 0.0), (2656, 0.0), (2657, 0.00787411205702807), (2658, 0.0), (2659, 0.01481670639538529), (2660, 0.0), (2661, 0.022349832186315068), (2662, 0.0), (2663, 0.010335054617213891), (2664, 0.0), (2665, 0.0), (2666, 0.0), (2667, 0.034912280093986066), (2668, 0.0), (2669, 0.0), (2670, 0.0), (2671, 0.0), (2672, 0.01884953147023211), (2673, 0.0), (2674, 0.024484839500392194), (2675, 0.0), (2676, 0.0), (2677, 0.0), (2678, 0.0), (2679, 0.0), (2680, 0.0), (2681, 0.0), (2682, 0.012519928288041089), (2683, 0.005960579265277361), (2684, 0.0), (2685, 0.0), (2686, 0.0), (2687, 0.0), (2688, 0.02117653666547309), (2689, 0.0), (2690, 0.0), (2691, 0.011414776848457018), (2692, 0.01087732648040286), (2693, 0.0), (2694, 0.0), (2695, 0.0), (2696, 0.007038423447339124), (2697, 0.0), (2698, 0.016940106294788766), (2699, 0.01291194509657482), (2700, 0.006939017480955847), (2701, 0.0), (2702, 0.0), (2703, 0.016606322911308185), (2704, 0.006859652314202127), (2705, 0.017557291794483575), (2706, 0.009528377107113834), (2707, 0.0), (2708, 0.0), (2709, 0.0), (2710, 0.012962186704154258), (2711, 0.0), (2712, 0.038242378660942454), (2713, 0.03835535987774727), (2714, 0.0), (2715, 0.0), (2716, 0.0), (2717, 0.0), (2718, 0.0), (2719, 0.0141831988665914), (2720, 0.05385646880856127), (2721, 0.0), (2722, 0.0), (2723, 0.007462372964120937), (2724, 0.02893159749651993), (2725, 0.0), (2726, 0.0), (2727, 0.0), (2728, 0.0), (2729, 0.010068346752958049), (2730, 0.0), (2731, 0.0), (2732, 0.0), (2733, 0.029951862683241424), (2734, 0.014163586426912012), (2735, 0.007751478530170394), (2736, 0.0), (2737, 0.019154429592299783), (2738, 0.012292216578674372), (2739, 0.0), (2740, 0.0), (2741, 0.01659621889065577), (2742, 0.0), (2743, 0.06075943040769237), (2744, 0.0), (2745, 0.0), (2746, 0.0), (2747, 0.0), (2748, 0.0), (2749, 0.0), (2750, 0.011177881930175087), (2751, 0.0), (2752, 0.024246980700025643), (2753, 0.019408684357945405), (2754, 0.0), (2755, 0.019858794199599565), (2756, 0.0), (2757, 0.013146929843198547), (2758, 0.0), (2759, 0.0), (2760, 0.012478496603350046), (2761, 0.0), (2762, 0.016372688400113446), (2763, 0.0), (2764, 0.0), (2765, 0.0), (2766, 0.0), (2767, 0.02117698706531209), (2768, 0.0), (2769, 0.0), (2770, 0.01662613101590853), (2771, 0.007607369225265188), (2772, 0.0), (2773, 0.0), (2774, 0.0), (2775, 0.0), (2776, 0.0), (2777, 0.0), (2778, 0.0), (2779, 0.0), (2780, 0.0076138009130474645), (2781, 0.02439095171398947), (2782, 0.0), (2783, 0.0), (2784, 0.0), (2785, 0.0), (2786, 0.0), (2787, 0.0), (2788, 0.01902914160024724), (2789, 0.031484066627864696), (2790, 0.0), (2791, 0.0), (2792, 0.0), (2793, 0.0), (2794, 0.0), (2795, 0.0), (2796, 0.0), (2797, 0.009590596345180771), (2798, 0.0), (2799, 0.0), (2800, 0.0), (2801, 0.0), (2802, 0.0), (2803, 0.0), (2804, 0.0), (2805, 0.0), (2806, 0.0), (2807, 0.04305705531216282), (2808, 0.01625913672393583), (2809, 0.0), (2810, 0.040342503257235325), (2811, 0.0), (2812, 0.0), (2813, 0.0), (2814, 0.016032834543565456), (2815, 0.0), (2816, 0.0), (2817, 0.023257725521764843), (2818, 0.0), (2819, 0.06281643867600145), (2820, 0.0), (2821, 0.0), (2822, 0.0), (2823, 0.022862935598725733), (2824, 0.0), (2825, 0.0), (2826, 0.0), (2827, 0.0), (2828, 0.0), (2829, 0.018840685108566985), (2830, 0.0), (2831, 0.0), (2832, 0.0), (2833, 0.0), (2834, 0.0), (2835, 0.0), (2836, 0.006207344096244693), (2837, 0.0), (2838, 0.0), (2839, 0.0), (2840, 0.0), (2841, 0.0), (2842, 0.0486024779979048), (2843, 0.0), (2844, 0.010076837768026297), (2845, 0.0), (2846, 0.0), (2847, 0.0), (2848, 0.0), (2849, 0.0), (2850, 0.05238730487386168), (2851, 0.0), (2852, 0.0), (2853, 0.0), (2854, 0.0), (2855, 0.0), (2856, 0.0), (2857, 0.0), (2858, 0.01994422308771898), (2859, 0.0), (2860, 0.012229844836602298), (2861, 0.0), (2862, 0.009720839925039653), (2863, 0.0), (2864, 0.0), (2865, 0.0), (2866, 0.0), (2867, 0.0), (2868, 0.0), (2869, 0.0), (2870, 0.007697666794480162), (2871, 0.0), (2872, 0.0), (2873, 0.016125020693726507), (2874, 0.03997053158837393), (2875, 0.0), (2876, 0.0), (2877, 0.0), (2878, 0.0), (2879, 0.0), (2880, 0.0), (2881, 0.0), (2882, 0.0), (2883, 0.0), (2884, 0.0), (2885, 0.008779785968389365), (2886, 0.0), (2887, 0.0), (2888, 0.0), (2889, 0.0), (2890, 0.011173473484274598), (2891, 0.0), (2892, 0.0), (2893, 0.0), (2894, 0.005611141874087187), (2895, 0.04586680750331894), (2896, 0.0), (2897, 0.028977644475307894), (2898, 0.018372174930903644), (2899, 0.012574271689247202), (2900, 0.0), (2901, 0.030659871241071487), (2902, 0.0), (2903, 0.0), (2904, 0.008448048097896376), (2905, 0.022957568610773933), (2906, 0.0), (2907, 0.0), (2908, 0.0), (2909, 0.0), (2910, 0.0), (2911, 0.0), (2912, 0.043507118425903685), (2913, 0.0), (2914, 0.05111868159882984), (2915, 0.0), (2916, 0.020447022244836938), (2917, 0.008689328891856987), (2918, 0.0), (2919, 0.0), (2920, 0.0), (2921, 0.0), (2922, 0.015819223395406055), (2923, 0.04135438370284965), (2924, 0.0), (2925, 0.0), (2926, 0.0), (2927, 0.0), (2928, 0.0), (2929, 0.0), (2930, 0.0), (2931, 0.0), (2932, 0.035004499519973364), (2933, 0.0), (2934, 0.0), (2935, 0.0), (2936, 0.0), (2937, 0.0), (2938, 0.0), (2939, 0.0), (2940, 0.0), (2941, 0.0), (2942, 0.014575778744587452), (2943, 0.03908410280321653), (2944, 0.0), (2945, 0.014942718713589091), (2946, 0.0), (2947, 0.0), (2948, 0.01663221235060094), (2949, 0.0), (2950, 0.0), (2951, 0.0), (2952, 0.0), (2953, 0.0), (2954, 0.018388811302982994), (2955, 0.062413763145446416), (2956, 0.004853220130343011), (2957, 0.0), (2958, 0.0), (2959, 0.008840267733370063), (2960, 0.007872066982804474), (2961, 0.0), (2962, 0.0), (2963, 0.0), (2964, 0.025051715108659417), (2965, 0.04988849072453034), (2966, 0.028175106616088495), (2967, 0.0), (2968, 0.0), (2969, 0.0), (2970, 0.0), (2971, 0.0), (2972, 0.0), (2973, 0.0), (2974, 0.0), (2975, 0.0), (2976, 0.017298391036003963), (2977, 0.0), (2978, 0.0), (2979, 0.012680733229448191), (2980, 0.022776802079341366), (2981, 0.0), (2982, 0.0), (2983, 0.0), (2984, 0.0), (2985, 0.0), (2986, 0.0), (2987, 0.022356148315892773), (2988, 0.019171396572715615), (2989, 0.0), (2990, 0.0), (2991, 0.01567808618603155), (2992, 0.0), (2993, 0.04813746624867246), (2994, 0.017093207787931834), (2995, 0.0), (2996, 0.0), (2997, 0.018443930557349292), (2998, 0.0), (2999, 0.051781325064665124), (3000, 0.022308053981057792), (3001, 0.023711499293669953), (3002, 0.0), (3003, 0.04826373155251101), (3004, 0.0), (3005, 0.0), (3006, 0.0), (3007, 0.0), (3008, 0.0), (3009, 0.0), (3010, 0.01508741935591825), (3011, 0.0), (3012, 0.018477274804889487), (3013, 0.0), (3014, 0.0), (3015, 0.0), (3016, 0.020999113215810286), (3017, 0.0), (3018, 0.011300906052323324), (3019, 0.0), (3020, 0.0), (3021, 0.0), (3022, 0.018203366925366577), (3023, 0.0), (3024, 0.04498904201179447), (3025, 0.0), (3026, 0.0), (3027, 0.0), (3028, 0.02059816408372754), (3029, 0.018926921155050173), (3030, 0.0), (3031, 0.0), (3032, 0.0), (3033, 0.09759828413959508), (3034, 0.0), (3035, 0.01950906942773014), (3036, 0.0), (3037, 0.0), (3038, 0.024465950166335994), (3039, 0.005980326668060039), (3040, 0.0), (3041, 0.0), (3042, 0.013251874081066414), (3043, 0.0), (3044, 0.01364897960535388), (3045, 0.0), (3046, 0.0), (3047, 0.0), (3048, 0.0), (3049, 0.0), (3050, 0.0), (3051, 0.0), (3052, 0.0), (3053, 0.0), (3054, 0.0), (3055, 0.01593203334710314), (3056, 0.05494665634921965), (3057, 0.0), (3058, 0.010564677949966147), (3059, 0.0), (3060, 0.0), (3061, 0.0), (3062, 0.0), (3063, 0.0), (3064, 0.0), (3065, 0.0), (3066, 0.0), (3067, 0.0), (3068, 0.0), (3069, 0.0), (3070, 0.0), (3071, 0.0), (3072, 0.05659028490466446), (3073, 0.0), (3074, 0.0), (3075, 0.0), (3076, 0.0), (3077, 0.0), (3078, 0.0), (3079, 0.0), (3080, 0.0), (3081, 0.0), (3082, 0.016429096025644012), (3083, 0.0), (3084, 0.0), (3085, 0.0), (3086, 0.010672479589161649), (3087, 0.0), (3088, 0.0), (3089, 0.006467023954214465), (3090, 0.03336526564605829), (3091, 0.0), (3092, 0.0), (3093, 0.0), (3094, 0.0), (3095, 0.0), (3096, 0.0), (3097, 0.0), (3098, 0.0), (3099, 0.022552790392510406), (3100, 0.0), (3101, 0.0), (3102, 0.0), (3103, 0.0), (3104, 0.020131526455622068), (3105, 0.0), (3106, 0.0), (3107, 0.0), (3108, 0.014160728557336116), (3109, 0.0), (3110, 0.0), (3111, 0.047052609724494245), (3112, 0.0), (3113, 0.013357983219071948), (3114, 0.0), (3115, 0.015043270351199373), (3116, 0.01985930240219378), (3117, 0.0), (3118, 0.0), (3119, 0.015775560903475264), (3120, 0.0), (3121, 0.0), (3122, 0.0), (3123, 0.0), (3124, 0.0), (3125, 0.0), (3126, 0.0), (3127, 0.04702672261486299), (3128, 0.0), (3129, 0.01793266946352287), (3130, 0.00959782627308365), (3131, 0.0), (3132, 0.0), (3133, 0.01009547332260965), (3134, 0.022585124947583878), (3135, 0.0), (3136, 0.0), (3137, 0.0), (3138, 0.01419779493536869), (3139, 0.014666242982878431), (3140, 0.0), (3141, 0.0), (3142, 0.0), (3143, 0.017255176764435547), (3144, 0.12279141010343961), (3145, 0.0), (3146, 0.030562887715952565), (3147, 0.0), (3148, 0.0), (3149, 0.0), (3150, 0.0), (3151, 0.0), (3152, 0.0), (3153, 0.0), (3154, 0.0), (3155, 0.0598707947799386), (3156, 0.0), (3157, 0.013478936544049604), (3158, 0.012257077969106118), (3159, 0.0), (3160, 0.0), (3161, 0.026293952881757832), (3162, 0.010144745416634243), (3163, 0.0), (3164, 0.0), (3165, 0.0), (3166, 0.0), (3167, 0.0), (3168, 0.0), (3169, 0.0), (3170, 0.030843915335707604), (3171, 0.0), (3172, 0.0), (3173, 0.0), (3174, 0.0), (3175, 0.018709071058413348), (3176, 0.0), (3177, 0.0), (3178, 0.0), (3179, 0.0), (3180, 0.0), (3181, 0.0), (3182, 0.0), (3183, 0.0), (3184, 0.0), (3185, 0.015805866328665368), (3186, 0.0), (3187, 0.0), (3188, 0.0), (3189, 0.0), (3190, 0.0), (3191, 0.0), (3192, 0.005837005417041016), (3193, 0.0), (3194, 0.0), (3195, 0.0), (3196, 0.0), (3197, 0.0), (3198, 0.0), (3199, 0.005385267305274051), (3200, 0.0), (3201, 0.0), (3202, 0.0), (3203, 0.009611055830415334), (3204, 0.0), (3205, 0.04170644140742118), (3206, 0.0), (3207, 0.0), (3208, 0.0), (3209, 0.07105178825401523), (3210, 0.0), (3211, 0.0), (3212, 0.024372136137497377), (3213, 0.0), (3214, 0.0), (3215, 0.0), (3216, 0.0), (3217, 0.0), (3218, 0.0), (3219, 0.0), (3220, 0.0), (3221, 0.010324746859191524), (3222, 0.016802767015800083), (3223, 0.0), (3224, 0.0065965976336783095), (3225, 0.0), (3226, 0.0), (3227, 0.0), (3228, 0.0), (3229, 0.0), (3230, 0.0), (3231, 0.0), (3232, 0.0), (3233, 0.0), (3234, 0.050561982515003434), (3235, 0.0), (3236, 0.0), (3237, 0.0), (3238, 0.0), (3239, 0.0), (3240, 0.0), (3241, 0.028394855778464925), (3242, 0.025682758736558706), (3243, 0.011648293144241564), (3244, 0.0), (3245, 0.0), (3246, 0.0), (3247, 0.0), (3248, 0.0), (3249, 0.0), (3250, 0.012399024315147323), (3251, 0.0), (3252, 0.0), (3253, 0.0), (3254, 0.015447779841819255), (3255, 0.0), (3256, 0.012966240431473208), (3257, 0.0), (3258, 0.0), (3259, 0.0), (3260, 0.03426700078975388), (3261, 0.0), (3262, 0.0), (3263, 0.0), (3264, 0.0), (3265, 0.03253762414713613), (3266, 0.011397931396893927), (3267, 0.0), (3268, 0.01613042739359813), (3269, 0.0), (3270, 0.004219136189105605), (3271, 0.0), (3272, 0.0), (3273, 0.0), (3274, 0.0), (3275, 0.0), (3276, 0.0), (3277, 0.0), (3278, 0.0), (3279, 0.0), (3280, 0.012784333965319658), (3281, 0.0), (3282, 0.0), (3283, 0.0), (3284, 0.015624536711307944), (3285, 0.042730255163571824), (3286, 0.0), (3287, 0.008060310049592772), (3288, 0.006209339907336795), (3289, 0.0), (3290, 0.009758964418016368), (3291, 0.0), (3292, 0.0), (3293, 0.016794902806365142), (3294, 0.0), (3295, 0.0), (3296, 0.0), (3297, 0.0), (3298, 0.01799762959392613), (3299, 0.0), (3300, 0.0), (3301, 0.0), (3302, 0.024284310732771267), (3303, 0.0), (3304, 0.0), (3305, 0.05750964668224008), (3306, 0.015242231656022077), (3307, 0.0), (3308, 0.027148350620079104), (3309, 0.0), (3310, 0.036292286187476624), (3311, 0.10620265000347046), (3312, 0.010946752556540238), (3313, 0.0), (3314, 0.0), (3315, 0.0), (3316, 0.025268220021265376), (3317, 0.0), (3318, 0.0), (3319, 0.0), (3320, 0.0), (3321, 0.0), (3322, 0.0), (3323, 0.0), (3324, 0.0), (3325, 0.0), (3326, 0.0), (3327, 0.011054330343718768), (3328, 0.0), (3329, 0.0), (3330, 0.0), (3331, 0.0), (3332, 0.0), (3333, 0.03679038457861207), (3334, 0.0), (3335, 0.0), (3336, 0.03320871212336588), (3337, 0.04297034515976411), (3338, 0.0), (3339, 0.0), (3340, 0.0), (3341, 0.0), (3342, 0.0), (3343, 0.02078364712122982), (3344, 0.017880421981228148), (3345, 0.0), (3346, 0.0), (3347, 0.0), (3348, 0.0), (3349, 0.0), (3350, 0.0), (3351, 0.018686021292181165), (3352, 0.0), (3353, 0.0), (3354, 0.0), (3355, 0.04766573281889102), (3356, 0.0), (3357, 0.0), (3358, 0.0), (3359, 0.0), (3360, 0.0), (3361, 0.0), (3362, 0.0), (3363, 0.0), (3364, 0.0), (3365, 0.0), (3366, 0.0), (3367, 0.0), (3368, 0.0), (3369, 0.0), (3370, 0.0), (3371, 0.0), (3372, 0.0), (3373, 0.0), (3374, 0.0), (3375, 0.0), (3376, 0.0), (3377, 0.0), (3378, 0.0), (3379, 0.0), (3380, 0.0), (3381, 0.0), (3382, 0.01549560915807398), (3383, 0.0), (3384, 0.0), (3385, 0.0), (3386, 0.007314025832712695), (3387, 0.0), (3388, 0.0), (3389, 0.0), (3390, 0.015796234452092727), (3391, 0.0), (3392, 0.0), (3393, 0.0), (3394, 0.0), (3395, 0.008267329798856903), (3396, 0.01840699457144981), (3397, 0.0), (3398, 0.0), (3399, 0.0), (3400, 0.0), (3401, 0.0), (3402, 0.011644411915226036), (3403, 0.028211116252795126), (3404, 0.0), (3405, 0.02429379870414996), (3406, 0.0), (3407, 0.0), (3408, 0.0), (3409, 0.0), (3410, 0.0), (3411, 0.029806935100270583), (3412, 0.04163008253472231), (3413, 0.0), (3414, 0.0), (3415, 0.02803385469272512), (3416, 0.0), (3417, 0.0), (3418, 0.0), (3419, 0.0), (3420, 0.0), (3421, 0.0), (3422, 0.0), (3423, 0.0), (3424, 0.0), (3425, 0.0), (3426, 0.0214727485654048), (3427, 0.0), (3428, 0.0), (3429, 0.0068651606286585145), (3430, 0.0), (3431, 0.0), (3432, 0.0), (3433, 0.039945218000733106), (3434, 0.0), (3435, 0.0), (3436, 0.0), (3437, 0.0), (3438, 0.0), (3439, 0.01732899515492701), (3440, 0.0), (3441, 0.0), (3442, 0.0), (3443, 0.0), (3444, 0.0), (3445, 0.0), (3446, 0.0), (3447, 0.0), (3448, 0.0), (3449, 0.0), (3450, 0.0), (3451, 0.0), (3452, 0.0), (3453, 0.0), (3454, 0.0), (3455, 0.01838029804242209), (3456, 0.008892121970326934), (3457, 0.0), (3458, 0.01926843171282146), (3459, 0.0), (3460, 0.027843022726536514), (3461, 0.0), (3462, 0.0), (3463, 0.0), (3464, 0.042337602980018284), (3465, 0.0), (3466, 0.0), (3467, 0.03631385593905717), (3468, 0.0), (3469, 0.0), (3470, 0.0302014263711959), (3471, 0.01465994103638095), (3472, 0.00663155657595813), (3473, 0.0), (3474, 0.0), (3475, 0.0), (3476, 0.0), (3477, 0.02209940488969397), (3478, 0.0), (3479, 0.0), (3480, 0.0), (3481, 0.009437055468609555), (3482, 0.0), (3483, 0.0), (3484, 0.0), (3485, 0.0), (3486, 0.01797412082830948), (3487, 0.0), (3488, 0.021681486263848065), (3489, 0.01098361476064691), (3490, 0.0), (3491, 0.0), (3492, 0.0), (3493, 0.0), (3494, 0.0), (3495, 0.02426505356487518), (3496, 0.0), (3497, 0.04051517757753733), (3498, 0.0), (3499, 0.014157792604405741), (3500, 0.0), (3501, 0.0), (3502, 0.0), (3503, 0.0), (3504, 0.0), (3505, 0.07705564852371678), (3506, 0.0), (3507, 0.0), (3508, 0.0), (3509, 0.0), (3510, 0.00756115542233585), (3511, 0.022472773109470597), (3512, 0.03996924806277745), (3513, 0.025271812713569524), (3514, 0.008094410853774733), (3515, 0.0), (3516, 0.0), (3517, 0.005089496244311669), (3518, 0.02647974341904489), (3519, 0.0), (3520, 0.010778464152389878), (3521, 0.0), (3522, 0.016245620936493153), (3523, 0.0), (3524, 0.02189306838488141), (3525, 0.0), (3526, 0.0), (3527, 0.0), (3528, 0.0), (3529, 0.0), (3530, 0.0), (3531, 0.0), (3532, 0.0), (3533, 0.0), (3534, 0.009982361109478803), (3535, 0.0), (3536, 0.0), (3537, 0.0), (3538, 0.0), (3539, 0.0), (3540, 0.0), (3541, 0.0), (3542, 0.0), (3543, 0.0121806555769935), (3544, 0.0), (3545, 0.02596702414651792), (3546, 0.0), (3547, 0.0), (3548, 0.0), (3549, 0.0), (3550, 0.01934430603017489), (3551, 0.0), (3552, 0.0), (3553, 0.018776651155418024), (3554, 0.01540864987562468), (3555, 0.047014056150979755), (3556, 0.006170553034720631), (3557, 0.0), (3558, 0.035129571402206586), (3559, 0.02582616666178908), (3560, 0.0), (3561, 0.0), (3562, 0.0), (3563, 0.0), (3564, 0.0), (3565, 0.0), (3566, 0.0), (3567, 0.0), (3568, 0.0), (3569, 0.0), (3570, 0.0), (3571, 0.0), (3572, 0.012437000004273053), (3573, 0.0), (3574, 0.0), (3575, 0.0), (3576, 0.0), (3577, 0.0), (3578, 0.011332360476456159), (3579, 0.0), (3580, 0.0), (3581, 0.0), (3582, 0.0), (3583, 0.007956512624752408), (3584, 0.0064534402726187), (3585, 0.0), (3586, 0.02428819190300023), (3587, 0.0), (3588, 0.0), (3589, 0.0), (3590, 0.0), (3591, 0.045289441881591536), (3592, 0.0), (3593, 0.0), (3594, 0.0), (3595, 0.0), (3596, 0.0), (3597, 0.0), (3598, 0.008732748244235271), (3599, 0.0), (3600, 0.0), (3601, 0.0), (3602, 0.0), (3603, 0.0), (3604, 0.0), (3605, 0.030782063866777582), (3606, 0.01723382247396605), (3607, 0.0), (3608, 0.0), (3609, 0.0), (3610, 0.0), (3611, 0.006735194937847122), (3612, 0.0), (3613, 0.0034743826724064025), (3614, 0.0), (3615, 0.0), (3616, 0.0), (3617, 0.0), (3618, 0.0), (3619, 0.0), (3620, 0.010072678079683404), (3621, 0.0), (3622, 0.0), (3623, 0.0), (3624, 0.0), (3625, 0.0), (3626, 0.0), (3627, 0.0), (3628, 0.0), (3629, 0.0), (3630, 0.0), (3631, 0.0), (3632, 0.0), (3633, 0.0), (3634, 0.0), (3635, 0.0), (3636, 0.0), (3637, 0.0), (3638, 0.0), (3639, 0.007827859486957004), (3640, 0.0), (3641, 0.027599800317375224), (3642, 0.0), (3643, 0.0), (3644, 0.0), (3645, 0.016150032901640052), (3646, 0.0), (3647, 0.007050810750680796), (3648, 0.0), (3649, 0.0), (3650, 0.0), (3651, 0.006720471290368949), (3652, 0.021477865773842423), (3653, 0.0), (3654, 0.0), (3655, 0.0), (3656, 0.0), (3657, 0.0), (3658, 0.0), (3659, 0.034250522205209674), (3660, 0.0), (3661, 0.007611027217763216), (3662, 0.0), (3663, 0.0040768241285365344), (3664, 0.0), (3665, 0.0), (3666, 0.027128449322292584), (3667, 0.018253405708321055), (3668, 0.014479431500499929), (3669, 0.0), (3670, 0.0), (3671, 0.02462709340117202), (3672, 0.01694111667731358), (3673, 0.014575095145369874), (3674, 0.006750273297931324), (3675, 0.009505448065232345), (3676, 0.010217279214770425), (3677, 0.0), (3678, 0.0), (3679, 0.0), (3680, 0.02550515250008028), (3681, 0.043397492469342464), (3682, 0.0), (3683, 0.0), (3684, 0.0), (3685, 0.0), (3686, 0.0), (3687, 0.012471342407758473), (3688, 0.01707991728356671), (3689, 0.0), (3690, 0.0), (3691, 0.0), (3692, 0.0), (3693, 0.0), (3694, 0.01896214723104035), (3695, 0.034218632196727675), (3696, 0.0), (3697, 0.0), (3698, 0.0), (3699, 0.0), (3700, 0.0), (3701, 0.0), (3702, 0.0), (3703, 0.031342820048655545), (3704, 0.0), (3705, 0.05014824537877908), (3706, 0.0), (3707, 0.0), (3708, 0.0), (3709, 0.0), (3710, 0.012149723997257665), (3711, 0.0), (3712, 0.0), (3713, 0.0), (3714, 0.0), (3715, 0.0), (3716, 0.0), (3717, 0.038724257343986115), (3718, 0.0), (3719, 0.0), (3720, 0.0), (3721, 0.028512077748241854), (3722, 0.0), (3723, 0.019735789287551958), (3724, 0.0), (3725, 0.01771623386659006), (3726, 0.0), (3727, 0.0), (3728, 0.00505821634004711), (3729, 0.0), (3730, 0.0), (3731, 0.0137531122515576), (3732, 0.0), (3733, 0.0), (3734, 0.024247163800224555), (3735, 0.0), (3736, 0.0), (3737, 0.0), (3738, 0.0), (3739, 0.0), (3740, 0.0), (3741, 0.0), (3742, 0.029479790480542212), (3743, 0.0), (3744, 0.0), (3745, 0.0), (3746, 0.0), (3747, 0.0), (3748, 0.00914198408052423), (3749, 0.007512910268633432), (3750, 0.03323057214220235), (3751, 0.05437079269891851), (3752, 0.0), (3753, 0.0), (3754, 0.027342480213872665), (3755, 0.0), (3756, 0.0), (3757, 0.048205894870934345), (3758, 0.006182323426411525), (3759, 0.020773960416209023), (3760, 0.01604662696034964), (3761, 0.0), (3762, 0.0), (3763, 0.0), (3764, 0.034916404546515296), (3765, 0.0), (3766, 0.0), (3767, 0.0), (3768, 0.0), (3769, 0.0), (3770, 0.021704113587580398), (3771, 0.0), (3772, 0.0), (3773, 0.0), (3774, 0.0), (3775, 0.014067158406147), (3776, 0.005309677451485157), (3777, 0.0), (3778, 0.0), (3779, 0.0), (3780, 0.0), (3781, 0.0), (3782, 0.0), (3783, 0.022944856868530643), (3784, 0.0), (3785, 0.019755925090462204), (3786, 0.0), (3787, 0.0), (3788, 0.010818819451182375), (3789, 0.0), (3790, 0.01954166021291616), (3791, 0.0), (3792, 0.026784415694551776), (3793, 0.0), (3794, 0.0), (3795, 0.03215877629197379), (3796, 0.0), (3797, 0.0), (3798, 0.0), (3799, 0.04129534937505277), (3800, 0.008318198449828354), (3801, 0.0), (3802, 0.0), (3803, 0.016334711534202528), (3804, 0.004321226736196009), (3805, 0.0), (3806, 0.03918271752371655), (3807, 0.0), (3808, 0.021310199850916704), (3809, 0.01974534070978594), (3810, 0.0), (3811, 0.0), (3812, 0.0), (3813, 0.0), (3814, 0.0), (3815, 0.0), (3816, 0.0), (3817, 0.03540615806723721), (3818, 0.0), (3819, 0.007928885850115086), (3820, 0.0), (3821, 0.0), (3822, 0.0), (3823, 0.0), (3824, 0.040276416601852716), (3825, 0.0), (3826, 0.0), (3827, 0.0), (3828, 0.0), (3829, 0.0), (3830, 0.00819757996423876), (3831, 0.0), (3832, 0.008789840998039974), (3833, 0.0), (3834, 0.0), (3835, 0.0), (3836, 0.0), (3837, 0.0), (3838, 0.041898169632183374), (3839, 0.0), (3840, 0.022271127557056715), (3841, 0.0), (3842, 0.0), (3843, 0.0), (3844, 0.0), (3845, 0.0), (3846, 0.0), (3847, 0.011235303453893187), (3848, 0.028599203150351263), (3849, 0.0), (3850, 0.0), (3851, 0.029290015007879467), (3852, 0.0), (3853, 0.0), (3854, 0.0), (3855, 0.0708822214686995), (3856, 0.0), (3857, 0.0), (3858, 0.0), (3859, 0.0), (3860, 0.0), (3861, 0.0), (3862, 0.0), (3863, 0.0), (3864, 0.0), (3865, 0.028109404176977496), (3866, 0.009397072334917855), (3867, 0.004619809165467996), (3868, 0.0), (3869, 0.0), (3870, 0.016061969864535796), (3871, 0.0), (3872, 0.031646145420899316), (3873, 0.0), (3874, 0.0), (3875, 0.0), (3876, 0.0), (3877, 0.02283521381000535), (3878, 0.0), (3879, 0.0), (3880, 0.0), (3881, 0.0), (3882, 0.0), (3883, 0.0), (3884, 0.00915992590595342), (3885, 0.0), (3886, 0.008231936732332261), (3887, 0.0), (3888, 0.01780805471261042), (3889, 0.05682709159492474), (3890, 0.0), (3891, 0.015284210907412782), (3892, 0.0), (3893, 0.009348646876254868), (3894, 0.0), (3895, 0.021239443626040452), (3896, 0.0), (3897, 0.0), (3898, 0.0), (3899, 0.00911842622687707), (3900, 0.02062141356248179), (3901, 0.01297905812699325), (3902, 0.0), (3903, 0.030173060902193148), (3904, 0.0), (3905, 0.0), (3906, 0.0), (3907, 0.0), (3908, 0.0), (3909, 0.0), (3910, 0.0), (3911, 0.0), (3912, 0.0), (3913, 0.0), (3914, 0.0), (3915, 0.0), (3916, 0.0), (3917, 0.05536625255254384), (3918, 0.0), (3919, 0.009880068445073883), (3920, 0.0), (3921, 0.0), (3922, 0.0), (3923, 0.0), (3924, 0.0), (3925, 0.0), (3926, 0.00710394409278593), (3927, 0.0), (3928, 0.006985011737926614), (3929, 0.010079861478665759), (3930, 0.0), (3931, 0.0), (3932, 0.0), (3933, 0.0), (3934, 0.029166920935767927), (3935, 0.0), (3936, 0.010283213580765855), (3937, 0.0), (3938, 0.0), (3939, 0.0), (3940, 0.0), (3941, 0.0), (3942, 0.008958652661942906), (3943, 0.0), (3944, 0.012319315848752158), (3945, 0.013878281314433794), (3946, 0.0), (3947, 0.0), (3948, 0.0), (3949, 0.0), (3950, 0.0), (3951, 0.0), (3952, 0.014260109160916495), (3953, 0.022623834078634546), (3954, 0.0), (3955, 0.0), (3956, 0.0), (3957, 0.013825541426056964), (3958, 0.0), (3959, 0.007932965792869062), (3960, 0.0), (3961, 0.009402435949597193), (3962, 0.014899747385626029), (3963, 0.0), (3964, 0.0), (3965, 0.0), (3966, 0.0), (3967, 0.0), (3968, 0.011215361853978863), (3969, 0.0), (3970, 0.0), (3971, 0.0), (3972, 0.0), (3973, 0.0), (3974, 0.0), (3975, 0.02678327298298326), (3976, 0.0), (3977, 0.033664844307677244), (3978, 0.015888520258157558), (3979, 0.019556703788776806), (3980, 0.0), (3981, 0.01298969531135877), (3982, 0.041884468939957675), (3983, 0.0), (3984, 0.0), (3985, 0.0), (3986, 0.024110620295283734), (3987, 0.010011613562528563), (3988, 0.0), (3989, 0.016278891972262188), (3990, 0.0), (3991, 0.007803307148315399), (3992, 0.0), (3993, 0.0), (3994, 0.0), (3995, 0.0282094528377496), (3996, 0.0), (3997, 0.0), (3998, 0.0), (3999, 0.0), (4000, 0.0), (4001, 0.0), (4002, 0.0), (4003, 0.0), (4004, 0.0), (4005, 0.0), (4006, 0.0), (4007, 0.0), (4008, 0.0), (4009, 0.02062021918587628), (4010, 0.0), (4011, 0.0), (4012, 0.012722379332695813), (4013, 0.004005221139423136), (4014, 0.0), (4015, 0.0), (4016, 0.0), (4017, 0.0), (4018, 0.0), (4019, 0.0), (4020, 0.0), (4021, 0.0), (4022, 0.010619341590738095), (4023, 0.0), (4024, 0.0), (4025, 0.007320384161470725), (4026, 0.02628036884995182), (4027, 0.0), (4028, 0.010174030365130874), (4029, 0.0), (4030, 0.0), (4031, 0.016024658812208034), (4032, 0.04466396482559175), (4033, 0.0), (4034, 0.0), (4035, 0.0), (4036, 0.0), (4037, 0.0), (4038, 0.0), (4039, 0.0), (4040, 0.0), (4041, 0.033120386637876656), (4042, 0.0), (4043, 0.0), (4044, 0.0), (4045, 0.0), (4046, 0.0), (4047, 0.0), (4048, 0.0), (4049, 0.0), (4050, 0.0), (4051, 0.012334868921645096), (4052, 0.0), (4053, 0.013648186824874259), (4054, 0.0), (4055, 0.0), (4056, 0.0), (4057, 0.0), (4058, 0.027229596907355692), (4059, 0.0), (4060, 0.0), (4061, 0.0), (4062, 0.007519287512839636), (4063, 0.0), (4064, 0.0), (4065, 0.0), (4066, 0.0), (4067, 0.0), (4068, 0.008826727772251073), (4069, 0.0), (4070, 0.0), (4071, 0.052479305237990395), (4072, 0.0), (4073, 0.010556528010953923), (4074, 0.0), (4075, 0.0), (4076, 0.0), (4077, 0.0), (4078, 0.0), (4079, 0.0), (4080, 0.01545629084720497), (4081, 0.0), (4082, 0.0), (4083, 0.0), (4084, 0.0), (4085, 0.03537675822990864), (4086, 0.0), (4087, 0.0), (4088, 0.0), (4089, 0.008209006140065415), (4090, 0.02264313164320135), (4091, 0.0), (4092, 0.013184012550383881), (4093, 0.0), (4094, 0.005974445285535565), (4095, 0.0), (4096, 0.02417200609964543), (4097, 0.007425699088410872), (4098, 0.02204829037119568), (4099, 0.01102251344440696), (4100, 0.008630917350216505), (4101, 0.0), (4102, 0.02239328048760978), (4103, 0.0), (4104, 0.02069640131173732), (4105, 0.0), (4106, 0.014089212461841305), (4107, 0.008887291920092223), (4108, 0.0), (4109, 0.0), (4110, 0.0), (4111, 0.0), (4112, 0.0628277040707616), (4113, 0.0), (4114, 0.00797062342918777), (4115, 0.0), (4116, 0.0), (4117, 0.00736121156778997), (4118, 0.0), (4119, 0.0), (4120, 0.0), (4121, 0.0), (4122, 0.0), (4123, 0.006886972317021773), (4124, 0.10752921414824139), (4125, 0.0), (4126, 0.0), (4127, 0.0069568611053288446), (4128, 0.03088106574731662), (4129, 0.0), (4130, 0.00940201201531674), (4131, 0.0), (4132, 0.0), (4133, 0.0), (4134, 0.0), (4135, 0.0), (4136, 0.0), (4137, 0.0), (4138, 0.0), (4139, 0.0), (4140, 0.0), (4141, 0.0), (4142, 0.0), (4143, 0.0), (4144, 0.0), (4145, 0.04572136599383473), (4146, 0.0), (4147, 0.0), (4148, 0.0), (4149, 0.0), (4150, 0.018104441477251165), (4151, 0.0), (4152, 0.0), (4153, 0.0), (4154, 0.031926732543574345), (4155, 0.0), (4156, 0.00484369076585492), (4157, 0.0), (4158, 0.04107910843694208), (4159, 0.0), (4160, 0.0), (4161, 0.014947565947706982), (4162, 0.0), (4163, 0.014163192447176915), (4164, 0.0), (4165, 0.0), (4166, 0.0), (4167, 0.012709613240070946), (4168, 0.0), (4169, 0.0), (4170, 0.0), (4171, 0.0), (4172, 0.0), (4173, 0.0), (4174, 0.015148853127859298), (4175, 0.0051921058903428305), (4176, 0.0), (4177, 0.008019336027814327), (4178, 0.0), (4179, 0.0), (4180, 0.0), (4181, 0.04784360472316916), (4182, 0.0), (4183, 0.0), (4184, 0.0), (4185, 0.0), (4186, 0.013544144872982306), (4187, 0.020601937839542537), (4188, 0.0), (4189, 0.0), (4190, 0.0), (4191, 0.0), (4192, 0.0), (4193, 0.010300157246082471), (4194, 0.0), (4195, 0.0), (4196, 0.0), (4197, 0.0), (4198, 0.032986268181135384), (4199, 0.0), (4200, 0.0), (4201, 0.023009715923918015), (4202, 0.021729585611154286), (4203, 0.0), (4204, 0.0), (4205, 0.0), (4206, 0.0), (4207, 0.0), (4208, 0.0), (4209, 0.0), (4210, 0.016334157879597477), (4211, 0.0), (4212, 0.0), (4213, 0.0), (4214, 0.0), (4215, 0.0), (4216, 0.0), (4217, 0.005044575706771144), (4218, 0.0), (4219, 0.0), (4220, 0.009803500343085256), (4221, 0.015589454198686382), (4222, 0.0), (4223, 0.0), (4224, 0.0), (4225, 0.0), (4226, 0.0), (4227, 0.06419368343122689), (4228, 0.0), (4229, 0.0), (4230, 0.00884157332289647), (4231, 0.0), (4232, 0.0), (4233, 0.022065130982846525), (4234, 0.0), (4235, 0.0), (4236, 0.009610408369615813), (4237, 0.0), (4238, 0.0), (4239, 0.007680885161255894), (4240, 0.0), (4241, 0.029478584198582163), (4242, 0.0), (4243, 0.0), (4244, 0.007888574760202313), (4245, 0.0), (4246, 0.0), (4247, 0.017189757419460352), (4248, 0.0), (4249, 0.0), (4250, 0.0), (4251, 0.0), (4252, 0.0), (4253, 0.052058583218440785), (4254, 0.0), (4255, 0.0), (4256, 0.0), (4257, 0.0), (4258, 0.0), (4259, 0.022103757861421467), (4260, 0.012431193329843325), (4261, 0.0), (4262, 0.025432923265919845), (4263, 0.05172202964544851), (4264, 0.013889791816083229), (4265, 0.0), (4266, 0.0), (4267, 0.013114974030304143), (4268, 0.07402324033194656), (4269, 0.0), (4270, 0.0), (4271, 0.0), (4272, 0.0), (4273, 0.0), (4274, 0.0), (4275, 0.0), (4276, 0.04183102284848586), (4277, 0.0), (4278, 0.0), (4279, 0.03012532801515299), (4280, 0.0), (4281, 0.0), (4282, 0.0), (4283, 0.020125722475842697), (4284, 0.0), (4285, 0.0), (4286, 0.0), (4287, 0.010802655368381184), (4288, 0.0), (4289, 0.0), (4290, 0.0), (4291, 0.0), (4292, 0.0), (4293, 0.06893750301819523), (4294, 0.0), (4295, 0.02370874322993469), (4296, 0.0), (4297, 0.0), (4298, 0.0), (4299, 0.018219121293234063), (4300, 0.0), (4301, 0.0068628995444627375), (4302, 0.0), (4303, 0.0), (4304, 0.0), (4305, 0.0), (4306, 0.0), (4307, 0.0), (4308, 0.0), (4309, 0.0), (4310, 0.0), (4311, 0.0), (4312, 0.0), (4313, 0.0), (4314, 0.0), (4315, 0.0), (4316, 0.0), (4317, 0.0), (4318, 0.0), (4319, 0.0), (4320, 0.0), (4321, 0.0), (4322, 0.0), (4323, 0.0), (4324, 0.0), (4325, 0.0), (4326, 0.014826547503164944), (4327, 0.0), (4328, 0.0), (4329, 0.0), (4330, 0.03572319978240349), (4331, 0.018149726268537718), (4332, 0.0), (4333, 0.007748435334891321), (4334, 0.023942764072123954), (4335, 0.0), (4336, 0.008043335039706775), (4337, 0.0), (4338, 0.0), (4339, 0.0503689693893483), (4340, 0.03299969634056696), (4341, 0.0), (4342, 0.0), (4343, 0.0), (4344, 0.0), (4345, 0.009921831860063623), (4346, 0.0), (4347, 0.0), (4348, 0.0), (4349, 0.0), (4350, 0.04755588398329416), (4351, 0.0), (4352, 0.0), (4353, 0.0), (4354, 0.0), (4355, 0.0), (4356, 0.0), (4357, 0.0), (4358, 0.0), (4359, 0.0), (4360, 0.008923056781460667), (4361, 0.0), (4362, 0.006965168766236151), (4363, 0.010988590448058666), (4364, 0.0), (4365, 0.0), (4366, 0.0), (4367, 0.0), (4368, 0.012754597338181536), (4369, 0.02741871783971007), (4370, 0.0), (4371, 0.0), (4372, 0.0), (4373, 0.0), (4374, 0.0), (4375, 0.05267896298530173), (4376, 0.0), (4377, 0.0), (4378, 0.0), (4379, 0.034330502933887765), (4380, 0.0), (4381, 0.0), (4382, 0.0), (4383, 0.02251485810628248), (4384, 0.0), (4385, 0.03486923534326086), (4386, 0.0), (4387, 0.05498242984893205), (4388, 0.021368225732456583), (4389, 0.0), (4390, 0.0), (4391, 0.0), (4392, 0.0), (4393, 0.0), (4394, 0.0), (4395, 0.01470074967301452), (4396, 0.0), (4397, 0.01777704617654605), (4398, 0.0), (4399, 0.0), (4400, 0.0), (4401, 0.0), (4402, 0.0), (4403, 0.0), (4404, 0.011841120087863642), (4405, 0.0), (4406, 0.0), (4407, 0.0), (4408, 0.0), (4409, 0.03132627853831462), (4410, 0.0), (4411, 0.01734291410054082), (4412, 0.0), (4413, 0.0), (4414, 0.0), (4415, 0.019809219026111807), (4416, 0.01866021741503137), (4417, 0.013116916428691928), (4418, 0.0), (4419, 0.0), (4420, 0.0), (4421, 0.0), (4422, 0.03316082408141669), (4423, 0.03311818205088324), (4424, 0.0), (4425, 0.0), (4426, 0.0), (4427, 0.0), (4428, 0.01605510849261473), (4429, 0.016902526587434446), (4430, 0.012740897662650527), (4431, 0.0), (4432, 0.0), (4433, 0.0), (4434, 0.0), (4435, 0.0), (4436, 0.0), (4437, 0.0), (4438, 0.0), (4439, 0.0), (4440, 0.0), (4441, 0.0), (4442, 0.0), (4443, 0.007518735384093193), (4444, 0.03579903996549493), (4445, 0.0), (4446, 0.0), (4447, 0.0), (4448, 0.0), (4449, 0.0), (4450, 0.0), (4451, 0.0), (4452, 0.0), (4453, 0.011510848338248603), (4454, 0.0), (4455, 0.0), (4456, 0.0), (4457, 0.0), (4458, 0.0), (4459, 0.0), (4460, 0.043286699658212004), (4461, 0.010714533691925742), (4462, 0.0), (4463, 0.006229365770909166), (4464, 0.0), (4465, 0.012998918828229636), (4466, 0.0), (4467, 0.0), (4468, 0.0), (4469, 0.024587726835923026), (4470, 0.0), (4471, 0.0), (4472, 0.0), (4473, 0.0), (4474, 0.0), (4475, 0.0), (4476, 0.0), (4477, 0.0), (4478, 0.017985927834821967), (4479, 0.03142270580563112), (4480, 0.0), (4481, 0.019821433173977082), (4482, 0.04336121745626744), (4483, 0.0), (4484, 0.00935226182386365), (4485, 0.0), (4486, 0.004967875351501165), (4487, 0.0), (4488, 0.0), (4489, 0.03417791412391115), (4490, 0.0), (4491, 0.0), (4492, 0.0), (4493, 0.0), (4494, 0.0), (4495, 0.0), (4496, 0.0), (4497, 0.019048233388180992), (4498, 0.024993764888024263), (4499, 0.0), (4500, 0.0), (4501, 0.015838338226301443), (4502, 0.0), (4503, 0.015104794600057852), (4504, 0.0), (4505, 0.0), (4506, 0.03754461091370229), (4507, 0.0), (4508, 0.0), (4509, 0.01706788176015058), (4510, 0.007518386234603069), (4511, 0.0), (4512, 0.0), (4513, 0.0), (4514, 0.0), (4515, 0.009836415081157044), (4516, 0.0), (4517, 0.016005928347022524), (4518, 0.0), (4519, 0.010321381405389905), (4520, 0.0), (4521, 0.0059703233415715476), (4522, 0.0310529576895793), (4523, 0.0), (4524, 0.012632246032455689), (4525, 0.0), (4526, 0.0), (4527, 0.011886391394244444), (4528, 0.03335133999208763), (4529, 0.0), (4530, 0.0), (4531, 0.01082606861875003), (4532, 0.0), (4533, 0.0), (4534, 0.0), (4535, 0.0), (4536, 0.017309699967050476), (4537, 0.0), (4538, 0.0), (4539, 0.0), (4540, 0.0), (4541, 0.04851684548209528), (4542, 0.027470968802639367), (4543, 0.027994489555233683), (4544, 0.0), (4545, 0.0), (4546, 0.06409604852284062), (4547, 0.0), (4548, 0.0), (4549, 0.006245348361947149), (4550, 0.0), (4551, 0.0), (4552, 0.0), (4553, 0.030111628323373506), (4554, 0.022532036961185584), (4555, 0.0), (4556, 0.0), (4557, 0.03452554840786671), (4558, 0.0), (4559, 0.0), (4560, 0.0), (4561, 0.05973095508955225), (4562, 0.0), (4563, 0.0), (4564, 0.0), (4565, 0.0), (4566, 0.0), (4567, 0.039117136204080055), (4568, 0.0), (4569, 0.0), (4570, 0.0), (4571, 0.01650741558902029), (4572, 0.0), (4573, 0.0), (4574, 0.0), (4575, 0.0), (4576, 0.015528007999867557), (4577, 0.0), (4578, 0.0), (4579, 0.0), (4580, 0.01570127808049851), (4581, 0.0), (4582, 0.0), (4583, 0.028934127565100186), (4584, 0.0), (4585, 0.0), (4586, 0.0), (4587, 0.027107751214424415), (4588, 0.0), (4589, 0.0), (4590, 0.0), (4591, 0.0), (4592, 0.0), (4593, 0.0), (4594, 0.0), (4595, 0.01645392745532954), (4596, 0.0), (4597, 0.0), (4598, 0.0), (4599, 0.0), (4600, 0.0), (4601, 0.010592937001475546), (4602, 0.016363409148716958), (4603, 0.0), (4604, 0.0), (4605, 0.0), (4606, 0.0), (4607, 0.011441712587333347), (4608, 0.0), (4609, 0.0), (4610, 0.0), (4611, 0.00703243539040792), (4612, 0.0), (4613, 0.00956620041118186), (4614, 0.0), (4615, 0.0), (4616, 0.0), (4617, 0.0), (4618, 0.0), (4619, 0.0), (4620, 0.07824637717767405), (4621, 0.0), (4622, 0.0), (4623, 0.0), (4624, 0.0), (4625, 0.0), (4626, 0.06408345719986712), (4627, 0.014841569861124096), (4628, 0.02308375125748663), (4629, 0.0), (4630, 0.0), (4631, 0.01350965509359399), (4632, 0.0), (4633, 0.0), (4634, 0.0), (4635, 0.0), (4636, 0.03193380267976974), (4637, 0.0), (4638, 0.0), (4639, 0.0), (4640, 0.0), (4641, 0.0089583045754463), (4642, 0.0), (4643, 0.0), (4644, 0.03748157396916372), (4645, 0.0), (4646, 0.0), (4647, 0.0), (4648, 0.0), (4649, 0.0), (4650, 0.02249149334560529), (4651, 0.0), (4652, 0.0), (4653, 0.03864227715916415), (4654, 0.008476662707798061), (4655, 0.01020334205117028), (4656, 0.0), (4657, 0.0), (4658, 0.0), (4659, 0.0), (4660, 0.02015876458726317), (4661, 0.026502999806192196), (4662, 0.014454582095809574), (4663, 0.011639141080022203), (4664, 0.0), (4665, 0.04251041205907691), (4666, 0.0), (4667, 0.0), (4668, 0.0), (4669, 0.01353352665468418), (4670, 0.0), (4671, 0.0), (4672, 0.0), (4673, 0.0), (4674, 0.0), (4675, 0.0), (4676, 0.0), (4677, 0.0), (4678, 0.0), (4679, 0.004523600916720135), (4680, 0.0), (4681, 0.0), (4682, 0.0), (4683, 0.0), (4684, 0.023337014081300893), (4685, 0.03233680067310081), (4686, 0.0), (4687, 0.009147827786725297), (4688, 0.0), (4689, 0.0), (4690, 0.0071515901814596765), (4691, 0.013850756518269447), (4692, 0.023958901792757916), (4693, 0.0), (4694, 0.0), (4695, 0.0), (4696, 0.0), (4697, 0.0), (4698, 0.0), (4699, 0.0), (4700, 0.0), (4701, 0.0), (4702, 0.0), (4703, 0.011103339518155463), (4704, 0.0), (4705, 0.0), (4706, 0.030958862105646807), (4707, 0.0), (4708, 0.020444051200480658), (4709, 0.018894580449584315), (4710, 0.012918776373319053), (4711, 0.017018909656598705), (4712, 0.028248062035059394), (4713, 0.0), (4714, 0.0), (4715, 0.0), (4716, 0.0), (4717, 0.0), (4718, 0.0), (4719, 0.0), (4720, 0.0), (4721, 0.0), (4722, 0.02446870417300633), (4723, 0.0), (4724, 0.0), (4725, 0.0), (4726, 0.0), (4727, 0.04364206319923783), (4728, 0.0), (4729, 0.011136005758633398), (4730, 0.04050467840426352), (4731, 0.004159824407168648), (4732, 0.020360359340924384), (4733, 0.0), (4734, 0.04505024674094427), (4735, 0.0), (4736, 0.0), (4737, 0.0), (4738, 0.0), (4739, 0.0), (4740, 0.005650511760042906), (4741, 0.0), (4742, 0.0), (4743, 0.0), (4744, 0.0), (4745, 0.0), (4746, 0.0), (4747, 0.0), (4748, 0.017052340404356332), (4749, 0.0), (4750, 0.0), (4751, 0.00807342333983461), (4752, 0.0), (4753, 0.0), (4754, 0.0), (4755, 0.0), (4756, 0.025523427985689875), (4757, 0.0), (4758, 0.03851053864517804), (4759, 0.0), (4760, 0.0), (4761, 0.0), (4762, 0.0), (4763, 0.0), (4764, 0.0), (4765, 0.0), (4766, 0.0), (4767, 0.020375097238805092), (4768, 0.0), (4769, 0.0), (4770, 0.0), (4771, 0.0), (4772, 0.0), (4773, 0.0), (4774, 0.0), (4775, 0.0), (4776, 0.0), (4777, 0.014588935344354736), (4778, 0.04391633985008498), (4779, 0.0), (4780, 0.0), (4781, 0.0), (4782, 0.0), (4783, 0.037553743203677915), (4784, 0.00854612253023629), (4785, 0.0), (4786, 0.015940468618192913), (4787, 0.0), (4788, 0.0), (4789, 0.0), (4790, 0.0), (4791, 0.0), (4792, 0.0), (4793, 0.014983611355412537), (4794, 0.0), (4795, 0.0), (4796, 0.026723789012402827), (4797, 0.0153980821416383), (4798, 0.0), (4799, 0.0), (4800, 0.019848085019945037), (4801, 0.0), (4802, 0.0)]\n"
     ]
    },
    {
     "data": {
      "text/plain": [
       "7               Avengers: Age of Ultron\n",
       "3144                            Plastic\n",
       "1715                            Timecop\n",
       "4124                 This Thing of Ours\n",
       "3311              Thank You for Smoking\n",
       "3033                      The Corruptor\n",
       "588     Wall Street: Money Never Sleeps\n",
       "2136         Team America: World Police\n",
       "1468                       The Fountain\n",
       "1286                        Snowpiercer\n",
       "Name: title, dtype: object"
      ]
     },
     "execution_count": 207,
     "metadata": {},
     "output_type": "execute_result"
    }
   ],
   "source": [
    "get_recommendations('The Avengers')"
   ]
  },
  {
   "cell_type": "markdown",
   "metadata": {},
   "source": [
    "While our system has done a decent job of finding movies with similar plot descriptions, the quality of recommendations is not that great. \"The Dark Knight Rises\" returns all Batman movies while it is more likely that the people who liked that movie are more inclined to enjoy other Christopher Nolan movies. This is something that cannot be captured by the present system"
   ]
  },
  {
   "cell_type": "markdown",
   "metadata": {},
   "source": [
    "#### Credits, Genres and Keywords Based Recommender\n",
    "It goes without saying that the quality of our recommender would be increased with the usage of better metadata. That is exactly what we are going to do in this section. We are going to build a recommender based on the following metadata: the 3 top actors, the director, related genres and the movie plot keywords.\n",
    "\n",
    "From the cast, crew and keywords features, we need to extract the three most important actors, the director and the keywords associated with that movie. Right now, our data is present in the form of \"stringified\" lists , we need to convert it into a safe and usable structure"
   ]
  },
  {
   "cell_type": "code",
   "execution_count": 198,
   "metadata": {},
   "outputs": [],
   "source": [
    "# Parse the stringified features into their corresponding python objects\n",
    "from ast import literal_eval\n",
    "\n",
    "features = ['cast', 'crew', 'keywords', 'genres']\n",
    "for feature in features:\n",
    "    df2[feature] = df2[feature].apply(literal_eval)"
   ]
  },
  {
   "cell_type": "code",
   "execution_count": 199,
   "metadata": {},
   "outputs": [],
   "source": [
    "# Get the director's name from the crew feature. If director is not listed, return NaN\n",
    "def get_director(x):\n",
    "    for i in x:\n",
    "        if i['job'] == 'Director':\n",
    "            return i['name']\n",
    "    return np.nan"
   ]
  },
  {
   "cell_type": "code",
   "execution_count": 200,
   "metadata": {},
   "outputs": [],
   "source": [
    "# Returns the list top 3 elements or entire list; whichever is more.\n",
    "def get_list(x):\n",
    "    if isinstance(x, list):\n",
    "        names = [i['name'] for i in x]\n",
    "        #Check if more than 3 elements exist. If yes, return only first three. If no, return entire list.\n",
    "        if len(names) > 3:\n",
    "            names = names[:3]\n",
    "        return names\n",
    "\n",
    "    #Return empty list in case of missing/malformed data\n",
    "    return []"
   ]
  },
  {
   "cell_type": "code",
   "execution_count": 201,
   "metadata": {},
   "outputs": [
    {
     "data": {
      "text/html": [
       "<div>\n",
       "<style scoped>\n",
       "    .dataframe tbody tr th:only-of-type {\n",
       "        vertical-align: middle;\n",
       "    }\n",
       "\n",
       "    .dataframe tbody tr th {\n",
       "        vertical-align: top;\n",
       "    }\n",
       "\n",
       "    .dataframe thead th {\n",
       "        text-align: right;\n",
       "    }\n",
       "</style>\n",
       "<table border=\"1\" class=\"dataframe\">\n",
       "  <thead>\n",
       "    <tr style=\"text-align: right;\">\n",
       "      <th></th>\n",
       "      <th>cast</th>\n",
       "      <th>keywords</th>\n",
       "      <th>genres</th>\n",
       "    </tr>\n",
       "  </thead>\n",
       "  <tbody>\n",
       "    <tr>\n",
       "      <td>0</td>\n",
       "      <td>[Sam Worthington, Zoe Saldana, Sigourney Weaver]</td>\n",
       "      <td>[culture clash, future, space war]</td>\n",
       "      <td>[Action, Adventure, Fantasy]</td>\n",
       "    </tr>\n",
       "    <tr>\n",
       "      <td>1</td>\n",
       "      <td>[Johnny Depp, Orlando Bloom, Keira Knightley]</td>\n",
       "      <td>[ocean, drug abuse, exotic island]</td>\n",
       "      <td>[Adventure, Fantasy, Action]</td>\n",
       "    </tr>\n",
       "    <tr>\n",
       "      <td>2</td>\n",
       "      <td>[Daniel Craig, Christoph Waltz, Léa Seydoux]</td>\n",
       "      <td>[spy, based on novel, secret agent]</td>\n",
       "      <td>[Action, Adventure, Crime]</td>\n",
       "    </tr>\n",
       "    <tr>\n",
       "      <td>3</td>\n",
       "      <td>[Christian Bale, Michael Caine, Gary Oldman]</td>\n",
       "      <td>[dc comics, crime fighter, terrorist]</td>\n",
       "      <td>[Action, Crime, Drama]</td>\n",
       "    </tr>\n",
       "    <tr>\n",
       "      <td>4</td>\n",
       "      <td>[Taylor Kitsch, Lynn Collins, Samantha Morton]</td>\n",
       "      <td>[based on novel, mars, medallion]</td>\n",
       "      <td>[Action, Adventure, Science Fiction]</td>\n",
       "    </tr>\n",
       "  </tbody>\n",
       "</table>\n",
       "</div>"
      ],
      "text/plain": [
       "                                               cast  \\\n",
       "0  [Sam Worthington, Zoe Saldana, Sigourney Weaver]   \n",
       "1     [Johnny Depp, Orlando Bloom, Keira Knightley]   \n",
       "2      [Daniel Craig, Christoph Waltz, Léa Seydoux]   \n",
       "3      [Christian Bale, Michael Caine, Gary Oldman]   \n",
       "4    [Taylor Kitsch, Lynn Collins, Samantha Morton]   \n",
       "\n",
       "                                keywords                                genres  \n",
       "0     [culture clash, future, space war]          [Action, Adventure, Fantasy]  \n",
       "1     [ocean, drug abuse, exotic island]          [Adventure, Fantasy, Action]  \n",
       "2    [spy, based on novel, secret agent]            [Action, Adventure, Crime]  \n",
       "3  [dc comics, crime fighter, terrorist]                [Action, Crime, Drama]  \n",
       "4      [based on novel, mars, medallion]  [Action, Adventure, Science Fiction]  "
      ]
     },
     "execution_count": 201,
     "metadata": {},
     "output_type": "execute_result"
    }
   ],
   "source": [
    "# Define new director, cast, genres and keywords features that are in a suitable form.\n",
    "df2['director'] = df2['crew'].apply(get_director)\n",
    "\n",
    "features = ['cast', 'keywords', 'genres']\n",
    "for feature in features:\n",
    "    df2[feature] = df2[feature].apply(get_list)\n",
    "df2.loc[:,features].head()"
   ]
  },
  {
   "cell_type": "code",
   "execution_count": 202,
   "metadata": {},
   "outputs": [
    {
     "data": {
      "text/html": [
       "<div>\n",
       "<style scoped>\n",
       "    .dataframe tbody tr th:only-of-type {\n",
       "        vertical-align: middle;\n",
       "    }\n",
       "\n",
       "    .dataframe tbody tr th {\n",
       "        vertical-align: top;\n",
       "    }\n",
       "\n",
       "    .dataframe thead th {\n",
       "        text-align: right;\n",
       "    }\n",
       "</style>\n",
       "<table border=\"1\" class=\"dataframe\">\n",
       "  <thead>\n",
       "    <tr style=\"text-align: right;\">\n",
       "      <th></th>\n",
       "      <th>title</th>\n",
       "      <th>cast</th>\n",
       "      <th>director</th>\n",
       "      <th>keywords</th>\n",
       "      <th>genres</th>\n",
       "    </tr>\n",
       "  </thead>\n",
       "  <tbody>\n",
       "    <tr>\n",
       "      <td>0</td>\n",
       "      <td>Avatar</td>\n",
       "      <td>[Sam Worthington, Zoe Saldana, Sigourney Weaver]</td>\n",
       "      <td>James Cameron</td>\n",
       "      <td>[culture clash, future, space war]</td>\n",
       "      <td>[Action, Adventure, Fantasy]</td>\n",
       "    </tr>\n",
       "    <tr>\n",
       "      <td>1</td>\n",
       "      <td>Pirates of the Caribbean: At World's End</td>\n",
       "      <td>[Johnny Depp, Orlando Bloom, Keira Knightley]</td>\n",
       "      <td>Gore Verbinski</td>\n",
       "      <td>[ocean, drug abuse, exotic island]</td>\n",
       "      <td>[Adventure, Fantasy, Action]</td>\n",
       "    </tr>\n",
       "    <tr>\n",
       "      <td>2</td>\n",
       "      <td>Spectre</td>\n",
       "      <td>[Daniel Craig, Christoph Waltz, Léa Seydoux]</td>\n",
       "      <td>Sam Mendes</td>\n",
       "      <td>[spy, based on novel, secret agent]</td>\n",
       "      <td>[Action, Adventure, Crime]</td>\n",
       "    </tr>\n",
       "  </tbody>\n",
       "</table>\n",
       "</div>"
      ],
      "text/plain": [
       "                                      title  \\\n",
       "0                                    Avatar   \n",
       "1  Pirates of the Caribbean: At World's End   \n",
       "2                                   Spectre   \n",
       "\n",
       "                                               cast        director  \\\n",
       "0  [Sam Worthington, Zoe Saldana, Sigourney Weaver]   James Cameron   \n",
       "1     [Johnny Depp, Orlando Bloom, Keira Knightley]  Gore Verbinski   \n",
       "2      [Daniel Craig, Christoph Waltz, Léa Seydoux]      Sam Mendes   \n",
       "\n",
       "                              keywords                        genres  \n",
       "0   [culture clash, future, space war]  [Action, Adventure, Fantasy]  \n",
       "1   [ocean, drug abuse, exotic island]  [Adventure, Fantasy, Action]  \n",
       "2  [spy, based on novel, secret agent]    [Action, Adventure, Crime]  "
      ]
     },
     "execution_count": 202,
     "metadata": {},
     "output_type": "execute_result"
    }
   ],
   "source": [
    "# Print the new features of the first 3 films\n",
    "df2[['title', 'cast', 'director', 'keywords', 'genres']].head(3)"
   ]
  },
  {
   "cell_type": "markdown",
   "metadata": {},
   "source": [
    "The next step would be to convert the names and keyword instances into lowercase and strip all the spaces between them. This is done so that our vectorizer doesn't count the Johnny of \"Johnny Depp\" and \"Johnny Galecki\" as the same.\n"
   ]
  },
  {
   "cell_type": "code",
   "execution_count": 203,
   "metadata": {},
   "outputs": [],
   "source": [
    "# Function to convert all strings to lower case and strip names of spaces\n",
    "def clean_data(x):\n",
    "    if isinstance(x, list):\n",
    "        return [str.lower(i.replace(\" \", \"\")) for i in x]\n",
    "    else:\n",
    "        #Check if director exists. If not, return empty string\n",
    "        if isinstance(x, str):\n",
    "            return str.lower(x.replace(\" \", \"\"))\n",
    "        else:\n",
    "            return ''"
   ]
  },
  {
   "cell_type": "code",
   "execution_count": 204,
   "metadata": {},
   "outputs": [],
   "source": [
    "# Apply clean_data function to your features.\n",
    "features = ['cast', 'keywords', 'director', 'genres']\n",
    "\n",
    "for feature in features:\n",
    "    df2[feature] = df2[feature].apply(clean_data)"
   ]
  },
  {
   "cell_type": "markdown",
   "metadata": {},
   "source": [
    "We are now in a position to create our \"metadata soup\", which is a string that contains all the metadata that we want to feed to our vectorizer (namely actors, director and keywords).\n",
    "\n"
   ]
  },
  {
   "cell_type": "code",
   "execution_count": 205,
   "metadata": {},
   "outputs": [
    {
     "data": {
      "text/plain": [
       "0    cultureclash future spacewar samworthington zo...\n",
       "1    ocean drugabuse exoticisland johnnydepp orland...\n",
       "2    spy basedonnovel secretagent danielcraig chris...\n",
       "3    dccomics crimefighter terrorist christianbale ...\n",
       "4    basedonnovel mars medallion taylorkitsch lynnc...\n",
       "Name: soup, dtype: object"
      ]
     },
     "execution_count": 205,
     "metadata": {},
     "output_type": "execute_result"
    }
   ],
   "source": [
    "def create_soup(x):\n",
    "    return ' '.join(x['keywords']) + ' ' + ' '.join(x['cast']) + ' ' + x['director'] + ' ' + ' '.join(x['genres'])\n",
    "df2['soup'] = df2.apply(create_soup, axis=1)\n",
    "df2['soup'].head()"
   ]
  },
  {
   "cell_type": "markdown",
   "metadata": {},
   "source": [
    "The next steps are the same as what we did with our plot description based recommender. One important difference is that we use the CountVectorizer() instead of TF-IDF. This is because we do not want to down-weight the presence of an actor/director if he or she has acted or directed in relatively more movies. It doesn't make much intuitive sense."
   ]
  },
  {
   "cell_type": "code",
   "execution_count": 119,
   "metadata": {},
   "outputs": [],
   "source": [
    "# Import CountVectorizer and create the count matrix\n",
    "from sklearn.feature_extraction.text import CountVectorizer\n",
    "\n",
    "count = CountVectorizer(stop_words='english')\n",
    "count_matrix = count.fit_transform(df2['soup'])"
   ]
  },
  {
   "cell_type": "code",
   "execution_count": 120,
   "metadata": {},
   "outputs": [],
   "source": [
    "# Compute the Cosine Similarity matrix based on the count_matrix\n",
    "from sklearn.metrics.pairwise import cosine_similarity\n",
    "\n",
    "cosine_sim2 = cosine_similarity(count_matrix, count_matrix)"
   ]
  },
  {
   "cell_type": "code",
   "execution_count": 121,
   "metadata": {},
   "outputs": [],
   "source": [
    "# Reset index of our main DataFrame and construct reverse mapping as before\n",
    "df2 = df2.reset_index()\n",
    "indices = pd.Series(df2.index, index=df2['title'])"
   ]
  },
  {
   "cell_type": "code",
   "execution_count": 122,
   "metadata": {},
   "outputs": [
    {
     "data": {
      "text/plain": [
       "65               The Dark Knight\n",
       "119                Batman Begins\n",
       "4638    Amidst the Devil's Wings\n",
       "1196                The Prestige\n",
       "3073           Romeo Is Bleeding\n",
       "3326              Black November\n",
       "1503                      Takers\n",
       "1986                      Faster\n",
       "303                     Catwoman\n",
       "747               Gangster Squad\n",
       "Name: title, dtype: object"
      ]
     },
     "execution_count": 122,
     "metadata": {},
     "output_type": "execute_result"
    }
   ],
   "source": [
    "get_recommendations('The Dark Knight Rises', cosine_sim2)"
   ]
  },
  {
   "cell_type": "code",
   "execution_count": 123,
   "metadata": {},
   "outputs": [
    {
     "data": {
      "text/plain": [
       "867      The Godfather: Part III\n",
       "2731      The Godfather: Part II\n",
       "4638    Amidst the Devil's Wings\n",
       "2649           The Son of No One\n",
       "1525              Apocalypse Now\n",
       "1018             The Cotton Club\n",
       "1170     The Talented Mr. Ripley\n",
       "1209               The Rainmaker\n",
       "1394               Donnie Brasco\n",
       "1850                    Scarface\n",
       "Name: title, dtype: object"
      ]
     },
     "execution_count": 123,
     "metadata": {},
     "output_type": "execute_result"
    }
   ],
   "source": [
    "get_recommendations('The Godfather', cosine_sim2)"
   ]
  },
  {
   "cell_type": "markdown",
   "metadata": {},
   "source": [
    "We see that our recommender has been successful in capturing more information due to more metadata and has given us (arguably) better recommendations. It is more likely that Marvels or DC comics fans will like the movies of the same production house. Therefore, to our features above we can add production_company . We can also increase the weight of the director , by adding the feature multiple times in the soup."
   ]
  },
  {
   "cell_type": "markdown",
   "metadata": {},
   "source": [
    "### Collaborative Filtering\n",
    "\n",
    "- User based\n",
    "  -problem user intrest change time to time\n",
    "- Item based\n",
    "  -problem scalability\n",
    "- Single Value Decomposition\n",
    "  One way to handle the scalability and sparsity issue created by CF is to leverage a latent factor model to capture the similarity between users and items. Essentially, we want to turn the recommendation problem into an optimization problem. We can view it as how good we are in predicting the rating for items given a user. One common metric is Root Mean Square Error (RMSE). The lower the RMSE, the better the performance\n",
    "SVD decreases the dimension of the utility matrix by extracting its latent factors. Essentially, we map each user and each item into a latent space with dimension r. Therefore, it helps us better understand the relationship between users and items as they become directly comparable. The below figure illustrates this idea.\n"
   ]
  },
  {
   "cell_type": "code",
   "execution_count": 124,
   "metadata": {},
   "outputs": [
    {
     "data": {
      "text/html": [
       "<div>\n",
       "<style scoped>\n",
       "    .dataframe tbody tr th:only-of-type {\n",
       "        vertical-align: middle;\n",
       "    }\n",
       "\n",
       "    .dataframe tbody tr th {\n",
       "        vertical-align: top;\n",
       "    }\n",
       "\n",
       "    .dataframe thead th {\n",
       "        text-align: right;\n",
       "    }\n",
       "</style>\n",
       "<table border=\"1\" class=\"dataframe\">\n",
       "  <thead>\n",
       "    <tr style=\"text-align: right;\">\n",
       "      <th></th>\n",
       "      <th>userId</th>\n",
       "      <th>movieId</th>\n",
       "      <th>rating</th>\n",
       "      <th>timestamp</th>\n",
       "    </tr>\n",
       "  </thead>\n",
       "  <tbody>\n",
       "    <tr>\n",
       "      <td>0</td>\n",
       "      <td>1</td>\n",
       "      <td>31</td>\n",
       "      <td>2.5</td>\n",
       "      <td>1260759144</td>\n",
       "    </tr>\n",
       "    <tr>\n",
       "      <td>1</td>\n",
       "      <td>1</td>\n",
       "      <td>1029</td>\n",
       "      <td>3.0</td>\n",
       "      <td>1260759179</td>\n",
       "    </tr>\n",
       "    <tr>\n",
       "      <td>2</td>\n",
       "      <td>1</td>\n",
       "      <td>1061</td>\n",
       "      <td>3.0</td>\n",
       "      <td>1260759182</td>\n",
       "    </tr>\n",
       "    <tr>\n",
       "      <td>3</td>\n",
       "      <td>1</td>\n",
       "      <td>1129</td>\n",
       "      <td>2.0</td>\n",
       "      <td>1260759185</td>\n",
       "    </tr>\n",
       "    <tr>\n",
       "      <td>4</td>\n",
       "      <td>1</td>\n",
       "      <td>1172</td>\n",
       "      <td>4.0</td>\n",
       "      <td>1260759205</td>\n",
       "    </tr>\n",
       "  </tbody>\n",
       "</table>\n",
       "</div>"
      ],
      "text/plain": [
       "   userId  movieId  rating   timestamp\n",
       "0       1       31     2.5  1260759144\n",
       "1       1     1029     3.0  1260759179\n",
       "2       1     1061     3.0  1260759182\n",
       "3       1     1129     2.0  1260759185\n",
       "4       1     1172     4.0  1260759205"
      ]
     },
     "execution_count": 124,
     "metadata": {},
     "output_type": "execute_result"
    }
   ],
   "source": [
    "from surprise import Reader, Dataset\n",
    "reader = Reader()\n",
    "ratings = pd.read_csv('./data/ratings_small.csv')\n",
    "ratings.head()"
   ]
  },
  {
   "cell_type": "code",
   "execution_count": 125,
   "metadata": {},
   "outputs": [
    {
     "data": {
      "text/html": [
       "<div>\n",
       "<style scoped>\n",
       "    .dataframe tbody tr th:only-of-type {\n",
       "        vertical-align: middle;\n",
       "    }\n",
       "\n",
       "    .dataframe tbody tr th {\n",
       "        vertical-align: top;\n",
       "    }\n",
       "\n",
       "    .dataframe thead th {\n",
       "        text-align: right;\n",
       "    }\n",
       "</style>\n",
       "<table border=\"1\" class=\"dataframe\">\n",
       "  <thead>\n",
       "    <tr style=\"text-align: right;\">\n",
       "      <th>movieId</th>\n",
       "      <th>1</th>\n",
       "      <th>2</th>\n",
       "      <th>3</th>\n",
       "      <th>4</th>\n",
       "      <th>5</th>\n",
       "      <th>6</th>\n",
       "      <th>7</th>\n",
       "      <th>8</th>\n",
       "      <th>9</th>\n",
       "      <th>10</th>\n",
       "      <th>...</th>\n",
       "      <th>161084</th>\n",
       "      <th>161155</th>\n",
       "      <th>161594</th>\n",
       "      <th>161830</th>\n",
       "      <th>161918</th>\n",
       "      <th>161944</th>\n",
       "      <th>162376</th>\n",
       "      <th>162542</th>\n",
       "      <th>162672</th>\n",
       "      <th>163949</th>\n",
       "    </tr>\n",
       "    <tr>\n",
       "      <th>userId</th>\n",
       "      <th></th>\n",
       "      <th></th>\n",
       "      <th></th>\n",
       "      <th></th>\n",
       "      <th></th>\n",
       "      <th></th>\n",
       "      <th></th>\n",
       "      <th></th>\n",
       "      <th></th>\n",
       "      <th></th>\n",
       "      <th></th>\n",
       "      <th></th>\n",
       "      <th></th>\n",
       "      <th></th>\n",
       "      <th></th>\n",
       "      <th></th>\n",
       "      <th></th>\n",
       "      <th></th>\n",
       "      <th></th>\n",
       "      <th></th>\n",
       "      <th></th>\n",
       "    </tr>\n",
       "  </thead>\n",
       "  <tbody>\n",
       "    <tr>\n",
       "      <td>1</td>\n",
       "      <td>0.0</td>\n",
       "      <td>0.0</td>\n",
       "      <td>0.0</td>\n",
       "      <td>0.0</td>\n",
       "      <td>0.0</td>\n",
       "      <td>0.0</td>\n",
       "      <td>0.0</td>\n",
       "      <td>0.0</td>\n",
       "      <td>0.0</td>\n",
       "      <td>0.0</td>\n",
       "      <td>...</td>\n",
       "      <td>0.0</td>\n",
       "      <td>0.0</td>\n",
       "      <td>0.0</td>\n",
       "      <td>0.0</td>\n",
       "      <td>0.0</td>\n",
       "      <td>0.0</td>\n",
       "      <td>0.0</td>\n",
       "      <td>0.0</td>\n",
       "      <td>0.0</td>\n",
       "      <td>0.0</td>\n",
       "    </tr>\n",
       "    <tr>\n",
       "      <td>2</td>\n",
       "      <td>0.0</td>\n",
       "      <td>0.0</td>\n",
       "      <td>0.0</td>\n",
       "      <td>0.0</td>\n",
       "      <td>0.0</td>\n",
       "      <td>0.0</td>\n",
       "      <td>0.0</td>\n",
       "      <td>0.0</td>\n",
       "      <td>0.0</td>\n",
       "      <td>4.0</td>\n",
       "      <td>...</td>\n",
       "      <td>0.0</td>\n",
       "      <td>0.0</td>\n",
       "      <td>0.0</td>\n",
       "      <td>0.0</td>\n",
       "      <td>0.0</td>\n",
       "      <td>0.0</td>\n",
       "      <td>0.0</td>\n",
       "      <td>0.0</td>\n",
       "      <td>0.0</td>\n",
       "      <td>0.0</td>\n",
       "    </tr>\n",
       "    <tr>\n",
       "      <td>3</td>\n",
       "      <td>0.0</td>\n",
       "      <td>0.0</td>\n",
       "      <td>0.0</td>\n",
       "      <td>0.0</td>\n",
       "      <td>0.0</td>\n",
       "      <td>0.0</td>\n",
       "      <td>0.0</td>\n",
       "      <td>0.0</td>\n",
       "      <td>0.0</td>\n",
       "      <td>0.0</td>\n",
       "      <td>...</td>\n",
       "      <td>0.0</td>\n",
       "      <td>0.0</td>\n",
       "      <td>0.0</td>\n",
       "      <td>0.0</td>\n",
       "      <td>0.0</td>\n",
       "      <td>0.0</td>\n",
       "      <td>0.0</td>\n",
       "      <td>0.0</td>\n",
       "      <td>0.0</td>\n",
       "      <td>0.0</td>\n",
       "    </tr>\n",
       "    <tr>\n",
       "      <td>4</td>\n",
       "      <td>0.0</td>\n",
       "      <td>0.0</td>\n",
       "      <td>0.0</td>\n",
       "      <td>0.0</td>\n",
       "      <td>0.0</td>\n",
       "      <td>0.0</td>\n",
       "      <td>0.0</td>\n",
       "      <td>0.0</td>\n",
       "      <td>0.0</td>\n",
       "      <td>4.0</td>\n",
       "      <td>...</td>\n",
       "      <td>0.0</td>\n",
       "      <td>0.0</td>\n",
       "      <td>0.0</td>\n",
       "      <td>0.0</td>\n",
       "      <td>0.0</td>\n",
       "      <td>0.0</td>\n",
       "      <td>0.0</td>\n",
       "      <td>0.0</td>\n",
       "      <td>0.0</td>\n",
       "      <td>0.0</td>\n",
       "    </tr>\n",
       "    <tr>\n",
       "      <td>5</td>\n",
       "      <td>0.0</td>\n",
       "      <td>0.0</td>\n",
       "      <td>4.0</td>\n",
       "      <td>0.0</td>\n",
       "      <td>0.0</td>\n",
       "      <td>0.0</td>\n",
       "      <td>0.0</td>\n",
       "      <td>0.0</td>\n",
       "      <td>0.0</td>\n",
       "      <td>0.0</td>\n",
       "      <td>...</td>\n",
       "      <td>0.0</td>\n",
       "      <td>0.0</td>\n",
       "      <td>0.0</td>\n",
       "      <td>0.0</td>\n",
       "      <td>0.0</td>\n",
       "      <td>0.0</td>\n",
       "      <td>0.0</td>\n",
       "      <td>0.0</td>\n",
       "      <td>0.0</td>\n",
       "      <td>0.0</td>\n",
       "    </tr>\n",
       "  </tbody>\n",
       "</table>\n",
       "<p>5 rows × 9066 columns</p>\n",
       "</div>"
      ],
      "text/plain": [
       "movieId  1       2       3       4       5       6       7       8       \\\n",
       "userId                                                                    \n",
       "1           0.0     0.0     0.0     0.0     0.0     0.0     0.0     0.0   \n",
       "2           0.0     0.0     0.0     0.0     0.0     0.0     0.0     0.0   \n",
       "3           0.0     0.0     0.0     0.0     0.0     0.0     0.0     0.0   \n",
       "4           0.0     0.0     0.0     0.0     0.0     0.0     0.0     0.0   \n",
       "5           0.0     0.0     4.0     0.0     0.0     0.0     0.0     0.0   \n",
       "\n",
       "movieId  9       10      ...  161084  161155  161594  161830  161918  161944  \\\n",
       "userId                   ...                                                   \n",
       "1           0.0     0.0  ...     0.0     0.0     0.0     0.0     0.0     0.0   \n",
       "2           0.0     4.0  ...     0.0     0.0     0.0     0.0     0.0     0.0   \n",
       "3           0.0     0.0  ...     0.0     0.0     0.0     0.0     0.0     0.0   \n",
       "4           0.0     4.0  ...     0.0     0.0     0.0     0.0     0.0     0.0   \n",
       "5           0.0     0.0  ...     0.0     0.0     0.0     0.0     0.0     0.0   \n",
       "\n",
       "movieId  162376  162542  162672  163949  \n",
       "userId                                   \n",
       "1           0.0     0.0     0.0     0.0  \n",
       "2           0.0     0.0     0.0     0.0  \n",
       "3           0.0     0.0     0.0     0.0  \n",
       "4           0.0     0.0     0.0     0.0  \n",
       "5           0.0     0.0     0.0     0.0  \n",
       "\n",
       "[5 rows x 9066 columns]"
      ]
     },
     "execution_count": 125,
     "metadata": {},
     "output_type": "execute_result"
    }
   ],
   "source": [
    "user_item = ratings.groupby(['userId', 'movieId'])['rating'].first().unstack(fill_value=0.0)\n",
    "user_item.head()"
   ]
  },
  {
   "cell_type": "code",
   "execution_count": 126,
   "metadata": {},
   "outputs": [
    {
     "data": {
      "text/plain": [
       "movieId\n",
       "7502    5.0\n",
       "1196    5.0\n",
       "1097    5.0\n",
       "318     5.0\n",
       "589     5.0\n",
       "Name: 42, dtype: float64"
      ]
     },
     "execution_count": 126,
     "metadata": {},
     "output_type": "execute_result"
    }
   ],
   "source": [
    "# What are the top rated movies for user 42\n",
    "user_item.loc[42].sort_values(ascending=False).head()"
   ]
  },
  {
   "cell_type": "code",
   "execution_count": 127,
   "metadata": {},
   "outputs": [
    {
     "data": {
      "text/plain": [
       "(50,)"
      ]
     },
     "execution_count": 127,
     "metadata": {},
     "output_type": "execute_result"
    }
   ],
   "source": [
    "from scipy.sparse.linalg import svds\n",
    "U, sigma, Vt = svds(user_item, k = 50)\n",
    "sigma.shape"
   ]
  },
  {
   "cell_type": "code",
   "execution_count": 128,
   "metadata": {},
   "outputs": [
    {
     "data": {
      "text/plain": [
       "((671, 50), (50, 9066))"
      ]
     },
     "execution_count": 128,
     "metadata": {},
     "output_type": "execute_result"
    }
   ],
   "source": [
    "U.shape, Vt.shape"
   ]
  },
  {
   "cell_type": "code",
   "execution_count": 129,
   "metadata": {},
   "outputs": [],
   "source": [
    "sigma_diag_matrix=np.diag(sigma)"
   ]
  },
  {
   "cell_type": "code",
   "execution_count": 130,
   "metadata": {},
   "outputs": [],
   "source": [
    "all_user_predicted_ratings = np.dot(np.dot(U, sigma_diag_matrix), Vt)\n",
    "#all_user_predicted_ratings_demeaned = all_user_predicted_ratings +  user_ratings_mean.reshape(-1, 1)\n",
    "preds_df = pd.DataFrame(all_user_predicted_ratings, columns = user_item.columns, index=user_item.index)"
   ]
  },
  {
   "cell_type": "code",
   "execution_count": 131,
   "metadata": {},
   "outputs": [
    {
     "data": {
      "text/plain": [
       "(671, 9066)"
      ]
     },
     "execution_count": 131,
     "metadata": {},
     "output_type": "execute_result"
    }
   ],
   "source": [
    "preds_df.shape"
   ]
  },
  {
   "cell_type": "code",
   "execution_count": 132,
   "metadata": {},
   "outputs": [
    {
     "data": {
      "text/html": [
       "<div>\n",
       "<style scoped>\n",
       "    .dataframe tbody tr th:only-of-type {\n",
       "        vertical-align: middle;\n",
       "    }\n",
       "\n",
       "    .dataframe tbody tr th {\n",
       "        vertical-align: top;\n",
       "    }\n",
       "\n",
       "    .dataframe thead th {\n",
       "        text-align: right;\n",
       "    }\n",
       "</style>\n",
       "<table border=\"1\" class=\"dataframe\">\n",
       "  <thead>\n",
       "    <tr style=\"text-align: right;\">\n",
       "      <th>movieId</th>\n",
       "      <th>1</th>\n",
       "      <th>2</th>\n",
       "      <th>3</th>\n",
       "      <th>4</th>\n",
       "      <th>5</th>\n",
       "      <th>6</th>\n",
       "      <th>7</th>\n",
       "      <th>8</th>\n",
       "      <th>9</th>\n",
       "      <th>10</th>\n",
       "      <th>...</th>\n",
       "      <th>161084</th>\n",
       "      <th>161155</th>\n",
       "      <th>161594</th>\n",
       "      <th>161830</th>\n",
       "      <th>161918</th>\n",
       "      <th>161944</th>\n",
       "      <th>162376</th>\n",
       "      <th>162542</th>\n",
       "      <th>162672</th>\n",
       "      <th>163949</th>\n",
       "    </tr>\n",
       "    <tr>\n",
       "      <th>userId</th>\n",
       "      <th></th>\n",
       "      <th></th>\n",
       "      <th></th>\n",
       "      <th></th>\n",
       "      <th></th>\n",
       "      <th></th>\n",
       "      <th></th>\n",
       "      <th></th>\n",
       "      <th></th>\n",
       "      <th></th>\n",
       "      <th></th>\n",
       "      <th></th>\n",
       "      <th></th>\n",
       "      <th></th>\n",
       "      <th></th>\n",
       "      <th></th>\n",
       "      <th></th>\n",
       "      <th></th>\n",
       "      <th></th>\n",
       "      <th></th>\n",
       "      <th></th>\n",
       "    </tr>\n",
       "  </thead>\n",
       "  <tbody>\n",
       "    <tr>\n",
       "      <td>1</td>\n",
       "      <td>-0.057419</td>\n",
       "      <td>0.044156</td>\n",
       "      <td>-0.003525</td>\n",
       "      <td>-0.014026</td>\n",
       "      <td>-0.011693</td>\n",
       "      <td>0.037647</td>\n",
       "      <td>-0.011436</td>\n",
       "      <td>-0.012794</td>\n",
       "      <td>0.017412</td>\n",
       "      <td>0.037456</td>\n",
       "      <td>...</td>\n",
       "      <td>-0.001519</td>\n",
       "      <td>0.000171</td>\n",
       "      <td>0.016497</td>\n",
       "      <td>0.000130</td>\n",
       "      <td>0.000195</td>\n",
       "      <td>-0.013686</td>\n",
       "      <td>0.024746</td>\n",
       "      <td>-0.000700</td>\n",
       "      <td>-0.000420</td>\n",
       "      <td>-0.003038</td>\n",
       "    </tr>\n",
       "    <tr>\n",
       "      <td>2</td>\n",
       "      <td>0.397099</td>\n",
       "      <td>1.422453</td>\n",
       "      <td>-0.175735</td>\n",
       "      <td>0.166606</td>\n",
       "      <td>0.269432</td>\n",
       "      <td>0.385791</td>\n",
       "      <td>0.068086</td>\n",
       "      <td>0.043673</td>\n",
       "      <td>-0.004759</td>\n",
       "      <td>2.241940</td>\n",
       "      <td>...</td>\n",
       "      <td>-0.002005</td>\n",
       "      <td>0.000998</td>\n",
       "      <td>-0.007596</td>\n",
       "      <td>0.000552</td>\n",
       "      <td>0.000828</td>\n",
       "      <td>-0.059196</td>\n",
       "      <td>-0.011395</td>\n",
       "      <td>0.005804</td>\n",
       "      <td>0.003482</td>\n",
       "      <td>-0.004010</td>\n",
       "    </tr>\n",
       "    <tr>\n",
       "      <td>3</td>\n",
       "      <td>1.275403</td>\n",
       "      <td>0.296807</td>\n",
       "      <td>0.033442</td>\n",
       "      <td>-0.010834</td>\n",
       "      <td>0.100854</td>\n",
       "      <td>0.062972</td>\n",
       "      <td>-0.088911</td>\n",
       "      <td>0.009645</td>\n",
       "      <td>-0.002955</td>\n",
       "      <td>0.227495</td>\n",
       "      <td>...</td>\n",
       "      <td>-0.002610</td>\n",
       "      <td>-0.004553</td>\n",
       "      <td>-0.011604</td>\n",
       "      <td>0.000279</td>\n",
       "      <td>0.000419</td>\n",
       "      <td>-0.008031</td>\n",
       "      <td>-0.017406</td>\n",
       "      <td>0.008379</td>\n",
       "      <td>0.005027</td>\n",
       "      <td>-0.005219</td>\n",
       "    </tr>\n",
       "    <tr>\n",
       "      <td>4</td>\n",
       "      <td>1.183095</td>\n",
       "      <td>1.016435</td>\n",
       "      <td>0.105598</td>\n",
       "      <td>0.074721</td>\n",
       "      <td>-0.337196</td>\n",
       "      <td>-1.433923</td>\n",
       "      <td>-0.337587</td>\n",
       "      <td>-0.154619</td>\n",
       "      <td>-0.056599</td>\n",
       "      <td>1.551431</td>\n",
       "      <td>...</td>\n",
       "      <td>0.023616</td>\n",
       "      <td>0.008438</td>\n",
       "      <td>0.058714</td>\n",
       "      <td>0.003375</td>\n",
       "      <td>0.005062</td>\n",
       "      <td>0.150868</td>\n",
       "      <td>0.088071</td>\n",
       "      <td>-0.023062</td>\n",
       "      <td>-0.013837</td>\n",
       "      <td>0.047233</td>\n",
       "    </tr>\n",
       "    <tr>\n",
       "      <td>5</td>\n",
       "      <td>1.338518</td>\n",
       "      <td>1.510306</td>\n",
       "      <td>0.655975</td>\n",
       "      <td>-0.030616</td>\n",
       "      <td>0.764755</td>\n",
       "      <td>-0.159291</td>\n",
       "      <td>0.009004</td>\n",
       "      <td>0.054437</td>\n",
       "      <td>-0.134904</td>\n",
       "      <td>0.396755</td>\n",
       "      <td>...</td>\n",
       "      <td>0.001700</td>\n",
       "      <td>-0.000225</td>\n",
       "      <td>0.016028</td>\n",
       "      <td>0.006308</td>\n",
       "      <td>0.009463</td>\n",
       "      <td>-0.005235</td>\n",
       "      <td>0.024042</td>\n",
       "      <td>0.013163</td>\n",
       "      <td>0.007898</td>\n",
       "      <td>0.003400</td>\n",
       "    </tr>\n",
       "  </tbody>\n",
       "</table>\n",
       "<p>5 rows × 9066 columns</p>\n",
       "</div>"
      ],
      "text/plain": [
       "movieId    1         2         3         4         5         6         7       \\\n",
       "userId                                                                          \n",
       "1       -0.057419  0.044156 -0.003525 -0.014026 -0.011693  0.037647 -0.011436   \n",
       "2        0.397099  1.422453 -0.175735  0.166606  0.269432  0.385791  0.068086   \n",
       "3        1.275403  0.296807  0.033442 -0.010834  0.100854  0.062972 -0.088911   \n",
       "4        1.183095  1.016435  0.105598  0.074721 -0.337196 -1.433923 -0.337587   \n",
       "5        1.338518  1.510306  0.655975 -0.030616  0.764755 -0.159291  0.009004   \n",
       "\n",
       "movieId    8         9         10      ...    161084    161155    161594  \\\n",
       "userId                                 ...                                 \n",
       "1       -0.012794  0.017412  0.037456  ... -0.001519  0.000171  0.016497   \n",
       "2        0.043673 -0.004759  2.241940  ... -0.002005  0.000998 -0.007596   \n",
       "3        0.009645 -0.002955  0.227495  ... -0.002610 -0.004553 -0.011604   \n",
       "4       -0.154619 -0.056599  1.551431  ...  0.023616  0.008438  0.058714   \n",
       "5        0.054437 -0.134904  0.396755  ...  0.001700 -0.000225  0.016028   \n",
       "\n",
       "movieId    161830    161918    161944    162376    162542    162672    163949  \n",
       "userId                                                                         \n",
       "1        0.000130  0.000195 -0.013686  0.024746 -0.000700 -0.000420 -0.003038  \n",
       "2        0.000552  0.000828 -0.059196 -0.011395  0.005804  0.003482 -0.004010  \n",
       "3        0.000279  0.000419 -0.008031 -0.017406  0.008379  0.005027 -0.005219  \n",
       "4        0.003375  0.005062  0.150868  0.088071 -0.023062 -0.013837  0.047233  \n",
       "5        0.006308  0.009463 -0.005235  0.024042  0.013163  0.007898  0.003400  \n",
       "\n",
       "[5 rows x 9066 columns]"
      ]
     },
     "execution_count": 132,
     "metadata": {},
     "output_type": "execute_result"
    }
   ],
   "source": [
    "preds_df.head()"
   ]
  },
  {
   "cell_type": "code",
   "execution_count": 133,
   "metadata": {},
   "outputs": [
    {
     "data": {
      "text/plain": [
       "movieId\n",
       "7502    5.0\n",
       "1196    5.0\n",
       "1097    5.0\n",
       "318     5.0\n",
       "589     5.0\n",
       "1200    5.0\n",
       "4993    5.0\n",
       "296     5.0\n",
       "1198    5.0\n",
       "1036    5.0\n",
       "Name: 42, dtype: float64"
      ]
     },
     "execution_count": 133,
     "metadata": {},
     "output_type": "execute_result"
    }
   ],
   "source": [
    "# Top-10 recommended movies for user 42\n",
    "user_item.loc[42].sort_values(ascending=False).head(10)"
   ]
  },
  {
   "cell_type": "code",
   "execution_count": 134,
   "metadata": {},
   "outputs": [],
   "source": [
    "movies_user_42 = user_item.loc[42]"
   ]
  },
  {
   "cell_type": "code",
   "execution_count": 135,
   "metadata": {},
   "outputs": [],
   "source": [
    "high_rated_movies_42 = movies_user_42[movies_user_42 > 3].index"
   ]
  },
  {
   "cell_type": "code",
   "execution_count": 136,
   "metadata": {},
   "outputs": [
    {
     "data": {
      "text/plain": [
       "Int64Index([   110,    165,    260,    296,    318,    349,    356,    380,\n",
       "               457,    480,    508,    527,    588,    589,    648,    733,\n",
       "               780,   1036,   1097,   1196,   1198,   1200,   1210,   1291,\n",
       "              1370,   1527,   1704,   1721,   2028,   2571,   2916,   2985,\n",
       "              3793,   4886,   4993,   5349,   5952,   7153,   7502,   8636,\n",
       "              8961,  33794,  40815,  44191,  48394,  48516,  58559,  59315,\n",
       "             68358,  69844,  70286,  73017,  74458,  76093,  79132,  87232,\n",
       "             89745,  91529, 106782, 109487, 112852, 122886],\n",
       "           dtype='int64', name='movieId')"
      ]
     },
     "execution_count": 136,
     "metadata": {},
     "output_type": "execute_result"
    }
   ],
   "source": [
    "high_rated_movies_42"
   ]
  },
  {
   "cell_type": "code",
   "execution_count": 137,
   "metadata": {},
   "outputs": [],
   "source": [
    "movies_recommended_for_42 = preds_df.loc[42]"
   ]
  },
  {
   "cell_type": "code",
   "execution_count": 138,
   "metadata": {},
   "outputs": [],
   "source": [
    "movies_high_recommend_for_42 = movies_recommended_for_42[movies_recommended_for_42 > 3].index"
   ]
  },
  {
   "cell_type": "code",
   "execution_count": 139,
   "metadata": {},
   "outputs": [
    {
     "data": {
      "text/plain": [
       "Int64Index([110, 260, 318, 356, 480, 589, 1196, 1198, 1210, 2571, 4993, 5952,\n",
       "            7153, 58559],\n",
       "           dtype='int64', name='movieId')"
      ]
     },
     "execution_count": 139,
     "metadata": {},
     "output_type": "execute_result"
    }
   ],
   "source": [
    "movies_high_recommend_for_42"
   ]
  },
  {
   "cell_type": "code",
   "execution_count": 140,
   "metadata": {},
   "outputs": [
    {
     "data": {
      "text/plain": [
       "set()"
      ]
     },
     "execution_count": 140,
     "metadata": {},
     "output_type": "execute_result"
    }
   ],
   "source": [
    "# What are the movies that have a high recommendation (> 3) but that have no rating yet\n",
    "set(movies_high_recommend_for_42) - set(high_rated_movies_42)"
   ]
  },
  {
   "cell_type": "code",
   "execution_count": 141,
   "metadata": {},
   "outputs": [],
   "source": [
    "#based on user rating\n",
    "def get_high_recommended_movies(userId):\n",
    "    movies_rated_by_user = user_item.loc[userId]\n",
    "    movies_high_rated_by_user =  movies_rated_by_user[movies_rated_by_user > 3].index\n",
    "    movies_recommended_for_user = preds_df.loc[userId]\n",
    "    movies_high_recommend_for_user = movies_recommended_for_user[movies_recommended_for_user > 3].index\n",
    "    return set(movies_high_recommend_for_user) - set(movies_high_rated_by_user)"
   ]
  },
  {
   "cell_type": "code",
   "execution_count": 142,
   "metadata": {},
   "outputs": [
    {
     "data": {
      "text/plain": [
       "set()"
      ]
     },
     "execution_count": 142,
     "metadata": {},
     "output_type": "execute_result"
    }
   ],
   "source": [
    "get_high_recommended_movies(42)"
   ]
  },
  {
   "cell_type": "code",
   "execution_count": 143,
   "metadata": {},
   "outputs": [
    {
     "data": {
      "text/plain": [
       "{1198}"
      ]
     },
     "execution_count": 143,
     "metadata": {},
     "output_type": "execute_result"
    }
   ],
   "source": [
    "get_high_recommended_movies(217)"
   ]
  },
  {
   "cell_type": "code",
   "execution_count": 144,
   "metadata": {},
   "outputs": [
    {
     "data": {
      "text/plain": [
       "4.206618332064973"
      ]
     },
     "execution_count": 144,
     "metadata": {},
     "output_type": "execute_result"
    }
   ],
   "source": [
    "# User 217 should go watching movie 1198: we expect a rating of 4.2!\n",
    "preds_df.loc[217, 1198]"
   ]
  },
  {
   "cell_type": "code",
   "execution_count": null,
   "metadata": {},
   "outputs": [],
   "source": []
  }
 ],
 "metadata": {
  "kernelspec": {
   "display_name": "Python 3",
   "language": "python",
   "name": "python3"
  },
  "language_info": {
   "codemirror_mode": {
    "name": "ipython",
    "version": 3
   },
   "file_extension": ".py",
   "mimetype": "text/x-python",
   "name": "python",
   "nbconvert_exporter": "python",
   "pygments_lexer": "ipython3",
   "version": "3.7.3"
  }
 },
 "nbformat": 4,
 "nbformat_minor": 2
}
